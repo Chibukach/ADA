{
 "cells": [
  {
   "cell_type": "markdown",
   "metadata": {},
   "source": [
    "# Cleaning Data"
   ]
  },
  {
   "cell_type": "markdown",
   "metadata": {},
   "source": [
    ">In this notebook we will clean and handle the original data stored in *CrowdstormingDataJuly1st.csv*. The dataset consists of several soccer player-referee dyads with a group of variables, the description is available [here](https://github.com/ADAEPFL/Homework/blob/master/04%20-%20Applied%20ML/DATA.md)."
   ]
  },
  {
   "cell_type": "markdown",
   "metadata": {},
   "source": [
    "### Import libraries"
   ]
  },
  {
   "cell_type": "code",
   "execution_count": 1,
   "metadata": {
    "collapsed": false
   },
   "outputs": [],
   "source": [
    "import pandas as pd                                    \n",
    "import numpy as np                                     \n",
    "import matplotlib.pyplot as plt                    \n",
    "from sklearn import preprocessing\n",
    "\n",
    "%matplotlib inline\n",
    "import seaborn as sns"
   ]
  },
  {
   "cell_type": "markdown",
   "metadata": {},
   "source": [
    "### Loading data stored in csv file"
   ]
  },
  {
   "cell_type": "code",
   "execution_count": 2,
   "metadata": {
    "collapsed": false
   },
   "outputs": [],
   "source": [
    "# Load the original dataset\n",
    "df = pd.read_csv('CrowdstormingDataJuly1st.csv')"
   ]
  },
  {
   "cell_type": "code",
   "execution_count": 3,
   "metadata": {
    "collapsed": false
   },
   "outputs": [
    {
     "data": {
      "text/html": [
       "<div>\n",
       "<table border=\"1\" class=\"dataframe\">\n",
       "  <thead>\n",
       "    <tr style=\"text-align: right;\">\n",
       "      <th></th>\n",
       "      <th>playerShort</th>\n",
       "      <th>player</th>\n",
       "      <th>club</th>\n",
       "      <th>leagueCountry</th>\n",
       "      <th>birthday</th>\n",
       "      <th>height</th>\n",
       "      <th>weight</th>\n",
       "      <th>position</th>\n",
       "      <th>games</th>\n",
       "      <th>victories</th>\n",
       "      <th>...</th>\n",
       "      <th>rater2</th>\n",
       "      <th>refNum</th>\n",
       "      <th>refCountry</th>\n",
       "      <th>Alpha_3</th>\n",
       "      <th>meanIAT</th>\n",
       "      <th>nIAT</th>\n",
       "      <th>seIAT</th>\n",
       "      <th>meanExp</th>\n",
       "      <th>nExp</th>\n",
       "      <th>seExp</th>\n",
       "    </tr>\n",
       "  </thead>\n",
       "  <tbody>\n",
       "    <tr>\n",
       "      <th>0</th>\n",
       "      <td>lucas-wilchez</td>\n",
       "      <td>Lucas Wilchez</td>\n",
       "      <td>Real Zaragoza</td>\n",
       "      <td>Spain</td>\n",
       "      <td>31.08.1983</td>\n",
       "      <td>177.0</td>\n",
       "      <td>72.0</td>\n",
       "      <td>Attacking Midfielder</td>\n",
       "      <td>1</td>\n",
       "      <td>0</td>\n",
       "      <td>...</td>\n",
       "      <td>0.50</td>\n",
       "      <td>1</td>\n",
       "      <td>1</td>\n",
       "      <td>GRC</td>\n",
       "      <td>0.326391</td>\n",
       "      <td>712.0</td>\n",
       "      <td>0.000564</td>\n",
       "      <td>0.396000</td>\n",
       "      <td>750.0</td>\n",
       "      <td>0.002696</td>\n",
       "    </tr>\n",
       "    <tr>\n",
       "      <th>1</th>\n",
       "      <td>john-utaka</td>\n",
       "      <td>John Utaka</td>\n",
       "      <td>Montpellier HSC</td>\n",
       "      <td>France</td>\n",
       "      <td>08.01.1982</td>\n",
       "      <td>179.0</td>\n",
       "      <td>82.0</td>\n",
       "      <td>Right Winger</td>\n",
       "      <td>1</td>\n",
       "      <td>0</td>\n",
       "      <td>...</td>\n",
       "      <td>0.75</td>\n",
       "      <td>2</td>\n",
       "      <td>2</td>\n",
       "      <td>ZMB</td>\n",
       "      <td>0.203375</td>\n",
       "      <td>40.0</td>\n",
       "      <td>0.010875</td>\n",
       "      <td>-0.204082</td>\n",
       "      <td>49.0</td>\n",
       "      <td>0.061504</td>\n",
       "    </tr>\n",
       "    <tr>\n",
       "      <th>2</th>\n",
       "      <td>abdon-prats</td>\n",
       "      <td>Abdón Prats</td>\n",
       "      <td>RCD Mallorca</td>\n",
       "      <td>Spain</td>\n",
       "      <td>17.12.1992</td>\n",
       "      <td>181.0</td>\n",
       "      <td>79.0</td>\n",
       "      <td>NaN</td>\n",
       "      <td>1</td>\n",
       "      <td>0</td>\n",
       "      <td>...</td>\n",
       "      <td>NaN</td>\n",
       "      <td>3</td>\n",
       "      <td>3</td>\n",
       "      <td>ESP</td>\n",
       "      <td>0.369894</td>\n",
       "      <td>1785.0</td>\n",
       "      <td>0.000229</td>\n",
       "      <td>0.588297</td>\n",
       "      <td>1897.0</td>\n",
       "      <td>0.001002</td>\n",
       "    </tr>\n",
       "    <tr>\n",
       "      <th>3</th>\n",
       "      <td>pablo-mari</td>\n",
       "      <td>Pablo Marí</td>\n",
       "      <td>RCD Mallorca</td>\n",
       "      <td>Spain</td>\n",
       "      <td>31.08.1993</td>\n",
       "      <td>191.0</td>\n",
       "      <td>87.0</td>\n",
       "      <td>Center Back</td>\n",
       "      <td>1</td>\n",
       "      <td>1</td>\n",
       "      <td>...</td>\n",
       "      <td>NaN</td>\n",
       "      <td>3</td>\n",
       "      <td>3</td>\n",
       "      <td>ESP</td>\n",
       "      <td>0.369894</td>\n",
       "      <td>1785.0</td>\n",
       "      <td>0.000229</td>\n",
       "      <td>0.588297</td>\n",
       "      <td>1897.0</td>\n",
       "      <td>0.001002</td>\n",
       "    </tr>\n",
       "    <tr>\n",
       "      <th>4</th>\n",
       "      <td>ruben-pena</td>\n",
       "      <td>Rubén Peña</td>\n",
       "      <td>Real Valladolid</td>\n",
       "      <td>Spain</td>\n",
       "      <td>18.07.1991</td>\n",
       "      <td>172.0</td>\n",
       "      <td>70.0</td>\n",
       "      <td>Right Midfielder</td>\n",
       "      <td>1</td>\n",
       "      <td>1</td>\n",
       "      <td>...</td>\n",
       "      <td>NaN</td>\n",
       "      <td>3</td>\n",
       "      <td>3</td>\n",
       "      <td>ESP</td>\n",
       "      <td>0.369894</td>\n",
       "      <td>1785.0</td>\n",
       "      <td>0.000229</td>\n",
       "      <td>0.588297</td>\n",
       "      <td>1897.0</td>\n",
       "      <td>0.001002</td>\n",
       "    </tr>\n",
       "  </tbody>\n",
       "</table>\n",
       "<p>5 rows × 28 columns</p>\n",
       "</div>"
      ],
      "text/plain": [
       "     playerShort         player             club leagueCountry    birthday  \\\n",
       "0  lucas-wilchez  Lucas Wilchez    Real Zaragoza         Spain  31.08.1983   \n",
       "1     john-utaka     John Utaka  Montpellier HSC        France  08.01.1982   \n",
       "2    abdon-prats    Abdón Prats     RCD Mallorca         Spain  17.12.1992   \n",
       "3     pablo-mari     Pablo Marí     RCD Mallorca         Spain  31.08.1993   \n",
       "4     ruben-pena     Rubén Peña  Real Valladolid         Spain  18.07.1991   \n",
       "\n",
       "   height  weight              position  games  victories    ...     rater2  \\\n",
       "0   177.0    72.0  Attacking Midfielder      1          0    ...       0.50   \n",
       "1   179.0    82.0          Right Winger      1          0    ...       0.75   \n",
       "2   181.0    79.0                   NaN      1          0    ...        NaN   \n",
       "3   191.0    87.0           Center Back      1          1    ...        NaN   \n",
       "4   172.0    70.0      Right Midfielder      1          1    ...        NaN   \n",
       "\n",
       "   refNum  refCountry  Alpha_3   meanIAT    nIAT     seIAT   meanExp    nExp  \\\n",
       "0       1           1      GRC  0.326391   712.0  0.000564  0.396000   750.0   \n",
       "1       2           2      ZMB  0.203375    40.0  0.010875 -0.204082    49.0   \n",
       "2       3           3      ESP  0.369894  1785.0  0.000229  0.588297  1897.0   \n",
       "3       3           3      ESP  0.369894  1785.0  0.000229  0.588297  1897.0   \n",
       "4       3           3      ESP  0.369894  1785.0  0.000229  0.588297  1897.0   \n",
       "\n",
       "      seExp  \n",
       "0  0.002696  \n",
       "1  0.061504  \n",
       "2  0.001002  \n",
       "3  0.001002  \n",
       "4  0.001002  \n",
       "\n",
       "[5 rows x 28 columns]"
      ]
     },
     "execution_count": 3,
     "metadata": {},
     "output_type": "execute_result"
    }
   ],
   "source": [
    "df.head()"
   ]
  },
  {
   "cell_type": "code",
   "execution_count": 4,
   "metadata": {
    "collapsed": false
   },
   "outputs": [
    {
     "data": {
      "text/plain": [
       "(146028, 28)"
      ]
     },
     "execution_count": 4,
     "metadata": {},
     "output_type": "execute_result"
    }
   ],
   "source": [
    "df.shape"
   ]
  },
  {
   "cell_type": "markdown",
   "metadata": {},
   "source": [
    "The data set contains *146028* dyads of players and referees with *28* differents features."
   ]
  },
  {
   "cell_type": "code",
   "execution_count": 5,
   "metadata": {
    "collapsed": false
   },
   "outputs": [
    {
     "data": {
      "text/plain": [
       "Index([u'playerShort', u'player', u'club', u'leagueCountry', u'birthday',\n",
       "       u'height', u'weight', u'position', u'games', u'victories', u'ties',\n",
       "       u'defeats', u'goals', u'yellowCards', u'yellowReds', u'redCards',\n",
       "       u'photoID', u'rater1', u'rater2', u'refNum', u'refCountry', u'Alpha_3',\n",
       "       u'meanIAT', u'nIAT', u'seIAT', u'meanExp', u'nExp', u'seExp'],\n",
       "      dtype='object')"
      ]
     },
     "execution_count": 5,
     "metadata": {},
     "output_type": "execute_result"
    }
   ],
   "source": [
    "df.columns"
   ]
  },
  {
   "cell_type": "markdown",
   "metadata": {},
   "source": [
    "As we can see, the original dataset consists of different features related to the personal characteristics of the player or the referee and the interaction between them (i.e. cards). The dataset also contains a race implicit association test and explicit bias score for referee country. These value could impact the referee decision, that's why we uses these features in our computation and inserted new features to collate the aformentioned information."
   ]
  },
  {
   "cell_type": "markdown",
   "metadata": {},
   "source": [
    "## Remove Nan values"
   ]
  },
  {
   "cell_type": "markdown",
   "metadata": {},
   "source": [
    "First, we remove all the rows incomplete values (i.e. nan values)."
   ]
  },
  {
   "cell_type": "code",
   "execution_count": 6,
   "metadata": {
    "collapsed": false,
    "scrolled": false
   },
   "outputs": [
    {
     "name": "stdout",
     "output_type": "stream",
     "text": [
      "playerShort      False\n",
      "player           False\n",
      "club             False\n",
      "leagueCountry    False\n",
      "birthday         False\n",
      "height            True\n",
      "weight            True\n",
      "position          True\n",
      "games            False\n",
      "victories        False\n",
      "ties             False\n",
      "defeats          False\n",
      "goals            False\n",
      "yellowCards      False\n",
      "yellowReds       False\n",
      "redCards         False\n",
      "photoID           True\n",
      "rater1            True\n",
      "rater2            True\n",
      "refNum           False\n",
      "refCountry       False\n",
      "Alpha_3           True\n",
      "meanIAT           True\n",
      "nIAT              True\n",
      "seIAT             True\n",
      "meanExp           True\n",
      "nExp              True\n",
      "seExp             True\n",
      "dtype: bool\n",
      "False    15\n",
      "True     13\n",
      "dtype: int64\n"
     ]
    }
   ],
   "source": [
    "print df.isnull().any()\n",
    "print df.isnull().any().value_counts()"
   ]
  },
  {
   "cell_type": "markdown",
   "metadata": {},
   "source": [
    "As shown in the cell above, we have nan value in 13 columns. First, let's remove Nan value in *rater1* and *rater2* columns (which is the skin rating of photo)."
   ]
  },
  {
   "cell_type": "code",
   "execution_count": 7,
   "metadata": {
    "collapsed": false,
    "scrolled": true
   },
   "outputs": [
    {
     "name": "stdout",
     "output_type": "stream",
     "text": [
      "Nan value in rater1 : 21407\n",
      "Nan value in rater2 : 21407\n"
     ]
    }
   ],
   "source": [
    "nan_rater1 = len(df[df['rater1'].isnull()])\n",
    "nan_rater2 = len(df[df['rater2'].isnull()])\n",
    "print 'Nan value in rater1 : %d'%(nan_rater1)\n",
    "print 'Nan value in rater2 : %d'%(nan_rater2)"
   ]
  },
  {
   "cell_type": "code",
   "execution_count": 8,
   "metadata": {
    "collapsed": false
   },
   "outputs": [
    {
     "data": {
      "text/plain": [
       "(124621, 28)"
      ]
     },
     "execution_count": 8,
     "metadata": {},
     "output_type": "execute_result"
    }
   ],
   "source": [
    "df.dropna(subset=['rater1','rater2'],inplace=True)\n",
    "df.shape"
   ]
  },
  {
   "cell_type": "code",
   "execution_count": 9,
   "metadata": {
    "collapsed": false
   },
   "outputs": [
    {
     "data": {
      "text/plain": [
       "playerShort      False\n",
       "player           False\n",
       "club             False\n",
       "leagueCountry    False\n",
       "birthday         False\n",
       "height            True\n",
       "weight            True\n",
       "position          True\n",
       "games            False\n",
       "victories        False\n",
       "ties             False\n",
       "defeats          False\n",
       "goals            False\n",
       "yellowCards      False\n",
       "yellowReds       False\n",
       "redCards         False\n",
       "photoID          False\n",
       "rater1           False\n",
       "rater2           False\n",
       "refNum           False\n",
       "refCountry       False\n",
       "Alpha_3           True\n",
       "meanIAT           True\n",
       "nIAT              True\n",
       "seIAT             True\n",
       "meanExp           True\n",
       "nExp              True\n",
       "seExp             True\n",
       "dtype: bool"
      ]
     },
     "execution_count": 9,
     "metadata": {},
     "output_type": "execute_result"
    }
   ],
   "source": [
    "df.isnull().any()"
   ]
  },
  {
   "cell_type": "markdown",
   "metadata": {},
   "source": [
    "Then, we remove Nan values in others columns *(height, weight, meanIAT, meanExp)*."
   ]
  },
  {
   "cell_type": "code",
   "execution_count": 10,
   "metadata": {
    "collapsed": false
   },
   "outputs": [
    {
     "name": "stdout",
     "output_type": "stream",
     "text": [
      "Nan value in height : 46\n",
      "Nan value in weight : 753\n"
     ]
    }
   ],
   "source": [
    "nan_height = len(df[df['height'].isnull()])\n",
    "nan_weight = len(df[df['weight'].isnull()])\n",
    "print 'Nan value in height : %d'%(nan_height)\n",
    "print 'Nan value in weight : %d'%(nan_weight)"
   ]
  },
  {
   "cell_type": "code",
   "execution_count": 11,
   "metadata": {
    "collapsed": false
   },
   "outputs": [
    {
     "data": {
      "text/plain": [
       "(123868, 28)"
      ]
     },
     "execution_count": 11,
     "metadata": {},
     "output_type": "execute_result"
    }
   ],
   "source": [
    "df.dropna(subset=['height','weight'],inplace=True)\n",
    "df.shape"
   ]
  },
  {
   "cell_type": "code",
   "execution_count": 12,
   "metadata": {
    "collapsed": false
   },
   "outputs": [
    {
     "name": "stdout",
     "output_type": "stream",
     "text": [
      "Nan value in height : 153\n",
      "Nan value in weight : 153\n"
     ]
    }
   ],
   "source": [
    "nan_meanIAT = len(df[df['meanIAT'].isnull()])\n",
    "nan_meanExp = len(df[df['meanExp'].isnull()])\n",
    "print 'Nan value in height : %d'%(nan_meanIAT)\n",
    "print 'Nan value in weight : %d'%(nan_meanExp)"
   ]
  },
  {
   "cell_type": "code",
   "execution_count": 13,
   "metadata": {
    "collapsed": false
   },
   "outputs": [
    {
     "data": {
      "text/plain": [
       "(123715, 28)"
      ]
     },
     "execution_count": 13,
     "metadata": {},
     "output_type": "execute_result"
    }
   ],
   "source": [
    "df.dropna(subset=['meanIAT','meanExp'],inplace=True)\n",
    "df.shape"
   ]
  },
  {
   "cell_type": "code",
   "execution_count": 14,
   "metadata": {
    "collapsed": false
   },
   "outputs": [
    {
     "data": {
      "text/plain": [
       "playerShort      False\n",
       "player           False\n",
       "club             False\n",
       "leagueCountry    False\n",
       "birthday         False\n",
       "height           False\n",
       "weight           False\n",
       "position          True\n",
       "games            False\n",
       "victories        False\n",
       "ties             False\n",
       "defeats          False\n",
       "goals            False\n",
       "yellowCards      False\n",
       "yellowReds       False\n",
       "redCards         False\n",
       "photoID          False\n",
       "rater1           False\n",
       "rater2           False\n",
       "refNum           False\n",
       "refCountry       False\n",
       "Alpha_3          False\n",
       "meanIAT          False\n",
       "nIAT             False\n",
       "seIAT            False\n",
       "meanExp          False\n",
       "nExp             False\n",
       "seExp            False\n",
       "dtype: bool"
      ]
     },
     "execution_count": 14,
     "metadata": {},
     "output_type": "execute_result"
    }
   ],
   "source": [
    "df.isnull().any()"
   ]
  },
  {
   "cell_type": "markdown",
   "metadata": {},
   "source": [
    "Finally, there still one column which contains some Nan values. The column will be dropped in the 'squash''a  function and will not form part of the computation, removing the Nan's now would lead to a 15% loss in our data set."
   ]
  },
  {
   "cell_type": "markdown",
   "metadata": {},
   "source": [
    "## Introduce new variables"
   ]
  },
  {
   "cell_type": "markdown",
   "metadata": {},
   "source": [
    "We introduce new variables which take into account the mean implicit bias score and mean explicit bias score of referee country for each cards. The referee decision will be weighted according to meanIAT and meanExp of the referee country."
   ]
  },
  {
   "cell_type": "markdown",
   "metadata": {},
   "source": [
    "We introduce 2 variables for each color cards. The formula are the following :\n",
    "$$C\\_IAT = \\sum_{i=1}^{N_{Ref}} \\frac{Cards*meanIAT}{N_{games_i}}$$\n",
    "$$C\\_Exp = \\sum_{i=1}^{N_{Ref}} \\frac{Cards*meanExp}{N_{games_i}}$$"
   ]
  },
  {
   "cell_type": "code",
   "execution_count": 15,
   "metadata": {
    "collapsed": true
   },
   "outputs": [],
   "source": [
    "def weighting(list_param):\n",
    "    n_cards = list_param[0]\n",
    "    mean = list_param[1]\n",
    "    n_games = list_param[2]\n",
    "    return (n_cards*mean)/n_games"
   ]
  },
  {
   "cell_type": "code",
   "execution_count": 16,
   "metadata": {
    "collapsed": true
   },
   "outputs": [],
   "source": [
    "def compute_bias(x):\n",
    "    y_card = x['yellowCards']\n",
    "    r_card = x['redCards']\n",
    "    yr_card = x['yellowReds']\n",
    "    mean_Exp = x['meanExp']\n",
    "    mean_IAT = x['meanIAT']\n",
    "    n_games = x['games']\n",
    "    \n",
    "    parameters = [[y_card,mean_IAT,n_games],\n",
    "    [r_card,mean_IAT,n_games],\n",
    "    [yr_card,mean_IAT,n_games],\n",
    "    [y_card,mean_Exp,n_games],\n",
    "    [r_card,mean_Exp,n_games],\n",
    "    [yr_card,mean_Exp,n_games]]\n",
    "    \n",
    "    list_results = []\n",
    "    for elem in parameters:\n",
    "        list_results.append(weighting(elem))\n",
    "    \n",
    "    return pd.Series(list_results)\n",
    "    "
   ]
  },
  {
   "cell_type": "code",
   "execution_count": 17,
   "metadata": {
    "collapsed": false
   },
   "outputs": [],
   "source": [
    "results = df.apply(compute_bias,axis=1)\n",
    "results.columns = [\"YC_IAT\",\"YR_IAT\",\"RC_IAT\",\"YC_EXP\",\"YR_EXP\",\"RC_EXP\"]"
   ]
  },
  {
   "cell_type": "code",
   "execution_count": 18,
   "metadata": {
    "collapsed": false
   },
   "outputs": [],
   "source": [
    "df=pd.concat([df,results],axis=1)"
   ]
  },
  {
   "cell_type": "code",
   "execution_count": 19,
   "metadata": {
    "collapsed": false
   },
   "outputs": [
    {
     "data": {
      "text/plain": [
       "Index([u'playerShort', u'player', u'club', u'leagueCountry', u'birthday',\n",
       "       u'height', u'weight', u'position', u'games', u'victories', u'ties',\n",
       "       u'defeats', u'goals', u'yellowCards', u'yellowReds', u'redCards',\n",
       "       u'photoID', u'rater1', u'rater2', u'refNum', u'refCountry', u'Alpha_3',\n",
       "       u'meanIAT', u'nIAT', u'seIAT', u'meanExp', u'nExp', u'seExp', u'YC_IAT',\n",
       "       u'YR_IAT', u'RC_IAT', u'YC_EXP', u'YR_EXP', u'RC_EXP'],\n",
       "      dtype='object')"
      ]
     },
     "execution_count": 19,
     "metadata": {},
     "output_type": "execute_result"
    }
   ],
   "source": [
    "df.columns"
   ]
  },
  {
   "cell_type": "markdown",
   "metadata": {},
   "source": [
    "## Create our output label"
   ]
  },
  {
   "cell_type": "markdown",
   "metadata": {},
   "source": [
    "We choose to create an output columns called *mean_rated* which is the mean between *rater1* and *rater2* values. Then, we drop *rater1* and *rater2* columns."
   ]
  },
  {
   "cell_type": "code",
   "execution_count": 20,
   "metadata": {
    "collapsed": false
   },
   "outputs": [],
   "source": [
    "skin_rater_1_2 = df[['rater1','rater2']]\n",
    "mean_rated = skin_rater_1_2.mean(axis=1)"
   ]
  },
  {
   "cell_type": "code",
   "execution_count": 21,
   "metadata": {
    "collapsed": false
   },
   "outputs": [],
   "source": [
    "# Difference :\n",
    "df['difference_rated'] = abs(df['rater1']-df['rater2'])\n",
    "# Remove the rows which the difference of rater's scores are up to 0.5\n",
    "df = df[df['difference_rated']<0.5]\n",
    "df['mean_rated'] = df[['rater1','rater2']].mean(axis=1)\n",
    "df.drop(['rater1','rater2'], axis=1, inplace=True)"
   ]
  },
  {
   "cell_type": "code",
   "execution_count": 22,
   "metadata": {
    "collapsed": false
   },
   "outputs": [
    {
     "data": {
      "text/plain": [
       "0.250    38071\n",
       "0.000    33490\n",
       "0.125    17810\n",
       "0.500     8906\n",
       "1.000     7467\n",
       "0.750     6969\n",
       "0.375     5594\n",
       "0.875     2832\n",
       "0.625     2412\n",
       "Name: mean_rated, dtype: int64"
      ]
     },
     "execution_count": 22,
     "metadata": {},
     "output_type": "execute_result"
    }
   ],
   "source": [
    "df['mean_rated'].value_counts()"
   ]
  },
  {
   "cell_type": "markdown",
   "metadata": {},
   "source": [
    "Preprocess the data with *LabelEncoder* which binds labels to integers values."
   ]
  },
  {
   "cell_type": "code",
   "execution_count": 23,
   "metadata": {
    "collapsed": true
   },
   "outputs": [],
   "source": [
    "def split_binary(x):\n",
    "    if x <= 0.5:\n",
    "        return 0\n",
    "    else:\n",
    "        return 1"
   ]
  },
  {
   "cell_type": "code",
   "execution_count": 24,
   "metadata": {
    "collapsed": true
   },
   "outputs": [],
   "source": [
    "df['mean_rated'] = df['mean_rated'].apply(split_binary)"
   ]
  },
  {
   "cell_type": "code",
   "execution_count": 25,
   "metadata": {
    "collapsed": false
   },
   "outputs": [
    {
     "data": {
      "text/plain": [
       "0    103871\n",
       "1     19680\n",
       "Name: mean_rated, dtype: int64"
      ]
     },
     "execution_count": 25,
     "metadata": {},
     "output_type": "execute_result"
    }
   ],
   "source": [
    "df['mean_rated'].value_counts()"
   ]
  },
  {
   "cell_type": "markdown",
   "metadata": {},
   "source": [
    "We split the data in binary range, 0 correspond to “light skin” and 1 correspond to “dark skin”."
   ]
  },
  {
   "cell_type": "code",
   "execution_count": 26,
   "metadata": {
    "collapsed": false
   },
   "outputs": [
    {
     "data": {
      "text/plain": [
       "playerShort         False\n",
       "player              False\n",
       "club                False\n",
       "leagueCountry       False\n",
       "birthday            False\n",
       "height              False\n",
       "weight              False\n",
       "position             True\n",
       "games               False\n",
       "victories           False\n",
       "ties                False\n",
       "defeats             False\n",
       "goals               False\n",
       "yellowCards         False\n",
       "yellowReds          False\n",
       "redCards            False\n",
       "photoID             False\n",
       "refNum              False\n",
       "refCountry          False\n",
       "Alpha_3             False\n",
       "meanIAT             False\n",
       "nIAT                False\n",
       "seIAT               False\n",
       "meanExp             False\n",
       "nExp                False\n",
       "seExp               False\n",
       "YC_IAT              False\n",
       "YR_IAT              False\n",
       "RC_IAT              False\n",
       "YC_EXP              False\n",
       "YR_EXP              False\n",
       "RC_EXP              False\n",
       "difference_rated    False\n",
       "mean_rated          False\n",
       "dtype: bool"
      ]
     },
     "execution_count": 26,
     "metadata": {},
     "output_type": "execute_result"
    }
   ],
   "source": [
    "df.isnull().any()"
   ]
  },
  {
   "cell_type": "markdown",
   "metadata": {},
   "source": [
    "## Merge the players rows"
   ]
  },
  {
   "cell_type": "markdown",
   "metadata": {},
   "source": [
    "Then, we merge all dyads for each players. Some columns will not need to sum all variables (mean_rated,height,weight)."
   ]
  },
  {
   "cell_type": "code",
   "execution_count": 27,
   "metadata": {
    "collapsed": false
   },
   "outputs": [],
   "source": [
    "def squash(x):\n",
    "    sum_columns = ['games', 'victories', 'ties','defeats', 'goals', 'gravity', 'yellowCards','yellowReds','redCards',\n",
    "                   'YC_IAT','YR_IAT', 'RC_IAT', 'YC_EXP', 'YR_EXP', 'RC_EXP']\n",
    "    new = pd.DataFrame()\n",
    "    new.set_value(0,'mean_rated',x.iloc[0]['mean_rated'])\n",
    "    new.set_value(0,'height',x.iloc[0]['height'])\n",
    "    new.set_value(0,'weight',x.iloc[0]['weight'])\n",
    "    new.set_value(0,'refCountry',x.iloc[0]['refCountry'])\n",
    "    new.set_value(0,'refNum',x.iloc[0]['refNum'])\n",
    "    new.set_value(0,'club',x.iloc[0]['club'])\n",
    "    new.set_value(0,'leagueCountry',x.iloc[0]['leagueCountry'])\n",
    "    for elem in x.columns:\n",
    "        if elem in sum_columns:\n",
    "            new.set_value(0,elem,x[elem].sum())\n",
    "    return new\n",
    "\n",
    "players = df.groupby('playerShort').apply(squash)"
   ]
  },
  {
   "cell_type": "code",
   "execution_count": 28,
   "metadata": {
    "collapsed": false
   },
   "outputs": [],
   "source": [
    "players.reset_index(inplace=True)\n",
    "players.drop(['level_1','refNum','refCountry'],axis=1,inplace=True)"
   ]
  },
  {
   "cell_type": "code",
   "execution_count": 29,
   "metadata": {
    "collapsed": false,
    "scrolled": true
   },
   "outputs": [
    {
     "data": {
      "text/html": [
       "<div>\n",
       "<table border=\"1\" class=\"dataframe\">\n",
       "  <thead>\n",
       "    <tr style=\"text-align: right;\">\n",
       "      <th></th>\n",
       "      <th>playerShort</th>\n",
       "      <th>mean_rated</th>\n",
       "      <th>height</th>\n",
       "      <th>weight</th>\n",
       "      <th>club</th>\n",
       "      <th>leagueCountry</th>\n",
       "      <th>games</th>\n",
       "      <th>victories</th>\n",
       "      <th>ties</th>\n",
       "      <th>defeats</th>\n",
       "      <th>goals</th>\n",
       "      <th>yellowCards</th>\n",
       "      <th>yellowReds</th>\n",
       "      <th>redCards</th>\n",
       "      <th>YC_IAT</th>\n",
       "      <th>YR_IAT</th>\n",
       "      <th>RC_IAT</th>\n",
       "      <th>YC_EXP</th>\n",
       "      <th>YR_EXP</th>\n",
       "      <th>RC_EXP</th>\n",
       "    </tr>\n",
       "  </thead>\n",
       "  <tbody>\n",
       "    <tr>\n",
       "      <th>0</th>\n",
       "      <td>aaron-hughes</td>\n",
       "      <td>0.0</td>\n",
       "      <td>182.0</td>\n",
       "      <td>71.0</td>\n",
       "      <td>Fulham FC</td>\n",
       "      <td>England</td>\n",
       "      <td>654.0</td>\n",
       "      <td>247.0</td>\n",
       "      <td>179.0</td>\n",
       "      <td>228.0</td>\n",
       "      <td>9.0</td>\n",
       "      <td>19.0</td>\n",
       "      <td>0.0</td>\n",
       "      <td>0.0</td>\n",
       "      <td>1.953444</td>\n",
       "      <td>0.000000</td>\n",
       "      <td>0.000000</td>\n",
       "      <td>3.148124</td>\n",
       "      <td>0.000000</td>\n",
       "      <td>0.00000</td>\n",
       "    </tr>\n",
       "    <tr>\n",
       "      <th>1</th>\n",
       "      <td>aaron-hunt</td>\n",
       "      <td>0.0</td>\n",
       "      <td>183.0</td>\n",
       "      <td>73.0</td>\n",
       "      <td>Werder Bremen</td>\n",
       "      <td>Germany</td>\n",
       "      <td>336.0</td>\n",
       "      <td>141.0</td>\n",
       "      <td>73.0</td>\n",
       "      <td>122.0</td>\n",
       "      <td>62.0</td>\n",
       "      <td>42.0</td>\n",
       "      <td>0.0</td>\n",
       "      <td>1.0</td>\n",
       "      <td>3.505362</td>\n",
       "      <td>0.025894</td>\n",
       "      <td>0.000000</td>\n",
       "      <td>4.867461</td>\n",
       "      <td>0.025844</td>\n",
       "      <td>0.00000</td>\n",
       "    </tr>\n",
       "    <tr>\n",
       "      <th>2</th>\n",
       "      <td>aaron-lennon</td>\n",
       "      <td>0.0</td>\n",
       "      <td>165.0</td>\n",
       "      <td>63.0</td>\n",
       "      <td>Tottenham Hotspur</td>\n",
       "      <td>England</td>\n",
       "      <td>412.0</td>\n",
       "      <td>200.0</td>\n",
       "      <td>97.0</td>\n",
       "      <td>115.0</td>\n",
       "      <td>31.0</td>\n",
       "      <td>11.0</td>\n",
       "      <td>0.0</td>\n",
       "      <td>0.0</td>\n",
       "      <td>0.643299</td>\n",
       "      <td>0.000000</td>\n",
       "      <td>0.000000</td>\n",
       "      <td>1.141167</td>\n",
       "      <td>0.000000</td>\n",
       "      <td>0.00000</td>\n",
       "    </tr>\n",
       "    <tr>\n",
       "      <th>3</th>\n",
       "      <td>aaron-ramsey</td>\n",
       "      <td>0.0</td>\n",
       "      <td>178.0</td>\n",
       "      <td>76.0</td>\n",
       "      <td>Arsenal FC</td>\n",
       "      <td>England</td>\n",
       "      <td>260.0</td>\n",
       "      <td>150.0</td>\n",
       "      <td>42.0</td>\n",
       "      <td>68.0</td>\n",
       "      <td>39.0</td>\n",
       "      <td>31.0</td>\n",
       "      <td>0.0</td>\n",
       "      <td>1.0</td>\n",
       "      <td>4.248251</td>\n",
       "      <td>0.334684</td>\n",
       "      <td>0.000000</td>\n",
       "      <td>5.822391</td>\n",
       "      <td>0.336101</td>\n",
       "      <td>0.00000</td>\n",
       "    </tr>\n",
       "    <tr>\n",
       "      <th>4</th>\n",
       "      <td>abdelhamid-el-kaoutari</td>\n",
       "      <td>0.0</td>\n",
       "      <td>180.0</td>\n",
       "      <td>73.0</td>\n",
       "      <td>Montpellier HSC</td>\n",
       "      <td>France</td>\n",
       "      <td>124.0</td>\n",
       "      <td>41.0</td>\n",
       "      <td>40.0</td>\n",
       "      <td>43.0</td>\n",
       "      <td>1.0</td>\n",
       "      <td>8.0</td>\n",
       "      <td>4.0</td>\n",
       "      <td>2.0</td>\n",
       "      <td>0.770171</td>\n",
       "      <td>0.133874</td>\n",
       "      <td>0.523449</td>\n",
       "      <td>0.773432</td>\n",
       "      <td>0.134440</td>\n",
       "      <td>0.61693</td>\n",
       "    </tr>\n",
       "  </tbody>\n",
       "</table>\n",
       "</div>"
      ],
      "text/plain": [
       "              playerShort  mean_rated  height  weight               club  \\\n",
       "0            aaron-hughes         0.0   182.0    71.0          Fulham FC   \n",
       "1              aaron-hunt         0.0   183.0    73.0      Werder Bremen   \n",
       "2            aaron-lennon         0.0   165.0    63.0  Tottenham Hotspur   \n",
       "3            aaron-ramsey         0.0   178.0    76.0         Arsenal FC   \n",
       "4  abdelhamid-el-kaoutari         0.0   180.0    73.0    Montpellier HSC   \n",
       "\n",
       "  leagueCountry  games  victories   ties  defeats  goals  yellowCards  \\\n",
       "0       England  654.0      247.0  179.0    228.0    9.0         19.0   \n",
       "1       Germany  336.0      141.0   73.0    122.0   62.0         42.0   \n",
       "2       England  412.0      200.0   97.0    115.0   31.0         11.0   \n",
       "3       England  260.0      150.0   42.0     68.0   39.0         31.0   \n",
       "4        France  124.0       41.0   40.0     43.0    1.0          8.0   \n",
       "\n",
       "   yellowReds  redCards    YC_IAT    YR_IAT    RC_IAT    YC_EXP    YR_EXP  \\\n",
       "0         0.0       0.0  1.953444  0.000000  0.000000  3.148124  0.000000   \n",
       "1         0.0       1.0  3.505362  0.025894  0.000000  4.867461  0.025844   \n",
       "2         0.0       0.0  0.643299  0.000000  0.000000  1.141167  0.000000   \n",
       "3         0.0       1.0  4.248251  0.334684  0.000000  5.822391  0.336101   \n",
       "4         4.0       2.0  0.770171  0.133874  0.523449  0.773432  0.134440   \n",
       "\n",
       "    RC_EXP  \n",
       "0  0.00000  \n",
       "1  0.00000  \n",
       "2  0.00000  \n",
       "3  0.00000  \n",
       "4  0.61693  "
      ]
     },
     "execution_count": 29,
     "metadata": {},
     "output_type": "execute_result"
    }
   ],
   "source": [
    "players.head()"
   ]
  },
  {
   "cell_type": "code",
   "execution_count": 30,
   "metadata": {
    "collapsed": false
   },
   "outputs": [
    {
     "data": {
      "text/plain": [
       "(1562, 20)"
      ]
     },
     "execution_count": 30,
     "metadata": {},
     "output_type": "execute_result"
    }
   ],
   "source": [
    "players.shape"
   ]
  },
  {
   "cell_type": "markdown",
   "metadata": {},
   "source": [
    "We used the label encoding to provide a mapping for floating datapoints and string values to integers, as the classifier only accepted integer data is the input."
   ]
  },
  {
   "cell_type": "code",
   "execution_count": 31,
   "metadata": {
    "collapsed": true
   },
   "outputs": [],
   "source": [
    "le = preprocessing.LabelEncoder()"
   ]
  },
  {
   "cell_type": "code",
   "execution_count": 32,
   "metadata": {
    "collapsed": false
   },
   "outputs": [],
   "source": [
    "le.fit(players['club'])\n",
    "players['club'] = le.transform(players['club'])"
   ]
  },
  {
   "cell_type": "code",
   "execution_count": 33,
   "metadata": {
    "collapsed": false
   },
   "outputs": [],
   "source": [
    "le.fit(players['leagueCountry'])\n",
    "players['leagueCountry'] = le.transform(players['leagueCountry'])"
   ]
  },
  {
   "cell_type": "markdown",
   "metadata": {
    "collapsed": true
   },
   "source": [
    "## Drop unused columns"
   ]
  },
  {
   "cell_type": "markdown",
   "metadata": {
    "collapsed": true
   },
   "source": [
    "The columns that contain *object* is not needed to train machine learning algorithm. Therefore, we drop all *object* columns."
   ]
  },
  {
   "cell_type": "code",
   "execution_count": 34,
   "metadata": {
    "collapsed": false
   },
   "outputs": [
    {
     "data": {
      "text/plain": [
       "playerShort       object\n",
       "mean_rated       float64\n",
       "height           float64\n",
       "weight           float64\n",
       "club               int64\n",
       "leagueCountry      int64\n",
       "games            float64\n",
       "victories        float64\n",
       "ties             float64\n",
       "defeats          float64\n",
       "goals            float64\n",
       "yellowCards      float64\n",
       "yellowReds       float64\n",
       "redCards         float64\n",
       "YC_IAT           float64\n",
       "YR_IAT           float64\n",
       "RC_IAT           float64\n",
       "YC_EXP           float64\n",
       "YR_EXP           float64\n",
       "RC_EXP           float64\n",
       "dtype: object"
      ]
     },
     "execution_count": 34,
     "metadata": {},
     "output_type": "execute_result"
    }
   ],
   "source": [
    "players.dtypes"
   ]
  },
  {
   "cell_type": "code",
   "execution_count": 35,
   "metadata": {
    "collapsed": false
   },
   "outputs": [],
   "source": [
    "players = players.select_dtypes(exclude=[object])"
   ]
  },
  {
   "cell_type": "code",
   "execution_count": 36,
   "metadata": {
    "collapsed": false
   },
   "outputs": [
    {
     "data": {
      "text/plain": [
       "mean_rated       float64\n",
       "height           float64\n",
       "weight           float64\n",
       "club               int64\n",
       "leagueCountry      int64\n",
       "games            float64\n",
       "victories        float64\n",
       "ties             float64\n",
       "defeats          float64\n",
       "goals            float64\n",
       "yellowCards      float64\n",
       "yellowReds       float64\n",
       "redCards         float64\n",
       "YC_IAT           float64\n",
       "YR_IAT           float64\n",
       "RC_IAT           float64\n",
       "YC_EXP           float64\n",
       "YR_EXP           float64\n",
       "RC_EXP           float64\n",
       "dtype: object"
      ]
     },
     "execution_count": 36,
     "metadata": {},
     "output_type": "execute_result"
    }
   ],
   "source": [
    "players.dtypes"
   ]
  },
  {
   "cell_type": "code",
   "execution_count": 37,
   "metadata": {
    "collapsed": false
   },
   "outputs": [
    {
     "data": {
      "text/plain": [
       "(1562, 19)"
      ]
     },
     "execution_count": 37,
     "metadata": {},
     "output_type": "execute_result"
    }
   ],
   "source": [
    "players.shape"
   ]
  },
  {
   "cell_type": "markdown",
   "metadata": {},
   "source": [
    "We store the final dataset which contains 1564 players."
   ]
  },
  {
   "cell_type": "code",
   "execution_count": 38,
   "metadata": {
    "collapsed": false
   },
   "outputs": [
    {
     "data": {
      "text/html": [
       "<div>\n",
       "<table border=\"1\" class=\"dataframe\">\n",
       "  <thead>\n",
       "    <tr style=\"text-align: right;\">\n",
       "      <th></th>\n",
       "      <th>mean_rated</th>\n",
       "      <th>height</th>\n",
       "      <th>weight</th>\n",
       "      <th>club</th>\n",
       "      <th>leagueCountry</th>\n",
       "      <th>games</th>\n",
       "      <th>victories</th>\n",
       "      <th>ties</th>\n",
       "      <th>defeats</th>\n",
       "      <th>goals</th>\n",
       "      <th>yellowCards</th>\n",
       "      <th>yellowReds</th>\n",
       "      <th>redCards</th>\n",
       "      <th>YC_IAT</th>\n",
       "      <th>YR_IAT</th>\n",
       "      <th>RC_IAT</th>\n",
       "      <th>YC_EXP</th>\n",
       "      <th>YR_EXP</th>\n",
       "      <th>RC_EXP</th>\n",
       "    </tr>\n",
       "  </thead>\n",
       "  <tbody>\n",
       "    <tr>\n",
       "      <th>0</th>\n",
       "      <td>0.0</td>\n",
       "      <td>182.0</td>\n",
       "      <td>71.0</td>\n",
       "      <td>33</td>\n",
       "      <td>0</td>\n",
       "      <td>654.0</td>\n",
       "      <td>247.0</td>\n",
       "      <td>179.0</td>\n",
       "      <td>228.0</td>\n",
       "      <td>9.0</td>\n",
       "      <td>19.0</td>\n",
       "      <td>0.0</td>\n",
       "      <td>0.0</td>\n",
       "      <td>1.953444</td>\n",
       "      <td>0.000000</td>\n",
       "      <td>0.000000</td>\n",
       "      <td>3.148124</td>\n",
       "      <td>0.000000</td>\n",
       "      <td>0.00000</td>\n",
       "    </tr>\n",
       "    <tr>\n",
       "      <th>1</th>\n",
       "      <td>0.0</td>\n",
       "      <td>183.0</td>\n",
       "      <td>73.0</td>\n",
       "      <td>90</td>\n",
       "      <td>2</td>\n",
       "      <td>336.0</td>\n",
       "      <td>141.0</td>\n",
       "      <td>73.0</td>\n",
       "      <td>122.0</td>\n",
       "      <td>62.0</td>\n",
       "      <td>42.0</td>\n",
       "      <td>0.0</td>\n",
       "      <td>1.0</td>\n",
       "      <td>3.505362</td>\n",
       "      <td>0.025894</td>\n",
       "      <td>0.000000</td>\n",
       "      <td>4.867461</td>\n",
       "      <td>0.025844</td>\n",
       "      <td>0.00000</td>\n",
       "    </tr>\n",
       "    <tr>\n",
       "      <th>2</th>\n",
       "      <td>0.0</td>\n",
       "      <td>165.0</td>\n",
       "      <td>63.0</td>\n",
       "      <td>82</td>\n",
       "      <td>0</td>\n",
       "      <td>412.0</td>\n",
       "      <td>200.0</td>\n",
       "      <td>97.0</td>\n",
       "      <td>115.0</td>\n",
       "      <td>31.0</td>\n",
       "      <td>11.0</td>\n",
       "      <td>0.0</td>\n",
       "      <td>0.0</td>\n",
       "      <td>0.643299</td>\n",
       "      <td>0.000000</td>\n",
       "      <td>0.000000</td>\n",
       "      <td>1.141167</td>\n",
       "      <td>0.000000</td>\n",
       "      <td>0.00000</td>\n",
       "    </tr>\n",
       "    <tr>\n",
       "      <th>3</th>\n",
       "      <td>0.0</td>\n",
       "      <td>178.0</td>\n",
       "      <td>76.0</td>\n",
       "      <td>6</td>\n",
       "      <td>0</td>\n",
       "      <td>260.0</td>\n",
       "      <td>150.0</td>\n",
       "      <td>42.0</td>\n",
       "      <td>68.0</td>\n",
       "      <td>39.0</td>\n",
       "      <td>31.0</td>\n",
       "      <td>0.0</td>\n",
       "      <td>1.0</td>\n",
       "      <td>4.248251</td>\n",
       "      <td>0.334684</td>\n",
       "      <td>0.000000</td>\n",
       "      <td>5.822391</td>\n",
       "      <td>0.336101</td>\n",
       "      <td>0.00000</td>\n",
       "    </tr>\n",
       "    <tr>\n",
       "      <th>4</th>\n",
       "      <td>0.0</td>\n",
       "      <td>180.0</td>\n",
       "      <td>73.0</td>\n",
       "      <td>50</td>\n",
       "      <td>1</td>\n",
       "      <td>124.0</td>\n",
       "      <td>41.0</td>\n",
       "      <td>40.0</td>\n",
       "      <td>43.0</td>\n",
       "      <td>1.0</td>\n",
       "      <td>8.0</td>\n",
       "      <td>4.0</td>\n",
       "      <td>2.0</td>\n",
       "      <td>0.770171</td>\n",
       "      <td>0.133874</td>\n",
       "      <td>0.523449</td>\n",
       "      <td>0.773432</td>\n",
       "      <td>0.134440</td>\n",
       "      <td>0.61693</td>\n",
       "    </tr>\n",
       "  </tbody>\n",
       "</table>\n",
       "</div>"
      ],
      "text/plain": [
       "   mean_rated  height  weight  club  leagueCountry  games  victories   ties  \\\n",
       "0         0.0   182.0    71.0    33              0  654.0      247.0  179.0   \n",
       "1         0.0   183.0    73.0    90              2  336.0      141.0   73.0   \n",
       "2         0.0   165.0    63.0    82              0  412.0      200.0   97.0   \n",
       "3         0.0   178.0    76.0     6              0  260.0      150.0   42.0   \n",
       "4         0.0   180.0    73.0    50              1  124.0       41.0   40.0   \n",
       "\n",
       "   defeats  goals  yellowCards  yellowReds  redCards    YC_IAT    YR_IAT  \\\n",
       "0    228.0    9.0         19.0         0.0       0.0  1.953444  0.000000   \n",
       "1    122.0   62.0         42.0         0.0       1.0  3.505362  0.025894   \n",
       "2    115.0   31.0         11.0         0.0       0.0  0.643299  0.000000   \n",
       "3     68.0   39.0         31.0         0.0       1.0  4.248251  0.334684   \n",
       "4     43.0    1.0          8.0         4.0       2.0  0.770171  0.133874   \n",
       "\n",
       "     RC_IAT    YC_EXP    YR_EXP   RC_EXP  \n",
       "0  0.000000  3.148124  0.000000  0.00000  \n",
       "1  0.000000  4.867461  0.025844  0.00000  \n",
       "2  0.000000  1.141167  0.000000  0.00000  \n",
       "3  0.000000  5.822391  0.336101  0.00000  \n",
       "4  0.523449  0.773432  0.134440  0.61693  "
      ]
     },
     "execution_count": 38,
     "metadata": {},
     "output_type": "execute_result"
    }
   ],
   "source": [
    "players.head()"
   ]
  },
  {
   "cell_type": "code",
   "execution_count": 39,
   "metadata": {
    "collapsed": false
   },
   "outputs": [
    {
     "data": {
      "text/html": [
       "<div>\n",
       "<table border=\"1\" class=\"dataframe\">\n",
       "  <thead>\n",
       "    <tr style=\"text-align: right;\">\n",
       "      <th></th>\n",
       "      <th>height</th>\n",
       "      <th>weight</th>\n",
       "      <th>club</th>\n",
       "      <th>leagueCountry</th>\n",
       "      <th>games</th>\n",
       "      <th>victories</th>\n",
       "      <th>ties</th>\n",
       "      <th>defeats</th>\n",
       "      <th>goals</th>\n",
       "      <th>yellowCards</th>\n",
       "      <th>yellowReds</th>\n",
       "      <th>redCards</th>\n",
       "      <th>YC_IAT</th>\n",
       "      <th>YR_IAT</th>\n",
       "      <th>RC_IAT</th>\n",
       "      <th>YC_EXP</th>\n",
       "      <th>YR_EXP</th>\n",
       "      <th>RC_EXP</th>\n",
       "    </tr>\n",
       "    <tr>\n",
       "      <th>mean_rated</th>\n",
       "      <th></th>\n",
       "      <th></th>\n",
       "      <th></th>\n",
       "      <th></th>\n",
       "      <th></th>\n",
       "      <th></th>\n",
       "      <th></th>\n",
       "      <th></th>\n",
       "      <th></th>\n",
       "      <th></th>\n",
       "      <th></th>\n",
       "      <th></th>\n",
       "      <th></th>\n",
       "      <th></th>\n",
       "      <th></th>\n",
       "      <th></th>\n",
       "      <th></th>\n",
       "      <th></th>\n",
       "    </tr>\n",
       "  </thead>\n",
       "  <tbody>\n",
       "    <tr>\n",
       "      <th>0.0</th>\n",
       "      <td>6.845498</td>\n",
       "      <td>7.137752</td>\n",
       "      <td>27.864681</td>\n",
       "      <td>1.125411</td>\n",
       "      <td>142.863801</td>\n",
       "      <td>78.584792</td>\n",
       "      <td>33.972802</td>\n",
       "      <td>41.268788</td>\n",
       "      <td>42.375133</td>\n",
       "      <td>25.631276</td>\n",
       "      <td>1.419952</td>\n",
       "      <td>1.361098</td>\n",
       "      <td>2.482930</td>\n",
       "      <td>0.185106</td>\n",
       "      <td>0.188966</td>\n",
       "      <td>3.745843</td>\n",
       "      <td>0.280105</td>\n",
       "      <td>0.284506</td>\n",
       "    </tr>\n",
       "    <tr>\n",
       "      <th>1.0</th>\n",
       "      <td>6.230336</td>\n",
       "      <td>6.939740</td>\n",
       "      <td>24.659642</td>\n",
       "      <td>0.999840</td>\n",
       "      <td>136.108582</td>\n",
       "      <td>70.776882</td>\n",
       "      <td>33.698396</td>\n",
       "      <td>39.340629</td>\n",
       "      <td>38.312716</td>\n",
       "      <td>21.271081</td>\n",
       "      <td>1.269471</td>\n",
       "      <td>1.253978</td>\n",
       "      <td>2.281687</td>\n",
       "      <td>0.187364</td>\n",
       "      <td>0.188147</td>\n",
       "      <td>3.079269</td>\n",
       "      <td>0.262454</td>\n",
       "      <td>0.306064</td>\n",
       "    </tr>\n",
       "  </tbody>\n",
       "</table>\n",
       "</div>"
      ],
      "text/plain": [
       "              height    weight       club  leagueCountry       games  \\\n",
       "mean_rated                                                             \n",
       "0.0         6.845498  7.137752  27.864681       1.125411  142.863801   \n",
       "1.0         6.230336  6.939740  24.659642       0.999840  136.108582   \n",
       "\n",
       "            victories       ties    defeats      goals  yellowCards  \\\n",
       "mean_rated                                                            \n",
       "0.0         78.584792  33.972802  41.268788  42.375133    25.631276   \n",
       "1.0         70.776882  33.698396  39.340629  38.312716    21.271081   \n",
       "\n",
       "            yellowReds  redCards    YC_IAT    YR_IAT    RC_IAT    YC_EXP  \\\n",
       "mean_rated                                                                 \n",
       "0.0           1.419952  1.361098  2.482930  0.185106  0.188966  3.745843   \n",
       "1.0           1.269471  1.253978  2.281687  0.187364  0.188147  3.079269   \n",
       "\n",
       "              YR_EXP    RC_EXP  \n",
       "mean_rated                      \n",
       "0.0         0.280105  0.284506  \n",
       "1.0         0.262454  0.306064  "
      ]
     },
     "execution_count": 39,
     "metadata": {},
     "output_type": "execute_result"
    }
   ],
   "source": [
    "players.groupby('mean_rated').std()"
   ]
  },
  {
   "cell_type": "markdown",
   "metadata": {},
   "source": [
    "## Data visualization"
   ]
  },
  {
   "cell_type": "markdown",
   "metadata": {},
   "source": [
    "The histogram below shows the number of times that each feature occurred in the dataframe."
   ]
  },
  {
   "cell_type": "code",
   "execution_count": 40,
   "metadata": {
    "collapsed": false
   },
   "outputs": [
    {
     "data": {
      "text/plain": [
       "array([[<matplotlib.axes._subplots.AxesSubplot object at 0x119cc5cd0>,\n",
       "        <matplotlib.axes._subplots.AxesSubplot object at 0x118906250>,\n",
       "        <matplotlib.axes._subplots.AxesSubplot object at 0x119b9a990>,\n",
       "        <matplotlib.axes._subplots.AxesSubplot object at 0x11898c0d0>],\n",
       "       [<matplotlib.axes._subplots.AxesSubplot object at 0x11913ee50>,\n",
       "        <matplotlib.axes._subplots.AxesSubplot object at 0x1199f7bd0>,\n",
       "        <matplotlib.axes._subplots.AxesSubplot object at 0x11991f150>,\n",
       "        <matplotlib.axes._subplots.AxesSubplot object at 0x119bcc150>],\n",
       "       [<matplotlib.axes._subplots.AxesSubplot object at 0x119c71410>,\n",
       "        <matplotlib.axes._subplots.AxesSubplot object at 0x11873ac50>,\n",
       "        <matplotlib.axes._subplots.AxesSubplot object at 0x119e80cd0>,\n",
       "        <matplotlib.axes._subplots.AxesSubplot object at 0x118713410>],\n",
       "       [<matplotlib.axes._subplots.AxesSubplot object at 0x11864b450>,\n",
       "        <matplotlib.axes._subplots.AxesSubplot object at 0x118396950>,\n",
       "        <matplotlib.axes._subplots.AxesSubplot object at 0x118307590>,\n",
       "        <matplotlib.axes._subplots.AxesSubplot object at 0x118262210>],\n",
       "       [<matplotlib.axes._subplots.AxesSubplot object at 0x1181d5890>,\n",
       "        <matplotlib.axes._subplots.AxesSubplot object at 0x118752290>,\n",
       "        <matplotlib.axes._subplots.AxesSubplot object at 0x11868b2d0>,\n",
       "        <matplotlib.axes._subplots.AxesSubplot object at 0x118600490>]], dtype=object)"
      ]
     },
     "execution_count": 40,
     "metadata": {},
     "output_type": "execute_result"
    },
    {
     "data": {
      "image/png": "[encoded data removed]",
      "text/plain": [
       "<matplotlib.figure.Figure at 0x119cc5790>"
      ]
     },
     "metadata": {},
     "output_type": "display_data"
    }
   ],
   "source": [
    "players.hist(figsize=(12,12))"
   ]
  },
  {
   "cell_type": "code",
   "execution_count": 41,
   "metadata": {
    "collapsed": false
   },
   "outputs": [
    {
     "data": {
      "text/plain": [
       "<matplotlib.text.Text at 0x118f41550>"
      ]
     },
     "execution_count": 41,
     "metadata": {},
     "output_type": "execute_result"
    },
    {
     "data": {
      "image/png": "[encoded data removed]",
      "text/plain": [
       "<matplotlib.figure.Figure at 0x118e34a50>"
      ]
     },
     "metadata": {},
     "output_type": "display_data"
    }
   ],
   "source": [
    "difference_rater = (skin_rater_1_2['rater1'] - skin_rater_1_2['rater2'])\n",
    "\n",
    "fig, ax = plt.subplots(1,2,figsize=(12, 4))\n",
    "c = sns.color_palette()\n",
    "ax[0].hist(mean_rated,bins = 5, range = (0,1),color = c[0])\n",
    "ax[0].set_title(\"Mean rating\")\n",
    "ax[1].hist(difference_rater, bins = 5,range = (-0.5,0.5),color = c[1])\n",
    "ax[1].set_title('Difference')"
   ]
  },
  {
   "cell_type": "code",
   "execution_count": 42,
   "metadata": {
    "collapsed": false
   },
   "outputs": [
    {
     "data": {
      "text/plain": [
       " 0.00    94903\n",
       "-0.25    23746\n",
       " 0.25     4902\n",
       "-0.50      164\n",
       "dtype: int64"
      ]
     },
     "execution_count": 42,
     "metadata": {},
     "output_type": "execute_result"
    }
   ],
   "source": [
    "difference_rater.value_counts()"
   ]
  },
  {
   "cell_type": "markdown",
   "metadata": {},
   "source": [
    "The plot show the distribution of the skin rating and the difference between rater1 and rater2 scores. The difference histogram shows us a high disagreement for 164 people, so we remove them (c.f. create output label)."
   ]
  },
  {
   "cell_type": "code",
   "execution_count": 45,
   "metadata": {
    "collapsed": false
   },
   "outputs": [
    {
     "data": {
      "text/plain": [
       "0.0    1299\n",
       "1.0     263\n",
       "Name: mean_rated, dtype: int64"
      ]
     },
     "execution_count": 45,
     "metadata": {},
     "output_type": "execute_result"
    }
   ],
   "source": [
    "players['mean_rated'].value_counts()"
   ]
  },
  {
   "cell_type": "code",
   "execution_count": 43,
   "metadata": {
    "collapsed": false
   },
   "outputs": [],
   "source": [
    "players.to_csv('players.csv')"
   ]
  }
 ],
 "metadata": {
  "anaconda-cloud": {},
  "kernelspec": {
   "display_name": "Python [default]",
   "language": "python",
   "name": "python2"
  },
  "language_info": {
   "codemirror_mode": {
    "name": "ipython",
    "version": 2
   },
   "file_extension": ".py",
   "mimetype": "text/x-python",
   "name": "python",
   "nbconvert_exporter": "python",
   "pygments_lexer": "ipython2",
   "version": "2.7.12"
  }
 },
 "nbformat": 4,
 "nbformat_minor": 0
}
