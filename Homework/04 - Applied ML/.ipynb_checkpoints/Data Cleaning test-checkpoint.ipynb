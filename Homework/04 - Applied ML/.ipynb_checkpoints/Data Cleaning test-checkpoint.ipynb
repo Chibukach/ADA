{
 "cells": [
  {
   "cell_type": "markdown",
   "metadata": {},
   "source": [
    "# Cleaning Data"
   ]
  },
  {
   "cell_type": "markdown",
   "metadata": {},
   "source": [
    ">On this notebook we will clean and handle the original data stored in *CrowdstormingDataJuly1st.csv*. The dataset consist of several soccer player-referee dyads with a group of variables, the description is available [here](https://github.com/ADAEPFL/Homework/blob/master/04%20-%20Applied%20ML/DATA.md)."
   ]
  },
  {
   "cell_type": "markdown",
   "metadata": {},
   "source": [
    "### Import libraries"
   ]
  },
  {
   "cell_type": "code",
   "execution_count": 1,
   "metadata": {
    "collapsed": true
   },
   "outputs": [],
   "source": [
    "import pandas as pd                                    \n",
    "import numpy as np                                     \n",
    "import os                                            \n",
    "import matplotlib.pyplot as plt                    \n",
    "from sklearn import preprocessing\n",
    "\n",
    "%matplotlib inline\n",
    "import seaborn as sns"
   ]
  },
  {
   "cell_type": "markdown",
   "metadata": {},
   "source": [
    "### Loading data stored in csv file"
   ]
  },
  {
   "cell_type": "code",
   "execution_count": 2,
   "metadata": {
    "collapsed": false
   },
   "outputs": [],
   "source": [
    "# Load the original dataset\n",
    "df = pd.read_csv('Data/CrowdstormingDataJuly1st.csv')"
   ]
  },
  {
   "cell_type": "code",
   "execution_count": 3,
   "metadata": {
    "collapsed": false
   },
   "outputs": [
    {
     "data": {
      "text/html": [
       "<div>\n",
       "<table border=\"1\" class=\"dataframe\">\n",
       "  <thead>\n",
       "    <tr style=\"text-align: right;\">\n",
       "      <th></th>\n",
       "      <th>playerShort</th>\n",
       "      <th>player</th>\n",
       "      <th>club</th>\n",
       "      <th>leagueCountry</th>\n",
       "      <th>birthday</th>\n",
       "      <th>height</th>\n",
       "      <th>weight</th>\n",
       "      <th>position</th>\n",
       "      <th>games</th>\n",
       "      <th>victories</th>\n",
       "      <th>...</th>\n",
       "      <th>rater2</th>\n",
       "      <th>refNum</th>\n",
       "      <th>refCountry</th>\n",
       "      <th>Alpha_3</th>\n",
       "      <th>meanIAT</th>\n",
       "      <th>nIAT</th>\n",
       "      <th>seIAT</th>\n",
       "      <th>meanExp</th>\n",
       "      <th>nExp</th>\n",
       "      <th>seExp</th>\n",
       "    </tr>\n",
       "  </thead>\n",
       "  <tbody>\n",
       "    <tr>\n",
       "      <th>0</th>\n",
       "      <td>lucas-wilchez</td>\n",
       "      <td>Lucas Wilchez</td>\n",
       "      <td>Real Zaragoza</td>\n",
       "      <td>Spain</td>\n",
       "      <td>31.08.1983</td>\n",
       "      <td>177.0</td>\n",
       "      <td>72.0</td>\n",
       "      <td>Attacking Midfielder</td>\n",
       "      <td>1</td>\n",
       "      <td>0</td>\n",
       "      <td>...</td>\n",
       "      <td>0.50</td>\n",
       "      <td>1</td>\n",
       "      <td>1</td>\n",
       "      <td>GRC</td>\n",
       "      <td>0.326391</td>\n",
       "      <td>712.0</td>\n",
       "      <td>0.000564</td>\n",
       "      <td>0.396000</td>\n",
       "      <td>750.0</td>\n",
       "      <td>0.002696</td>\n",
       "    </tr>\n",
       "    <tr>\n",
       "      <th>1</th>\n",
       "      <td>john-utaka</td>\n",
       "      <td>John Utaka</td>\n",
       "      <td>Montpellier HSC</td>\n",
       "      <td>France</td>\n",
       "      <td>08.01.1982</td>\n",
       "      <td>179.0</td>\n",
       "      <td>82.0</td>\n",
       "      <td>Right Winger</td>\n",
       "      <td>1</td>\n",
       "      <td>0</td>\n",
       "      <td>...</td>\n",
       "      <td>0.75</td>\n",
       "      <td>2</td>\n",
       "      <td>2</td>\n",
       "      <td>ZMB</td>\n",
       "      <td>0.203375</td>\n",
       "      <td>40.0</td>\n",
       "      <td>0.010875</td>\n",
       "      <td>-0.204082</td>\n",
       "      <td>49.0</td>\n",
       "      <td>0.061504</td>\n",
       "    </tr>\n",
       "    <tr>\n",
       "      <th>2</th>\n",
       "      <td>abdon-prats</td>\n",
       "      <td>Abdón Prats</td>\n",
       "      <td>RCD Mallorca</td>\n",
       "      <td>Spain</td>\n",
       "      <td>17.12.1992</td>\n",
       "      <td>181.0</td>\n",
       "      <td>79.0</td>\n",
       "      <td>NaN</td>\n",
       "      <td>1</td>\n",
       "      <td>0</td>\n",
       "      <td>...</td>\n",
       "      <td>NaN</td>\n",
       "      <td>3</td>\n",
       "      <td>3</td>\n",
       "      <td>ESP</td>\n",
       "      <td>0.369894</td>\n",
       "      <td>1785.0</td>\n",
       "      <td>0.000229</td>\n",
       "      <td>0.588297</td>\n",
       "      <td>1897.0</td>\n",
       "      <td>0.001002</td>\n",
       "    </tr>\n",
       "    <tr>\n",
       "      <th>3</th>\n",
       "      <td>pablo-mari</td>\n",
       "      <td>Pablo Marí</td>\n",
       "      <td>RCD Mallorca</td>\n",
       "      <td>Spain</td>\n",
       "      <td>31.08.1993</td>\n",
       "      <td>191.0</td>\n",
       "      <td>87.0</td>\n",
       "      <td>Center Back</td>\n",
       "      <td>1</td>\n",
       "      <td>1</td>\n",
       "      <td>...</td>\n",
       "      <td>NaN</td>\n",
       "      <td>3</td>\n",
       "      <td>3</td>\n",
       "      <td>ESP</td>\n",
       "      <td>0.369894</td>\n",
       "      <td>1785.0</td>\n",
       "      <td>0.000229</td>\n",
       "      <td>0.588297</td>\n",
       "      <td>1897.0</td>\n",
       "      <td>0.001002</td>\n",
       "    </tr>\n",
       "    <tr>\n",
       "      <th>4</th>\n",
       "      <td>ruben-pena</td>\n",
       "      <td>Rubén Peña</td>\n",
       "      <td>Real Valladolid</td>\n",
       "      <td>Spain</td>\n",
       "      <td>18.07.1991</td>\n",
       "      <td>172.0</td>\n",
       "      <td>70.0</td>\n",
       "      <td>Right Midfielder</td>\n",
       "      <td>1</td>\n",
       "      <td>1</td>\n",
       "      <td>...</td>\n",
       "      <td>NaN</td>\n",
       "      <td>3</td>\n",
       "      <td>3</td>\n",
       "      <td>ESP</td>\n",
       "      <td>0.369894</td>\n",
       "      <td>1785.0</td>\n",
       "      <td>0.000229</td>\n",
       "      <td>0.588297</td>\n",
       "      <td>1897.0</td>\n",
       "      <td>0.001002</td>\n",
       "    </tr>\n",
       "  </tbody>\n",
       "</table>\n",
       "<p>5 rows × 28 columns</p>\n",
       "</div>"
      ],
      "text/plain": [
       "     playerShort         player             club leagueCountry    birthday  \\\n",
       "0  lucas-wilchez  Lucas Wilchez    Real Zaragoza         Spain  31.08.1983   \n",
       "1     john-utaka     John Utaka  Montpellier HSC        France  08.01.1982   \n",
       "2    abdon-prats    Abdón Prats     RCD Mallorca         Spain  17.12.1992   \n",
       "3     pablo-mari     Pablo Marí     RCD Mallorca         Spain  31.08.1993   \n",
       "4     ruben-pena     Rubén Peña  Real Valladolid         Spain  18.07.1991   \n",
       "\n",
       "   height  weight              position  games  victories    ...     rater2  \\\n",
       "0   177.0    72.0  Attacking Midfielder      1          0    ...       0.50   \n",
       "1   179.0    82.0          Right Winger      1          0    ...       0.75   \n",
       "2   181.0    79.0                   NaN      1          0    ...        NaN   \n",
       "3   191.0    87.0           Center Back      1          1    ...        NaN   \n",
       "4   172.0    70.0      Right Midfielder      1          1    ...        NaN   \n",
       "\n",
       "   refNum  refCountry  Alpha_3   meanIAT    nIAT     seIAT   meanExp    nExp  \\\n",
       "0       1           1      GRC  0.326391   712.0  0.000564  0.396000   750.0   \n",
       "1       2           2      ZMB  0.203375    40.0  0.010875 -0.204082    49.0   \n",
       "2       3           3      ESP  0.369894  1785.0  0.000229  0.588297  1897.0   \n",
       "3       3           3      ESP  0.369894  1785.0  0.000229  0.588297  1897.0   \n",
       "4       3           3      ESP  0.369894  1785.0  0.000229  0.588297  1897.0   \n",
       "\n",
       "      seExp  \n",
       "0  0.002696  \n",
       "1  0.061504  \n",
       "2  0.001002  \n",
       "3  0.001002  \n",
       "4  0.001002  \n",
       "\n",
       "[5 rows x 28 columns]"
      ]
     },
     "execution_count": 3,
     "metadata": {},
     "output_type": "execute_result"
    }
   ],
   "source": [
    "df.head()"
   ]
  },
  {
   "cell_type": "code",
   "execution_count": 4,
   "metadata": {
    "collapsed": false
   },
   "outputs": [
    {
     "data": {
      "text/plain": [
       "(146028, 28)"
      ]
     },
     "execution_count": 4,
     "metadata": {},
     "output_type": "execute_result"
    }
   ],
   "source": [
    "df.shape"
   ]
  },
  {
   "cell_type": "markdown",
   "metadata": {},
   "source": [
    "The data set contains *146028* dyads of players and referees with *28* differents variables."
   ]
  },
  {
   "cell_type": "code",
   "execution_count": 5,
   "metadata": {
    "collapsed": false
   },
   "outputs": [
    {
     "data": {
      "text/plain": [
       "Index([u'playerShort', u'player', u'club', u'leagueCountry', u'birthday',\n",
       "       u'height', u'weight', u'position', u'games', u'victories', u'ties',\n",
       "       u'defeats', u'goals', u'yellowCards', u'yellowReds', u'redCards',\n",
       "       u'photoID', u'rater1', u'rater2', u'refNum', u'refCountry', u'Alpha_3',\n",
       "       u'meanIAT', u'nIAT', u'seIAT', u'meanExp', u'nExp', u'seExp'],\n",
       "      dtype='object')"
      ]
     },
     "execution_count": 5,
     "metadata": {},
     "output_type": "execute_result"
    }
   ],
   "source": [
    "df.columns"
   ]
  },
  {
   "cell_type": "markdown",
   "metadata": {},
   "source": [
    "## Remove Nan value"
   ]
  },
  {
   "cell_type": "markdown",
   "metadata": {},
   "source": [
    "First, we remove all the rows imcomplete value (i.e. nan value)."
   ]
  },
  {
   "cell_type": "code",
   "execution_count": 6,
   "metadata": {
    "collapsed": false,
    "scrolled": false
   },
   "outputs": [
    {
     "name": "stdout",
     "output_type": "stream",
     "text": [
      "playerShort      False\n",
      "player           False\n",
      "club             False\n",
      "leagueCountry    False\n",
      "birthday         False\n",
      "height            True\n",
      "weight            True\n",
      "position          True\n",
      "games            False\n",
      "victories        False\n",
      "ties             False\n",
      "defeats          False\n",
      "goals            False\n",
      "yellowCards      False\n",
      "yellowReds       False\n",
      "redCards         False\n",
      "photoID           True\n",
      "rater1            True\n",
      "rater2            True\n",
      "refNum           False\n",
      "refCountry       False\n",
      "Alpha_3           True\n",
      "meanIAT           True\n",
      "nIAT              True\n",
      "seIAT             True\n",
      "meanExp           True\n",
      "nExp              True\n",
      "seExp             True\n",
      "dtype: bool\n",
      "False    15\n",
      "True     13\n",
      "dtype: int64\n"
     ]
    }
   ],
   "source": [
    "print df.isnull().any()\n",
    "print df.isnull().any().value_counts()"
   ]
  },
  {
   "cell_type": "markdown",
   "metadata": {},
   "source": [
    "As shown in the cell below, we have nan value in 13 columns. First, let's remove Nan value in *rater1* and *rater2* columns (which is the skin rating of photo)."
   ]
  },
  {
   "cell_type": "code",
   "execution_count": 7,
   "metadata": {
    "collapsed": false,
    "scrolled": true
   },
   "outputs": [
    {
     "name": "stdout",
     "output_type": "stream",
     "text": [
      "Nan value in rater1 : 21407\n",
      "Nan value in rater2 : 21407\n"
     ]
    }
   ],
   "source": [
    "nan_rater1 = len(df[df['rater1'].isnull()])\n",
    "nan_rater2 = len(df[df['rater2'].isnull()])\n",
    "print 'Nan value in rater1 : %d'%(nan_rater1)\n",
    "print 'Nan value in rater2 : %d'%(nan_rater2)"
   ]
  },
  {
   "cell_type": "code",
   "execution_count": 8,
   "metadata": {
    "collapsed": false
   },
   "outputs": [
    {
     "data": {
      "text/plain": [
       "(124621, 28)"
      ]
     },
     "execution_count": 8,
     "metadata": {},
     "output_type": "execute_result"
    }
   ],
   "source": [
    "df.dropna(subset=['rater1','rater2'],inplace=True)\n",
    "df.shape"
   ]
  },
  {
   "cell_type": "code",
   "execution_count": 9,
   "metadata": {
    "collapsed": false
   },
   "outputs": [
    {
     "data": {
      "text/plain": [
       "playerShort      False\n",
       "player           False\n",
       "club             False\n",
       "leagueCountry    False\n",
       "birthday         False\n",
       "height            True\n",
       "weight            True\n",
       "position          True\n",
       "games            False\n",
       "victories        False\n",
       "ties             False\n",
       "defeats          False\n",
       "goals            False\n",
       "yellowCards      False\n",
       "yellowReds       False\n",
       "redCards         False\n",
       "photoID          False\n",
       "rater1           False\n",
       "rater2           False\n",
       "refNum           False\n",
       "refCountry       False\n",
       "Alpha_3           True\n",
       "meanIAT           True\n",
       "nIAT              True\n",
       "seIAT             True\n",
       "meanExp           True\n",
       "nExp              True\n",
       "seExp             True\n",
       "dtype: bool"
      ]
     },
     "execution_count": 9,
     "metadata": {},
     "output_type": "execute_result"
    }
   ],
   "source": [
    "df.isnull().any()"
   ]
  },
  {
   "cell_type": "markdown",
   "metadata": {},
   "source": [
    "Then, we remove Nan value in others columns *(height, weight, meanIAT, meanExp)*."
   ]
  },
  {
   "cell_type": "code",
   "execution_count": 10,
   "metadata": {
    "collapsed": false
   },
   "outputs": [
    {
     "name": "stdout",
     "output_type": "stream",
     "text": [
      "Nan value in height : 46\n",
      "Nan value in weight : 753\n"
     ]
    }
   ],
   "source": [
    "nan_height = len(df[df['height'].isnull()])\n",
    "nan_weight = len(df[df['weight'].isnull()])\n",
    "print 'Nan value in height : %d'%(nan_height)\n",
    "print 'Nan value in weight : %d'%(nan_weight)"
   ]
  },
  {
   "cell_type": "code",
   "execution_count": 11,
   "metadata": {
    "collapsed": false
   },
   "outputs": [
    {
     "data": {
      "text/plain": [
       "(123868, 28)"
      ]
     },
     "execution_count": 11,
     "metadata": {},
     "output_type": "execute_result"
    }
   ],
   "source": [
    "df.dropna(subset=['height','weight'],inplace=True)\n",
    "df.shape"
   ]
  },
  {
   "cell_type": "code",
   "execution_count": 12,
   "metadata": {
    "collapsed": false
   },
   "outputs": [
    {
     "name": "stdout",
     "output_type": "stream",
     "text": [
      "Nan value in height : 153\n",
      "Nan value in weight : 153\n"
     ]
    }
   ],
   "source": [
    "nan_meanIAT = len(df[df['meanIAT'].isnull()])\n",
    "nan_meanExp = len(df[df['meanExp'].isnull()])\n",
    "print 'Nan value in height : %d'%(nan_meanIAT)\n",
    "print 'Nan value in weight : %d'%(nan_meanExp)"
   ]
  },
  {
   "cell_type": "code",
   "execution_count": 13,
   "metadata": {
    "collapsed": false
   },
   "outputs": [
    {
     "data": {
      "text/plain": [
       "(123715, 28)"
      ]
     },
     "execution_count": 13,
     "metadata": {},
     "output_type": "execute_result"
    }
   ],
   "source": [
    "df.dropna(subset=['meanIAT','meanExp'],inplace=True)\n",
    "df.shape"
   ]
  },
  {
   "cell_type": "code",
   "execution_count": 14,
   "metadata": {
    "collapsed": false
   },
   "outputs": [
    {
     "data": {
      "text/plain": [
       "playerShort      False\n",
       "player           False\n",
       "club             False\n",
       "leagueCountry    False\n",
       "birthday         False\n",
       "height           False\n",
       "weight           False\n",
       "position          True\n",
       "games            False\n",
       "victories        False\n",
       "ties             False\n",
       "defeats          False\n",
       "goals            False\n",
       "yellowCards      False\n",
       "yellowReds       False\n",
       "redCards         False\n",
       "photoID          False\n",
       "rater1           False\n",
       "rater2           False\n",
       "refNum           False\n",
       "refCountry       False\n",
       "Alpha_3          False\n",
       "meanIAT          False\n",
       "nIAT             False\n",
       "seIAT            False\n",
       "meanExp          False\n",
       "nExp             False\n",
       "seExp            False\n",
       "dtype: bool"
      ]
     },
     "execution_count": 14,
     "metadata": {},
     "output_type": "execute_result"
    }
   ],
   "source": [
    "df.isnull().any()"
   ]
  },
  {
   "cell_type": "markdown",
   "metadata": {},
   "source": [
    "Finally, there still one column which contains some Nan value. We don't remove them because we will not use this column for the next part. After the cleaning step, the remaining dataset is 15% smaller than the original."
   ]
  },
  {
   "cell_type": "markdown",
   "metadata": {},
   "source": [
    "## Introduce new variables"
   ]
  },
  {
   "cell_type": "markdown",
   "metadata": {},
   "source": [
    "Then, we introduce new variables which take into account the mean implicit bias score and mean explicit bias score of referee country for each cards. The referee decision will be weighted according to meanIAT and meanExp of the referee country."
   ]
  },
  {
   "cell_type": "markdown",
   "metadata": {},
   "source": [
    "We introduce 2 variable for each color cards. The formula are the following :\n",
    "$$C\\_IAT = \\sum_{i=1}^{N_{Ref}} \\frac{Cards*meanIAT}{N_{games_i}}$$\n",
    "$$C\\_Exp = \\sum_{i=1}^{N_{Ref}} \\frac{Cards*meanExp}{N_{games_i}}$$"
   ]
  },
  {
   "cell_type": "code",
   "execution_count": 15,
   "metadata": {
    "collapsed": true
   },
   "outputs": [],
   "source": [
    "def weighting(list_param):\n",
    "    n_cards = list_param[0]\n",
    "    mean = list_param[1]\n",
    "    n_games = list_param[2]\n",
    "    return (n_cards*mean)/n_games"
   ]
  },
  {
   "cell_type": "code",
   "execution_count": 16,
   "metadata": {
    "collapsed": true
   },
   "outputs": [],
   "source": [
    "def compute_bias(x):\n",
    "    y_card = x['yellowCards']\n",
    "    r_card = x['redCards']\n",
    "    yr_card = x['yellowReds']\n",
    "    mean_Exp = x['meanExp']\n",
    "    mean_IAT = x['meanIAT']\n",
    "    n_games = x['games']\n",
    "    \n",
    "    parameters = [[y_card,mean_IAT,n_games],\n",
    "    [r_card,mean_IAT,n_games],\n",
    "    [yr_card,mean_IAT,n_games],\n",
    "    [y_card,mean_Exp,n_games],\n",
    "    [r_card,mean_Exp,n_games],\n",
    "    [yr_card,mean_Exp,n_games]]\n",
    "    \n",
    "    list_results = []\n",
    "    for elem in parameters:\n",
    "        list_results.append(weighting(elem))\n",
    "    \n",
    "    return pd.Series(list_results)\n",
    "    "
   ]
  },
  {
   "cell_type": "code",
   "execution_count": 17,
   "metadata": {
    "collapsed": false
   },
   "outputs": [],
   "source": [
    "results = df.apply(compute_bias,axis=1)\n",
    "results.columns = [\"YC_IAT\",\"YR_IAT\",\"RC_IAT\",\"YC_EXP\",\"YR_EXP\",\"RC_EXP\"]"
   ]
  },
  {
   "cell_type": "code",
   "execution_count": 18,
   "metadata": {
    "collapsed": false
   },
   "outputs": [],
   "source": [
    "df=pd.concat([df,results],axis=1)"
   ]
  },
  {
   "cell_type": "code",
   "execution_count": 19,
   "metadata": {
    "collapsed": false
   },
   "outputs": [
    {
     "data": {
      "text/plain": [
       "Index([u'playerShort', u'player', u'club', u'leagueCountry', u'birthday',\n",
       "       u'height', u'weight', u'position', u'games', u'victories', u'ties',\n",
       "       u'defeats', u'goals', u'yellowCards', u'yellowReds', u'redCards',\n",
       "       u'photoID', u'rater1', u'rater2', u'refNum', u'refCountry', u'Alpha_3',\n",
       "       u'meanIAT', u'nIAT', u'seIAT', u'meanExp', u'nExp', u'seExp', u'YC_IAT',\n",
       "       u'YR_IAT', u'RC_IAT', u'YC_EXP', u'YR_EXP', u'RC_EXP'],\n",
       "      dtype='object')"
      ]
     },
     "execution_count": 19,
     "metadata": {},
     "output_type": "execute_result"
    }
   ],
   "source": [
    "df.columns"
   ]
  },
  {
   "cell_type": "markdown",
   "metadata": {},
   "source": [
    "Then we drop the columns related to number of cards player received from referee."
   ]
  },
  {
   "cell_type": "code",
   "execution_count": 20,
   "metadata": {
    "collapsed": false
   },
   "outputs": [],
   "source": [
    "#df.drop(labels=['yellowCards','yellowReds','redCards'],axis=1,inplace=True)"
   ]
  },
  {
   "cell_type": "code",
   "execution_count": 21,
   "metadata": {
    "collapsed": false
   },
   "outputs": [
    {
     "data": {
      "text/plain": [
       "Index([u'playerShort', u'player', u'club', u'leagueCountry', u'birthday',\n",
       "       u'height', u'weight', u'position', u'games', u'victories', u'ties',\n",
       "       u'defeats', u'goals', u'yellowCards', u'yellowReds', u'redCards',\n",
       "       u'photoID', u'rater1', u'rater2', u'refNum', u'refCountry', u'Alpha_3',\n",
       "       u'meanIAT', u'nIAT', u'seIAT', u'meanExp', u'nExp', u'seExp', u'YC_IAT',\n",
       "       u'YR_IAT', u'RC_IAT', u'YC_EXP', u'YR_EXP', u'RC_EXP'],\n",
       "      dtype='object')"
      ]
     },
     "execution_count": 21,
     "metadata": {},
     "output_type": "execute_result"
    }
   ],
   "source": [
    "df.columns"
   ]
  },
  {
   "cell_type": "markdown",
   "metadata": {},
   "source": [
    "# GRAVITY STUFF"
   ]
  },
  {
   "cell_type": "code",
   "execution_count": 22,
   "metadata": {
    "collapsed": true
   },
   "outputs": [],
   "source": [
    "nbr_yellow = df['yellowCards'].sum()\n",
    "nbr_yellowRed = df['yellowReds'].sum()\n",
    "nbr_red = df['redCards'].sum()"
   ]
  },
  {
   "cell_type": "code",
   "execution_count": 23,
   "metadata": {
    "collapsed": false
   },
   "outputs": [
    {
     "data": {
      "text/plain": [
       "array([  0,   1,  31,  33,  32,   2,   4,   3,  35,  34,   5,  38,  36,\n",
       "        11,  71,   6,   8,  43,  42,  69,   7,  37,  40,  39, 111,  65,\n",
       "        66,  67, 101,  62,  64,   9,  68,  70,  74,  10,  41,  63,  99,\n",
       "        73,  44,  46, 102,  45])"
      ]
     },
     "execution_count": 23,
     "metadata": {},
     "output_type": "execute_result"
    }
   ],
   "source": [
    "gravity = df['yellowCards'] + nbr_yellow/nbr_yellowRed * df['yellowReds'] + nbr_yellow/nbr_red * df['redCards']\n",
    "gravity.unique()"
   ]
  },
  {
   "cell_type": "code",
   "execution_count": 24,
   "metadata": {
    "collapsed": false
   },
   "outputs": [
    {
     "data": {
      "text/html": [
       "<div>\n",
       "<table border=\"1\" class=\"dataframe\">\n",
       "  <thead>\n",
       "    <tr style=\"text-align: right;\">\n",
       "      <th></th>\n",
       "      <th>playerShort</th>\n",
       "      <th>player</th>\n",
       "      <th>club</th>\n",
       "      <th>leagueCountry</th>\n",
       "      <th>birthday</th>\n",
       "      <th>height</th>\n",
       "      <th>weight</th>\n",
       "      <th>position</th>\n",
       "      <th>games</th>\n",
       "      <th>victories</th>\n",
       "      <th>...</th>\n",
       "      <th>meanExp</th>\n",
       "      <th>nExp</th>\n",
       "      <th>seExp</th>\n",
       "      <th>YC_IAT</th>\n",
       "      <th>YR_IAT</th>\n",
       "      <th>RC_IAT</th>\n",
       "      <th>YC_EXP</th>\n",
       "      <th>YR_EXP</th>\n",
       "      <th>RC_EXP</th>\n",
       "      <th>gravity</th>\n",
       "    </tr>\n",
       "  </thead>\n",
       "  <tbody>\n",
       "    <tr>\n",
       "      <th>0</th>\n",
       "      <td>lucas-wilchez</td>\n",
       "      <td>Lucas Wilchez</td>\n",
       "      <td>Real Zaragoza</td>\n",
       "      <td>Spain</td>\n",
       "      <td>31.08.1983</td>\n",
       "      <td>177.0</td>\n",
       "      <td>72.0</td>\n",
       "      <td>Attacking Midfielder</td>\n",
       "      <td>1</td>\n",
       "      <td>0</td>\n",
       "      <td>...</td>\n",
       "      <td>0.396000</td>\n",
       "      <td>750.0</td>\n",
       "      <td>0.002696</td>\n",
       "      <td>0.000000</td>\n",
       "      <td>0.0</td>\n",
       "      <td>0.0</td>\n",
       "      <td>0.000000</td>\n",
       "      <td>0.0</td>\n",
       "      <td>0.0</td>\n",
       "      <td>0</td>\n",
       "    </tr>\n",
       "    <tr>\n",
       "      <th>1</th>\n",
       "      <td>john-utaka</td>\n",
       "      <td>John Utaka</td>\n",
       "      <td>Montpellier HSC</td>\n",
       "      <td>France</td>\n",
       "      <td>08.01.1982</td>\n",
       "      <td>179.0</td>\n",
       "      <td>82.0</td>\n",
       "      <td>Right Winger</td>\n",
       "      <td>1</td>\n",
       "      <td>0</td>\n",
       "      <td>...</td>\n",
       "      <td>-0.204082</td>\n",
       "      <td>49.0</td>\n",
       "      <td>0.061504</td>\n",
       "      <td>0.203375</td>\n",
       "      <td>0.0</td>\n",
       "      <td>0.0</td>\n",
       "      <td>-0.204082</td>\n",
       "      <td>-0.0</td>\n",
       "      <td>-0.0</td>\n",
       "      <td>1</td>\n",
       "    </tr>\n",
       "    <tr>\n",
       "      <th>5</th>\n",
       "      <td>aaron-hughes</td>\n",
       "      <td>Aaron Hughes</td>\n",
       "      <td>Fulham FC</td>\n",
       "      <td>England</td>\n",
       "      <td>08.11.1979</td>\n",
       "      <td>182.0</td>\n",
       "      <td>71.0</td>\n",
       "      <td>Center Back</td>\n",
       "      <td>1</td>\n",
       "      <td>0</td>\n",
       "      <td>...</td>\n",
       "      <td>0.538462</td>\n",
       "      <td>130.0</td>\n",
       "      <td>0.013752</td>\n",
       "      <td>0.000000</td>\n",
       "      <td>0.0</td>\n",
       "      <td>0.0</td>\n",
       "      <td>0.000000</td>\n",
       "      <td>0.0</td>\n",
       "      <td>0.0</td>\n",
       "      <td>0</td>\n",
       "    </tr>\n",
       "    <tr>\n",
       "      <th>6</th>\n",
       "      <td>aleksandar-kolarov</td>\n",
       "      <td>Aleksandar Kolarov</td>\n",
       "      <td>Manchester City</td>\n",
       "      <td>England</td>\n",
       "      <td>10.11.1985</td>\n",
       "      <td>187.0</td>\n",
       "      <td>80.0</td>\n",
       "      <td>Left Fullback</td>\n",
       "      <td>1</td>\n",
       "      <td>1</td>\n",
       "      <td>...</td>\n",
       "      <td>0.538462</td>\n",
       "      <td>130.0</td>\n",
       "      <td>0.013752</td>\n",
       "      <td>0.000000</td>\n",
       "      <td>0.0</td>\n",
       "      <td>0.0</td>\n",
       "      <td>0.000000</td>\n",
       "      <td>0.0</td>\n",
       "      <td>0.0</td>\n",
       "      <td>0</td>\n",
       "    </tr>\n",
       "    <tr>\n",
       "      <th>7</th>\n",
       "      <td>alexander-tettey</td>\n",
       "      <td>Alexander Tettey</td>\n",
       "      <td>Norwich City</td>\n",
       "      <td>England</td>\n",
       "      <td>04.04.1986</td>\n",
       "      <td>180.0</td>\n",
       "      <td>68.0</td>\n",
       "      <td>Defensive Midfielder</td>\n",
       "      <td>1</td>\n",
       "      <td>0</td>\n",
       "      <td>...</td>\n",
       "      <td>0.538462</td>\n",
       "      <td>130.0</td>\n",
       "      <td>0.013752</td>\n",
       "      <td>0.000000</td>\n",
       "      <td>0.0</td>\n",
       "      <td>0.0</td>\n",
       "      <td>0.000000</td>\n",
       "      <td>0.0</td>\n",
       "      <td>0.0</td>\n",
       "      <td>0</td>\n",
       "    </tr>\n",
       "  </tbody>\n",
       "</table>\n",
       "<p>5 rows × 35 columns</p>\n",
       "</div>"
      ],
      "text/plain": [
       "          playerShort              player             club leagueCountry  \\\n",
       "0       lucas-wilchez       Lucas Wilchez    Real Zaragoza         Spain   \n",
       "1          john-utaka          John Utaka  Montpellier HSC        France   \n",
       "5        aaron-hughes        Aaron Hughes        Fulham FC       England   \n",
       "6  aleksandar-kolarov  Aleksandar Kolarov  Manchester City       England   \n",
       "7    alexander-tettey    Alexander Tettey     Norwich City       England   \n",
       "\n",
       "     birthday  height  weight              position  games  victories  \\\n",
       "0  31.08.1983   177.0    72.0  Attacking Midfielder      1          0   \n",
       "1  08.01.1982   179.0    82.0          Right Winger      1          0   \n",
       "5  08.11.1979   182.0    71.0           Center Back      1          0   \n",
       "6  10.11.1985   187.0    80.0         Left Fullback      1          1   \n",
       "7  04.04.1986   180.0    68.0  Defensive Midfielder      1          0   \n",
       "\n",
       "    ...      meanExp   nExp     seExp    YC_IAT  YR_IAT  RC_IAT    YC_EXP  \\\n",
       "0   ...     0.396000  750.0  0.002696  0.000000     0.0     0.0  0.000000   \n",
       "1   ...    -0.204082   49.0  0.061504  0.203375     0.0     0.0 -0.204082   \n",
       "5   ...     0.538462  130.0  0.013752  0.000000     0.0     0.0  0.000000   \n",
       "6   ...     0.538462  130.0  0.013752  0.000000     0.0     0.0  0.000000   \n",
       "7   ...     0.538462  130.0  0.013752  0.000000     0.0     0.0  0.000000   \n",
       "\n",
       "   YR_EXP  RC_EXP  gravity  \n",
       "0     0.0     0.0        0  \n",
       "1    -0.0    -0.0        1  \n",
       "5     0.0     0.0        0  \n",
       "6     0.0     0.0        0  \n",
       "7     0.0     0.0        0  \n",
       "\n",
       "[5 rows x 35 columns]"
      ]
     },
     "execution_count": 24,
     "metadata": {},
     "output_type": "execute_result"
    }
   ],
   "source": [
    "df['gravity'] = gravity\n",
    "df.head()"
   ]
  },
  {
   "cell_type": "code",
   "execution_count": 25,
   "metadata": {
    "collapsed": false
   },
   "outputs": [
    {
     "data": {
      "text/plain": [
       "116"
      ]
     },
     "execution_count": 25,
     "metadata": {},
     "output_type": "execute_result"
    }
   ],
   "source": [
    " df[df['player'] == 'Lucas Wilchez']['gravity'].sum()"
   ]
  },
  {
   "cell_type": "markdown",
   "metadata": {},
   "source": [
    "## Create our output label"
   ]
  },
  {
   "cell_type": "markdown",
   "metadata": {},
   "source": [
    "We choose to create an output columns called *mean_rated* which is the mean between *rater1* and *rater2* values. Then, we drop *rater1* and *rater2* columns."
   ]
  },
  {
   "cell_type": "code",
   "execution_count": 26,
   "metadata": {
    "collapsed": false
   },
   "outputs": [],
   "source": [
    "skin_rater_1_2 = df[['rater1','rater2']]\n",
    "mean_rated = skin_rater_1_2.mean(axis=1)"
   ]
  },
  {
   "cell_type": "code",
   "execution_count": 27,
   "metadata": {
    "collapsed": true
   },
   "outputs": [],
   "source": [
    "df['mean_rated'] = df[['rater1','rater2']].mean(axis=1)\n",
    "df.drop(['rater1','rater2'], axis=1, inplace=True)"
   ]
  },
  {
   "cell_type": "code",
   "execution_count": 28,
   "metadata": {
    "collapsed": true
   },
   "outputs": [],
   "source": [
    "def binary_separator(x):\n",
    "    if x <= 0.5:\n",
    "        return 0\n",
    "    else:\n",
    "        return 1"
   ]
  },
  {
   "cell_type": "code",
   "execution_count": 35,
   "metadata": {
    "collapsed": false
   },
   "outputs": [],
   "source": [
    "df['mean_rated'] = df['mean_rated'].apply(binary_separator)"
   ]
  },
  {
   "cell_type": "code",
   "execution_count": 36,
   "metadata": {
    "collapsed": false
   },
   "outputs": [
    {
     "data": {
      "text/plain": [
       "0    104035\n",
       "1     19680\n",
       "Name: mean_rated, dtype: int64"
      ]
     },
     "execution_count": 36,
     "metadata": {},
     "output_type": "execute_result"
    }
   ],
   "source": [
    "df['mean_rated'].value_counts()"
   ]
  },
  {
   "cell_type": "markdown",
   "metadata": {},
   "source": [
    "Preprocess the data with *LabelEncoder* which binds labels to integers values."
   ]
  },
  {
   "cell_type": "code",
   "execution_count": 34,
   "metadata": {
    "collapsed": false
   },
   "outputs": [
    {
     "data": {
      "text/plain": [
       "array([0, 1])"
      ]
     },
     "execution_count": 34,
     "metadata": {},
     "output_type": "execute_result"
    }
   ],
   "source": [
    "le = preprocessing.LabelEncoder()\n",
    "le.fit(df['mean_rated'])\n",
    "le.classes_"
   ]
  },
  {
   "cell_type": "code",
   "execution_count": 117,
   "metadata": {
    "collapsed": true
   },
   "outputs": [],
   "source": [
    "df['mean_rated'] = le.transform(df['mean_rated'])"
   ]
  },
  {
   "cell_type": "code",
   "execution_count": 118,
   "metadata": {
    "collapsed": false
   },
   "outputs": [
    {
     "data": {
      "text/plain": [
       "2    38235\n",
       "0    33490\n",
       "1    17810\n",
       "4     8906\n",
       "8     7467\n",
       "6     6969\n",
       "3     5594\n",
       "7     2832\n",
       "5     2412\n",
       "Name: mean_rated, dtype: int64"
      ]
     },
     "execution_count": 118,
     "metadata": {},
     "output_type": "execute_result"
    }
   ],
   "source": [
    "df['mean_rated'].value_counts()"
   ]
  },
  {
   "cell_type": "markdown",
   "metadata": {},
   "source": [
    "## Merge the players rows"
   ]
  },
  {
   "cell_type": "markdown",
   "metadata": {},
   "source": [
    "Then, we merge all dyads for each players. Some columns will not need to sum all variables (mean_rated,height,weight)."
   ]
  },
  {
   "cell_type": "code",
   "execution_count": 37,
   "metadata": {
    "collapsed": false
   },
   "outputs": [],
   "source": [
    "def squash(x):\n",
    "    sum_columns = ['games', 'victories', 'ties','defeats', 'goals', 'gravity', 'yellowCards',\n",
    "                   'YC_IAT','YR_IAT', 'RC_IAT', 'YC_EXP', 'YR_EXP', 'RC_EXP']\n",
    "    new = pd.DataFrame()\n",
    "    new.set_value(0,'mean_rated',x.iloc[0]['mean_rated'])\n",
    "    new.set_value(0,'height',x.iloc[0]['height'])\n",
    "    new.set_value(0,'weight',x.iloc[0]['weight'])\n",
    "    new.set_value(0,'refCountry',x.iloc[0]['refCountry'])\n",
    "    new.set_value(0,'refNum',x.iloc[0]['refNum'])\n",
    "    new.set_value(0,'club',x.iloc[0]['club'])\n",
    "    new.set_value(0,'leagueCountry',x.iloc[0]['leagueCountry'])\n",
    "    for elem in x.columns:\n",
    "        if elem in sum_columns:\n",
    "            new.set_value(0,elem,x[elem].sum())\n",
    "    return new\n",
    "\n",
    "players = df.groupby('playerShort').apply(squash)"
   ]
  },
  {
   "cell_type": "code",
   "execution_count": 38,
   "metadata": {
    "collapsed": false
   },
   "outputs": [],
   "source": [
    "players.reset_index(inplace=True)\n",
    "players.drop(['level_1','refNum','refCountry'],axis=1,inplace=True)"
   ]
  },
  {
   "cell_type": "code",
   "execution_count": 39,
   "metadata": {
    "collapsed": false,
    "scrolled": true
   },
   "outputs": [
    {
     "data": {
      "text/html": [
       "<div>\n",
       "<table border=\"1\" class=\"dataframe\">\n",
       "  <thead>\n",
       "    <tr style=\"text-align: right;\">\n",
       "      <th></th>\n",
       "      <th>playerShort</th>\n",
       "      <th>mean_rated</th>\n",
       "      <th>height</th>\n",
       "      <th>weight</th>\n",
       "      <th>club</th>\n",
       "      <th>leagueCountry</th>\n",
       "      <th>games</th>\n",
       "      <th>victories</th>\n",
       "      <th>ties</th>\n",
       "      <th>defeats</th>\n",
       "      <th>goals</th>\n",
       "      <th>yellowCards</th>\n",
       "      <th>YC_IAT</th>\n",
       "      <th>YR_IAT</th>\n",
       "      <th>RC_IAT</th>\n",
       "      <th>YC_EXP</th>\n",
       "      <th>YR_EXP</th>\n",
       "      <th>RC_EXP</th>\n",
       "      <th>gravity</th>\n",
       "    </tr>\n",
       "  </thead>\n",
       "  <tbody>\n",
       "    <tr>\n",
       "      <th>0</th>\n",
       "      <td>aaron-hughes</td>\n",
       "      <td>0.0</td>\n",
       "      <td>182.0</td>\n",
       "      <td>71.0</td>\n",
       "      <td>Fulham FC</td>\n",
       "      <td>England</td>\n",
       "      <td>654.0</td>\n",
       "      <td>247.0</td>\n",
       "      <td>179.0</td>\n",
       "      <td>228.0</td>\n",
       "      <td>9.0</td>\n",
       "      <td>19.0</td>\n",
       "      <td>1.953444</td>\n",
       "      <td>0.000000</td>\n",
       "      <td>0.000000</td>\n",
       "      <td>3.148124</td>\n",
       "      <td>0.000000</td>\n",
       "      <td>0.00000</td>\n",
       "      <td>19.0</td>\n",
       "    </tr>\n",
       "    <tr>\n",
       "      <th>1</th>\n",
       "      <td>aaron-hunt</td>\n",
       "      <td>0.0</td>\n",
       "      <td>183.0</td>\n",
       "      <td>73.0</td>\n",
       "      <td>Werder Bremen</td>\n",
       "      <td>Germany</td>\n",
       "      <td>336.0</td>\n",
       "      <td>141.0</td>\n",
       "      <td>73.0</td>\n",
       "      <td>122.0</td>\n",
       "      <td>62.0</td>\n",
       "      <td>42.0</td>\n",
       "      <td>3.505362</td>\n",
       "      <td>0.025894</td>\n",
       "      <td>0.000000</td>\n",
       "      <td>4.867461</td>\n",
       "      <td>0.025844</td>\n",
       "      <td>0.00000</td>\n",
       "      <td>73.0</td>\n",
       "    </tr>\n",
       "    <tr>\n",
       "      <th>2</th>\n",
       "      <td>aaron-lennon</td>\n",
       "      <td>0.0</td>\n",
       "      <td>165.0</td>\n",
       "      <td>63.0</td>\n",
       "      <td>Tottenham Hotspur</td>\n",
       "      <td>England</td>\n",
       "      <td>412.0</td>\n",
       "      <td>200.0</td>\n",
       "      <td>97.0</td>\n",
       "      <td>115.0</td>\n",
       "      <td>31.0</td>\n",
       "      <td>11.0</td>\n",
       "      <td>0.643299</td>\n",
       "      <td>0.000000</td>\n",
       "      <td>0.000000</td>\n",
       "      <td>1.141167</td>\n",
       "      <td>0.000000</td>\n",
       "      <td>0.00000</td>\n",
       "      <td>11.0</td>\n",
       "    </tr>\n",
       "    <tr>\n",
       "      <th>3</th>\n",
       "      <td>aaron-ramsey</td>\n",
       "      <td>0.0</td>\n",
       "      <td>178.0</td>\n",
       "      <td>76.0</td>\n",
       "      <td>Arsenal FC</td>\n",
       "      <td>England</td>\n",
       "      <td>260.0</td>\n",
       "      <td>150.0</td>\n",
       "      <td>42.0</td>\n",
       "      <td>68.0</td>\n",
       "      <td>39.0</td>\n",
       "      <td>31.0</td>\n",
       "      <td>4.248251</td>\n",
       "      <td>0.334684</td>\n",
       "      <td>0.000000</td>\n",
       "      <td>5.822391</td>\n",
       "      <td>0.336101</td>\n",
       "      <td>0.00000</td>\n",
       "      <td>62.0</td>\n",
       "    </tr>\n",
       "    <tr>\n",
       "      <th>4</th>\n",
       "      <td>abdelhamid-el-kaoutari</td>\n",
       "      <td>0.0</td>\n",
       "      <td>180.0</td>\n",
       "      <td>73.0</td>\n",
       "      <td>Montpellier HSC</td>\n",
       "      <td>France</td>\n",
       "      <td>124.0</td>\n",
       "      <td>41.0</td>\n",
       "      <td>40.0</td>\n",
       "      <td>43.0</td>\n",
       "      <td>1.0</td>\n",
       "      <td>8.0</td>\n",
       "      <td>0.770171</td>\n",
       "      <td>0.133874</td>\n",
       "      <td>0.523449</td>\n",
       "      <td>0.773432</td>\n",
       "      <td>0.134440</td>\n",
       "      <td>0.61693</td>\n",
       "      <td>202.0</td>\n",
       "    </tr>\n",
       "  </tbody>\n",
       "</table>\n",
       "</div>"
      ],
      "text/plain": [
       "              playerShort  mean_rated  height  weight               club  \\\n",
       "0            aaron-hughes         0.0   182.0    71.0          Fulham FC   \n",
       "1              aaron-hunt         0.0   183.0    73.0      Werder Bremen   \n",
       "2            aaron-lennon         0.0   165.0    63.0  Tottenham Hotspur   \n",
       "3            aaron-ramsey         0.0   178.0    76.0         Arsenal FC   \n",
       "4  abdelhamid-el-kaoutari         0.0   180.0    73.0    Montpellier HSC   \n",
       "\n",
       "  leagueCountry  games  victories   ties  defeats  goals  yellowCards  \\\n",
       "0       England  654.0      247.0  179.0    228.0    9.0         19.0   \n",
       "1       Germany  336.0      141.0   73.0    122.0   62.0         42.0   \n",
       "2       England  412.0      200.0   97.0    115.0   31.0         11.0   \n",
       "3       England  260.0      150.0   42.0     68.0   39.0         31.0   \n",
       "4        France  124.0       41.0   40.0     43.0    1.0          8.0   \n",
       "\n",
       "     YC_IAT    YR_IAT    RC_IAT    YC_EXP    YR_EXP   RC_EXP  gravity  \n",
       "0  1.953444  0.000000  0.000000  3.148124  0.000000  0.00000     19.0  \n",
       "1  3.505362  0.025894  0.000000  4.867461  0.025844  0.00000     73.0  \n",
       "2  0.643299  0.000000  0.000000  1.141167  0.000000  0.00000     11.0  \n",
       "3  4.248251  0.334684  0.000000  5.822391  0.336101  0.00000     62.0  \n",
       "4  0.770171  0.133874  0.523449  0.773432  0.134440  0.61693    202.0  "
      ]
     },
     "execution_count": 39,
     "metadata": {},
     "output_type": "execute_result"
    }
   ],
   "source": [
    "players.head()"
   ]
  },
  {
   "cell_type": "code",
   "execution_count": 55,
   "metadata": {
    "collapsed": false
   },
   "outputs": [
    {
     "data": {
      "text/plain": [
       "(1564, 16)"
      ]
     },
     "execution_count": 55,
     "metadata": {},
     "output_type": "execute_result"
    }
   ],
   "source": [
    "players.shape"
   ]
  },
  {
   "cell_type": "markdown",
   "metadata": {},
   "source": [
    "Encode *club* and *leagueCountry*"
   ]
  },
  {
   "cell_type": "code",
   "execution_count": 122,
   "metadata": {
    "collapsed": false
   },
   "outputs": [],
   "source": [
    "le.fit(players['club'])\n",
    "players['club'] = le.transform(players['club'])"
   ]
  },
  {
   "cell_type": "code",
   "execution_count": 123,
   "metadata": {
    "collapsed": false
   },
   "outputs": [],
   "source": [
    "le.fit(players['leagueCountry'])\n",
    "players['leagueCountry'] = le.transform(players['leagueCountry'])"
   ]
  },
  {
   "cell_type": "markdown",
   "metadata": {
    "collapsed": true
   },
   "source": [
    "## Drop unused columns"
   ]
  },
  {
   "cell_type": "markdown",
   "metadata": {
    "collapsed": true
   },
   "source": [
    "The columns that contain *object* is not needed to train machine learning algorithm. Therefore, we drop all *object* columns."
   ]
  },
  {
   "cell_type": "code",
   "execution_count": 40,
   "metadata": {
    "collapsed": false
   },
   "outputs": [
    {
     "data": {
      "text/plain": [
       "playerShort       object\n",
       "mean_rated       float64\n",
       "height           float64\n",
       "weight           float64\n",
       "club              object\n",
       "leagueCountry     object\n",
       "games            float64\n",
       "victories        float64\n",
       "ties             float64\n",
       "defeats          float64\n",
       "goals            float64\n",
       "yellowCards      float64\n",
       "YC_IAT           float64\n",
       "YR_IAT           float64\n",
       "RC_IAT           float64\n",
       "YC_EXP           float64\n",
       "YR_EXP           float64\n",
       "RC_EXP           float64\n",
       "gravity          float64\n",
       "dtype: object"
      ]
     },
     "execution_count": 40,
     "metadata": {},
     "output_type": "execute_result"
    }
   ],
   "source": [
    "players.dtypes"
   ]
  },
  {
   "cell_type": "code",
   "execution_count": 41,
   "metadata": {
    "collapsed": false
   },
   "outputs": [],
   "source": [
    "players = players.select_dtypes(exclude=[object])"
   ]
  },
  {
   "cell_type": "code",
   "execution_count": 42,
   "metadata": {
    "collapsed": false
   },
   "outputs": [
    {
     "data": {
      "text/plain": [
       "mean_rated     float64\n",
       "height         float64\n",
       "weight         float64\n",
       "games          float64\n",
       "victories      float64\n",
       "ties           float64\n",
       "defeats        float64\n",
       "goals          float64\n",
       "yellowCards    float64\n",
       "YC_IAT         float64\n",
       "YR_IAT         float64\n",
       "RC_IAT         float64\n",
       "YC_EXP         float64\n",
       "YR_EXP         float64\n",
       "RC_EXP         float64\n",
       "gravity        float64\n",
       "dtype: object"
      ]
     },
     "execution_count": 42,
     "metadata": {},
     "output_type": "execute_result"
    }
   ],
   "source": [
    "players.dtypes"
   ]
  },
  {
   "cell_type": "code",
   "execution_count": 70,
   "metadata": {
    "collapsed": false
   },
   "outputs": [
    {
     "data": {
      "text/plain": [
       "(1564, 17)"
      ]
     },
     "execution_count": 70,
     "metadata": {},
     "output_type": "execute_result"
    }
   ],
   "source": [
    "players.shape"
   ]
  },
  {
   "cell_type": "markdown",
   "metadata": {},
   "source": [
    "We store the final dataset which contains 1564 players."
   ]
  },
  {
   "cell_type": "code",
   "execution_count": 71,
   "metadata": {
    "collapsed": false
   },
   "outputs": [
    {
     "data": {
      "text/html": [
       "<div>\n",
       "<table border=\"1\" class=\"dataframe\">\n",
       "  <thead>\n",
       "    <tr style=\"text-align: right;\">\n",
       "      <th></th>\n",
       "      <th>mean_rated</th>\n",
       "      <th>height</th>\n",
       "      <th>weight</th>\n",
       "      <th>club</th>\n",
       "      <th>leagueCountry</th>\n",
       "      <th>games</th>\n",
       "      <th>victories</th>\n",
       "      <th>ties</th>\n",
       "      <th>defeats</th>\n",
       "      <th>goals</th>\n",
       "      <th>YC_IAT</th>\n",
       "      <th>YR_IAT</th>\n",
       "      <th>RC_IAT</th>\n",
       "      <th>YC_EXP</th>\n",
       "      <th>YR_EXP</th>\n",
       "      <th>RC_EXP</th>\n",
       "      <th>gravity</th>\n",
       "    </tr>\n",
       "  </thead>\n",
       "  <tbody>\n",
       "    <tr>\n",
       "      <th>0</th>\n",
       "      <td>1.0</td>\n",
       "      <td>182.0</td>\n",
       "      <td>71.0</td>\n",
       "      <td>33</td>\n",
       "      <td>0</td>\n",
       "      <td>654.0</td>\n",
       "      <td>247.0</td>\n",
       "      <td>179.0</td>\n",
       "      <td>228.0</td>\n",
       "      <td>9.0</td>\n",
       "      <td>1.953444</td>\n",
       "      <td>0.000000</td>\n",
       "      <td>0.000000</td>\n",
       "      <td>3.148124</td>\n",
       "      <td>0.000000</td>\n",
       "      <td>0.00000</td>\n",
       "      <td>19.0</td>\n",
       "    </tr>\n",
       "    <tr>\n",
       "      <th>1</th>\n",
       "      <td>1.0</td>\n",
       "      <td>183.0</td>\n",
       "      <td>73.0</td>\n",
       "      <td>90</td>\n",
       "      <td>2</td>\n",
       "      <td>336.0</td>\n",
       "      <td>141.0</td>\n",
       "      <td>73.0</td>\n",
       "      <td>122.0</td>\n",
       "      <td>62.0</td>\n",
       "      <td>3.505362</td>\n",
       "      <td>0.025894</td>\n",
       "      <td>0.000000</td>\n",
       "      <td>4.867461</td>\n",
       "      <td>0.025844</td>\n",
       "      <td>0.00000</td>\n",
       "      <td>73.0</td>\n",
       "    </tr>\n",
       "    <tr>\n",
       "      <th>2</th>\n",
       "      <td>2.0</td>\n",
       "      <td>165.0</td>\n",
       "      <td>63.0</td>\n",
       "      <td>82</td>\n",
       "      <td>0</td>\n",
       "      <td>412.0</td>\n",
       "      <td>200.0</td>\n",
       "      <td>97.0</td>\n",
       "      <td>115.0</td>\n",
       "      <td>31.0</td>\n",
       "      <td>0.643299</td>\n",
       "      <td>0.000000</td>\n",
       "      <td>0.000000</td>\n",
       "      <td>1.141167</td>\n",
       "      <td>0.000000</td>\n",
       "      <td>0.00000</td>\n",
       "      <td>11.0</td>\n",
       "    </tr>\n",
       "    <tr>\n",
       "      <th>3</th>\n",
       "      <td>0.0</td>\n",
       "      <td>178.0</td>\n",
       "      <td>76.0</td>\n",
       "      <td>6</td>\n",
       "      <td>0</td>\n",
       "      <td>260.0</td>\n",
       "      <td>150.0</td>\n",
       "      <td>42.0</td>\n",
       "      <td>68.0</td>\n",
       "      <td>39.0</td>\n",
       "      <td>4.248251</td>\n",
       "      <td>0.334684</td>\n",
       "      <td>0.000000</td>\n",
       "      <td>5.822391</td>\n",
       "      <td>0.336101</td>\n",
       "      <td>0.00000</td>\n",
       "      <td>62.0</td>\n",
       "    </tr>\n",
       "    <tr>\n",
       "      <th>4</th>\n",
       "      <td>2.0</td>\n",
       "      <td>180.0</td>\n",
       "      <td>73.0</td>\n",
       "      <td>50</td>\n",
       "      <td>1</td>\n",
       "      <td>124.0</td>\n",
       "      <td>41.0</td>\n",
       "      <td>40.0</td>\n",
       "      <td>43.0</td>\n",
       "      <td>1.0</td>\n",
       "      <td>0.770171</td>\n",
       "      <td>0.133874</td>\n",
       "      <td>0.523449</td>\n",
       "      <td>0.773432</td>\n",
       "      <td>0.134440</td>\n",
       "      <td>0.61693</td>\n",
       "      <td>202.0</td>\n",
       "    </tr>\n",
       "  </tbody>\n",
       "</table>\n",
       "</div>"
      ],
      "text/plain": [
       "   mean_rated  height  weight  club  leagueCountry  games  victories   ties  \\\n",
       "0         1.0   182.0    71.0    33              0  654.0      247.0  179.0   \n",
       "1         1.0   183.0    73.0    90              2  336.0      141.0   73.0   \n",
       "2         2.0   165.0    63.0    82              0  412.0      200.0   97.0   \n",
       "3         0.0   178.0    76.0     6              0  260.0      150.0   42.0   \n",
       "4         2.0   180.0    73.0    50              1  124.0       41.0   40.0   \n",
       "\n",
       "   defeats  goals    YC_IAT    YR_IAT    RC_IAT    YC_EXP    YR_EXP   RC_EXP  \\\n",
       "0    228.0    9.0  1.953444  0.000000  0.000000  3.148124  0.000000  0.00000   \n",
       "1    122.0   62.0  3.505362  0.025894  0.000000  4.867461  0.025844  0.00000   \n",
       "2    115.0   31.0  0.643299  0.000000  0.000000  1.141167  0.000000  0.00000   \n",
       "3     68.0   39.0  4.248251  0.334684  0.000000  5.822391  0.336101  0.00000   \n",
       "4     43.0    1.0  0.770171  0.133874  0.523449  0.773432  0.134440  0.61693   \n",
       "\n",
       "   gravity  \n",
       "0     19.0  \n",
       "1     73.0  \n",
       "2     11.0  \n",
       "3     62.0  \n",
       "4    202.0  "
      ]
     },
     "execution_count": 71,
     "metadata": {},
     "output_type": "execute_result"
    }
   ],
   "source": [
    "players.head()"
   ]
  },
  {
   "cell_type": "code",
   "execution_count": 101,
   "metadata": {
    "collapsed": false
   },
   "outputs": [
    {
     "data": {
      "text/html": [
       "<div>\n",
       "<table border=\"1\" class=\"dataframe\">\n",
       "  <thead>\n",
       "    <tr style=\"text-align: right;\">\n",
       "      <th></th>\n",
       "      <th></th>\n",
       "      <th>RC_EXP</th>\n",
       "      <th>RC_IAT</th>\n",
       "      <th>YC_EXP</th>\n",
       "      <th>YC_IAT</th>\n",
       "      <th>YR_EXP</th>\n",
       "      <th>YR_IAT</th>\n",
       "      <th>club</th>\n",
       "      <th>defeats</th>\n",
       "      <th>games</th>\n",
       "      <th>goals</th>\n",
       "      <th>height</th>\n",
       "      <th>leagueCountry</th>\n",
       "      <th>ties</th>\n",
       "      <th>victories</th>\n",
       "      <th>weight</th>\n",
       "    </tr>\n",
       "    <tr>\n",
       "      <th>mean_rated</th>\n",
       "      <th></th>\n",
       "      <th></th>\n",
       "      <th></th>\n",
       "      <th></th>\n",
       "      <th></th>\n",
       "      <th></th>\n",
       "      <th></th>\n",
       "      <th></th>\n",
       "      <th></th>\n",
       "      <th></th>\n",
       "      <th></th>\n",
       "      <th></th>\n",
       "      <th></th>\n",
       "      <th></th>\n",
       "      <th></th>\n",
       "      <th></th>\n",
       "    </tr>\n",
       "  </thead>\n",
       "  <tbody>\n",
       "    <tr>\n",
       "      <th rowspan=\"8\" valign=\"top\">0.0</th>\n",
       "      <th>count</th>\n",
       "      <td>418.000000</td>\n",
       "      <td>418.000000</td>\n",
       "      <td>418.000000</td>\n",
       "      <td>418.000000</td>\n",
       "      <td>418.000000</td>\n",
       "      <td>418.000000</td>\n",
       "      <td>418.000000</td>\n",
       "      <td>418.000000</td>\n",
       "      <td>418.000000</td>\n",
       "      <td>418.000000</td>\n",
       "      <td>418.000000</td>\n",
       "      <td>418.000000</td>\n",
       "      <td>418.000000</td>\n",
       "      <td>418.000000</td>\n",
       "      <td>418.000000</td>\n",
       "    </tr>\n",
       "    <tr>\n",
       "      <th>mean</th>\n",
       "      <td>0.141497</td>\n",
       "      <td>0.109873</td>\n",
       "      <td>4.564526</td>\n",
       "      <td>3.436539</td>\n",
       "      <td>0.133998</td>\n",
       "      <td>0.104590</td>\n",
       "      <td>43.102871</td>\n",
       "      <td>74.287081</td>\n",
       "      <td>237.452153</td>\n",
       "      <td>27.473684</td>\n",
       "      <td>182.968900</td>\n",
       "      <td>1.674641</td>\n",
       "      <td>55.643541</td>\n",
       "      <td>107.521531</td>\n",
       "      <td>76.578947</td>\n",
       "    </tr>\n",
       "    <tr>\n",
       "      <th>std</th>\n",
       "      <td>0.259435</td>\n",
       "      <td>0.184043</td>\n",
       "      <td>3.228992</td>\n",
       "      <td>2.200510</td>\n",
       "      <td>0.244707</td>\n",
       "      <td>0.171452</td>\n",
       "      <td>28.247305</td>\n",
       "      <td>40.350252</td>\n",
       "      <td>142.579218</td>\n",
       "      <td>39.478926</td>\n",
       "      <td>6.796211</td>\n",
       "      <td>1.074839</td>\n",
       "      <td>33.225337</td>\n",
       "      <td>79.139168</td>\n",
       "      <td>7.259806</td>\n",
       "    </tr>\n",
       "    <tr>\n",
       "      <th>min</th>\n",
       "      <td>-0.070352</td>\n",
       "      <td>0.000000</td>\n",
       "      <td>0.000000</td>\n",
       "      <td>0.000000</td>\n",
       "      <td>-0.405956</td>\n",
       "      <td>0.000000</td>\n",
       "      <td>0.000000</td>\n",
       "      <td>4.000000</td>\n",
       "      <td>8.000000</td>\n",
       "      <td>0.000000</td>\n",
       "      <td>163.000000</td>\n",
       "      <td>0.000000</td>\n",
       "      <td>0.000000</td>\n",
       "      <td>0.000000</td>\n",
       "      <td>58.000000</td>\n",
       "    </tr>\n",
       "    <tr>\n",
       "      <th>25%</th>\n",
       "      <td>0.000000</td>\n",
       "      <td>0.000000</td>\n",
       "      <td>2.202610</td>\n",
       "      <td>1.827929</td>\n",
       "      <td>0.000000</td>\n",
       "      <td>0.000000</td>\n",
       "      <td>17.000000</td>\n",
       "      <td>44.250000</td>\n",
       "      <td>131.000000</td>\n",
       "      <td>4.000000</td>\n",
       "      <td>178.000000</td>\n",
       "      <td>1.000000</td>\n",
       "      <td>31.000000</td>\n",
       "      <td>56.000000</td>\n",
       "      <td>72.000000</td>\n",
       "    </tr>\n",
       "    <tr>\n",
       "      <th>50%</th>\n",
       "      <td>0.000000</td>\n",
       "      <td>0.000000</td>\n",
       "      <td>3.827590</td>\n",
       "      <td>3.036346</td>\n",
       "      <td>0.024921</td>\n",
       "      <td>0.024970</td>\n",
       "      <td>37.000000</td>\n",
       "      <td>69.000000</td>\n",
       "      <td>216.000000</td>\n",
       "      <td>15.000000</td>\n",
       "      <td>183.500000</td>\n",
       "      <td>2.000000</td>\n",
       "      <td>52.000000</td>\n",
       "      <td>86.500000</td>\n",
       "      <td>77.000000</td>\n",
       "    </tr>\n",
       "    <tr>\n",
       "      <th>75%</th>\n",
       "      <td>0.194639</td>\n",
       "      <td>0.168314</td>\n",
       "      <td>6.172659</td>\n",
       "      <td>4.769170</td>\n",
       "      <td>0.168050</td>\n",
       "      <td>0.155967</td>\n",
       "      <td>67.000000</td>\n",
       "      <td>98.000000</td>\n",
       "      <td>316.750000</td>\n",
       "      <td>34.000000</td>\n",
       "      <td>188.000000</td>\n",
       "      <td>2.000000</td>\n",
       "      <td>73.000000</td>\n",
       "      <td>137.000000</td>\n",
       "      <td>82.000000</td>\n",
       "    </tr>\n",
       "    <tr>\n",
       "      <th>max</th>\n",
       "      <td>1.594520</td>\n",
       "      <td>1.066477</td>\n",
       "      <td>18.545938</td>\n",
       "      <td>12.885643</td>\n",
       "      <td>2.311302</td>\n",
       "      <td>1.594674</td>\n",
       "      <td>95.000000</td>\n",
       "      <td>216.000000</td>\n",
       "      <td>816.000000</td>\n",
       "      <td>386.000000</td>\n",
       "      <td>202.000000</td>\n",
       "      <td>3.000000</td>\n",
       "      <td>180.000000</td>\n",
       "      <td>527.000000</td>\n",
       "      <td>100.000000</td>\n",
       "    </tr>\n",
       "    <tr>\n",
       "      <th rowspan=\"8\" valign=\"top\">1.0</th>\n",
       "      <th>count</th>\n",
       "      <td>225.000000</td>\n",
       "      <td>225.000000</td>\n",
       "      <td>225.000000</td>\n",
       "      <td>225.000000</td>\n",
       "      <td>225.000000</td>\n",
       "      <td>225.000000</td>\n",
       "      <td>225.000000</td>\n",
       "      <td>225.000000</td>\n",
       "      <td>225.000000</td>\n",
       "      <td>225.000000</td>\n",
       "      <td>225.000000</td>\n",
       "      <td>225.000000</td>\n",
       "      <td>225.000000</td>\n",
       "      <td>225.000000</td>\n",
       "      <td>225.000000</td>\n",
       "    </tr>\n",
       "    <tr>\n",
       "      <th>mean</th>\n",
       "      <td>0.130965</td>\n",
       "      <td>0.096407</td>\n",
       "      <td>4.662735</td>\n",
       "      <td>3.370902</td>\n",
       "      <td>0.137048</td>\n",
       "      <td>0.097772</td>\n",
       "      <td>46.537778</td>\n",
       "      <td>75.351111</td>\n",
       "      <td>240.244444</td>\n",
       "      <td>30.333333</td>\n",
       "      <td>182.968889</td>\n",
       "      <td>1.675556</td>\n",
       "      <td>57.284444</td>\n",
       "      <td>107.608889</td>\n",
       "      <td>76.240000</td>\n",
       "    </tr>\n",
       "    <tr>\n",
       "      <th>std</th>\n",
       "      <td>0.239336</td>\n",
       "      <td>0.160707</td>\n",
       "      <td>3.384012</td>\n",
       "      <td>2.202233</td>\n",
       "      <td>0.288194</td>\n",
       "      <td>0.179302</td>\n",
       "      <td>29.198056</td>\n",
       "      <td>43.353163</td>\n",
       "      <td>144.978471</td>\n",
       "      <td>47.445175</td>\n",
       "      <td>6.582845</td>\n",
       "      <td>1.148204</td>\n",
       "      <td>35.015162</td>\n",
       "      <td>76.367345</td>\n",
       "      <td>6.715201</td>\n",
       "    </tr>\n",
       "    <tr>\n",
       "      <th>min</th>\n",
       "      <td>-0.072218</td>\n",
       "      <td>0.000000</td>\n",
       "      <td>0.000000</td>\n",
       "      <td>0.000000</td>\n",
       "      <td>0.000000</td>\n",
       "      <td>0.000000</td>\n",
       "      <td>0.000000</td>\n",
       "      <td>7.000000</td>\n",
       "      <td>15.000000</td>\n",
       "      <td>0.000000</td>\n",
       "      <td>169.000000</td>\n",
       "      <td>0.000000</td>\n",
       "      <td>2.000000</td>\n",
       "      <td>3.000000</td>\n",
       "      <td>60.000000</td>\n",
       "    </tr>\n",
       "    <tr>\n",
       "      <th>25%</th>\n",
       "      <td>0.000000</td>\n",
       "      <td>0.000000</td>\n",
       "      <td>2.407763</td>\n",
       "      <td>1.830093</td>\n",
       "      <td>0.000000</td>\n",
       "      <td>0.000000</td>\n",
       "      <td>22.000000</td>\n",
       "      <td>46.000000</td>\n",
       "      <td>136.000000</td>\n",
       "      <td>3.000000</td>\n",
       "      <td>179.000000</td>\n",
       "      <td>0.000000</td>\n",
       "      <td>32.000000</td>\n",
       "      <td>52.000000</td>\n",
       "      <td>71.000000</td>\n",
       "    </tr>\n",
       "    <tr>\n",
       "      <th>50%</th>\n",
       "      <td>0.000000</td>\n",
       "      <td>0.000000</td>\n",
       "      <td>3.993863</td>\n",
       "      <td>3.084239</td>\n",
       "      <td>0.000000</td>\n",
       "      <td>0.000000</td>\n",
       "      <td>44.000000</td>\n",
       "      <td>69.000000</td>\n",
       "      <td>204.000000</td>\n",
       "      <td>15.000000</td>\n",
       "      <td>183.000000</td>\n",
       "      <td>2.000000</td>\n",
       "      <td>50.000000</td>\n",
       "      <td>85.000000</td>\n",
       "      <td>76.000000</td>\n",
       "    </tr>\n",
       "    <tr>\n",
       "      <th>75%</th>\n",
       "      <td>0.167421</td>\n",
       "      <td>0.125640</td>\n",
       "      <td>6.059075</td>\n",
       "      <td>4.507017</td>\n",
       "      <td>0.167983</td>\n",
       "      <td>0.145030</td>\n",
       "      <td>74.000000</td>\n",
       "      <td>97.000000</td>\n",
       "      <td>322.000000</td>\n",
       "      <td>34.000000</td>\n",
       "      <td>187.000000</td>\n",
       "      <td>3.000000</td>\n",
       "      <td>78.000000</td>\n",
       "      <td>147.000000</td>\n",
       "      <td>81.000000</td>\n",
       "    </tr>\n",
       "    <tr>\n",
       "      <th>max</th>\n",
       "      <td>1.282553</td>\n",
       "      <td>0.857862</td>\n",
       "      <td>20.381099</td>\n",
       "      <td>15.051231</td>\n",
       "      <td>2.634811</td>\n",
       "      <td>1.707705</td>\n",
       "      <td>95.000000</td>\n",
       "      <td>228.000000</td>\n",
       "      <td>914.000000</td>\n",
       "      <td>277.000000</td>\n",
       "      <td>203.000000</td>\n",
       "      <td>3.000000</td>\n",
       "      <td>197.000000</td>\n",
       "      <td>523.000000</td>\n",
       "      <td>96.000000</td>\n",
       "    </tr>\n",
       "    <tr>\n",
       "      <th rowspan=\"8\" valign=\"top\">2.0</th>\n",
       "      <th>count</th>\n",
       "      <td>466.000000</td>\n",
       "      <td>466.000000</td>\n",
       "      <td>466.000000</td>\n",
       "      <td>466.000000</td>\n",
       "      <td>466.000000</td>\n",
       "      <td>466.000000</td>\n",
       "      <td>466.000000</td>\n",
       "      <td>466.000000</td>\n",
       "      <td>466.000000</td>\n",
       "      <td>466.000000</td>\n",
       "      <td>466.000000</td>\n",
       "      <td>466.000000</td>\n",
       "      <td>466.000000</td>\n",
       "      <td>466.000000</td>\n",
       "      <td>466.000000</td>\n",
       "    </tr>\n",
       "    <tr>\n",
       "      <th>mean</th>\n",
       "      <td>0.175623</td>\n",
       "      <td>0.122235</td>\n",
       "      <td>5.402253</td>\n",
       "      <td>3.879515</td>\n",
       "      <td>0.181239</td>\n",
       "      <td>0.130752</td>\n",
       "      <td>46.240343</td>\n",
       "      <td>80.133047</td>\n",
       "      <td>257.826180</td>\n",
       "      <td>28.714592</td>\n",
       "      <td>181.309013</td>\n",
       "      <td>1.776824</td>\n",
       "      <td>61.484979</td>\n",
       "      <td>116.208155</td>\n",
       "      <td>75.787554</td>\n",
       "    </tr>\n",
       "    <tr>\n",
       "      <th>std</th>\n",
       "      <td>0.303390</td>\n",
       "      <td>0.197354</td>\n",
       "      <td>4.145356</td>\n",
       "      <td>2.768329</td>\n",
       "      <td>0.278935</td>\n",
       "      <td>0.187784</td>\n",
       "      <td>27.308712</td>\n",
       "      <td>41.476247</td>\n",
       "      <td>145.063641</td>\n",
       "      <td>46.247512</td>\n",
       "      <td>6.979771</td>\n",
       "      <td>1.117591</td>\n",
       "      <td>34.238330</td>\n",
       "      <td>82.109222</td>\n",
       "      <td>7.128010</td>\n",
       "    </tr>\n",
       "    <tr>\n",
       "      <th>min</th>\n",
       "      <td>0.000000</td>\n",
       "      <td>0.000000</td>\n",
       "      <td>0.000000</td>\n",
       "      <td>0.000000</td>\n",
       "      <td>-0.012187</td>\n",
       "      <td>0.000000</td>\n",
       "      <td>0.000000</td>\n",
       "      <td>0.000000</td>\n",
       "      <td>1.000000</td>\n",
       "      <td>0.000000</td>\n",
       "      <td>161.000000</td>\n",
       "      <td>0.000000</td>\n",
       "      <td>0.000000</td>\n",
       "      <td>1.000000</td>\n",
       "      <td>59.000000</td>\n",
       "    </tr>\n",
       "    <tr>\n",
       "      <th>25%</th>\n",
       "      <td>0.000000</td>\n",
       "      <td>0.000000</td>\n",
       "      <td>2.332697</td>\n",
       "      <td>1.906912</td>\n",
       "      <td>0.000000</td>\n",
       "      <td>0.000000</td>\n",
       "      <td>24.000000</td>\n",
       "      <td>50.000000</td>\n",
       "      <td>151.000000</td>\n",
       "      <td>4.000000</td>\n",
       "      <td>176.000000</td>\n",
       "      <td>1.000000</td>\n",
       "      <td>34.000000</td>\n",
       "      <td>60.000000</td>\n",
       "      <td>71.000000</td>\n",
       "    </tr>\n",
       "    <tr>\n",
       "      <th>50%</th>\n",
       "      <td>0.024002</td>\n",
       "      <td>0.023512</td>\n",
       "      <td>4.639686</td>\n",
       "      <td>3.355610</td>\n",
       "      <td>0.042017</td>\n",
       "      <td>0.037937</td>\n",
       "      <td>47.000000</td>\n",
       "      <td>74.000000</td>\n",
       "      <td>228.000000</td>\n",
       "      <td>12.000000</td>\n",
       "      <td>181.500000</td>\n",
       "      <td>2.000000</td>\n",
       "      <td>55.500000</td>\n",
       "      <td>94.000000</td>\n",
       "      <td>75.000000</td>\n",
       "    </tr>\n",
       "    <tr>\n",
       "      <th>75%</th>\n",
       "      <td>0.219617</td>\n",
       "      <td>0.163345</td>\n",
       "      <td>7.231009</td>\n",
       "      <td>5.106513</td>\n",
       "      <td>0.262467</td>\n",
       "      <td>0.184947</td>\n",
       "      <td>68.000000</td>\n",
       "      <td>107.000000</td>\n",
       "      <td>345.000000</td>\n",
       "      <td>36.000000</td>\n",
       "      <td>186.000000</td>\n",
       "      <td>3.000000</td>\n",
       "      <td>85.750000</td>\n",
       "      <td>151.500000</td>\n",
       "      <td>80.000000</td>\n",
       "    </tr>\n",
       "    <tr>\n",
       "      <th>max</th>\n",
       "      <td>2.024241</td>\n",
       "      <td>1.067990</td>\n",
       "      <td>25.385510</td>\n",
       "      <td>19.076640</td>\n",
       "      <td>1.405743</td>\n",
       "      <td>0.944776</td>\n",
       "      <td>95.000000</td>\n",
       "      <td>258.000000</td>\n",
       "      <td>758.000000</td>\n",
       "      <td>420.000000</td>\n",
       "      <td>199.000000</td>\n",
       "      <td>3.000000</td>\n",
       "      <td>183.000000</td>\n",
       "      <td>435.000000</td>\n",
       "      <td>100.000000</td>\n",
       "    </tr>\n",
       "    <tr>\n",
       "      <th rowspan=\"6\" valign=\"top\">3.0</th>\n",
       "      <th>count</th>\n",
       "      <td>77.000000</td>\n",
       "      <td>77.000000</td>\n",
       "      <td>77.000000</td>\n",
       "      <td>77.000000</td>\n",
       "      <td>77.000000</td>\n",
       "      <td>77.000000</td>\n",
       "      <td>77.000000</td>\n",
       "      <td>77.000000</td>\n",
       "      <td>77.000000</td>\n",
       "      <td>77.000000</td>\n",
       "      <td>77.000000</td>\n",
       "      <td>77.000000</td>\n",
       "      <td>77.000000</td>\n",
       "      <td>77.000000</td>\n",
       "      <td>77.000000</td>\n",
       "    </tr>\n",
       "    <tr>\n",
       "      <th>mean</th>\n",
       "      <td>0.220995</td>\n",
       "      <td>0.136248</td>\n",
       "      <td>6.027893</td>\n",
       "      <td>4.055082</td>\n",
       "      <td>0.192458</td>\n",
       "      <td>0.127786</td>\n",
       "      <td>45.935065</td>\n",
       "      <td>68.272727</td>\n",
       "      <td>206.753247</td>\n",
       "      <td>20.740260</td>\n",
       "      <td>181.428571</td>\n",
       "      <td>2.376623</td>\n",
       "      <td>49.038961</td>\n",
       "      <td>89.441558</td>\n",
       "      <td>76.220779</td>\n",
       "    </tr>\n",
       "    <tr>\n",
       "      <th>std</th>\n",
       "      <td>0.348953</td>\n",
       "      <td>0.199851</td>\n",
       "      <td>4.262897</td>\n",
       "      <td>2.746217</td>\n",
       "      <td>0.304050</td>\n",
       "      <td>0.201271</td>\n",
       "      <td>25.753558</td>\n",
       "      <td>37.888561</td>\n",
       "      <td>121.765214</td>\n",
       "      <td>31.818731</td>\n",
       "      <td>6.432705</td>\n",
       "      <td>1.013578</td>\n",
       "      <td>29.729678</td>\n",
       "      <td>62.941806</td>\n",
       "      <td>6.618601</td>\n",
       "    </tr>\n",
       "    <tr>\n",
       "      <th>min</th>\n",
       "      <td>0.000000</td>\n",
       "      <td>0.000000</td>\n",
       "      <td>0.044556</td>\n",
       "      <td>0.040836</td>\n",
       "      <td>0.000000</td>\n",
       "      <td>0.000000</td>\n",
       "      <td>2.000000</td>\n",
       "      <td>2.000000</td>\n",
       "      <td>5.000000</td>\n",
       "      <td>0.000000</td>\n",
       "      <td>168.000000</td>\n",
       "      <td>0.000000</td>\n",
       "      <td>2.000000</td>\n",
       "      <td>1.000000</td>\n",
       "      <td>59.000000</td>\n",
       "    </tr>\n",
       "    <tr>\n",
       "      <th>25%</th>\n",
       "      <td>0.000000</td>\n",
       "      <td>0.000000</td>\n",
       "      <td>3.056765</td>\n",
       "      <td>2.119522</td>\n",
       "      <td>0.000000</td>\n",
       "      <td>0.000000</td>\n",
       "      <td>24.000000</td>\n",
       "      <td>44.000000</td>\n",
       "      <td>129.000000</td>\n",
       "      <td>2.000000</td>\n",
       "      <td>177.000000</td>\n",
       "      <td>2.000000</td>\n",
       "      <td>28.000000</td>\n",
       "      <td>51.000000</td>\n",
       "      <td>72.000000</td>\n",
       "    </tr>\n",
       "    <tr>\n",
       "      <th>50%</th>\n",
       "      <td>0.067193</td>\n",
       "      <td>0.034754</td>\n",
       "      <td>5.340648</td>\n",
       "      <td>3.824656</td>\n",
       "      <td>0.084042</td>\n",
       "      <td>0.053095</td>\n",
       "      <td>36.000000</td>\n",
       "      <td>63.000000</td>\n",
       "      <td>192.000000</td>\n",
       "      <td>10.000000</td>\n",
       "      <td>181.000000</td>\n",
       "      <td>3.000000</td>\n",
       "      <td>42.000000</td>\n",
       "      <td>73.000000</td>\n",
       "      <td>76.000000</td>\n",
       "    </tr>\n",
       "    <tr>\n",
       "      <th>...</th>\n",
       "      <th>...</th>\n",
       "      <td>...</td>\n",
       "      <td>...</td>\n",
       "      <td>...</td>\n",
       "      <td>...</td>\n",
       "      <td>...</td>\n",
       "      <td>...</td>\n",
       "      <td>...</td>\n",
       "      <td>...</td>\n",
       "      <td>...</td>\n",
       "      <td>...</td>\n",
       "      <td>...</td>\n",
       "      <td>...</td>\n",
       "      <td>...</td>\n",
       "      <td>...</td>\n",
       "      <td>...</td>\n",
       "    </tr>\n",
       "    <tr>\n",
       "      <th rowspan=\"6\" valign=\"top\">5.0</th>\n",
       "      <th>std</th>\n",
       "      <td>0.354765</td>\n",
       "      <td>0.132588</td>\n",
       "      <td>2.540696</td>\n",
       "      <td>1.747478</td>\n",
       "      <td>0.187702</td>\n",
       "      <td>0.179260</td>\n",
       "      <td>28.033259</td>\n",
       "      <td>29.446054</td>\n",
       "      <td>123.188380</td>\n",
       "      <td>31.368804</td>\n",
       "      <td>5.955485</td>\n",
       "      <td>1.136515</td>\n",
       "      <td>29.541092</td>\n",
       "      <td>68.573451</td>\n",
       "      <td>6.623964</td>\n",
       "    </tr>\n",
       "    <tr>\n",
       "      <th>min</th>\n",
       "      <td>-1.314815</td>\n",
       "      <td>0.000000</td>\n",
       "      <td>0.084025</td>\n",
       "      <td>0.083671</td>\n",
       "      <td>0.000000</td>\n",
       "      <td>0.000000</td>\n",
       "      <td>1.000000</td>\n",
       "      <td>12.000000</td>\n",
       "      <td>29.000000</td>\n",
       "      <td>0.000000</td>\n",
       "      <td>173.000000</td>\n",
       "      <td>0.000000</td>\n",
       "      <td>11.000000</td>\n",
       "      <td>4.000000</td>\n",
       "      <td>65.000000</td>\n",
       "    </tr>\n",
       "    <tr>\n",
       "      <th>25%</th>\n",
       "      <td>0.000000</td>\n",
       "      <td>0.000000</td>\n",
       "      <td>1.941479</td>\n",
       "      <td>1.556849</td>\n",
       "      <td>0.000000</td>\n",
       "      <td>0.000000</td>\n",
       "      <td>33.000000</td>\n",
       "      <td>40.000000</td>\n",
       "      <td>106.000000</td>\n",
       "      <td>4.000000</td>\n",
       "      <td>179.000000</td>\n",
       "      <td>0.000000</td>\n",
       "      <td>25.000000</td>\n",
       "      <td>40.000000</td>\n",
       "      <td>70.000000</td>\n",
       "    </tr>\n",
       "    <tr>\n",
       "      <th>50%</th>\n",
       "      <td>0.000000</td>\n",
       "      <td>0.000000</td>\n",
       "      <td>3.101414</td>\n",
       "      <td>2.542073</td>\n",
       "      <td>0.000000</td>\n",
       "      <td>0.000000</td>\n",
       "      <td>52.000000</td>\n",
       "      <td>65.000000</td>\n",
       "      <td>187.000000</td>\n",
       "      <td>12.000000</td>\n",
       "      <td>181.000000</td>\n",
       "      <td>1.000000</td>\n",
       "      <td>46.000000</td>\n",
       "      <td>64.000000</td>\n",
       "      <td>74.000000</td>\n",
       "    </tr>\n",
       "    <tr>\n",
       "      <th>75%</th>\n",
       "      <td>0.178223</td>\n",
       "      <td>0.157157</td>\n",
       "      <td>5.724189</td>\n",
       "      <td>4.103748</td>\n",
       "      <td>0.053328</td>\n",
       "      <td>0.041106</td>\n",
       "      <td>77.000000</td>\n",
       "      <td>80.000000</td>\n",
       "      <td>259.000000</td>\n",
       "      <td>42.000000</td>\n",
       "      <td>185.000000</td>\n",
       "      <td>2.000000</td>\n",
       "      <td>64.000000</td>\n",
       "      <td>114.000000</td>\n",
       "      <td>80.000000</td>\n",
       "    </tr>\n",
       "    <tr>\n",
       "      <th>max</th>\n",
       "      <td>1.263648</td>\n",
       "      <td>0.444844</td>\n",
       "      <td>9.315152</td>\n",
       "      <td>6.821966</td>\n",
       "      <td>0.730240</td>\n",
       "      <td>0.672223</td>\n",
       "      <td>92.000000</td>\n",
       "      <td>129.000000</td>\n",
       "      <td>604.000000</td>\n",
       "      <td>107.000000</td>\n",
       "      <td>198.000000</td>\n",
       "      <td>3.000000</td>\n",
       "      <td>137.000000</td>\n",
       "      <td>338.000000</td>\n",
       "      <td>89.000000</td>\n",
       "    </tr>\n",
       "    <tr>\n",
       "      <th rowspan=\"8\" valign=\"top\">6.0</th>\n",
       "      <th>count</th>\n",
       "      <td>100.000000</td>\n",
       "      <td>100.000000</td>\n",
       "      <td>100.000000</td>\n",
       "      <td>100.000000</td>\n",
       "      <td>100.000000</td>\n",
       "      <td>100.000000</td>\n",
       "      <td>100.000000</td>\n",
       "      <td>100.000000</td>\n",
       "      <td>100.000000</td>\n",
       "      <td>100.000000</td>\n",
       "      <td>100.000000</td>\n",
       "      <td>100.000000</td>\n",
       "      <td>100.000000</td>\n",
       "      <td>100.000000</td>\n",
       "      <td>100.000000</td>\n",
       "    </tr>\n",
       "    <tr>\n",
       "      <th>mean</th>\n",
       "      <td>0.128537</td>\n",
       "      <td>0.097000</td>\n",
       "      <td>3.875366</td>\n",
       "      <td>2.980005</td>\n",
       "      <td>0.142039</td>\n",
       "      <td>0.120548</td>\n",
       "      <td>48.780000</td>\n",
       "      <td>63.680000</td>\n",
       "      <td>206.520000</td>\n",
       "      <td>27.380000</td>\n",
       "      <td>180.850000</td>\n",
       "      <td>1.180000</td>\n",
       "      <td>50.560000</td>\n",
       "      <td>92.280000</td>\n",
       "      <td>75.490000</td>\n",
       "    </tr>\n",
       "    <tr>\n",
       "      <th>std</th>\n",
       "      <td>0.254653</td>\n",
       "      <td>0.160428</td>\n",
       "      <td>2.725976</td>\n",
       "      <td>1.902202</td>\n",
       "      <td>0.235054</td>\n",
       "      <td>0.193246</td>\n",
       "      <td>23.390225</td>\n",
       "      <td>38.528195</td>\n",
       "      <td>132.140764</td>\n",
       "      <td>37.761019</td>\n",
       "      <td>6.470407</td>\n",
       "      <td>0.978352</td>\n",
       "      <td>32.690257</td>\n",
       "      <td>69.481351</td>\n",
       "      <td>6.756209</td>\n",
       "    </tr>\n",
       "    <tr>\n",
       "      <th>min</th>\n",
       "      <td>0.000000</td>\n",
       "      <td>0.000000</td>\n",
       "      <td>0.000000</td>\n",
       "      <td>0.000000</td>\n",
       "      <td>-0.077501</td>\n",
       "      <td>0.000000</td>\n",
       "      <td>4.000000</td>\n",
       "      <td>0.000000</td>\n",
       "      <td>1.000000</td>\n",
       "      <td>0.000000</td>\n",
       "      <td>168.000000</td>\n",
       "      <td>0.000000</td>\n",
       "      <td>0.000000</td>\n",
       "      <td>0.000000</td>\n",
       "      <td>62.000000</td>\n",
       "    </tr>\n",
       "    <tr>\n",
       "      <th>25%</th>\n",
       "      <td>0.000000</td>\n",
       "      <td>0.000000</td>\n",
       "      <td>1.733859</td>\n",
       "      <td>1.462173</td>\n",
       "      <td>0.000000</td>\n",
       "      <td>0.000000</td>\n",
       "      <td>34.500000</td>\n",
       "      <td>43.750000</td>\n",
       "      <td>120.000000</td>\n",
       "      <td>3.000000</td>\n",
       "      <td>176.000000</td>\n",
       "      <td>0.000000</td>\n",
       "      <td>26.750000</td>\n",
       "      <td>42.000000</td>\n",
       "      <td>70.750000</td>\n",
       "    </tr>\n",
       "    <tr>\n",
       "      <th>50%</th>\n",
       "      <td>0.000000</td>\n",
       "      <td>0.000000</td>\n",
       "      <td>3.418774</td>\n",
       "      <td>2.731381</td>\n",
       "      <td>0.000000</td>\n",
       "      <td>0.000000</td>\n",
       "      <td>48.000000</td>\n",
       "      <td>62.000000</td>\n",
       "      <td>200.000000</td>\n",
       "      <td>12.500000</td>\n",
       "      <td>180.000000</td>\n",
       "      <td>1.000000</td>\n",
       "      <td>48.500000</td>\n",
       "      <td>81.500000</td>\n",
       "      <td>75.000000</td>\n",
       "    </tr>\n",
       "    <tr>\n",
       "      <th>75%</th>\n",
       "      <td>0.117638</td>\n",
       "      <td>0.095253</td>\n",
       "      <td>5.561247</td>\n",
       "      <td>4.281136</td>\n",
       "      <td>0.196084</td>\n",
       "      <td>0.167342</td>\n",
       "      <td>64.500000</td>\n",
       "      <td>82.000000</td>\n",
       "      <td>267.750000</td>\n",
       "      <td>36.500000</td>\n",
       "      <td>186.000000</td>\n",
       "      <td>2.000000</td>\n",
       "      <td>71.500000</td>\n",
       "      <td>118.250000</td>\n",
       "      <td>79.250000</td>\n",
       "    </tr>\n",
       "    <tr>\n",
       "      <th>max</th>\n",
       "      <td>1.417555</td>\n",
       "      <td>0.870297</td>\n",
       "      <td>10.904498</td>\n",
       "      <td>7.489592</td>\n",
       "      <td>1.265557</td>\n",
       "      <td>1.046093</td>\n",
       "      <td>91.000000</td>\n",
       "      <td>174.000000</td>\n",
       "      <td>582.000000</td>\n",
       "      <td>225.000000</td>\n",
       "      <td>194.000000</td>\n",
       "      <td>3.000000</td>\n",
       "      <td>133.000000</td>\n",
       "      <td>352.000000</td>\n",
       "      <td>95.000000</td>\n",
       "    </tr>\n",
       "    <tr>\n",
       "      <th rowspan=\"8\" valign=\"top\">7.0</th>\n",
       "      <th>count</th>\n",
       "      <td>40.000000</td>\n",
       "      <td>40.000000</td>\n",
       "      <td>40.000000</td>\n",
       "      <td>40.000000</td>\n",
       "      <td>40.000000</td>\n",
       "      <td>40.000000</td>\n",
       "      <td>40.000000</td>\n",
       "      <td>40.000000</td>\n",
       "      <td>40.000000</td>\n",
       "      <td>40.000000</td>\n",
       "      <td>40.000000</td>\n",
       "      <td>40.000000</td>\n",
       "      <td>40.000000</td>\n",
       "      <td>40.000000</td>\n",
       "      <td>40.000000</td>\n",
       "    </tr>\n",
       "    <tr>\n",
       "      <th>mean</th>\n",
       "      <td>0.117990</td>\n",
       "      <td>0.112136</td>\n",
       "      <td>3.039138</td>\n",
       "      <td>2.678594</td>\n",
       "      <td>0.174848</td>\n",
       "      <td>0.129156</td>\n",
       "      <td>58.775000</td>\n",
       "      <td>67.775000</td>\n",
       "      <td>203.025000</td>\n",
       "      <td>20.050000</td>\n",
       "      <td>182.775000</td>\n",
       "      <td>0.900000</td>\n",
       "      <td>52.450000</td>\n",
       "      <td>82.800000</td>\n",
       "      <td>76.625000</td>\n",
       "    </tr>\n",
       "    <tr>\n",
       "      <th>std</th>\n",
       "      <td>0.269680</td>\n",
       "      <td>0.175015</td>\n",
       "      <td>2.823283</td>\n",
       "      <td>2.228642</td>\n",
       "      <td>0.306348</td>\n",
       "      <td>0.176684</td>\n",
       "      <td>25.272350</td>\n",
       "      <td>42.934349</td>\n",
       "      <td>135.334815</td>\n",
       "      <td>21.668777</td>\n",
       "      <td>5.446653</td>\n",
       "      <td>0.810191</td>\n",
       "      <td>36.934419</td>\n",
       "      <td>60.432713</td>\n",
       "      <td>7.995792</td>\n",
       "    </tr>\n",
       "    <tr>\n",
       "      <th>min</th>\n",
       "      <td>-0.789474</td>\n",
       "      <td>0.000000</td>\n",
       "      <td>0.000000</td>\n",
       "      <td>0.000000</td>\n",
       "      <td>0.000000</td>\n",
       "      <td>0.000000</td>\n",
       "      <td>3.000000</td>\n",
       "      <td>2.000000</td>\n",
       "      <td>2.000000</td>\n",
       "      <td>0.000000</td>\n",
       "      <td>172.000000</td>\n",
       "      <td>0.000000</td>\n",
       "      <td>0.000000</td>\n",
       "      <td>0.000000</td>\n",
       "      <td>56.000000</td>\n",
       "    </tr>\n",
       "    <tr>\n",
       "      <th>25%</th>\n",
       "      <td>0.000000</td>\n",
       "      <td>0.000000</td>\n",
       "      <td>1.061920</td>\n",
       "      <td>1.173997</td>\n",
       "      <td>0.000000</td>\n",
       "      <td>0.000000</td>\n",
       "      <td>46.250000</td>\n",
       "      <td>37.000000</td>\n",
       "      <td>112.750000</td>\n",
       "      <td>3.750000</td>\n",
       "      <td>179.750000</td>\n",
       "      <td>0.000000</td>\n",
       "      <td>24.500000</td>\n",
       "      <td>36.500000</td>\n",
       "      <td>71.000000</td>\n",
       "    </tr>\n",
       "    <tr>\n",
       "      <th>50%</th>\n",
       "      <td>0.000000</td>\n",
       "      <td>0.000000</td>\n",
       "      <td>2.473347</td>\n",
       "      <td>2.318076</td>\n",
       "      <td>0.084008</td>\n",
       "      <td>0.083671</td>\n",
       "      <td>59.000000</td>\n",
       "      <td>58.000000</td>\n",
       "      <td>192.500000</td>\n",
       "      <td>12.000000</td>\n",
       "      <td>183.000000</td>\n",
       "      <td>1.000000</td>\n",
       "      <td>47.000000</td>\n",
       "      <td>70.500000</td>\n",
       "      <td>76.000000</td>\n",
       "    </tr>\n",
       "    <tr>\n",
       "      <th>75%</th>\n",
       "      <td>0.182513</td>\n",
       "      <td>0.159221</td>\n",
       "      <td>4.229690</td>\n",
       "      <td>3.565265</td>\n",
       "      <td>0.200813</td>\n",
       "      <td>0.167585</td>\n",
       "      <td>79.000000</td>\n",
       "      <td>97.000000</td>\n",
       "      <td>305.250000</td>\n",
       "      <td>31.500000</td>\n",
       "      <td>187.250000</td>\n",
       "      <td>1.000000</td>\n",
       "      <td>78.750000</td>\n",
       "      <td>119.250000</td>\n",
       "      <td>82.000000</td>\n",
       "    </tr>\n",
       "    <tr>\n",
       "      <th>max</th>\n",
       "      <td>0.727928</td>\n",
       "      <td>0.729361</td>\n",
       "      <td>14.964136</td>\n",
       "      <td>11.093318</td>\n",
       "      <td>1.491010</td>\n",
       "      <td>0.872591</td>\n",
       "      <td>95.000000</td>\n",
       "      <td>197.000000</td>\n",
       "      <td>562.000000</td>\n",
       "      <td>73.000000</td>\n",
       "      <td>195.000000</td>\n",
       "      <td>3.000000</td>\n",
       "      <td>145.000000</td>\n",
       "      <td>250.000000</td>\n",
       "      <td>96.000000</td>\n",
       "    </tr>\n",
       "    <tr>\n",
       "      <th rowspan=\"8\" valign=\"top\">8.0</th>\n",
       "      <th>count</th>\n",
       "      <td>90.000000</td>\n",
       "      <td>90.000000</td>\n",
       "      <td>90.000000</td>\n",
       "      <td>90.000000</td>\n",
       "      <td>90.000000</td>\n",
       "      <td>90.000000</td>\n",
       "      <td>90.000000</td>\n",
       "      <td>90.000000</td>\n",
       "      <td>90.000000</td>\n",
       "      <td>90.000000</td>\n",
       "      <td>90.000000</td>\n",
       "      <td>90.000000</td>\n",
       "      <td>90.000000</td>\n",
       "      <td>90.000000</td>\n",
       "      <td>90.000000</td>\n",
       "    </tr>\n",
       "    <tr>\n",
       "      <th>mean</th>\n",
       "      <td>0.198326</td>\n",
       "      <td>0.150403</td>\n",
       "      <td>4.810753</td>\n",
       "      <td>3.765858</td>\n",
       "      <td>0.193212</td>\n",
       "      <td>0.144268</td>\n",
       "      <td>57.244444</td>\n",
       "      <td>75.533333</td>\n",
       "      <td>241.944444</td>\n",
       "      <td>36.011111</td>\n",
       "      <td>182.200000</td>\n",
       "      <td>1.166667</td>\n",
       "      <td>59.222222</td>\n",
       "      <td>107.188889</td>\n",
       "      <td>76.000000</td>\n",
       "    </tr>\n",
       "    <tr>\n",
       "      <th>std</th>\n",
       "      <td>0.349058</td>\n",
       "      <td>0.232328</td>\n",
       "      <td>3.564296</td>\n",
       "      <td>2.734302</td>\n",
       "      <td>0.289531</td>\n",
       "      <td>0.188301</td>\n",
       "      <td>23.706213</td>\n",
       "      <td>41.180665</td>\n",
       "      <td>143.650744</td>\n",
       "      <td>45.675331</td>\n",
       "      <td>6.344422</td>\n",
       "      <td>1.041283</td>\n",
       "      <td>34.505097</td>\n",
       "      <td>76.330137</td>\n",
       "      <td>6.836781</td>\n",
       "    </tr>\n",
       "    <tr>\n",
       "      <th>min</th>\n",
       "      <td>-0.070352</td>\n",
       "      <td>0.000000</td>\n",
       "      <td>-0.111111</td>\n",
       "      <td>0.167342</td>\n",
       "      <td>0.000000</td>\n",
       "      <td>0.000000</td>\n",
       "      <td>6.000000</td>\n",
       "      <td>1.000000</td>\n",
       "      <td>3.000000</td>\n",
       "      <td>0.000000</td>\n",
       "      <td>166.000000</td>\n",
       "      <td>0.000000</td>\n",
       "      <td>2.000000</td>\n",
       "      <td>0.000000</td>\n",
       "      <td>62.000000</td>\n",
       "    </tr>\n",
       "    <tr>\n",
       "      <th>25%</th>\n",
       "      <td>0.000000</td>\n",
       "      <td>0.000000</td>\n",
       "      <td>2.315069</td>\n",
       "      <td>1.802155</td>\n",
       "      <td>0.000000</td>\n",
       "      <td>0.000000</td>\n",
       "      <td>41.500000</td>\n",
       "      <td>45.500000</td>\n",
       "      <td>128.000000</td>\n",
       "      <td>4.250000</td>\n",
       "      <td>178.250000</td>\n",
       "      <td>0.000000</td>\n",
       "      <td>36.500000</td>\n",
       "      <td>48.250000</td>\n",
       "      <td>72.000000</td>\n",
       "    </tr>\n",
       "    <tr>\n",
       "      <th>50%</th>\n",
       "      <td>0.023085</td>\n",
       "      <td>0.022046</td>\n",
       "      <td>4.047547</td>\n",
       "      <td>3.318968</td>\n",
       "      <td>0.067220</td>\n",
       "      <td>0.059901</td>\n",
       "      <td>57.000000</td>\n",
       "      <td>71.500000</td>\n",
       "      <td>220.500000</td>\n",
       "      <td>13.500000</td>\n",
       "      <td>182.000000</td>\n",
       "      <td>1.000000</td>\n",
       "      <td>57.000000</td>\n",
       "      <td>94.500000</td>\n",
       "      <td>75.000000</td>\n",
       "    </tr>\n",
       "    <tr>\n",
       "      <th>75%</th>\n",
       "      <td>0.289486</td>\n",
       "      <td>0.228376</td>\n",
       "      <td>6.708575</td>\n",
       "      <td>4.972495</td>\n",
       "      <td>0.267998</td>\n",
       "      <td>0.207759</td>\n",
       "      <td>78.750000</td>\n",
       "      <td>101.000000</td>\n",
       "      <td>361.000000</td>\n",
       "      <td>55.250000</td>\n",
       "      <td>187.000000</td>\n",
       "      <td>2.000000</td>\n",
       "      <td>82.750000</td>\n",
       "      <td>155.250000</td>\n",
       "      <td>81.000000</td>\n",
       "    </tr>\n",
       "    <tr>\n",
       "      <th>max</th>\n",
       "      <td>1.518272</td>\n",
       "      <td>0.976155</td>\n",
       "      <td>15.074608</td>\n",
       "      <td>12.098445</td>\n",
       "      <td>1.484700</td>\n",
       "      <td>0.836710</td>\n",
       "      <td>95.000000</td>\n",
       "      <td>170.000000</td>\n",
       "      <td>655.000000</td>\n",
       "      <td>222.000000</td>\n",
       "      <td>202.000000</td>\n",
       "      <td>3.000000</td>\n",
       "      <td>174.000000</td>\n",
       "      <td>344.000000</td>\n",
       "      <td>94.000000</td>\n",
       "    </tr>\n",
       "  </tbody>\n",
       "</table>\n",
       "<p>72 rows × 15 columns</p>\n",
       "</div>"
      ],
      "text/plain": [
       "                      RC_EXP      RC_IAT      YC_EXP      YC_IAT      YR_EXP  \\\n",
       "mean_rated                                                                     \n",
       "0.0        count  418.000000  418.000000  418.000000  418.000000  418.000000   \n",
       "           mean     0.141497    0.109873    4.564526    3.436539    0.133998   \n",
       "           std      0.259435    0.184043    3.228992    2.200510    0.244707   \n",
       "           min     -0.070352    0.000000    0.000000    0.000000   -0.405956   \n",
       "           25%      0.000000    0.000000    2.202610    1.827929    0.000000   \n",
       "           50%      0.000000    0.000000    3.827590    3.036346    0.024921   \n",
       "           75%      0.194639    0.168314    6.172659    4.769170    0.168050   \n",
       "           max      1.594520    1.066477   18.545938   12.885643    2.311302   \n",
       "1.0        count  225.000000  225.000000  225.000000  225.000000  225.000000   \n",
       "           mean     0.130965    0.096407    4.662735    3.370902    0.137048   \n",
       "           std      0.239336    0.160707    3.384012    2.202233    0.288194   \n",
       "           min     -0.072218    0.000000    0.000000    0.000000    0.000000   \n",
       "           25%      0.000000    0.000000    2.407763    1.830093    0.000000   \n",
       "           50%      0.000000    0.000000    3.993863    3.084239    0.000000   \n",
       "           75%      0.167421    0.125640    6.059075    4.507017    0.167983   \n",
       "           max      1.282553    0.857862   20.381099   15.051231    2.634811   \n",
       "2.0        count  466.000000  466.000000  466.000000  466.000000  466.000000   \n",
       "           mean     0.175623    0.122235    5.402253    3.879515    0.181239   \n",
       "           std      0.303390    0.197354    4.145356    2.768329    0.278935   \n",
       "           min      0.000000    0.000000    0.000000    0.000000   -0.012187   \n",
       "           25%      0.000000    0.000000    2.332697    1.906912    0.000000   \n",
       "           50%      0.024002    0.023512    4.639686    3.355610    0.042017   \n",
       "           75%      0.219617    0.163345    7.231009    5.106513    0.262467   \n",
       "           max      2.024241    1.067990   25.385510   19.076640    1.405743   \n",
       "3.0        count   77.000000   77.000000   77.000000   77.000000   77.000000   \n",
       "           mean     0.220995    0.136248    6.027893    4.055082    0.192458   \n",
       "           std      0.348953    0.199851    4.262897    2.746217    0.304050   \n",
       "           min      0.000000    0.000000    0.044556    0.040836    0.000000   \n",
       "           25%      0.000000    0.000000    3.056765    2.119522    0.000000   \n",
       "           50%      0.067193    0.034754    5.340648    3.824656    0.084042   \n",
       "...                      ...         ...         ...         ...         ...   \n",
       "5.0        std      0.354765    0.132588    2.540696    1.747478    0.187702   \n",
       "           min     -1.314815    0.000000    0.084025    0.083671    0.000000   \n",
       "           25%      0.000000    0.000000    1.941479    1.556849    0.000000   \n",
       "           50%      0.000000    0.000000    3.101414    2.542073    0.000000   \n",
       "           75%      0.178223    0.157157    5.724189    4.103748    0.053328   \n",
       "           max      1.263648    0.444844    9.315152    6.821966    0.730240   \n",
       "6.0        count  100.000000  100.000000  100.000000  100.000000  100.000000   \n",
       "           mean     0.128537    0.097000    3.875366    2.980005    0.142039   \n",
       "           std      0.254653    0.160428    2.725976    1.902202    0.235054   \n",
       "           min      0.000000    0.000000    0.000000    0.000000   -0.077501   \n",
       "           25%      0.000000    0.000000    1.733859    1.462173    0.000000   \n",
       "           50%      0.000000    0.000000    3.418774    2.731381    0.000000   \n",
       "           75%      0.117638    0.095253    5.561247    4.281136    0.196084   \n",
       "           max      1.417555    0.870297   10.904498    7.489592    1.265557   \n",
       "7.0        count   40.000000   40.000000   40.000000   40.000000   40.000000   \n",
       "           mean     0.117990    0.112136    3.039138    2.678594    0.174848   \n",
       "           std      0.269680    0.175015    2.823283    2.228642    0.306348   \n",
       "           min     -0.789474    0.000000    0.000000    0.000000    0.000000   \n",
       "           25%      0.000000    0.000000    1.061920    1.173997    0.000000   \n",
       "           50%      0.000000    0.000000    2.473347    2.318076    0.084008   \n",
       "           75%      0.182513    0.159221    4.229690    3.565265    0.200813   \n",
       "           max      0.727928    0.729361   14.964136   11.093318    1.491010   \n",
       "8.0        count   90.000000   90.000000   90.000000   90.000000   90.000000   \n",
       "           mean     0.198326    0.150403    4.810753    3.765858    0.193212   \n",
       "           std      0.349058    0.232328    3.564296    2.734302    0.289531   \n",
       "           min     -0.070352    0.000000   -0.111111    0.167342    0.000000   \n",
       "           25%      0.000000    0.000000    2.315069    1.802155    0.000000   \n",
       "           50%      0.023085    0.022046    4.047547    3.318968    0.067220   \n",
       "           75%      0.289486    0.228376    6.708575    4.972495    0.267998   \n",
       "           max      1.518272    0.976155   15.074608   12.098445    1.484700   \n",
       "\n",
       "                      YR_IAT        club     defeats       games       goals  \\\n",
       "mean_rated                                                                     \n",
       "0.0        count  418.000000  418.000000  418.000000  418.000000  418.000000   \n",
       "           mean     0.104590   43.102871   74.287081  237.452153   27.473684   \n",
       "           std      0.171452   28.247305   40.350252  142.579218   39.478926   \n",
       "           min      0.000000    0.000000    4.000000    8.000000    0.000000   \n",
       "           25%      0.000000   17.000000   44.250000  131.000000    4.000000   \n",
       "           50%      0.024970   37.000000   69.000000  216.000000   15.000000   \n",
       "           75%      0.155967   67.000000   98.000000  316.750000   34.000000   \n",
       "           max      1.594674   95.000000  216.000000  816.000000  386.000000   \n",
       "1.0        count  225.000000  225.000000  225.000000  225.000000  225.000000   \n",
       "           mean     0.097772   46.537778   75.351111  240.244444   30.333333   \n",
       "           std      0.179302   29.198056   43.353163  144.978471   47.445175   \n",
       "           min      0.000000    0.000000    7.000000   15.000000    0.000000   \n",
       "           25%      0.000000   22.000000   46.000000  136.000000    3.000000   \n",
       "           50%      0.000000   44.000000   69.000000  204.000000   15.000000   \n",
       "           75%      0.145030   74.000000   97.000000  322.000000   34.000000   \n",
       "           max      1.707705   95.000000  228.000000  914.000000  277.000000   \n",
       "2.0        count  466.000000  466.000000  466.000000  466.000000  466.000000   \n",
       "           mean     0.130752   46.240343   80.133047  257.826180   28.714592   \n",
       "           std      0.187784   27.308712   41.476247  145.063641   46.247512   \n",
       "           min      0.000000    0.000000    0.000000    1.000000    0.000000   \n",
       "           25%      0.000000   24.000000   50.000000  151.000000    4.000000   \n",
       "           50%      0.037937   47.000000   74.000000  228.000000   12.000000   \n",
       "           75%      0.184947   68.000000  107.000000  345.000000   36.000000   \n",
       "           max      0.944776   95.000000  258.000000  758.000000  420.000000   \n",
       "3.0        count   77.000000   77.000000   77.000000   77.000000   77.000000   \n",
       "           mean     0.127786   45.935065   68.272727  206.753247   20.740260   \n",
       "           std      0.201271   25.753558   37.888561  121.765214   31.818731   \n",
       "           min      0.000000    2.000000    2.000000    5.000000    0.000000   \n",
       "           25%      0.000000   24.000000   44.000000  129.000000    2.000000   \n",
       "           50%      0.053095   36.000000   63.000000  192.000000   10.000000   \n",
       "...                      ...         ...         ...         ...         ...   \n",
       "5.0        std      0.179260   28.033259   29.446054  123.188380   31.368804   \n",
       "           min      0.000000    1.000000   12.000000   29.000000    0.000000   \n",
       "           25%      0.000000   33.000000   40.000000  106.000000    4.000000   \n",
       "           50%      0.000000   52.000000   65.000000  187.000000   12.000000   \n",
       "           75%      0.041106   77.000000   80.000000  259.000000   42.000000   \n",
       "           max      0.672223   92.000000  129.000000  604.000000  107.000000   \n",
       "6.0        count  100.000000  100.000000  100.000000  100.000000  100.000000   \n",
       "           mean     0.120548   48.780000   63.680000  206.520000   27.380000   \n",
       "           std      0.193246   23.390225   38.528195  132.140764   37.761019   \n",
       "           min      0.000000    4.000000    0.000000    1.000000    0.000000   \n",
       "           25%      0.000000   34.500000   43.750000  120.000000    3.000000   \n",
       "           50%      0.000000   48.000000   62.000000  200.000000   12.500000   \n",
       "           75%      0.167342   64.500000   82.000000  267.750000   36.500000   \n",
       "           max      1.046093   91.000000  174.000000  582.000000  225.000000   \n",
       "7.0        count   40.000000   40.000000   40.000000   40.000000   40.000000   \n",
       "           mean     0.129156   58.775000   67.775000  203.025000   20.050000   \n",
       "           std      0.176684   25.272350   42.934349  135.334815   21.668777   \n",
       "           min      0.000000    3.000000    2.000000    2.000000    0.000000   \n",
       "           25%      0.000000   46.250000   37.000000  112.750000    3.750000   \n",
       "           50%      0.083671   59.000000   58.000000  192.500000   12.000000   \n",
       "           75%      0.167585   79.000000   97.000000  305.250000   31.500000   \n",
       "           max      0.872591   95.000000  197.000000  562.000000   73.000000   \n",
       "8.0        count   90.000000   90.000000   90.000000   90.000000   90.000000   \n",
       "           mean     0.144268   57.244444   75.533333  241.944444   36.011111   \n",
       "           std      0.188301   23.706213   41.180665  143.650744   45.675331   \n",
       "           min      0.000000    6.000000    1.000000    3.000000    0.000000   \n",
       "           25%      0.000000   41.500000   45.500000  128.000000    4.250000   \n",
       "           50%      0.059901   57.000000   71.500000  220.500000   13.500000   \n",
       "           75%      0.207759   78.750000  101.000000  361.000000   55.250000   \n",
       "           max      0.836710   95.000000  170.000000  655.000000  222.000000   \n",
       "\n",
       "                      height  leagueCountry        ties   victories  \\\n",
       "mean_rated                                                            \n",
       "0.0        count  418.000000     418.000000  418.000000  418.000000   \n",
       "           mean   182.968900       1.674641   55.643541  107.521531   \n",
       "           std      6.796211       1.074839   33.225337   79.139168   \n",
       "           min    163.000000       0.000000    0.000000    0.000000   \n",
       "           25%    178.000000       1.000000   31.000000   56.000000   \n",
       "           50%    183.500000       2.000000   52.000000   86.500000   \n",
       "           75%    188.000000       2.000000   73.000000  137.000000   \n",
       "           max    202.000000       3.000000  180.000000  527.000000   \n",
       "1.0        count  225.000000     225.000000  225.000000  225.000000   \n",
       "           mean   182.968889       1.675556   57.284444  107.608889   \n",
       "           std      6.582845       1.148204   35.015162   76.367345   \n",
       "           min    169.000000       0.000000    2.000000    3.000000   \n",
       "           25%    179.000000       0.000000   32.000000   52.000000   \n",
       "           50%    183.000000       2.000000   50.000000   85.000000   \n",
       "           75%    187.000000       3.000000   78.000000  147.000000   \n",
       "           max    203.000000       3.000000  197.000000  523.000000   \n",
       "2.0        count  466.000000     466.000000  466.000000  466.000000   \n",
       "           mean   181.309013       1.776824   61.484979  116.208155   \n",
       "           std      6.979771       1.117591   34.238330   82.109222   \n",
       "           min    161.000000       0.000000    0.000000    1.000000   \n",
       "           25%    176.000000       1.000000   34.000000   60.000000   \n",
       "           50%    181.500000       2.000000   55.500000   94.000000   \n",
       "           75%    186.000000       3.000000   85.750000  151.500000   \n",
       "           max    199.000000       3.000000  183.000000  435.000000   \n",
       "3.0        count   77.000000      77.000000   77.000000   77.000000   \n",
       "           mean   181.428571       2.376623   49.038961   89.441558   \n",
       "           std      6.432705       1.013578   29.729678   62.941806   \n",
       "           min    168.000000       0.000000    2.000000    1.000000   \n",
       "           25%    177.000000       2.000000   28.000000   51.000000   \n",
       "           50%    181.000000       3.000000   42.000000   73.000000   \n",
       "...                      ...            ...         ...         ...   \n",
       "5.0        std      5.955485       1.136515   29.541092   68.573451   \n",
       "           min    173.000000       0.000000   11.000000    4.000000   \n",
       "           25%    179.000000       0.000000   25.000000   40.000000   \n",
       "           50%    181.000000       1.000000   46.000000   64.000000   \n",
       "           75%    185.000000       2.000000   64.000000  114.000000   \n",
       "           max    198.000000       3.000000  137.000000  338.000000   \n",
       "6.0        count  100.000000     100.000000  100.000000  100.000000   \n",
       "           mean   180.850000       1.180000   50.560000   92.280000   \n",
       "           std      6.470407       0.978352   32.690257   69.481351   \n",
       "           min    168.000000       0.000000    0.000000    0.000000   \n",
       "           25%    176.000000       0.000000   26.750000   42.000000   \n",
       "           50%    180.000000       1.000000   48.500000   81.500000   \n",
       "           75%    186.000000       2.000000   71.500000  118.250000   \n",
       "           max    194.000000       3.000000  133.000000  352.000000   \n",
       "7.0        count   40.000000      40.000000   40.000000   40.000000   \n",
       "           mean   182.775000       0.900000   52.450000   82.800000   \n",
       "           std      5.446653       0.810191   36.934419   60.432713   \n",
       "           min    172.000000       0.000000    0.000000    0.000000   \n",
       "           25%    179.750000       0.000000   24.500000   36.500000   \n",
       "           50%    183.000000       1.000000   47.000000   70.500000   \n",
       "           75%    187.250000       1.000000   78.750000  119.250000   \n",
       "           max    195.000000       3.000000  145.000000  250.000000   \n",
       "8.0        count   90.000000      90.000000   90.000000   90.000000   \n",
       "           mean   182.200000       1.166667   59.222222  107.188889   \n",
       "           std      6.344422       1.041283   34.505097   76.330137   \n",
       "           min    166.000000       0.000000    2.000000    0.000000   \n",
       "           25%    178.250000       0.000000   36.500000   48.250000   \n",
       "           50%    182.000000       1.000000   57.000000   94.500000   \n",
       "           75%    187.000000       2.000000   82.750000  155.250000   \n",
       "           max    202.000000       3.000000  174.000000  344.000000   \n",
       "\n",
       "                      weight  \n",
       "mean_rated                    \n",
       "0.0        count  418.000000  \n",
       "           mean    76.578947  \n",
       "           std      7.259806  \n",
       "           min     58.000000  \n",
       "           25%     72.000000  \n",
       "           50%     77.000000  \n",
       "           75%     82.000000  \n",
       "           max    100.000000  \n",
       "1.0        count  225.000000  \n",
       "           mean    76.240000  \n",
       "           std      6.715201  \n",
       "           min     60.000000  \n",
       "           25%     71.000000  \n",
       "           50%     76.000000  \n",
       "           75%     81.000000  \n",
       "           max     96.000000  \n",
       "2.0        count  466.000000  \n",
       "           mean    75.787554  \n",
       "           std      7.128010  \n",
       "           min     59.000000  \n",
       "           25%     71.000000  \n",
       "           50%     75.000000  \n",
       "           75%     80.000000  \n",
       "           max    100.000000  \n",
       "3.0        count   77.000000  \n",
       "           mean    76.220779  \n",
       "           std      6.618601  \n",
       "           min     59.000000  \n",
       "           25%     72.000000  \n",
       "           50%     76.000000  \n",
       "...                      ...  \n",
       "5.0        std      6.623964  \n",
       "           min     65.000000  \n",
       "           25%     70.000000  \n",
       "           50%     74.000000  \n",
       "           75%     80.000000  \n",
       "           max     89.000000  \n",
       "6.0        count  100.000000  \n",
       "           mean    75.490000  \n",
       "           std      6.756209  \n",
       "           min     62.000000  \n",
       "           25%     70.750000  \n",
       "           50%     75.000000  \n",
       "           75%     79.250000  \n",
       "           max     95.000000  \n",
       "7.0        count   40.000000  \n",
       "           mean    76.625000  \n",
       "           std      7.995792  \n",
       "           min     56.000000  \n",
       "           25%     71.000000  \n",
       "           50%     76.000000  \n",
       "           75%     82.000000  \n",
       "           max     96.000000  \n",
       "8.0        count   90.000000  \n",
       "           mean    76.000000  \n",
       "           std      6.836781  \n",
       "           min     62.000000  \n",
       "           25%     72.000000  \n",
       "           50%     75.000000  \n",
       "           75%     81.000000  \n",
       "           max     94.000000  \n",
       "\n",
       "[72 rows x 15 columns]"
      ]
     },
     "execution_count": 101,
     "metadata": {},
     "output_type": "execute_result"
    }
   ],
   "source": [
    "players.groupby('mean_rated').describe()"
   ]
  },
  {
   "cell_type": "code",
   "execution_count": 102,
   "metadata": {
    "collapsed": false
   },
   "outputs": [
    {
     "data": {
      "text/html": [
       "<div>\n",
       "<table border=\"1\" class=\"dataframe\">\n",
       "  <thead>\n",
       "    <tr style=\"text-align: right;\">\n",
       "      <th></th>\n",
       "      <th>height</th>\n",
       "      <th>weight</th>\n",
       "      <th>club</th>\n",
       "      <th>leagueCountry</th>\n",
       "      <th>games</th>\n",
       "      <th>victories</th>\n",
       "      <th>ties</th>\n",
       "      <th>defeats</th>\n",
       "      <th>goals</th>\n",
       "      <th>YC_IAT</th>\n",
       "      <th>YR_IAT</th>\n",
       "      <th>RC_IAT</th>\n",
       "      <th>YC_EXP</th>\n",
       "      <th>YR_EXP</th>\n",
       "      <th>RC_EXP</th>\n",
       "    </tr>\n",
       "    <tr>\n",
       "      <th>mean_rated</th>\n",
       "      <th></th>\n",
       "      <th></th>\n",
       "      <th></th>\n",
       "      <th></th>\n",
       "      <th></th>\n",
       "      <th></th>\n",
       "      <th></th>\n",
       "      <th></th>\n",
       "      <th></th>\n",
       "      <th></th>\n",
       "      <th></th>\n",
       "      <th></th>\n",
       "      <th></th>\n",
       "      <th></th>\n",
       "      <th></th>\n",
       "    </tr>\n",
       "  </thead>\n",
       "  <tbody>\n",
       "    <tr>\n",
       "      <th>0.0</th>\n",
       "      <td>6.796211</td>\n",
       "      <td>7.259806</td>\n",
       "      <td>28.247305</td>\n",
       "      <td>1.074839</td>\n",
       "      <td>142.579218</td>\n",
       "      <td>79.139168</td>\n",
       "      <td>33.225337</td>\n",
       "      <td>40.350252</td>\n",
       "      <td>39.478926</td>\n",
       "      <td>2.200510</td>\n",
       "      <td>0.171452</td>\n",
       "      <td>0.184043</td>\n",
       "      <td>3.228992</td>\n",
       "      <td>0.244707</td>\n",
       "      <td>0.259435</td>\n",
       "    </tr>\n",
       "    <tr>\n",
       "      <th>1.0</th>\n",
       "      <td>6.582845</td>\n",
       "      <td>6.715201</td>\n",
       "      <td>29.198056</td>\n",
       "      <td>1.148204</td>\n",
       "      <td>144.978471</td>\n",
       "      <td>76.367345</td>\n",
       "      <td>35.015162</td>\n",
       "      <td>43.353163</td>\n",
       "      <td>47.445175</td>\n",
       "      <td>2.202233</td>\n",
       "      <td>0.179302</td>\n",
       "      <td>0.160707</td>\n",
       "      <td>3.384012</td>\n",
       "      <td>0.288194</td>\n",
       "      <td>0.239336</td>\n",
       "    </tr>\n",
       "    <tr>\n",
       "      <th>2.0</th>\n",
       "      <td>6.979771</td>\n",
       "      <td>7.128010</td>\n",
       "      <td>27.308712</td>\n",
       "      <td>1.117591</td>\n",
       "      <td>145.063641</td>\n",
       "      <td>82.109222</td>\n",
       "      <td>34.238330</td>\n",
       "      <td>41.476247</td>\n",
       "      <td>46.247512</td>\n",
       "      <td>2.768329</td>\n",
       "      <td>0.187784</td>\n",
       "      <td>0.197354</td>\n",
       "      <td>4.145356</td>\n",
       "      <td>0.278935</td>\n",
       "      <td>0.303390</td>\n",
       "    </tr>\n",
       "    <tr>\n",
       "      <th>3.0</th>\n",
       "      <td>6.432705</td>\n",
       "      <td>6.618601</td>\n",
       "      <td>25.753558</td>\n",
       "      <td>1.013578</td>\n",
       "      <td>121.765214</td>\n",
       "      <td>62.941806</td>\n",
       "      <td>29.729678</td>\n",
       "      <td>37.888561</td>\n",
       "      <td>31.818731</td>\n",
       "      <td>2.746217</td>\n",
       "      <td>0.201271</td>\n",
       "      <td>0.199851</td>\n",
       "      <td>4.262897</td>\n",
       "      <td>0.304050</td>\n",
       "      <td>0.348953</td>\n",
       "    </tr>\n",
       "    <tr>\n",
       "      <th>4.0</th>\n",
       "      <td>6.700262</td>\n",
       "      <td>7.810689</td>\n",
       "      <td>27.055620</td>\n",
       "      <td>1.187142</td>\n",
       "      <td>136.201659</td>\n",
       "      <td>72.484734</td>\n",
       "      <td>34.358850</td>\n",
       "      <td>39.587033</td>\n",
       "      <td>29.690758</td>\n",
       "      <td>2.454304</td>\n",
       "      <td>0.214560</td>\n",
       "      <td>0.213005</td>\n",
       "      <td>3.825256</td>\n",
       "      <td>0.352881</td>\n",
       "      <td>0.316674</td>\n",
       "    </tr>\n",
       "    <tr>\n",
       "      <th>5.0</th>\n",
       "      <td>5.955485</td>\n",
       "      <td>6.623964</td>\n",
       "      <td>28.033259</td>\n",
       "      <td>1.136515</td>\n",
       "      <td>123.188380</td>\n",
       "      <td>68.573451</td>\n",
       "      <td>29.541092</td>\n",
       "      <td>29.446054</td>\n",
       "      <td>31.368804</td>\n",
       "      <td>1.747478</td>\n",
       "      <td>0.179260</td>\n",
       "      <td>0.132588</td>\n",
       "      <td>2.540696</td>\n",
       "      <td>0.187702</td>\n",
       "      <td>0.354765</td>\n",
       "    </tr>\n",
       "    <tr>\n",
       "      <th>6.0</th>\n",
       "      <td>6.470407</td>\n",
       "      <td>6.756209</td>\n",
       "      <td>23.390225</td>\n",
       "      <td>0.978352</td>\n",
       "      <td>132.140764</td>\n",
       "      <td>69.481351</td>\n",
       "      <td>32.690257</td>\n",
       "      <td>38.528195</td>\n",
       "      <td>37.761019</td>\n",
       "      <td>1.902202</td>\n",
       "      <td>0.193246</td>\n",
       "      <td>0.160428</td>\n",
       "      <td>2.725976</td>\n",
       "      <td>0.235054</td>\n",
       "      <td>0.254653</td>\n",
       "    </tr>\n",
       "    <tr>\n",
       "      <th>7.0</th>\n",
       "      <td>5.446653</td>\n",
       "      <td>7.995792</td>\n",
       "      <td>25.272350</td>\n",
       "      <td>0.810191</td>\n",
       "      <td>135.334815</td>\n",
       "      <td>60.432713</td>\n",
       "      <td>36.934419</td>\n",
       "      <td>42.934349</td>\n",
       "      <td>21.668777</td>\n",
       "      <td>2.228642</td>\n",
       "      <td>0.176684</td>\n",
       "      <td>0.175015</td>\n",
       "      <td>2.823283</td>\n",
       "      <td>0.306348</td>\n",
       "      <td>0.269680</td>\n",
       "    </tr>\n",
       "    <tr>\n",
       "      <th>8.0</th>\n",
       "      <td>6.344422</td>\n",
       "      <td>6.836781</td>\n",
       "      <td>23.706213</td>\n",
       "      <td>1.041283</td>\n",
       "      <td>143.650744</td>\n",
       "      <td>76.330137</td>\n",
       "      <td>34.505097</td>\n",
       "      <td>41.180665</td>\n",
       "      <td>45.675331</td>\n",
       "      <td>2.734302</td>\n",
       "      <td>0.188301</td>\n",
       "      <td>0.232328</td>\n",
       "      <td>3.564296</td>\n",
       "      <td>0.289531</td>\n",
       "      <td>0.349058</td>\n",
       "    </tr>\n",
       "  </tbody>\n",
       "</table>\n",
       "</div>"
      ],
      "text/plain": [
       "              height    weight       club  leagueCountry       games  \\\n",
       "mean_rated                                                             \n",
       "0.0         6.796211  7.259806  28.247305       1.074839  142.579218   \n",
       "1.0         6.582845  6.715201  29.198056       1.148204  144.978471   \n",
       "2.0         6.979771  7.128010  27.308712       1.117591  145.063641   \n",
       "3.0         6.432705  6.618601  25.753558       1.013578  121.765214   \n",
       "4.0         6.700262  7.810689  27.055620       1.187142  136.201659   \n",
       "5.0         5.955485  6.623964  28.033259       1.136515  123.188380   \n",
       "6.0         6.470407  6.756209  23.390225       0.978352  132.140764   \n",
       "7.0         5.446653  7.995792  25.272350       0.810191  135.334815   \n",
       "8.0         6.344422  6.836781  23.706213       1.041283  143.650744   \n",
       "\n",
       "            victories       ties    defeats      goals    YC_IAT    YR_IAT  \\\n",
       "mean_rated                                                                   \n",
       "0.0         79.139168  33.225337  40.350252  39.478926  2.200510  0.171452   \n",
       "1.0         76.367345  35.015162  43.353163  47.445175  2.202233  0.179302   \n",
       "2.0         82.109222  34.238330  41.476247  46.247512  2.768329  0.187784   \n",
       "3.0         62.941806  29.729678  37.888561  31.818731  2.746217  0.201271   \n",
       "4.0         72.484734  34.358850  39.587033  29.690758  2.454304  0.214560   \n",
       "5.0         68.573451  29.541092  29.446054  31.368804  1.747478  0.179260   \n",
       "6.0         69.481351  32.690257  38.528195  37.761019  1.902202  0.193246   \n",
       "7.0         60.432713  36.934419  42.934349  21.668777  2.228642  0.176684   \n",
       "8.0         76.330137  34.505097  41.180665  45.675331  2.734302  0.188301   \n",
       "\n",
       "              RC_IAT    YC_EXP    YR_EXP    RC_EXP  \n",
       "mean_rated                                          \n",
       "0.0         0.184043  3.228992  0.244707  0.259435  \n",
       "1.0         0.160707  3.384012  0.288194  0.239336  \n",
       "2.0         0.197354  4.145356  0.278935  0.303390  \n",
       "3.0         0.199851  4.262897  0.304050  0.348953  \n",
       "4.0         0.213005  3.825256  0.352881  0.316674  \n",
       "5.0         0.132588  2.540696  0.187702  0.354765  \n",
       "6.0         0.160428  2.725976  0.235054  0.254653  \n",
       "7.0         0.175015  2.823283  0.306348  0.269680  \n",
       "8.0         0.232328  3.564296  0.289531  0.349058  "
      ]
     },
     "execution_count": 102,
     "metadata": {},
     "output_type": "execute_result"
    }
   ],
   "source": [
    "players.groupby('mean_rated').std()"
   ]
  },
  {
   "cell_type": "markdown",
   "metadata": {},
   "source": [
    "## Data visualization"
   ]
  },
  {
   "cell_type": "code",
   "execution_count": 103,
   "metadata": {
    "collapsed": false
   },
   "outputs": [
    {
     "data": {
      "text/plain": [
       "array([[<matplotlib.axes._subplots.AxesSubplot object at 0x121690b90>,\n",
       "        <matplotlib.axes._subplots.AxesSubplot object at 0x11814e190>,\n",
       "        <matplotlib.axes._subplots.AxesSubplot object at 0x118ec0a50>,\n",
       "        <matplotlib.axes._subplots.AxesSubplot object at 0x11817c9d0>],\n",
       "       [<matplotlib.axes._subplots.AxesSubplot object at 0x1283fad50>,\n",
       "        <matplotlib.axes._subplots.AxesSubplot object at 0x117e38d50>,\n",
       "        <matplotlib.axes._subplots.AxesSubplot object at 0x118bb4cd0>,\n",
       "        <matplotlib.axes._subplots.AxesSubplot object at 0x118d32690>],\n",
       "       [<matplotlib.axes._subplots.AxesSubplot object at 0x118e0e710>,\n",
       "        <matplotlib.axes._subplots.AxesSubplot object at 0x129511690>,\n",
       "        <matplotlib.axes._subplots.AxesSubplot object at 0x127d7ea10>,\n",
       "        <matplotlib.axes._subplots.AxesSubplot object at 0x118f57990>],\n",
       "       [<matplotlib.axes._subplots.AxesSubplot object at 0x118efc950>,\n",
       "        <matplotlib.axes._subplots.AxesSubplot object at 0x117dc0c10>,\n",
       "        <matplotlib.axes._subplots.AxesSubplot object at 0x118fd0bd0>,\n",
       "        <matplotlib.axes._subplots.AxesSubplot object at 0x119054190>]], dtype=object)"
      ]
     },
     "execution_count": 103,
     "metadata": {},
     "output_type": "execute_result"
    },
    {
     "data": {
      "image/png": "[encoded data removed]",
      "text/plain": [
       "<matplotlib.figure.Figure at 0x1339907d0>"
      ]
     },
     "metadata": {},
     "output_type": "display_data"
    }
   ],
   "source": [
    "players.hist(figsize=(12,12))"
   ]
  },
  {
   "cell_type": "code",
   "execution_count": 105,
   "metadata": {
    "collapsed": false
   },
   "outputs": [
    {
     "data": {
      "text/plain": [
       "<matplotlib.text.Text at 0x117a58ad0>"
      ]
     },
     "execution_count": 105,
     "metadata": {},
     "output_type": "execute_result"
    },
    {
     "data": {
      "image/png": "[encoded data removed]",
      "text/plain": [
       "<matplotlib.figure.Figure at 0x128600d10>"
      ]
     },
     "metadata": {},
     "output_type": "display_data"
    }
   ],
   "source": [
    "difference_rater = (skin_rater_1_2['rater1'] - skin_rater_1_2['rater2'])\n",
    "\n",
    "fig, ax = plt.subplots(1,2,figsize=(12, 4))\n",
    "c = sns.color_palette()\n",
    "ax[0].hist(mean_rated,bins = 5, range = (0,1),color = c[0])\n",
    "ax[0].set_title(\"Mean rating\")\n",
    "ax[1].hist(difference_rater, bins = 5,range = (-0.5,0.5),color = c[1])\n",
    "ax[1].set_title('Difference')"
   ]
  },
  {
   "cell_type": "code",
   "execution_count": 106,
   "metadata": {
    "collapsed": false
   },
   "outputs": [
    {
     "data": {
      "text/plain": [
       " 0.00    94903\n",
       "-0.25    23746\n",
       " 0.25     4902\n",
       "-0.50      164\n",
       "dtype: int64"
      ]
     },
     "execution_count": 106,
     "metadata": {},
     "output_type": "execute_result"
    }
   ],
   "source": [
    "difference_rater.value_counts()"
   ]
  },
  {
   "cell_type": "markdown",
   "metadata": {},
   "source": [
    "The plot show the distribution of the skin rating and the difference between skin rater1 and rater2."
   ]
  },
  {
   "cell_type": "markdown",
   "metadata": {
    "collapsed": true
   },
   "source": [
    "# Machine learning"
   ]
  },
  {
   "cell_type": "code",
   "execution_count": 43,
   "metadata": {
    "collapsed": false
   },
   "outputs": [
    {
     "name": "stderr",
     "output_type": "stream",
     "text": [
      "/Volumes/Stockage/Users/mario/anaconda/lib/python2.7/site-packages/sklearn/cross_validation.py:44: DeprecationWarning: This module was deprecated in version 0.18 in favor of the model_selection module into which all the refactored classes and functions are moved. Also note that the interface of the new CV iterators are different from that of this module. This module will be removed in 0.20.\n",
      "  \"This module will be removed in 0.20.\", DeprecationWarning)\n"
     ]
    }
   ],
   "source": [
    "from sklearn.ensemble import RandomForestClassifier\n",
    "from sklearn.cross_validation import cross_val_score"
   ]
  },
  {
   "cell_type": "code",
   "execution_count": 45,
   "metadata": {
    "collapsed": false
   },
   "outputs": [
    {
     "data": {
      "text/plain": [
       "Index([u'mean_rated', u'height', u'weight', u'games', u'victories', u'ties',\n",
       "       u'defeats', u'goals', u'yellowCards', u'YC_IAT', u'YR_IAT', u'RC_IAT',\n",
       "       u'YC_EXP', u'YR_EXP', u'RC_EXP', u'gravity'],\n",
       "      dtype='object')"
      ]
     },
     "execution_count": 45,
     "metadata": {},
     "output_type": "execute_result"
    }
   ],
   "source": [
    "players.columns"
   ]
  },
  {
   "cell_type": "code",
   "execution_count": 46,
   "metadata": {
    "collapsed": false
   },
   "outputs": [],
   "source": [
    "y = players['mean_rated']\n",
    "players.drop('mean_rated',axis=1,inplace=True)"
   ]
  },
  {
   "cell_type": "code",
   "execution_count": 48,
   "metadata": {
    "collapsed": false
   },
   "outputs": [],
   "source": [
    "cols = ['height', 'weight', 'games', 'victories', 'ties', 'defeats', 'goals']\n",
    "players = players.drop(cols, axis = 1)"
   ]
  },
  {
   "cell_type": "code",
   "execution_count": 139,
   "metadata": {
    "collapsed": false
   },
   "outputs": [],
   "source": [
    "#TEST\n",
    "players = players.drop(['YR_IAT', 'RC_IAT','YR_EXP','RC_EXP'], axis = 1)"
   ]
  },
  {
   "cell_type": "code",
   "execution_count": 49,
   "metadata": {
    "collapsed": false
   },
   "outputs": [
    {
     "data": {
      "text/plain": [
       "Index([u'yellowCards', u'YC_IAT', u'YR_IAT', u'RC_IAT', u'YC_EXP', u'YR_EXP',\n",
       "       u'RC_EXP', u'gravity'],\n",
       "      dtype='object')"
      ]
     },
     "execution_count": 49,
     "metadata": {},
     "output_type": "execute_result"
    }
   ],
   "source": [
    "players.columns"
   ]
  },
  {
   "cell_type": "code",
   "execution_count": 50,
   "metadata": {
    "collapsed": true
   },
   "outputs": [],
   "source": [
    "X = players"
   ]
  },
  {
   "cell_type": "code",
   "execution_count": 51,
   "metadata": {
    "collapsed": false
   },
   "outputs": [
    {
     "data": {
      "text/plain": [
       "Index([u'yellowCards', u'YC_IAT', u'YR_IAT', u'RC_IAT', u'YC_EXP', u'YR_EXP',\n",
       "       u'RC_EXP', u'gravity'],\n",
       "      dtype='object')"
      ]
     },
     "execution_count": 51,
     "metadata": {},
     "output_type": "execute_result"
    }
   ],
   "source": [
    "players.columns"
   ]
  },
  {
   "cell_type": "code",
   "execution_count": 52,
   "metadata": {
    "collapsed": true
   },
   "outputs": [],
   "source": [
    "forest = RandomForestClassifier(n_estimators = 100)"
   ]
  },
  {
   "cell_type": "code",
   "execution_count": 53,
   "metadata": {
    "collapsed": false
   },
   "outputs": [
    {
     "data": {
      "text/plain": [
       "RandomForestClassifier(bootstrap=True, class_weight=None, criterion='gini',\n",
       "            max_depth=None, max_features='auto', max_leaf_nodes=None,\n",
       "            min_impurity_split=1e-07, min_samples_leaf=1,\n",
       "            min_samples_split=2, min_weight_fraction_leaf=0.0,\n",
       "            n_estimators=100, n_jobs=1, oob_score=False, random_state=None,\n",
       "            verbose=0, warm_start=False)"
      ]
     },
     "execution_count": 53,
     "metadata": {},
     "output_type": "execute_result"
    }
   ],
   "source": [
    "forest.fit(X, y)"
   ]
  },
  {
   "cell_type": "code",
   "execution_count": 54,
   "metadata": {
    "collapsed": false
   },
   "outputs": [
    {
     "data": {
      "text/plain": [
       "0.81587481146304686"
      ]
     },
     "execution_count": 54,
     "metadata": {},
     "output_type": "execute_result"
    }
   ],
   "source": [
    "scores = cross_val_score(forest, X, y, cv=30, scoring='accuracy')\n",
    "scores.mean()"
   ]
  },
  {
   "cell_type": "code",
   "execution_count": null,
   "metadata": {
    "collapsed": true
   },
   "outputs": [],
   "source": []
  }
 ],
 "metadata": {
  "anaconda-cloud": {},
  "kernelspec": {
   "display_name": "Python [default]",
   "language": "python",
   "name": "python2"
  },
  "language_info": {
   "codemirror_mode": {
    "name": "ipython",
    "version": 2
   },
   "file_extension": ".py",
   "mimetype": "text/x-python",
   "name": "python",
   "nbconvert_exporter": "python",
   "pygments_lexer": "ipython2",
   "version": "2.7.12"
  }
 },
 "nbformat": 4,
 "nbformat_minor": 0
}
