{
 "cells": [
  {
   "cell_type": "code",
   "execution_count": 1,
   "metadata": {
    "collapsed": false
   },
   "outputs": [
    {
     "name": "stdout",
     "output_type": "stream",
     "text": [
      "Populating the interactive namespace from numpy and matplotlib\n"
     ]
    }
   ],
   "source": [
    "import nltk \n",
    "import pandas as pd \n",
    "import numpy as np\n",
    "from wordcloud import WordCloud, STOPWORDS\n",
    "import matplotlib.pyplot as plt\n",
    "%pylab inline\n",
    "from nltk.corpus import stopwords\n",
    "\n",
    "import pycountry as pc"
   ]
  },
  {
   "cell_type": "code",
   "execution_count": 2,
   "metadata": {
    "collapsed": true
   },
   "outputs": [],
   "source": [
    "#reading in the csv file\n",
    "email_path = \"./hillary-clinton-emails/Emails.csv\"\n",
    "email_df = pd.read_csv(email_path, encoding=\"utf-8\")"
   ]
  },
  {
   "cell_type": "code",
   "execution_count": 3,
   "metadata": {
    "collapsed": false
   },
   "outputs": [
    {
     "data": {
      "text/plain": [
       "Index(['Id', 'DocNumber', 'MetadataSubject', 'MetadataTo', 'MetadataFrom',\n",
       "       'SenderPersonId', 'MetadataDateSent', 'MetadataDateReleased',\n",
       "       'MetadataPdfLink', 'MetadataCaseNumber', 'MetadataDocumentClass',\n",
       "       'ExtractedSubject', 'ExtractedTo', 'ExtractedFrom', 'ExtractedCc',\n",
       "       'ExtractedDateSent', 'ExtractedCaseNumber', 'ExtractedDocNumber',\n",
       "       'ExtractedDateReleased', 'ExtractedReleaseInPartOrFull',\n",
       "       'ExtractedBodyText', 'RawText'],\n",
       "      dtype='object')"
      ]
     },
     "execution_count": 3,
     "metadata": {},
     "output_type": "execute_result"
    }
   ],
   "source": [
    "email_df.columns"
   ]
  },
  {
   "cell_type": "code",
   "execution_count": 4,
   "metadata": {
    "collapsed": false
   },
   "outputs": [
    {
     "data": {
      "text/html": [
       "<div>\n",
       "<table border=\"1\" class=\"dataframe\">\n",
       "  <thead>\n",
       "    <tr style=\"text-align: right;\">\n",
       "      <th></th>\n",
       "      <th>Id</th>\n",
       "      <th>DocNumber</th>\n",
       "      <th>MetadataSubject</th>\n",
       "      <th>MetadataTo</th>\n",
       "      <th>MetadataFrom</th>\n",
       "      <th>SenderPersonId</th>\n",
       "      <th>MetadataDateSent</th>\n",
       "      <th>MetadataDateReleased</th>\n",
       "      <th>MetadataPdfLink</th>\n",
       "      <th>MetadataCaseNumber</th>\n",
       "      <th>...</th>\n",
       "      <th>ExtractedTo</th>\n",
       "      <th>ExtractedFrom</th>\n",
       "      <th>ExtractedCc</th>\n",
       "      <th>ExtractedDateSent</th>\n",
       "      <th>ExtractedCaseNumber</th>\n",
       "      <th>ExtractedDocNumber</th>\n",
       "      <th>ExtractedDateReleased</th>\n",
       "      <th>ExtractedReleaseInPartOrFull</th>\n",
       "      <th>ExtractedBodyText</th>\n",
       "      <th>RawText</th>\n",
       "    </tr>\n",
       "  </thead>\n",
       "  <tbody>\n",
       "    <tr>\n",
       "      <th>0</th>\n",
       "      <td>1</td>\n",
       "      <td>C05739545</td>\n",
       "      <td>WOW</td>\n",
       "      <td>H</td>\n",
       "      <td>Sullivan, Jacob J</td>\n",
       "      <td>87.0</td>\n",
       "      <td>2012-09-12T04:00:00+00:00</td>\n",
       "      <td>2015-05-22T04:00:00+00:00</td>\n",
       "      <td>DOCUMENTS/HRC_Email_1_296/HRCH2/DOC_0C05739545...</td>\n",
       "      <td>F-2015-04841</td>\n",
       "      <td>...</td>\n",
       "      <td>NaN</td>\n",
       "      <td>Sullivan, Jacob J &lt;Sullivan11@state.gov&gt;</td>\n",
       "      <td>NaN</td>\n",
       "      <td>Wednesday, September 12, 2012 10:16 AM</td>\n",
       "      <td>F-2015-04841</td>\n",
       "      <td>C05739545</td>\n",
       "      <td>05/13/2015</td>\n",
       "      <td>RELEASE IN FULL</td>\n",
       "      <td>NaN</td>\n",
       "      <td>UNCLASSIFIED\\nU.S. Department of State\\nCase N...</td>\n",
       "    </tr>\n",
       "    <tr>\n",
       "      <th>1</th>\n",
       "      <td>2</td>\n",
       "      <td>C05739546</td>\n",
       "      <td>H: LATEST: HOW SYRIA IS AIDING QADDAFI AND MOR...</td>\n",
       "      <td>H</td>\n",
       "      <td>NaN</td>\n",
       "      <td>NaN</td>\n",
       "      <td>2011-03-03T05:00:00+00:00</td>\n",
       "      <td>2015-05-22T04:00:00+00:00</td>\n",
       "      <td>DOCUMENTS/HRC_Email_1_296/HRCH1/DOC_0C05739546...</td>\n",
       "      <td>F-2015-04841</td>\n",
       "      <td>...</td>\n",
       "      <td>NaN</td>\n",
       "      <td>NaN</td>\n",
       "      <td>NaN</td>\n",
       "      <td>NaN</td>\n",
       "      <td>F-2015-04841</td>\n",
       "      <td>C05739546</td>\n",
       "      <td>05/13/2015</td>\n",
       "      <td>RELEASE IN PART</td>\n",
       "      <td>B6\\nThursday, March 3, 2011 9:45 PM\\nH: Latest...</td>\n",
       "      <td>UNCLASSIFIED\\nU.S. Department of State\\nCase N...</td>\n",
       "    </tr>\n",
       "    <tr>\n",
       "      <th>2</th>\n",
       "      <td>3</td>\n",
       "      <td>C05739547</td>\n",
       "      <td>CHRIS STEVENS</td>\n",
       "      <td>;H</td>\n",
       "      <td>Mills, Cheryl D</td>\n",
       "      <td>32.0</td>\n",
       "      <td>2012-09-12T04:00:00+00:00</td>\n",
       "      <td>2015-05-22T04:00:00+00:00</td>\n",
       "      <td>DOCUMENTS/HRC_Email_1_296/HRCH2/DOC_0C05739547...</td>\n",
       "      <td>F-2015-04841</td>\n",
       "      <td>...</td>\n",
       "      <td>B6</td>\n",
       "      <td>Mills, Cheryl D &lt;MillsCD@state.gov&gt;</td>\n",
       "      <td>Abedin, Huma</td>\n",
       "      <td>Wednesday, September 12, 2012 11:52 AM</td>\n",
       "      <td>F-2015-04841</td>\n",
       "      <td>C05739547</td>\n",
       "      <td>05/14/2015</td>\n",
       "      <td>RELEASE IN PART</td>\n",
       "      <td>Thx</td>\n",
       "      <td>UNCLASSIFIED\\nU.S. Department of State\\nCase N...</td>\n",
       "    </tr>\n",
       "    <tr>\n",
       "      <th>3</th>\n",
       "      <td>4</td>\n",
       "      <td>C05739550</td>\n",
       "      <td>CAIRO CONDEMNATION - FINAL</td>\n",
       "      <td>H</td>\n",
       "      <td>Mills, Cheryl D</td>\n",
       "      <td>32.0</td>\n",
       "      <td>2012-09-12T04:00:00+00:00</td>\n",
       "      <td>2015-05-22T04:00:00+00:00</td>\n",
       "      <td>DOCUMENTS/HRC_Email_1_296/HRCH2/DOC_0C05739550...</td>\n",
       "      <td>F-2015-04841</td>\n",
       "      <td>...</td>\n",
       "      <td>NaN</td>\n",
       "      <td>Mills, Cheryl D &lt;MillsCD@state.gov&gt;</td>\n",
       "      <td>Mitchell, Andrew B</td>\n",
       "      <td>Wednesday, September 12,2012 12:44 PM</td>\n",
       "      <td>F-2015-04841</td>\n",
       "      <td>C05739550</td>\n",
       "      <td>05/13/2015</td>\n",
       "      <td>RELEASE IN PART</td>\n",
       "      <td>NaN</td>\n",
       "      <td>UNCLASSIFIED\\nU.S. Department of State\\nCase N...</td>\n",
       "    </tr>\n",
       "    <tr>\n",
       "      <th>4</th>\n",
       "      <td>5</td>\n",
       "      <td>C05739554</td>\n",
       "      <td>H: LATEST: HOW SYRIA IS AIDING QADDAFI AND MOR...</td>\n",
       "      <td>Abedin, Huma</td>\n",
       "      <td>H</td>\n",
       "      <td>80.0</td>\n",
       "      <td>2011-03-11T05:00:00+00:00</td>\n",
       "      <td>2015-05-22T04:00:00+00:00</td>\n",
       "      <td>DOCUMENTS/HRC_Email_1_296/HRCH1/DOC_0C05739554...</td>\n",
       "      <td>F-2015-04841</td>\n",
       "      <td>...</td>\n",
       "      <td>NaN</td>\n",
       "      <td>NaN</td>\n",
       "      <td>NaN</td>\n",
       "      <td>NaN</td>\n",
       "      <td>F-2015-04841</td>\n",
       "      <td>C05739554</td>\n",
       "      <td>05/13/2015</td>\n",
       "      <td>RELEASE IN PART</td>\n",
       "      <td>H &lt;hrod17@clintonemail.com&gt;\\nFriday, March 11,...</td>\n",
       "      <td>B6\\nUNCLASSIFIED\\nU.S. Department of State\\nCa...</td>\n",
       "    </tr>\n",
       "  </tbody>\n",
       "</table>\n",
       "<p>5 rows × 22 columns</p>\n",
       "</div>"
      ],
      "text/plain": [
       "   Id  DocNumber                                    MetadataSubject  \\\n",
       "0   1  C05739545                                                WOW   \n",
       "1   2  C05739546  H: LATEST: HOW SYRIA IS AIDING QADDAFI AND MOR...   \n",
       "2   3  C05739547                                      CHRIS STEVENS   \n",
       "3   4  C05739550                         CAIRO CONDEMNATION - FINAL   \n",
       "4   5  C05739554  H: LATEST: HOW SYRIA IS AIDING QADDAFI AND MOR...   \n",
       "\n",
       "     MetadataTo       MetadataFrom  SenderPersonId           MetadataDateSent  \\\n",
       "0             H  Sullivan, Jacob J            87.0  2012-09-12T04:00:00+00:00   \n",
       "1             H                NaN             NaN  2011-03-03T05:00:00+00:00   \n",
       "2            ;H    Mills, Cheryl D            32.0  2012-09-12T04:00:00+00:00   \n",
       "3             H    Mills, Cheryl D            32.0  2012-09-12T04:00:00+00:00   \n",
       "4  Abedin, Huma                  H            80.0  2011-03-11T05:00:00+00:00   \n",
       "\n",
       "        MetadataDateReleased  \\\n",
       "0  2015-05-22T04:00:00+00:00   \n",
       "1  2015-05-22T04:00:00+00:00   \n",
       "2  2015-05-22T04:00:00+00:00   \n",
       "3  2015-05-22T04:00:00+00:00   \n",
       "4  2015-05-22T04:00:00+00:00   \n",
       "\n",
       "                                     MetadataPdfLink MetadataCaseNumber  \\\n",
       "0  DOCUMENTS/HRC_Email_1_296/HRCH2/DOC_0C05739545...       F-2015-04841   \n",
       "1  DOCUMENTS/HRC_Email_1_296/HRCH1/DOC_0C05739546...       F-2015-04841   \n",
       "2  DOCUMENTS/HRC_Email_1_296/HRCH2/DOC_0C05739547...       F-2015-04841   \n",
       "3  DOCUMENTS/HRC_Email_1_296/HRCH2/DOC_0C05739550...       F-2015-04841   \n",
       "4  DOCUMENTS/HRC_Email_1_296/HRCH1/DOC_0C05739554...       F-2015-04841   \n",
       "\n",
       "                         ...                         ExtractedTo  \\\n",
       "0                        ...                                 NaN   \n",
       "1                        ...                                 NaN   \n",
       "2                        ...                                  B6   \n",
       "3                        ...                                 NaN   \n",
       "4                        ...                                 NaN   \n",
       "\n",
       "                              ExtractedFrom         ExtractedCc  \\\n",
       "0  Sullivan, Jacob J <Sullivan11@state.gov>                 NaN   \n",
       "1                                       NaN                 NaN   \n",
       "2       Mills, Cheryl D <MillsCD@state.gov>        Abedin, Huma   \n",
       "3       Mills, Cheryl D <MillsCD@state.gov>  Mitchell, Andrew B   \n",
       "4                                       NaN                 NaN   \n",
       "\n",
       "                        ExtractedDateSent ExtractedCaseNumber  \\\n",
       "0  Wednesday, September 12, 2012 10:16 AM        F-2015-04841   \n",
       "1                                     NaN        F-2015-04841   \n",
       "2  Wednesday, September 12, 2012 11:52 AM        F-2015-04841   \n",
       "3   Wednesday, September 12,2012 12:44 PM        F-2015-04841   \n",
       "4                                     NaN        F-2015-04841   \n",
       "\n",
       "  ExtractedDocNumber ExtractedDateReleased ExtractedReleaseInPartOrFull  \\\n",
       "0          C05739545            05/13/2015              RELEASE IN FULL   \n",
       "1          C05739546            05/13/2015              RELEASE IN PART   \n",
       "2          C05739547            05/14/2015              RELEASE IN PART   \n",
       "3          C05739550            05/13/2015              RELEASE IN PART   \n",
       "4          C05739554            05/13/2015              RELEASE IN PART   \n",
       "\n",
       "                                   ExtractedBodyText  \\\n",
       "0                                                NaN   \n",
       "1  B6\\nThursday, March 3, 2011 9:45 PM\\nH: Latest...   \n",
       "2                                                Thx   \n",
       "3                                                NaN   \n",
       "4  H <hrod17@clintonemail.com>\\nFriday, March 11,...   \n",
       "\n",
       "                                             RawText  \n",
       "0  UNCLASSIFIED\\nU.S. Department of State\\nCase N...  \n",
       "1  UNCLASSIFIED\\nU.S. Department of State\\nCase N...  \n",
       "2  UNCLASSIFIED\\nU.S. Department of State\\nCase N...  \n",
       "3  UNCLASSIFIED\\nU.S. Department of State\\nCase N...  \n",
       "4  B6\\nUNCLASSIFIED\\nU.S. Department of State\\nCa...  \n",
       "\n",
       "[5 rows x 22 columns]"
      ]
     },
     "execution_count": 4,
     "metadata": {},
     "output_type": "execute_result"
    }
   ],
   "source": [
    "email_df.head()"
   ]
  },
  {
   "cell_type": "markdown",
   "metadata": {},
   "source": [
    "# Question 1: Raw Word Cloud\n",
    "### This section outputs the word cloud without any preprocessing that is specific for text manipulation. We used the messages within the *ExtractedBodyText* and *ExtractedSubject* as our main point of information. We dropped any NaN rows that were not present in the aforementioned columns and appended the information in the two columns together to create the initial corpus"
   ]
  },
  {
   "cell_type": "code",
   "execution_count": 5,
   "metadata": {
    "collapsed": false
   },
   "outputs": [
    {
     "data": {
      "text/plain": [
       "Index(['Id', 'DocNumber', 'MetadataSubject', 'MetadataTo', 'MetadataFrom',\n",
       "       'SenderPersonId', 'MetadataDateSent', 'MetadataDateReleased',\n",
       "       'MetadataPdfLink', 'MetadataCaseNumber', 'MetadataDocumentClass',\n",
       "       'ExtractedSubject', 'ExtractedTo', 'ExtractedFrom', 'ExtractedCc',\n",
       "       'ExtractedDateSent', 'ExtractedCaseNumber', 'ExtractedDocNumber',\n",
       "       'ExtractedDateReleased', 'ExtractedReleaseInPartOrFull',\n",
       "       'ExtractedBodyText', 'RawText'],\n",
       "      dtype='object')"
      ]
     },
     "execution_count": 5,
     "metadata": {},
     "output_type": "execute_result"
    }
   ],
   "source": [
    "email_df.columns"
   ]
  },
  {
   "cell_type": "code",
   "execution_count": 6,
   "metadata": {
    "collapsed": false
   },
   "outputs": [
    {
     "data": {
      "text/plain": [
       "(7945, 22)"
      ]
     },
     "execution_count": 6,
     "metadata": {},
     "output_type": "execute_result"
    }
   ],
   "source": [
    "email_df.shape"
   ]
  },
  {
   "cell_type": "code",
   "execution_count": 7,
   "metadata": {
    "collapsed": true
   },
   "outputs": [],
   "source": [
    "email_df.dropna(subset=['ExtractedBodyText'], inplace=True)"
   ]
  },
  {
   "cell_type": "code",
   "execution_count": 8,
   "metadata": {
    "collapsed": false
   },
   "outputs": [
    {
     "data": {
      "text/plain": [
       "(6742, 22)"
      ]
     },
     "execution_count": 8,
     "metadata": {},
     "output_type": "execute_result"
    }
   ],
   "source": [
    "email_df.shape"
   ]
  },
  {
   "cell_type": "code",
   "execution_count": 9,
   "metadata": {
    "collapsed": false
   },
   "outputs": [
    {
     "data": {
      "text/plain": [
       "(5425, 22)"
      ]
     },
     "execution_count": 9,
     "metadata": {},
     "output_type": "execute_result"
    }
   ],
   "source": [
    "email_df['ExtractedSubject'].isnull().any()\n",
    "email_df.dropna(subset=['ExtractedSubject'], inplace=True)\n",
    "email_df.shape"
   ]
  },
  {
   "cell_type": "code",
   "execution_count": 10,
   "metadata": {
    "collapsed": true
   },
   "outputs": [],
   "source": [
    "text = email_df['ExtractedBodyText']"
   ]
  },
  {
   "cell_type": "code",
   "execution_count": 11,
   "metadata": {
    "collapsed": false,
    "scrolled": true
   },
   "outputs": [],
   "source": [
    "text = text.append(email_df['ExtractedSubject'])"
   ]
  },
  {
   "cell_type": "code",
   "execution_count": 12,
   "metadata": {
    "collapsed": true
   },
   "outputs": [],
   "source": [
    "test_text = \" \".join(text) # to add space"
   ]
  },
  {
   "cell_type": "markdown",
   "metadata": {},
   "source": [
    "wc = WordCloud(background_color=\"white\", max_words=2000, mask=alice_mask,stopwords=stopwords)"
   ]
  },
  {
   "cell_type": "code",
   "execution_count": 13,
   "metadata": {
    "collapsed": true
   },
   "outputs": [],
   "source": [
    "def word_cloud_creator(text):\n",
    "    from wordcloud import WordCloud\n",
    "    # Generate a word cloud image\n",
    "    wordcloud = WordCloud().generate(test_text)\n",
    "    # Display the generated image:\n",
    "    # the matplotlib way: \n",
    "    import matplotlib.pyplot as plt\n",
    "    plt.imshow(wordcloud)\n",
    "    plt.axis(\"off\")"
   ]
  },
  {
   "cell_type": "code",
   "execution_count": 14,
   "metadata": {
    "collapsed": false
   },
   "outputs": [
    {
     "data": {
      "image/png": "[encoded data removed]",
      "text/plain": [
       "<matplotlib.figure.Figure at 0x7f5cbda88b38>"
      ]
     },
     "metadata": {},
     "output_type": "display_data"
    }
   ],
   "source": [
    "word_cloud_creator(test_text)\n"
   ]
  },
  {
   "cell_type": "markdown",
   "metadata": {},
   "source": [
    "##  PREPROCESSING"
   ]
  },
  {
   "cell_type": "markdown",
   "metadata": {},
   "source": [
    "### TOKENIZATION : We split the sentences into individual word and specified for certain attributes"
   ]
  },
  {
   "cell_type": "markdown",
   "metadata": {},
   "source": [
    "For example, you can define a tokenizer that picks out sequences of alphanumeric characters as tokens and drops everything else. \n",
    "The following tokenizer does this for alphanumeric and money expressions (dollars)\n"
   ]
  },
  {
   "cell_type": "code",
   "execution_count": 15,
   "metadata": {
    "collapsed": true
   },
   "outputs": [],
   "source": [
    "tokenizer = nltk.tokenize.RegexpTokenizer(r'\\w+|\\$')"
   ]
  },
  {
   "cell_type": "code",
   "execution_count": 16,
   "metadata": {
    "collapsed": false
   },
   "outputs": [],
   "source": [
    "tokens = tokenizer.tokenize(test_text)"
   ]
  },
  {
   "cell_type": "markdown",
   "metadata": {},
   "source": [
    "### CASE FOLDING : This changes the characters in each token from upper to lower case"
   ]
  },
  {
   "cell_type": "code",
   "execution_count": 17,
   "metadata": {
    "collapsed": true
   },
   "outputs": [],
   "source": [
    "tokens_lower_case = [token.lower() for token in tokens ]"
   ]
  },
  {
   "cell_type": "markdown",
   "metadata": {},
   "source": [
    "### REMOVE STOPWORDS : these are commons words such as 'the' that are known to not have a huge impact on natural language processing\n",
    "### We used two separate stop word lists to remove as many stopwords as possible under the presumption that neither list was fully comprehensive "
   ]
  },
  {
   "cell_type": "code",
   "execution_count": 18,
   "metadata": {
    "collapsed": false
   },
   "outputs": [],
   "source": [
    "stop_words = STOPWORDS"
   ]
  },
  {
   "cell_type": "code",
   "execution_count": 19,
   "metadata": {
    "collapsed": false
   },
   "outputs": [
    {
     "data": {
      "text/plain": [
       "444927"
      ]
     },
     "execution_count": 19,
     "metadata": {},
     "output_type": "execute_result"
    }
   ],
   "source": [
    "len(tokens_lower_case)"
   ]
  },
  {
   "cell_type": "code",
   "execution_count": 20,
   "metadata": {
    "collapsed": true
   },
   "outputs": [],
   "source": [
    "filtered_words_tmp = [word for word in tokens_lower_case if word not in stop_words]"
   ]
  },
  {
   "cell_type": "code",
   "execution_count": 21,
   "metadata": {
    "collapsed": false
   },
   "outputs": [
    {
     "data": {
      "text/plain": [
       "271349"
      ]
     },
     "execution_count": 21,
     "metadata": {},
     "output_type": "execute_result"
    }
   ],
   "source": [
    "len(filtered_words_tmp)"
   ]
  },
  {
   "cell_type": "raw",
   "metadata": {},
   "source": [
    "nltk.download(\"stopwords\")"
   ]
  },
  {
   "cell_type": "code",
   "execution_count": 22,
   "metadata": {
    "collapsed": false
   },
   "outputs": [],
   "source": [
    "stop_words_2 = stopwords.words('english')"
   ]
  },
  {
   "cell_type": "code",
   "execution_count": 23,
   "metadata": {
    "collapsed": false
   },
   "outputs": [],
   "source": [
    "filtered_words_lower_case = [word for word in filtered_words_tmp if word not in stop_words_2]"
   ]
  },
  {
   "cell_type": "code",
   "execution_count": 24,
   "metadata": {
    "collapsed": false
   },
   "outputs": [
    {
     "data": {
      "text/plain": [
       "256562"
      ]
     },
     "execution_count": 24,
     "metadata": {},
     "output_type": "execute_result"
    }
   ],
   "source": [
    "len(filtered_words_lower_case)"
   ]
  },
  {
   "cell_type": "markdown",
   "metadata": {},
   "source": [
    "### STEMMING"
   ]
  },
  {
   "cell_type": "code",
   "execution_count": 25,
   "metadata": {
    "collapsed": true
   },
   "outputs": [],
   "source": [
    "porter = nltk.PorterStemmer()\n",
    "\n",
    "token_stem_lower_case = [porter.stem(token) for token in filtered_words_lower_case]"
   ]
  },
  {
   "cell_type": "markdown",
   "metadata": {},
   "source": [
    "## WORLDCLOUD NEW "
   ]
  },
  {
   "cell_type": "markdown",
   "metadata": {},
   "source": [
    "#### WITH STEMMING "
   ]
  },
  {
   "cell_type": "code",
   "execution_count": 26,
   "metadata": {
    "collapsed": true
   },
   "outputs": [],
   "source": [
    "new_text = \" \".join(token_stem_lower_case)"
   ]
  },
  {
   "cell_type": "code",
   "execution_count": 27,
   "metadata": {
    "collapsed": false
   },
   "outputs": [
    {
     "data": {
      "image/png": "[encoded data removed]",
      "text/plain": [
       "<matplotlib.figure.Figure at 0x7f5cb4204a90>"
      ]
     },
     "metadata": {},
     "output_type": "display_data"
    }
   ],
   "source": [
    "word_cloud_creator(new_text)"
   ]
  },
  {
   "cell_type": "markdown",
   "metadata": {
    "collapsed": true
   },
   "source": [
    "####  WITHOUT STEMMING"
   ]
  },
  {
   "cell_type": "code",
   "execution_count": 28,
   "metadata": {
    "collapsed": false
   },
   "outputs": [
    {
     "data": {
      "image/png": "[encoded data removed]",
      "text/plain": [
       "<matplotlib.figure.Figure at 0x7f5cb419a470>"
      ]
     },
     "metadata": {},
     "output_type": "display_data"
    }
   ],
   "source": [
    "new_text = \" \".join(filtered_words_lower_case)\n",
    "word_cloud_creator(new_text)"
   ]
  },
  {
   "cell_type": "markdown",
   "metadata": {},
   "source": [
    "# QUESTION  2"
   ]
  },
  {
   "cell_type": "markdown",
   "metadata": {},
   "source": [
    " 1 - check if there is a country and also the abbreviation in bodytext one by one\n",
    " 2 - If is not there ignore the email\n",
    " 3 - If it's there add the country in the new column in a list (it may be multiple)\n",
    " "
   ]
  },
  {
   "cell_type": "code",
   "execution_count": 29,
   "metadata": {
    "collapsed": false
   },
   "outputs": [
    {
     "name": "stderr",
     "output_type": "stream",
     "text": [
      "/home/chibu/Downloads/ENTER/lib/python3.5/site-packages/nltk/twitter/__init__.py:20: UserWarning: The twython library has not been installed. Some functionality from the twitter package will not be available.\n",
      "  warnings.warn(\"The twython library has not been installed. \"\n"
     ]
    }
   ],
   "source": [
    "from nltk.sentiment.util import *"
   ]
  },
  {
   "cell_type": "code",
   "execution_count": 30,
   "metadata": {
    "collapsed": true
   },
   "outputs": [],
   "source": [
    "from nltk.sentiment import SentimentIntensityAnalyzer\n",
    "vader_analyzer = SentimentIntensityAnalyzer()"
   ]
  },
  {
   "cell_type": "code",
   "execution_count": 31,
   "metadata": {
    "collapsed": false
   },
   "outputs": [
    {
     "data": {
      "text/plain": [
       "2                                                 [Thx]\n",
       "5     [Pis, print, H, hrod17, clintonernailcom, Wedn...\n",
       "8                                                 [FYI]\n",
       "9     [B6, Wednesday, September, 12, 2012, 6, 16, PM...\n",
       "10                                            [Fyi, B6]\n",
       "Name: token, dtype: object"
      ]
     },
     "execution_count": 31,
     "metadata": {},
     "output_type": "execute_result"
    }
   ],
   "source": [
    "email_df['token'] = email_df['ExtractedBodyText'].apply(tokenizer.tokenize)\n",
    "email_df['token'].head()"
   ]
  },
  {
   "cell_type": "code",
   "execution_count": 32,
   "metadata": {
    "collapsed": false
   },
   "outputs": [
    {
     "data": {
      "text/plain": [
       "2                                  [Re, Chris, Stevens]\n",
       "5     [Meet, The, Right, Wing, Extremist, Behind, An...\n",
       "8                          [FVV, Secretary, s, remarks]\n",
       "9                                     [more, on, Libya]\n",
       "10    [AbZ, and, Hb3, on, Libya, and, West, Bank, Gaza]\n",
       "Name: token_subject, dtype: object"
      ]
     },
     "execution_count": 32,
     "metadata": {},
     "output_type": "execute_result"
    }
   ],
   "source": [
    "email_df['token_subject'] = email_df['ExtractedSubject'].apply(tokenizer.tokenize)\n",
    "email_df['token_subject'].head()"
   ]
  },
  {
   "cell_type": "code",
   "execution_count": 33,
   "metadata": {
    "collapsed": true
   },
   "outputs": [],
   "source": [
    "def get_polarity_score(text):\n",
    "    \"\"\" return score between 0 and 1, 0 is bad 1 is happy\"\"\"\n",
    "    vader_analyzer = SentimentIntensityAnalyzer()\n",
    "    return (vader_analyzer.polarity_scores(text)['compound']+1)/2"
   ]
  },
  {
   "cell_type": "code",
   "execution_count": 34,
   "metadata": {
    "collapsed": true
   },
   "outputs": [],
   "source": [
    "def return_country_test(df_row,country_sentiment):\n",
    "    vader_analyzer = SentimentIntensityAnalyzer()\n",
    "    tmp = []\n",
    "    #fetch row by row the ExtractedBodyText and the Extracted Subject\n",
    "    token_list_extractedbodytext = df_row['token']\n",
    "    token_list_extractedsubject = df_row['token_subject']\n",
    "    raw_text = df_row['ExtractedBodyText']\n",
    "    # remove the stopwords of the list of token for both field\n",
    "    extractedbodytext = [word for word in token_list_extractedbodytext if word not in stop_words]\n",
    "    extractedsubject = [word for word in token_list_extractedsubject if word not in stop_words]\n",
    "    \n",
    "    #look in the extractedbodytext\n",
    "    for token in extractedbodytext:\n",
    "        try:\n",
    "            country = pc.countries.get(name = token).name\n",
    "            if country not in tmp:\n",
    "                tmp.append(country)   \n",
    "        except:\n",
    "            None    \n",
    "        try:\n",
    "            country=pc.countries.get(alpha_2 = token).name\n",
    "            if country not in tmp:\n",
    "                tmp.append(country)   \n",
    "        except:\n",
    "            None\n",
    "            \n",
    "    \n",
    "    #look in the extractedSubject\n",
    "    for token in extractedsubject:\n",
    "        try:\n",
    "            country = pc.countries.get(name = token).name\n",
    "            if country not in tmp:\n",
    "                tmp.append(country)   \n",
    "        except:\n",
    "            None    \n",
    "        try:\n",
    "            country=pc.countries.get(alpha_2 = token).name\n",
    "            if country not in tmp:\n",
    "                tmp.append(country)   \n",
    "        except:\n",
    "            None\n",
    "            \n",
    "    #compute the sentiment on the ExtractedBodyText (not token form)\n",
    "    sentiment = (vader_analyzer.polarity_scores(raw_text)['compound']+1)/2\n",
    "            \n",
    "    for elem in tmp:\n",
    "        if elem in country_sentiment.index:\n",
    "            country_sentiment.loc[elem]['NumberTimes'] = country_sentiment.loc[elem]['NumberTimes']+1\n",
    "        else:\n",
    "            country_sentiment.set_value(elem,['NumberTimes','Sentiment'],[1,0])\n",
    "        \n",
    "        #add the sentiment for each country mentionned in the email\n",
    "        \n",
    "        country_sentiment.loc[elem]['Sentiment'] = country_sentiment.loc[elem]['Sentiment']+sentiment\n",
    "            \n",
    "    \n",
    "\n",
    "    \n",
    "    "
   ]
  },
  {
   "cell_type": "code",
   "execution_count": 35,
   "metadata": {
    "collapsed": true
   },
   "outputs": [],
   "source": [
    "tokenizer = nltk.tokenize.RegexpTokenizer(r'\\w+|\\$')"
   ]
  },
  {
   "cell_type": "code",
   "execution_count": 36,
   "metadata": {
    "collapsed": false
   },
   "outputs": [],
   "source": [
    "country_sentiment = pd.DataFrame(columns=['NumberTimes','Sentiment'])"
   ]
  },
  {
   "cell_type": "code",
   "execution_count": 37,
   "metadata": {
    "collapsed": false
   },
   "outputs": [
    {
     "data": {
      "text/html": [
       "<div>\n",
       "<table border=\"1\" class=\"dataframe\">\n",
       "  <thead>\n",
       "    <tr style=\"text-align: right;\">\n",
       "      <th></th>\n",
       "      <th>NumberTimes</th>\n",
       "      <th>Sentiment</th>\n",
       "    </tr>\n",
       "  </thead>\n",
       "  <tbody>\n",
       "  </tbody>\n",
       "</table>\n",
       "</div>"
      ],
      "text/plain": [
       "Empty DataFrame\n",
       "Columns: [NumberTimes, Sentiment]\n",
       "Index: []"
      ]
     },
     "execution_count": 37,
     "metadata": {},
     "output_type": "execute_result"
    }
   ],
   "source": [
    "country_sentiment"
   ]
  },
  {
   "cell_type": "code",
   "execution_count": 38,
   "metadata": {
    "collapsed": false
   },
   "outputs": [],
   "source": [
    "_=email_df.apply(return_country_test,args=(country_sentiment,),axis=1)"
   ]
  },
  {
   "cell_type": "code",
   "execution_count": 39,
   "metadata": {
    "collapsed": true
   },
   "outputs": [],
   "source": [
    "# TONGA = TO, SAINT PIERRE AND MIQUELON = PM, NORWAY = NO, ARMENIA = AM, Réunion = RE, Micronesia = FM"
   ]
  },
  {
   "cell_type": "code",
   "execution_count": 40,
   "metadata": {
    "collapsed": false,
    "scrolled": true
   },
   "outputs": [
    {
     "data": {
      "text/html": [
       "<div>\n",
       "<table border=\"1\" class=\"dataframe\">\n",
       "  <thead>\n",
       "    <tr style=\"text-align: right;\">\n",
       "      <th></th>\n",
       "      <th>NumberTimes</th>\n",
       "      <th>Sentiment</th>\n",
       "    </tr>\n",
       "  </thead>\n",
       "  <tbody>\n",
       "    <tr>\n",
       "      <th>Réunion</th>\n",
       "      <td>348.0</td>\n",
       "      <td>219.13720</td>\n",
       "    </tr>\n",
       "    <tr>\n",
       "      <th>United States</th>\n",
       "      <td>170.0</td>\n",
       "      <td>118.35220</td>\n",
       "    </tr>\n",
       "    <tr>\n",
       "      <th>Armenia</th>\n",
       "      <td>167.0</td>\n",
       "      <td>115.39235</td>\n",
       "    </tr>\n",
       "    <tr>\n",
       "      <th>Saint Pierre and Miquelon</th>\n",
       "      <td>165.0</td>\n",
       "      <td>102.87155</td>\n",
       "    </tr>\n",
       "    <tr>\n",
       "      <th>Haiti</th>\n",
       "      <td>138.0</td>\n",
       "      <td>87.73705</td>\n",
       "    </tr>\n",
       "    <tr>\n",
       "      <th>India</th>\n",
       "      <td>136.0</td>\n",
       "      <td>86.16800</td>\n",
       "    </tr>\n",
       "    <tr>\n",
       "      <th>Tonga</th>\n",
       "      <td>82.0</td>\n",
       "      <td>47.19255</td>\n",
       "    </tr>\n",
       "    <tr>\n",
       "      <th>Afghanistan</th>\n",
       "      <td>82.0</td>\n",
       "      <td>54.76525</td>\n",
       "    </tr>\n",
       "    <tr>\n",
       "      <th>Pakistan</th>\n",
       "      <td>78.0</td>\n",
       "      <td>49.46915</td>\n",
       "    </tr>\n",
       "    <tr>\n",
       "      <th>Micronesia, Federated States of</th>\n",
       "      <td>72.0</td>\n",
       "      <td>43.99025</td>\n",
       "    </tr>\n",
       "    <tr>\n",
       "      <th>China</th>\n",
       "      <td>69.0</td>\n",
       "      <td>50.58165</td>\n",
       "    </tr>\n",
       "    <tr>\n",
       "      <th>Israel</th>\n",
       "      <td>67.0</td>\n",
       "      <td>45.94940</td>\n",
       "    </tr>\n",
       "    <tr>\n",
       "      <th>Libya</th>\n",
       "      <td>63.0</td>\n",
       "      <td>33.87240</td>\n",
       "    </tr>\n",
       "    <tr>\n",
       "      <th>Norway</th>\n",
       "      <td>54.0</td>\n",
       "      <td>27.39675</td>\n",
       "    </tr>\n",
       "    <tr>\n",
       "      <th>Iraq</th>\n",
       "      <td>49.0</td>\n",
       "      <td>31.59325</td>\n",
       "    </tr>\n",
       "    <tr>\n",
       "      <th>Honduras</th>\n",
       "      <td>48.0</td>\n",
       "      <td>30.68695</td>\n",
       "    </tr>\n",
       "    <tr>\n",
       "      <th>Turkey</th>\n",
       "      <td>43.0</td>\n",
       "      <td>28.28235</td>\n",
       "    </tr>\n",
       "    <tr>\n",
       "      <th>Nicaragua</th>\n",
       "      <td>37.0</td>\n",
       "      <td>24.26065</td>\n",
       "    </tr>\n",
       "    <tr>\n",
       "      <th>Mexico</th>\n",
       "      <td>32.0</td>\n",
       "      <td>22.80315</td>\n",
       "    </tr>\n",
       "    <tr>\n",
       "      <th>Ireland</th>\n",
       "      <td>32.0</td>\n",
       "      <td>22.70795</td>\n",
       "    </tr>\n",
       "    <tr>\n",
       "      <th>Belarus</th>\n",
       "      <td>31.0</td>\n",
       "      <td>18.91235</td>\n",
       "    </tr>\n",
       "    <tr>\n",
       "      <th>Egypt</th>\n",
       "      <td>29.0</td>\n",
       "      <td>20.94680</td>\n",
       "    </tr>\n",
       "    <tr>\n",
       "      <th>Austria</th>\n",
       "      <td>28.0</td>\n",
       "      <td>20.42575</td>\n",
       "    </tr>\n",
       "    <tr>\n",
       "      <th>Panama</th>\n",
       "      <td>24.0</td>\n",
       "      <td>18.76080</td>\n",
       "    </tr>\n",
       "    <tr>\n",
       "      <th>Brazil</th>\n",
       "      <td>24.0</td>\n",
       "      <td>18.74320</td>\n",
       "    </tr>\n",
       "    <tr>\n",
       "      <th>Tuvalu</th>\n",
       "      <td>24.0</td>\n",
       "      <td>19.20215</td>\n",
       "    </tr>\n",
       "    <tr>\n",
       "      <th>Sudan</th>\n",
       "      <td>24.0</td>\n",
       "      <td>15.47160</td>\n",
       "    </tr>\n",
       "    <tr>\n",
       "      <th>Guinea</th>\n",
       "      <td>23.0</td>\n",
       "      <td>15.07820</td>\n",
       "    </tr>\n",
       "    <tr>\n",
       "      <th>Canada</th>\n",
       "      <td>22.0</td>\n",
       "      <td>14.05070</td>\n",
       "    </tr>\n",
       "    <tr>\n",
       "      <th>Japan</th>\n",
       "      <td>21.0</td>\n",
       "      <td>15.03585</td>\n",
       "    </tr>\n",
       "    <tr>\n",
       "      <th>...</th>\n",
       "      <td>...</td>\n",
       "      <td>...</td>\n",
       "    </tr>\n",
       "    <tr>\n",
       "      <th>Saudi Arabia</th>\n",
       "      <td>1.0</td>\n",
       "      <td>0.74975</td>\n",
       "    </tr>\n",
       "    <tr>\n",
       "      <th>Côte d'Ivoire</th>\n",
       "      <td>1.0</td>\n",
       "      <td>0.50000</td>\n",
       "    </tr>\n",
       "    <tr>\n",
       "      <th>Finland</th>\n",
       "      <td>1.0</td>\n",
       "      <td>0.88585</td>\n",
       "    </tr>\n",
       "    <tr>\n",
       "      <th>Bahamas</th>\n",
       "      <td>1.0</td>\n",
       "      <td>0.99880</td>\n",
       "    </tr>\n",
       "    <tr>\n",
       "      <th>Seychelles</th>\n",
       "      <td>1.0</td>\n",
       "      <td>0.00040</td>\n",
       "    </tr>\n",
       "    <tr>\n",
       "      <th>Papua New Guinea</th>\n",
       "      <td>1.0</td>\n",
       "      <td>0.62160</td>\n",
       "    </tr>\n",
       "    <tr>\n",
       "      <th>Dominican Republic</th>\n",
       "      <td>1.0</td>\n",
       "      <td>0.60115</td>\n",
       "    </tr>\n",
       "    <tr>\n",
       "      <th>Cambodia</th>\n",
       "      <td>1.0</td>\n",
       "      <td>0.99875</td>\n",
       "    </tr>\n",
       "    <tr>\n",
       "      <th>Malawi</th>\n",
       "      <td>1.0</td>\n",
       "      <td>0.93750</td>\n",
       "    </tr>\n",
       "    <tr>\n",
       "      <th>Monaco</th>\n",
       "      <td>1.0</td>\n",
       "      <td>0.72485</td>\n",
       "    </tr>\n",
       "    <tr>\n",
       "      <th>Guinea-Bissau</th>\n",
       "      <td>1.0</td>\n",
       "      <td>0.44865</td>\n",
       "    </tr>\n",
       "    <tr>\n",
       "      <th>Marshall Islands</th>\n",
       "      <td>1.0</td>\n",
       "      <td>0.99395</td>\n",
       "    </tr>\n",
       "    <tr>\n",
       "      <th>Macao</th>\n",
       "      <td>1.0</td>\n",
       "      <td>0.00005</td>\n",
       "    </tr>\n",
       "    <tr>\n",
       "      <th>Bosnia and Herzegovina</th>\n",
       "      <td>1.0</td>\n",
       "      <td>0.96995</td>\n",
       "    </tr>\n",
       "    <tr>\n",
       "      <th>Guam</th>\n",
       "      <td>1.0</td>\n",
       "      <td>0.50000</td>\n",
       "    </tr>\n",
       "    <tr>\n",
       "      <th>British Indian Ocean Territory</th>\n",
       "      <td>1.0</td>\n",
       "      <td>0.99175</td>\n",
       "    </tr>\n",
       "    <tr>\n",
       "      <th>El Salvador</th>\n",
       "      <td>1.0</td>\n",
       "      <td>0.50000</td>\n",
       "    </tr>\n",
       "    <tr>\n",
       "      <th>Mauritius</th>\n",
       "      <td>1.0</td>\n",
       "      <td>0.93985</td>\n",
       "    </tr>\n",
       "    <tr>\n",
       "      <th>Niue</th>\n",
       "      <td>1.0</td>\n",
       "      <td>0.68060</td>\n",
       "    </tr>\n",
       "    <tr>\n",
       "      <th>Saint Martin (French part)</th>\n",
       "      <td>1.0</td>\n",
       "      <td>0.97915</td>\n",
       "    </tr>\n",
       "    <tr>\n",
       "      <th>Slovenia</th>\n",
       "      <td>1.0</td>\n",
       "      <td>0.98780</td>\n",
       "    </tr>\n",
       "    <tr>\n",
       "      <th>Timor-Leste</th>\n",
       "      <td>1.0</td>\n",
       "      <td>0.50000</td>\n",
       "    </tr>\n",
       "    <tr>\n",
       "      <th>Kiribati</th>\n",
       "      <td>1.0</td>\n",
       "      <td>0.97370</td>\n",
       "    </tr>\n",
       "    <tr>\n",
       "      <th>New Caledonia</th>\n",
       "      <td>1.0</td>\n",
       "      <td>0.58895</td>\n",
       "    </tr>\n",
       "    <tr>\n",
       "      <th>Zambia</th>\n",
       "      <td>1.0</td>\n",
       "      <td>0.00495</td>\n",
       "    </tr>\n",
       "    <tr>\n",
       "      <th>Faroe Islands</th>\n",
       "      <td>1.0</td>\n",
       "      <td>0.68400</td>\n",
       "    </tr>\n",
       "    <tr>\n",
       "      <th>Tajikistan</th>\n",
       "      <td>1.0</td>\n",
       "      <td>0.99625</td>\n",
       "    </tr>\n",
       "    <tr>\n",
       "      <th>Zimbabwe</th>\n",
       "      <td>1.0</td>\n",
       "      <td>0.99880</td>\n",
       "    </tr>\n",
       "    <tr>\n",
       "      <th>Comoros</th>\n",
       "      <td>1.0</td>\n",
       "      <td>0.79520</td>\n",
       "    </tr>\n",
       "    <tr>\n",
       "      <th>Congo, The Democratic Republic of the</th>\n",
       "      <td>1.0</td>\n",
       "      <td>0.99845</td>\n",
       "    </tr>\n",
       "  </tbody>\n",
       "</table>\n",
       "<p>162 rows × 2 columns</p>\n",
       "</div>"
      ],
      "text/plain": [
       "                                       NumberTimes  Sentiment\n",
       "Réunion                                      348.0  219.13720\n",
       "United States                                170.0  118.35220\n",
       "Armenia                                      167.0  115.39235\n",
       "Saint Pierre and Miquelon                    165.0  102.87155\n",
       "Haiti                                        138.0   87.73705\n",
       "India                                        136.0   86.16800\n",
       "Tonga                                         82.0   47.19255\n",
       "Afghanistan                                   82.0   54.76525\n",
       "Pakistan                                      78.0   49.46915\n",
       "Micronesia, Federated States of               72.0   43.99025\n",
       "China                                         69.0   50.58165\n",
       "Israel                                        67.0   45.94940\n",
       "Libya                                         63.0   33.87240\n",
       "Norway                                        54.0   27.39675\n",
       "Iraq                                          49.0   31.59325\n",
       "Honduras                                      48.0   30.68695\n",
       "Turkey                                        43.0   28.28235\n",
       "Nicaragua                                     37.0   24.26065\n",
       "Mexico                                        32.0   22.80315\n",
       "Ireland                                       32.0   22.70795\n",
       "Belarus                                       31.0   18.91235\n",
       "Egypt                                         29.0   20.94680\n",
       "Austria                                       28.0   20.42575\n",
       "Panama                                        24.0   18.76080\n",
       "Brazil                                        24.0   18.74320\n",
       "Tuvalu                                        24.0   19.20215\n",
       "Sudan                                         24.0   15.47160\n",
       "Guinea                                        23.0   15.07820\n",
       "Canada                                        22.0   14.05070\n",
       "Japan                                         21.0   15.03585\n",
       "...                                            ...        ...\n",
       "Saudi Arabia                                   1.0    0.74975\n",
       "Côte d'Ivoire                                  1.0    0.50000\n",
       "Finland                                        1.0    0.88585\n",
       "Bahamas                                        1.0    0.99880\n",
       "Seychelles                                     1.0    0.00040\n",
       "Papua New Guinea                               1.0    0.62160\n",
       "Dominican Republic                             1.0    0.60115\n",
       "Cambodia                                       1.0    0.99875\n",
       "Malawi                                         1.0    0.93750\n",
       "Monaco                                         1.0    0.72485\n",
       "Guinea-Bissau                                  1.0    0.44865\n",
       "Marshall Islands                               1.0    0.99395\n",
       "Macao                                          1.0    0.00005\n",
       "Bosnia and Herzegovina                         1.0    0.96995\n",
       "Guam                                           1.0    0.50000\n",
       "British Indian Ocean Territory                 1.0    0.99175\n",
       "El Salvador                                    1.0    0.50000\n",
       "Mauritius                                      1.0    0.93985\n",
       "Niue                                           1.0    0.68060\n",
       "Saint Martin (French part)                     1.0    0.97915\n",
       "Slovenia                                       1.0    0.98780\n",
       "Timor-Leste                                    1.0    0.50000\n",
       "Kiribati                                       1.0    0.97370\n",
       "New Caledonia                                  1.0    0.58895\n",
       "Zambia                                         1.0    0.00495\n",
       "Faroe Islands                                  1.0    0.68400\n",
       "Tajikistan                                     1.0    0.99625\n",
       "Zimbabwe                                       1.0    0.99880\n",
       "Comoros                                        1.0    0.79520\n",
       "Congo, The Democratic Republic of the          1.0    0.99845\n",
       "\n",
       "[162 rows x 2 columns]"
      ]
     },
     "execution_count": 40,
     "metadata": {},
     "output_type": "execute_result"
    }
   ],
   "source": [
    "country_sentiment.sort_values(by='NumberTimes',ascending=False)"
   ]
  },
  {
   "cell_type": "code",
   "execution_count": 41,
   "metadata": {
    "collapsed": true
   },
   "outputs": [],
   "source": [
    "def average_sentiment(dataframe):\n",
    "    return dataframe['Sentiment']/dataframe['NumberTimes']"
   ]
  },
  {
   "cell_type": "code",
   "execution_count": 42,
   "metadata": {
    "collapsed": false
   },
   "outputs": [],
   "source": [
    "country_sentiment['Sentiment'] = country_sentiment.apply(average_sentiment, axis=1)"
   ]
  },
  {
   "cell_type": "code",
   "execution_count": 43,
   "metadata": {
    "collapsed": false
   },
   "outputs": [
    {
     "data": {
      "text/html": [
       "<div>\n",
       "<table border=\"1\" class=\"dataframe\">\n",
       "  <thead>\n",
       "    <tr style=\"text-align: right;\">\n",
       "      <th></th>\n",
       "      <th>NumberTimes</th>\n",
       "      <th>Sentiment</th>\n",
       "    </tr>\n",
       "  </thead>\n",
       "  <tbody>\n",
       "    <tr>\n",
       "      <th>Saint Pierre and Miquelon</th>\n",
       "      <td>165.0</td>\n",
       "      <td>0.623464</td>\n",
       "    </tr>\n",
       "    <tr>\n",
       "      <th>Tonga</th>\n",
       "      <td>82.0</td>\n",
       "      <td>0.575519</td>\n",
       "    </tr>\n",
       "    <tr>\n",
       "      <th>Norway</th>\n",
       "      <td>54.0</td>\n",
       "      <td>0.507347</td>\n",
       "    </tr>\n",
       "    <tr>\n",
       "      <th>Libya</th>\n",
       "      <td>63.0</td>\n",
       "      <td>0.537657</td>\n",
       "    </tr>\n",
       "    <tr>\n",
       "      <th>Réunion</th>\n",
       "      <td>348.0</td>\n",
       "      <td>0.629705</td>\n",
       "    </tr>\n",
       "    <tr>\n",
       "      <th>United States</th>\n",
       "      <td>170.0</td>\n",
       "      <td>0.696189</td>\n",
       "    </tr>\n",
       "    <tr>\n",
       "      <th>Egypt</th>\n",
       "      <td>29.0</td>\n",
       "      <td>0.722303</td>\n",
       "    </tr>\n",
       "    <tr>\n",
       "      <th>Yemen</th>\n",
       "      <td>8.0</td>\n",
       "      <td>0.641863</td>\n",
       "    </tr>\n",
       "    <tr>\n",
       "      <th>Armenia</th>\n",
       "      <td>167.0</td>\n",
       "      <td>0.690972</td>\n",
       "    </tr>\n",
       "    <tr>\n",
       "      <th>Anguilla</th>\n",
       "      <td>3.0</td>\n",
       "      <td>0.500650</td>\n",
       "    </tr>\n",
       "    <tr>\n",
       "      <th>Iraq</th>\n",
       "      <td>49.0</td>\n",
       "      <td>0.644760</td>\n",
       "    </tr>\n",
       "    <tr>\n",
       "      <th>Israel</th>\n",
       "      <td>67.0</td>\n",
       "      <td>0.685812</td>\n",
       "    </tr>\n",
       "    <tr>\n",
       "      <th>India</th>\n",
       "      <td>136.0</td>\n",
       "      <td>0.633588</td>\n",
       "    </tr>\n",
       "    <tr>\n",
       "      <th>Panama</th>\n",
       "      <td>24.0</td>\n",
       "      <td>0.781700</td>\n",
       "    </tr>\n",
       "    <tr>\n",
       "      <th>Papua New Guinea</th>\n",
       "      <td>1.0</td>\n",
       "      <td>0.621600</td>\n",
       "    </tr>\n",
       "    <tr>\n",
       "      <th>Tunisia</th>\n",
       "      <td>6.0</td>\n",
       "      <td>0.703383</td>\n",
       "    </tr>\n",
       "    <tr>\n",
       "      <th>Micronesia, Federated States of</th>\n",
       "      <td>72.0</td>\n",
       "      <td>0.610976</td>\n",
       "    </tr>\n",
       "    <tr>\n",
       "      <th>Spain</th>\n",
       "      <td>10.0</td>\n",
       "      <td>0.547615</td>\n",
       "    </tr>\n",
       "    <tr>\n",
       "      <th>Cocos (Keeling) Islands</th>\n",
       "      <td>2.0</td>\n",
       "      <td>0.927025</td>\n",
       "    </tr>\n",
       "    <tr>\n",
       "      <th>Austria</th>\n",
       "      <td>28.0</td>\n",
       "      <td>0.729491</td>\n",
       "    </tr>\n",
       "    <tr>\n",
       "      <th>Morocco</th>\n",
       "      <td>16.0</td>\n",
       "      <td>0.749103</td>\n",
       "    </tr>\n",
       "    <tr>\n",
       "      <th>Jordan</th>\n",
       "      <td>17.0</td>\n",
       "      <td>0.595953</td>\n",
       "    </tr>\n",
       "    <tr>\n",
       "      <th>Antarctica</th>\n",
       "      <td>4.0</td>\n",
       "      <td>0.614937</td>\n",
       "    </tr>\n",
       "    <tr>\n",
       "      <th>Turkey</th>\n",
       "      <td>43.0</td>\n",
       "      <td>0.657729</td>\n",
       "    </tr>\n",
       "    <tr>\n",
       "      <th>Qatar</th>\n",
       "      <td>16.0</td>\n",
       "      <td>0.762922</td>\n",
       "    </tr>\n",
       "    <tr>\n",
       "      <th>Australia</th>\n",
       "      <td>14.0</td>\n",
       "      <td>0.731018</td>\n",
       "    </tr>\n",
       "    <tr>\n",
       "      <th>Singapore</th>\n",
       "      <td>13.0</td>\n",
       "      <td>0.879546</td>\n",
       "    </tr>\n",
       "    <tr>\n",
       "      <th>Afghanistan</th>\n",
       "      <td>82.0</td>\n",
       "      <td>0.667869</td>\n",
       "    </tr>\n",
       "    <tr>\n",
       "      <th>Serbia</th>\n",
       "      <td>3.0</td>\n",
       "      <td>0.596383</td>\n",
       "    </tr>\n",
       "    <tr>\n",
       "      <th>Azerbaijan</th>\n",
       "      <td>7.0</td>\n",
       "      <td>0.687257</td>\n",
       "    </tr>\n",
       "    <tr>\n",
       "      <th>...</th>\n",
       "      <td>...</td>\n",
       "      <td>...</td>\n",
       "    </tr>\n",
       "    <tr>\n",
       "      <th>Gibraltar</th>\n",
       "      <td>2.0</td>\n",
       "      <td>0.497400</td>\n",
       "    </tr>\n",
       "    <tr>\n",
       "      <th>Timor-Leste</th>\n",
       "      <td>1.0</td>\n",
       "      <td>0.500000</td>\n",
       "    </tr>\n",
       "    <tr>\n",
       "      <th>Brunei Darussalam</th>\n",
       "      <td>3.0</td>\n",
       "      <td>0.363800</td>\n",
       "    </tr>\n",
       "    <tr>\n",
       "      <th>Zambia</th>\n",
       "      <td>1.0</td>\n",
       "      <td>0.004950</td>\n",
       "    </tr>\n",
       "    <tr>\n",
       "      <th>Trinidad and Tobago</th>\n",
       "      <td>2.0</td>\n",
       "      <td>0.739675</td>\n",
       "    </tr>\n",
       "    <tr>\n",
       "      <th>Faroe Islands</th>\n",
       "      <td>1.0</td>\n",
       "      <td>0.684000</td>\n",
       "    </tr>\n",
       "    <tr>\n",
       "      <th>Tajikistan</th>\n",
       "      <td>1.0</td>\n",
       "      <td>0.996250</td>\n",
       "    </tr>\n",
       "    <tr>\n",
       "      <th>Ukraine</th>\n",
       "      <td>5.0</td>\n",
       "      <td>0.976240</td>\n",
       "    </tr>\n",
       "    <tr>\n",
       "      <th>Algeria</th>\n",
       "      <td>2.0</td>\n",
       "      <td>0.496900</td>\n",
       "    </tr>\n",
       "    <tr>\n",
       "      <th>Lebanon</th>\n",
       "      <td>4.0</td>\n",
       "      <td>0.367525</td>\n",
       "    </tr>\n",
       "    <tr>\n",
       "      <th>Ghana</th>\n",
       "      <td>2.0</td>\n",
       "      <td>0.601150</td>\n",
       "    </tr>\n",
       "    <tr>\n",
       "      <th>Kiribati</th>\n",
       "      <td>1.0</td>\n",
       "      <td>0.973700</td>\n",
       "    </tr>\n",
       "    <tr>\n",
       "      <th>Bosnia and Herzegovina</th>\n",
       "      <td>1.0</td>\n",
       "      <td>0.969950</td>\n",
       "    </tr>\n",
       "    <tr>\n",
       "      <th>American Samoa</th>\n",
       "      <td>2.0</td>\n",
       "      <td>0.996550</td>\n",
       "    </tr>\n",
       "    <tr>\n",
       "      <th>Marshall Islands</th>\n",
       "      <td>1.0</td>\n",
       "      <td>0.993950</td>\n",
       "    </tr>\n",
       "    <tr>\n",
       "      <th>Oman</th>\n",
       "      <td>1.0</td>\n",
       "      <td>0.680600</td>\n",
       "    </tr>\n",
       "    <tr>\n",
       "      <th>Hungary</th>\n",
       "      <td>1.0</td>\n",
       "      <td>0.604800</td>\n",
       "    </tr>\n",
       "    <tr>\n",
       "      <th>Malaysia</th>\n",
       "      <td>2.0</td>\n",
       "      <td>0.939450</td>\n",
       "    </tr>\n",
       "    <tr>\n",
       "      <th>Bahrain</th>\n",
       "      <td>3.0</td>\n",
       "      <td>0.700783</td>\n",
       "    </tr>\n",
       "    <tr>\n",
       "      <th>Côte d'Ivoire</th>\n",
       "      <td>1.0</td>\n",
       "      <td>0.500000</td>\n",
       "    </tr>\n",
       "    <tr>\n",
       "      <th>Liechtenstein</th>\n",
       "      <td>1.0</td>\n",
       "      <td>0.997850</td>\n",
       "    </tr>\n",
       "    <tr>\n",
       "      <th>Finland</th>\n",
       "      <td>1.0</td>\n",
       "      <td>0.885850</td>\n",
       "    </tr>\n",
       "    <tr>\n",
       "      <th>Seychelles</th>\n",
       "      <td>1.0</td>\n",
       "      <td>0.000400</td>\n",
       "    </tr>\n",
       "    <tr>\n",
       "      <th>Barbados</th>\n",
       "      <td>3.0</td>\n",
       "      <td>0.749400</td>\n",
       "    </tr>\n",
       "    <tr>\n",
       "      <th>Dominican Republic</th>\n",
       "      <td>1.0</td>\n",
       "      <td>0.601150</td>\n",
       "    </tr>\n",
       "    <tr>\n",
       "      <th>Costa Rica</th>\n",
       "      <td>3.0</td>\n",
       "      <td>0.613783</td>\n",
       "    </tr>\n",
       "    <tr>\n",
       "      <th>Malawi</th>\n",
       "      <td>1.0</td>\n",
       "      <td>0.937500</td>\n",
       "    </tr>\n",
       "    <tr>\n",
       "      <th>Greenland</th>\n",
       "      <td>2.0</td>\n",
       "      <td>0.924800</td>\n",
       "    </tr>\n",
       "    <tr>\n",
       "      <th>Guinea-Bissau</th>\n",
       "      <td>1.0</td>\n",
       "      <td>0.448650</td>\n",
       "    </tr>\n",
       "    <tr>\n",
       "      <th>Congo, The Democratic Republic of the</th>\n",
       "      <td>1.0</td>\n",
       "      <td>0.998450</td>\n",
       "    </tr>\n",
       "  </tbody>\n",
       "</table>\n",
       "<p>162 rows × 2 columns</p>\n",
       "</div>"
      ],
      "text/plain": [
       "                                       NumberTimes  Sentiment\n",
       "Saint Pierre and Miquelon                    165.0   0.623464\n",
       "Tonga                                         82.0   0.575519\n",
       "Norway                                        54.0   0.507347\n",
       "Libya                                         63.0   0.537657\n",
       "Réunion                                      348.0   0.629705\n",
       "United States                                170.0   0.696189\n",
       "Egypt                                         29.0   0.722303\n",
       "Yemen                                          8.0   0.641863\n",
       "Armenia                                      167.0   0.690972\n",
       "Anguilla                                       3.0   0.500650\n",
       "Iraq                                          49.0   0.644760\n",
       "Israel                                        67.0   0.685812\n",
       "India                                        136.0   0.633588\n",
       "Panama                                        24.0   0.781700\n",
       "Papua New Guinea                               1.0   0.621600\n",
       "Tunisia                                        6.0   0.703383\n",
       "Micronesia, Federated States of               72.0   0.610976\n",
       "Spain                                         10.0   0.547615\n",
       "Cocos (Keeling) Islands                        2.0   0.927025\n",
       "Austria                                       28.0   0.729491\n",
       "Morocco                                       16.0   0.749103\n",
       "Jordan                                        17.0   0.595953\n",
       "Antarctica                                     4.0   0.614937\n",
       "Turkey                                        43.0   0.657729\n",
       "Qatar                                         16.0   0.762922\n",
       "Australia                                     14.0   0.731018\n",
       "Singapore                                     13.0   0.879546\n",
       "Afghanistan                                   82.0   0.667869\n",
       "Serbia                                         3.0   0.596383\n",
       "Azerbaijan                                     7.0   0.687257\n",
       "...                                            ...        ...\n",
       "Gibraltar                                      2.0   0.497400\n",
       "Timor-Leste                                    1.0   0.500000\n",
       "Brunei Darussalam                              3.0   0.363800\n",
       "Zambia                                         1.0   0.004950\n",
       "Trinidad and Tobago                            2.0   0.739675\n",
       "Faroe Islands                                  1.0   0.684000\n",
       "Tajikistan                                     1.0   0.996250\n",
       "Ukraine                                        5.0   0.976240\n",
       "Algeria                                        2.0   0.496900\n",
       "Lebanon                                        4.0   0.367525\n",
       "Ghana                                          2.0   0.601150\n",
       "Kiribati                                       1.0   0.973700\n",
       "Bosnia and Herzegovina                         1.0   0.969950\n",
       "American Samoa                                 2.0   0.996550\n",
       "Marshall Islands                               1.0   0.993950\n",
       "Oman                                           1.0   0.680600\n",
       "Hungary                                        1.0   0.604800\n",
       "Malaysia                                       2.0   0.939450\n",
       "Bahrain                                        3.0   0.700783\n",
       "Côte d'Ivoire                                  1.0   0.500000\n",
       "Liechtenstein                                  1.0   0.997850\n",
       "Finland                                        1.0   0.885850\n",
       "Seychelles                                     1.0   0.000400\n",
       "Barbados                                       3.0   0.749400\n",
       "Dominican Republic                             1.0   0.601150\n",
       "Costa Rica                                     3.0   0.613783\n",
       "Malawi                                         1.0   0.937500\n",
       "Greenland                                      2.0   0.924800\n",
       "Guinea-Bissau                                  1.0   0.448650\n",
       "Congo, The Democratic Republic of the          1.0   0.998450\n",
       "\n",
       "[162 rows x 2 columns]"
      ]
     },
     "execution_count": 43,
     "metadata": {},
     "output_type": "execute_result"
    }
   ],
   "source": [
    "country_sentiment"
   ]
  },
  {
   "cell_type": "markdown",
   "metadata": {
    "collapsed": true
   },
   "source": [
    "# QUESTION 3\n",
    "## In this excercise, we used gensim to perform topic modelling. \n",
    "1. We placed our corpus in a format accepted to gensim (The gensim dictionary object)\n",
    "2. We used the bag of words representation for each of the aforementioned words\n",
    "3. Performed LDA models using numbers to create models with number of topics varying from 5 to 50\n",
    "4. Each of these models were saved as a lda file\n",
    "5. The main topics associated with the models were compared"
   ]
  },
  {
   "cell_type": "code",
   "execution_count": 44,
   "metadata": {
    "collapsed": false
   },
   "outputs": [
    {
     "name": "stderr",
     "output_type": "stream",
     "text": [
      "/home/chibu/Downloads/ENTER/lib/python3.5/site-packages/gensim/utils.py:1015: UserWarning: Pattern library is not installed, lemmatization won't be available.\n",
      "  warnings.warn(\"Pattern library is not installed, lemmatization won't be available.\")\n"
     ]
    }
   ],
   "source": [
    "import gensim"
   ]
  },
  {
   "cell_type": "code",
   "execution_count": 46,
   "metadata": {
    "collapsed": false
   },
   "outputs": [
    {
     "name": "stdout",
     "output_type": "stream",
     "text": [
      "Dictionary(23506 unique tokens: ['drama', 'insulted', 'balderston', 'pauses', 'artificially']...)\n"
     ]
    }
   ],
   "source": [
    "my_corpus = filtered_words_lower_case\n",
    "corpus_series = pd.Series(filtered_words_lower_case)\n",
    "#define dictionary\n",
    "corpus_dict = gensim.corpora.dictionary.Dictionary([corpus_series])\n",
    "\n",
    "print(corpus_dict)"
   ]
  },
  {
   "cell_type": "code",
   "execution_count": 47,
   "metadata": {
    "collapsed": false
   },
   "outputs": [],
   "source": [
    "#converts to bag of words representation\n",
    "corpus_bow = [corpus_dict.doc2bow(word) for word in [corpus_series]]"
   ]
  },
  {
   "cell_type": "code",
   "execution_count": 178,
   "metadata": {
    "collapsed": false,
    "scrolled": true
   },
   "outputs": [
    {
     "name": "stdout",
     "output_type": "stream",
     "text": [
      "(1, 23506, 2)\n",
      "<class 'list'>\n",
      "<class 'tuple'>\n",
      "(0, 10)\n"
     ]
    }
   ],
   "source": [
    "#list of word ID and it's frequency pair stored as a tuple\n",
    "print(shape(corpus_bow))\n",
    "print(type(corpus_bow))\n",
    "print(type(corpus_bow[0][0]))\n",
    "print(corpus_bow[0][0])"
   ]
  },
  {
   "cell_type": "code",
   "execution_count": null,
   "metadata": {
    "collapsed": true
   },
   "outputs": [],
   "source": [
    "for x in range(5,51,5):\n",
    "    number_of_topics = str(x)\n",
    "    stem = 'corpus'+ number_of_topics+\".lda\"\n",
    "\n",
    "    #define LDA model \n",
    "    #As the bag of words are word_id mapped to frequency. We need a way to map\n",
    "    #each word id to the word. This is done via id2word via the corpus dictionary\n",
    "    my_model = gensim.models.ldamodel.LdaModel(corpus= corpus_bow,\n",
    "                                               num_topics=number_of_topics, \n",
    "                                               id2word=corpus_dict)\n",
    "    #save the model to separate file\n",
    "    my_model.save(stem)"
   ]
  },
  {
   "cell_type": "code",
   "execution_count": 188,
   "metadata": {
    "collapsed": false
   },
   "outputs": [
    {
     "data": {
      "text/plain": [
       "(45, 2)"
      ]
     },
     "execution_count": 188,
     "metadata": {},
     "output_type": "execute_result"
    }
   ],
   "source": [
    "number_of_topics = 45\n",
    "number_of_topics_string = str(number_of_topics)\n",
    "stem = 'corpus'+ number_of_topics_string+\".lda\"\n",
    "my_model= gensim.models.LdaModel.load(stem)\n",
    "\n",
    "#prints the number of topics that was inputed when the model was created\n",
    "shape(my_model.print_topics(num_topics = number_of_topics))"
   ]
  },
  {
   "cell_type": "code",
   "execution_count": 214,
   "metadata": {
    "collapsed": true
   },
   "outputs": [],
   "source": [
    "#testing with alpha set to auto \n",
    "number_of_topics = 45\n",
    "my_model = gensim.models.ldamodel.LdaModel(corpus= corpus_bow,\n",
    "                                               num_topics=number_of_topics, \n",
    "                                              id2word=corpus_dict,\n",
    "                                          alpha = 'auto')"
   ]
  },
  {
   "cell_type": "code",
   "execution_count": 215,
   "metadata": {
    "collapsed": false
   },
   "outputs": [],
   "source": [
    "#creates an empty dictionary that is merge with the original corpus\n",
    "id2word = gensim.corpora.Dictionary()\n",
    "_ = id2word.merge_with(corpus_dict)"
   ]
  },
  {
   "cell_type": "code",
   "execution_count": 221,
   "metadata": {
    "collapsed": false
   },
   "outputs": [
    {
     "data": {
      "text/plain": [
       "[(0,\n",
       "  '0.005*\"state\" + 0.005*\"fw\" + 0.004*\"pm\" + 0.004*\"1\" + 0.004*\"call\" + 0.004*\"office\" + 0.004*\"10\" + 0.003*\"new\" + 0.003*\"obama\" + 0.003*\"secretary\"'),\n",
       " (1,\n",
       "  '0.007*\"state\" + 0.005*\"pm\" + 0.005*\"secretary\" + 0.004*\"call\" + 0.004*\"u\" + 0.004*\"new\" + 0.004*\"president\" + 0.004*\"1\" + 0.004*\"time\" + 0.004*\"w\"'),\n",
       " (2,\n",
       "  '0.005*\"pm\" + 0.005*\"state\" + 0.005*\"secretary\" + 0.005*\"call\" + 0.004*\"fw\" + 0.004*\"u\" + 0.004*\"1\" + 0.004*\"w\" + 0.003*\"one\" + 0.003*\"obama\"'),\n",
       " (3,\n",
       "  '0.006*\"state\" + 0.004*\"fw\" + 0.004*\"1\" + 0.004*\"call\" + 0.004*\"pm\" + 0.003*\"office\" + 0.003*\"new\" + 0.003*\"u\" + 0.003*\"also\" + 0.003*\"us\"'),\n",
       " (4,\n",
       "  '0.005*\"state\" + 0.005*\"fw\" + 0.004*\"1\" + 0.004*\"secretary\" + 0.004*\"pm\" + 0.004*\"president\" + 0.004*\"call\" + 0.004*\"u\" + 0.003*\"office\" + 0.003*\"10\"'),\n",
       " (5,\n",
       "  '0.007*\"state\" + 0.005*\"pm\" + 0.005*\"call\" + 0.004*\"obama\" + 0.004*\"1\" + 0.004*\"fw\" + 0.004*\"secretary\" + 0.003*\"said\" + 0.003*\"time\" + 0.003*\"us\"'),\n",
       " (6,\n",
       "  '0.005*\"state\" + 0.005*\"pm\" + 0.004*\"call\" + 0.004*\"fw\" + 0.004*\"u\" + 0.004*\"secretary\" + 0.003*\"us\" + 0.003*\"obama\" + 0.003*\"said\" + 0.003*\"new\"'),\n",
       " (7,\n",
       "  '0.005*\"secretary\" + 0.004*\"state\" + 0.004*\"pm\" + 0.004*\"call\" + 0.004*\"u\" + 0.004*\"1\" + 0.003*\"office\" + 0.003*\"obama\" + 0.003*\"w\" + 0.003*\"30\"'),\n",
       " (8,\n",
       "  '0.006*\"pm\" + 0.005*\"state\" + 0.004*\"fw\" + 0.004*\"u\" + 0.004*\"call\" + 0.003*\"1\" + 0.003*\"office\" + 0.003*\"secretary\" + 0.003*\"10\" + 0.003*\"said\"'),\n",
       " (9,\n",
       "  '0.006*\"state\" + 0.004*\"office\" + 0.004*\"pm\" + 0.004*\"secretary\" + 0.004*\"call\" + 0.003*\"u\" + 0.003*\"w\" + 0.003*\"time\" + 0.003*\"us\" + 0.003*\"new\"'),\n",
       " (10,\n",
       "  '0.006*\"fw\" + 0.006*\"state\" + 0.005*\"pm\" + 0.004*\"call\" + 0.004*\"one\" + 0.004*\"secretary\" + 0.003*\"u\" + 0.003*\"1\" + 0.003*\"w\" + 0.003*\"president\"'),\n",
       " (11,\n",
       "  '0.004*\"call\" + 0.004*\"pm\" + 0.004*\"1\" + 0.004*\"secretary\" + 0.004*\"fw\" + 0.004*\"u\" + 0.003*\"state\" + 0.003*\"said\" + 0.003*\"w\" + 0.003*\"us\"'),\n",
       " (12,\n",
       "  '0.006*\"state\" + 0.005*\"fw\" + 0.004*\"pm\" + 0.004*\"secretary\" + 0.004*\"office\" + 0.004*\"obama\" + 0.003*\"u\" + 0.003*\"new\" + 0.003*\"call\" + 0.003*\"1\"'),\n",
       " (13,\n",
       "  '0.005*\"pm\" + 0.005*\"call\" + 0.005*\"state\" + 0.004*\"w\" + 0.004*\"secretary\" + 0.004*\"u\" + 0.003*\"time\" + 0.003*\"fw\" + 0.003*\"fyi\" + 0.003*\"one\"'),\n",
       " (14,\n",
       "  '0.009*\"state\" + 0.005*\"pm\" + 0.004*\"1\" + 0.004*\"secretary\" + 0.004*\"u\" + 0.004*\"office\" + 0.003*\"30\" + 0.003*\"obama\" + 0.003*\"call\" + 0.003*\"fw\"'),\n",
       " (15,\n",
       "  '0.006*\"pm\" + 0.006*\"state\" + 0.004*\"fw\" + 0.004*\"one\" + 0.004*\"office\" + 0.004*\"call\" + 0.004*\"secretary\" + 0.004*\"obama\" + 0.003*\"1\" + 0.003*\"u\"'),\n",
       " (16,\n",
       "  '0.008*\"state\" + 0.006*\"pm\" + 0.005*\"secretary\" + 0.005*\"1\" + 0.004*\"fw\" + 0.004*\"office\" + 0.004*\"call\" + 0.004*\"new\" + 0.003*\"30\" + 0.003*\"obama\"'),\n",
       " (17,\n",
       "  '0.005*\"u\" + 0.005*\"pm\" + 0.004*\"state\" + 0.004*\"call\" + 0.004*\"secretary\" + 0.003*\"obama\" + 0.003*\"said\" + 0.003*\"2\" + 0.003*\"fw\" + 0.003*\"w\"'),\n",
       " (18,\n",
       "  '0.005*\"state\" + 0.004*\"call\" + 0.004*\"pm\" + 0.004*\"fw\" + 0.004*\"10\" + 0.003*\"1\" + 0.003*\"secretary\" + 0.003*\"u\" + 0.003*\"w\" + 0.003*\"time\"'),\n",
       " (19,\n",
       "  '0.008*\"state\" + 0.005*\"call\" + 0.005*\"secretary\" + 0.005*\"office\" + 0.005*\"fw\" + 0.004*\"pm\" + 0.004*\"1\" + 0.004*\"obama\" + 0.004*\"u\" + 0.003*\"one\"'),\n",
       " (20,\n",
       "  '0.006*\"state\" + 0.004*\"u\" + 0.004*\"fw\" + 0.004*\"pm\" + 0.004*\"office\" + 0.003*\"secretary\" + 0.003*\"call\" + 0.003*\"also\" + 0.003*\"2\" + 0.003*\"fyi\"'),\n",
       " (21,\n",
       "  '0.007*\"state\" + 0.005*\"fw\" + 0.004*\"secretary\" + 0.004*\"call\" + 0.003*\"pm\" + 0.003*\"said\" + 0.003*\"1\" + 0.003*\"new\" + 0.003*\"obama\" + 0.003*\"office\"'),\n",
       " (22,\n",
       "  '0.005*\"pm\" + 0.004*\"state\" + 0.004*\"call\" + 0.004*\"u\" + 0.004*\"1\" + 0.003*\"us\" + 0.003*\"secretary\" + 0.003*\"obama\" + 0.003*\"new\" + 0.003*\"said\"'),\n",
       " (23,\n",
       "  '0.005*\"state\" + 0.004*\"call\" + 0.004*\"fw\" + 0.004*\"pm\" + 0.004*\"u\" + 0.004*\"secretary\" + 0.003*\"1\" + 0.003*\"office\" + 0.003*\"president\" + 0.003*\"new\"'),\n",
       " (24,\n",
       "  '0.006*\"state\" + 0.005*\"pm\" + 0.005*\"fw\" + 0.004*\"call\" + 0.004*\"secretary\" + 0.003*\"office\" + 0.003*\"10\" + 0.003*\"obama\" + 0.003*\"u\" + 0.003*\"fyi\"'),\n",
       " (25,\n",
       "  '0.007*\"pm\" + 0.005*\"fw\" + 0.005*\"call\" + 0.004*\"state\" + 0.004*\"1\" + 0.003*\"fyi\" + 0.003*\"secretary\" + 0.003*\"u\" + 0.003*\"obama\" + 0.003*\"w\"'),\n",
       " (26,\n",
       "  '0.005*\"state\" + 0.005*\"pm\" + 0.005*\"fw\" + 0.004*\"fyi\" + 0.004*\"secretary\" + 0.003*\"time\" + 0.003*\"call\" + 0.003*\"1\" + 0.003*\"obama\" + 0.003*\"one\"'),\n",
       " (27,\n",
       "  '0.005*\"call\" + 0.005*\"secretary\" + 0.004*\"state\" + 0.004*\"fw\" + 0.004*\"pm\" + 0.004*\"1\" + 0.003*\"office\" + 0.003*\"fyi\" + 0.003*\"president\" + 0.003*\"said\"'),\n",
       " (28,\n",
       "  '0.005*\"state\" + 0.004*\"u\" + 0.004*\"fw\" + 0.004*\"pm\" + 0.003*\"new\" + 0.003*\"call\" + 0.003*\"obama\" + 0.003*\"w\" + 0.003*\"fyi\" + 0.003*\"secretary\"'),\n",
       " (29,\n",
       "  '0.005*\"pm\" + 0.005*\"state\" + 0.005*\"call\" + 0.004*\"fw\" + 0.003*\"1\" + 0.003*\"fyi\" + 0.003*\"new\" + 0.003*\"secretary\" + 0.003*\"one\" + 0.003*\"office\"'),\n",
       " (30,\n",
       "  '0.005*\"state\" + 0.005*\"u\" + 0.004*\"call\" + 0.004*\"fw\" + 0.004*\"secretary\" + 0.004*\"1\" + 0.004*\"pm\" + 0.003*\"obama\" + 0.003*\"one\" + 0.003*\"30\"'),\n",
       " (31,\n",
       "  '0.006*\"state\" + 0.005*\"pm\" + 0.004*\"secretary\" + 0.003*\"one\" + 0.003*\"w\" + 0.003*\"new\" + 0.003*\"fw\" + 0.003*\"obama\" + 0.003*\"call\" + 0.003*\"u\"'),\n",
       " (32,\n",
       "  '0.007*\"state\" + 0.005*\"call\" + 0.005*\"pm\" + 0.005*\"fw\" + 0.004*\"u\" + 0.004*\"secretary\" + 0.004*\"1\" + 0.004*\"also\" + 0.003*\"30\" + 0.003*\"fyi\"'),\n",
       " (33,\n",
       "  '0.004*\"pm\" + 0.004*\"state\" + 0.004*\"fw\" + 0.004*\"secretary\" + 0.004*\"office\" + 0.004*\"u\" + 0.003*\"w\" + 0.003*\"also\" + 0.003*\"said\" + 0.003*\"10\"'),\n",
       " (34,\n",
       "  '0.006*\"state\" + 0.004*\"u\" + 0.004*\"fw\" + 0.004*\"pm\" + 0.004*\"w\" + 0.004*\"call\" + 0.003*\"secretary\" + 0.003*\"department\" + 0.003*\"2\" + 0.003*\"10\"'),\n",
       " (35,\n",
       "  '0.006*\"state\" + 0.005*\"pm\" + 0.004*\"call\" + 0.004*\"u\" + 0.004*\"secretary\" + 0.004*\"fw\" + 0.004*\"1\" + 0.003*\"clinton\" + 0.003*\"meeting\" + 0.003*\"2\"'),\n",
       " (36,\n",
       "  '0.006*\"state\" + 0.005*\"pm\" + 0.004*\"1\" + 0.004*\"call\" + 0.004*\"obama\" + 0.004*\"secretary\" + 0.003*\"w\" + 0.003*\"fw\" + 0.003*\"2\" + 0.003*\"u\"'),\n",
       " (37,\n",
       "  '0.006*\"state\" + 0.004*\"call\" + 0.004*\"fw\" + 0.004*\"pm\" + 0.004*\"secretary\" + 0.004*\"1\" + 0.003*\"2\" + 0.003*\"time\" + 0.003*\"u\" + 0.003*\"w\"'),\n",
       " (38,\n",
       "  '0.007*\"state\" + 0.004*\"fw\" + 0.004*\"secretary\" + 0.004*\"pm\" + 0.004*\"u\" + 0.004*\"call\" + 0.003*\"said\" + 0.003*\"w\" + 0.003*\"fyi\" + 0.003*\"2\"'),\n",
       " (39,\n",
       "  '0.007*\"state\" + 0.005*\"u\" + 0.004*\"pm\" + 0.004*\"fw\" + 0.004*\"secretary\" + 0.004*\"office\" + 0.003*\"obama\" + 0.003*\"1\" + 0.003*\"new\" + 0.003*\"us\"'),\n",
       " (40,\n",
       "  '0.006*\"pm\" + 0.004*\"fw\" + 0.004*\"state\" + 0.004*\"secretary\" + 0.004*\"call\" + 0.004*\"1\" + 0.004*\"obama\" + 0.004*\"u\" + 0.003*\"new\" + 0.003*\"office\"'),\n",
       " (41,\n",
       "  '0.005*\"call\" + 0.005*\"pm\" + 0.004*\"state\" + 0.004*\"1\" + 0.004*\"u\" + 0.004*\"secretary\" + 0.004*\"office\" + 0.003*\"obama\" + 0.003*\"w\" + 0.003*\"fw\"'),\n",
       " (42,\n",
       "  '0.005*\"state\" + 0.005*\"call\" + 0.005*\"pm\" + 0.004*\"u\" + 0.004*\"secretary\" + 0.003*\"1\" + 0.003*\"office\" + 0.003*\"fw\" + 0.003*\"said\" + 0.003*\"house\"'),\n",
       " (43,\n",
       "  '0.007*\"state\" + 0.005*\"call\" + 0.004*\"fw\" + 0.004*\"pm\" + 0.004*\"new\" + 0.004*\"w\" + 0.004*\"fyi\" + 0.004*\"1\" + 0.003*\"secretary\" + 0.003*\"u\"'),\n",
       " (44,\n",
       "  '0.006*\"pm\" + 0.005*\"state\" + 0.004*\"secretary\" + 0.004*\"call\" + 0.003*\"fw\" + 0.003*\"new\" + 0.003*\"1\" + 0.003*\"obama\" + 0.003*\"us\" + 0.003*\"one\"')]"
      ]
     },
     "execution_count": 221,
     "metadata": {},
     "output_type": "execute_result"
    }
   ],
   "source": [
    "my_model.show_topics(num_topics = number_of_topics)"
   ]
  },
  {
   "cell_type": "code",
   "execution_count": 222,
   "metadata": {
    "collapsed": false
   },
   "outputs": [
    {
     "data": {
      "text/plain": [
       "(45, 2)"
      ]
     },
     "execution_count": 222,
     "metadata": {},
     "output_type": "execute_result"
    }
   ],
   "source": [
    "shape(my_model.show_topics(num_topics = 45))\n"
   ]
  },
  {
   "cell_type": "code",
   "execution_count": 191,
   "metadata": {
    "collapsed": false
   },
   "outputs": [
    {
     "data": {
      "text/plain": [
       "[(13548, 1)]"
      ]
     },
     "execution_count": 191,
     "metadata": {},
     "output_type": "execute_result"
    }
   ],
   "source": [
    "#input here the original corpus\n",
    "query = id2word.doc2bow([\"pm\"])\n",
    "\n",
    "#current query, as the bag of word \n",
    "query"
   ]
  },
  {
   "cell_type": "markdown",
   "metadata": {},
   "source": [
    "# Note that you may need to use \"print_topics\" instead if you are passing in the corpus\n",
    "query = id2word.doc2bow(my_corpus)\n",
    "my_model.print_topics(num_topics = number_of_topics)\n",
    "\n",
    "for i in query:\n",
    "    #print(my_model[i])"
   ]
  },
  {
   "cell_type": "code",
   "execution_count": 206,
   "metadata": {
    "collapsed": false
   },
   "outputs": [
    {
     "data": {
      "text/plain": [
       "[(0, 0.014621747765013024),\n",
       " (1, 0.014728442746144996),\n",
       " (2, 0.014744712759323654),\n",
       " (3, 0.014718819395727485),\n",
       " (4, 0.014711859821980961),\n",
       " (5, 0.014693318395162556),\n",
       " (6, 0.014655423662580935),\n",
       " (7, 0.014648847458166428),\n",
       " (8, 0.0147145929606688),\n",
       " (9, 0.014592768501046639),\n",
       " (10, 0.0147093893230949),\n",
       " (11, 0.014594944891890328),\n",
       " (12, 0.014654523326029824),\n",
       " (13, 0.014699990203478185),\n",
       " (14, 0.014682662496631516),\n",
       " (15, 0.01470653906444838),\n",
       " (16, 0.014708313396275494),\n",
       " (17, 0.3539759670626329),\n",
       " (18, 0.014725666622478293),\n",
       " (19, 0.014685600663255595),\n",
       " (20, 0.014719188508750133),\n",
       " (21, 0.014656159002012554),\n",
       " (22, 0.014647775715286724),\n",
       " (23, 0.014652912883251103),\n",
       " (24, 0.014683866995516321),\n",
       " (25, 0.014651483971367195),\n",
       " (26, 0.014661595695306073),\n",
       " (27, 0.014640004356769791),\n",
       " (28, 0.014634405367369853),\n",
       " (29, 0.01473785768269059),\n",
       " (30, 0.014671283562525249),\n",
       " (31, 0.014644651357263432),\n",
       " (32, 0.014694822368970083),\n",
       " (33, 0.014688166550246877),\n",
       " (34, 0.014780299876361595),\n",
       " (35, 0.014643974785136444),\n",
       " (36, 0.014769238922111527),\n",
       " (37, 0.014646393226303829),\n",
       " (38, 0.014669138706504046),\n",
       " (39, 0.014616098698835643),\n",
       " (40, 0.014707398577114544),\n",
       " (41, 0.014767183804600926),\n",
       " (42, 0.014639696993048986),\n",
       " (43, 0.014693059118022926),\n",
       " (44, 0.014709212758602467)]"
      ]
     },
     "execution_count": 206,
     "metadata": {},
     "output_type": "execute_result"
    }
   ],
   "source": [
    "#tuple of topic ID and their likelihood that the query relates to the topic\n",
    "integer_topic_and_likelihood = my_model[query]\n",
    "integer_topic_and_likelihood"
   ]
  },
  {
   "cell_type": "code",
   "execution_count": 211,
   "metadata": {
    "collapsed": false
   },
   "outputs": [],
   "source": [
    "#first one\n",
    "example_topic = integer_topic_and_likelihood[1][0]"
   ]
  },
  {
   "cell_type": "code",
   "execution_count": 212,
   "metadata": {
    "collapsed": false
   },
   "outputs": [
    {
     "data": {
      "text/plain": [
       "'0.006*\"state\" + 0.005*\"call\" + 0.005*\"fw\" + 0.005*\"pm\" + 0.004*\"office\" + 0.004*\"house\" + 0.003*\"president\" + 0.003*\"secretary\" + 0.003*\"obama\" + 0.003*\"new\" + 0.003*\"meeting\" + 0.003*\"one\" + 0.003*\"10\" + 0.003*\"u\" + 0.003*\"2\" + 0.003*\"30\" + 0.003*\"us\" + 0.003*\"1\" + 0.003*\"8\" + 0.003*\"department\" + 0.003*\"00\" + 0.003*\"today\" + 0.002*\"also\" + 0.002*\"w\" + 0.002*\"two\" + 0.002*\"said\" + 0.002*\"see\" + 0.002*\"time\" + 0.002*\"fyi\" + 0.002*\"h\" + 0.002*\"3\" + 0.002*\"israel\" + 0.002*\"15\" + 0.002*\"first\" + 0.002*\"american\" + 0.002*\"foreign\" + 0.002*\"4\" + 0.002*\"good\" + 0.002*\"work\" + 0.002*\"5\" + 0.002*\"world\" + 0.002*\"want\" + 0.002*\"well\" + 0.002*\"2010\" + 0.002*\"back\"'"
      ]
     },
     "execution_count": 212,
     "metadata": {},
     "output_type": "execute_result"
    }
   ],
   "source": [
    "model_topic = my_model.print_topic(example_topic,\n",
    "                                   topn = number_of_topics)\n",
    "model_topic\n",
    "#this shows the weighting. HOw much does each word influence the current topic"
   ]
  },
  {
   "cell_type": "code",
   "execution_count": 213,
   "metadata": {
    "collapsed": false
   },
   "outputs": [
    {
     "data": {
      "text/html": [
       "<div>\n",
       "<table border=\"1\" class=\"dataframe\">\n",
       "  <thead>\n",
       "    <tr style=\"text-align: right;\">\n",
       "      <th></th>\n",
       "      <th>Likelihood</th>\n",
       "      <th>Topic</th>\n",
       "    </tr>\n",
       "  </thead>\n",
       "  <tbody>\n",
       "    <tr>\n",
       "      <th>17</th>\n",
       "      <td>0.353976</td>\n",
       "      <td>1</td>\n",
       "    </tr>\n",
       "    <tr>\n",
       "      <th>34</th>\n",
       "      <td>0.014780</td>\n",
       "      <td>american</td>\n",
       "    </tr>\n",
       "    <tr>\n",
       "      <th>36</th>\n",
       "      <td>0.014769</td>\n",
       "      <td>4</td>\n",
       "    </tr>\n",
       "    <tr>\n",
       "      <th>41</th>\n",
       "      <td>0.014767</td>\n",
       "      <td>want</td>\n",
       "    </tr>\n",
       "    <tr>\n",
       "      <th>2</th>\n",
       "      <td>0.014745</td>\n",
       "      <td>fw</td>\n",
       "    </tr>\n",
       "    <tr>\n",
       "      <th>29</th>\n",
       "      <td>0.014738</td>\n",
       "      <td>h</td>\n",
       "    </tr>\n",
       "    <tr>\n",
       "      <th>1</th>\n",
       "      <td>0.014728</td>\n",
       "      <td>call</td>\n",
       "    </tr>\n",
       "    <tr>\n",
       "      <th>18</th>\n",
       "      <td>0.014726</td>\n",
       "      <td>8</td>\n",
       "    </tr>\n",
       "    <tr>\n",
       "      <th>20</th>\n",
       "      <td>0.014719</td>\n",
       "      <td>00</td>\n",
       "    </tr>\n",
       "    <tr>\n",
       "      <th>3</th>\n",
       "      <td>0.014719</td>\n",
       "      <td>pm</td>\n",
       "    </tr>\n",
       "    <tr>\n",
       "      <th>8</th>\n",
       "      <td>0.014715</td>\n",
       "      <td>obama</td>\n",
       "    </tr>\n",
       "    <tr>\n",
       "      <th>4</th>\n",
       "      <td>0.014712</td>\n",
       "      <td>office</td>\n",
       "    </tr>\n",
       "    <tr>\n",
       "      <th>10</th>\n",
       "      <td>0.014709</td>\n",
       "      <td>meeting</td>\n",
       "    </tr>\n",
       "    <tr>\n",
       "      <th>44</th>\n",
       "      <td>0.014709</td>\n",
       "      <td>back</td>\n",
       "    </tr>\n",
       "    <tr>\n",
       "      <th>16</th>\n",
       "      <td>0.014708</td>\n",
       "      <td>us</td>\n",
       "    </tr>\n",
       "    <tr>\n",
       "      <th>40</th>\n",
       "      <td>0.014707</td>\n",
       "      <td>world</td>\n",
       "    </tr>\n",
       "    <tr>\n",
       "      <th>15</th>\n",
       "      <td>0.014707</td>\n",
       "      <td>30</td>\n",
       "    </tr>\n",
       "    <tr>\n",
       "      <th>13</th>\n",
       "      <td>0.014700</td>\n",
       "      <td>u</td>\n",
       "    </tr>\n",
       "    <tr>\n",
       "      <th>32</th>\n",
       "      <td>0.014695</td>\n",
       "      <td>15</td>\n",
       "    </tr>\n",
       "    <tr>\n",
       "      <th>5</th>\n",
       "      <td>0.014693</td>\n",
       "      <td>house</td>\n",
       "    </tr>\n",
       "    <tr>\n",
       "      <th>43</th>\n",
       "      <td>0.014693</td>\n",
       "      <td>2010</td>\n",
       "    </tr>\n",
       "    <tr>\n",
       "      <th>33</th>\n",
       "      <td>0.014688</td>\n",
       "      <td>first</td>\n",
       "    </tr>\n",
       "    <tr>\n",
       "      <th>19</th>\n",
       "      <td>0.014686</td>\n",
       "      <td>department</td>\n",
       "    </tr>\n",
       "    <tr>\n",
       "      <th>24</th>\n",
       "      <td>0.014684</td>\n",
       "      <td>two</td>\n",
       "    </tr>\n",
       "    <tr>\n",
       "      <th>14</th>\n",
       "      <td>0.014683</td>\n",
       "      <td>2</td>\n",
       "    </tr>\n",
       "    <tr>\n",
       "      <th>30</th>\n",
       "      <td>0.014671</td>\n",
       "      <td>3</td>\n",
       "    </tr>\n",
       "    <tr>\n",
       "      <th>38</th>\n",
       "      <td>0.014669</td>\n",
       "      <td>work</td>\n",
       "    </tr>\n",
       "    <tr>\n",
       "      <th>26</th>\n",
       "      <td>0.014662</td>\n",
       "      <td>see</td>\n",
       "    </tr>\n",
       "    <tr>\n",
       "      <th>21</th>\n",
       "      <td>0.014656</td>\n",
       "      <td>today</td>\n",
       "    </tr>\n",
       "    <tr>\n",
       "      <th>6</th>\n",
       "      <td>0.014655</td>\n",
       "      <td>president</td>\n",
       "    </tr>\n",
       "    <tr>\n",
       "      <th>12</th>\n",
       "      <td>0.014655</td>\n",
       "      <td>10</td>\n",
       "    </tr>\n",
       "    <tr>\n",
       "      <th>23</th>\n",
       "      <td>0.014653</td>\n",
       "      <td>w</td>\n",
       "    </tr>\n",
       "    <tr>\n",
       "      <th>25</th>\n",
       "      <td>0.014651</td>\n",
       "      <td>said</td>\n",
       "    </tr>\n",
       "    <tr>\n",
       "      <th>7</th>\n",
       "      <td>0.014649</td>\n",
       "      <td>secretary</td>\n",
       "    </tr>\n",
       "    <tr>\n",
       "      <th>22</th>\n",
       "      <td>0.014648</td>\n",
       "      <td>also</td>\n",
       "    </tr>\n",
       "    <tr>\n",
       "      <th>37</th>\n",
       "      <td>0.014646</td>\n",
       "      <td>good</td>\n",
       "    </tr>\n",
       "    <tr>\n",
       "      <th>31</th>\n",
       "      <td>0.014645</td>\n",
       "      <td>israel</td>\n",
       "    </tr>\n",
       "    <tr>\n",
       "      <th>35</th>\n",
       "      <td>0.014644</td>\n",
       "      <td>foreign</td>\n",
       "    </tr>\n",
       "    <tr>\n",
       "      <th>27</th>\n",
       "      <td>0.014640</td>\n",
       "      <td>time</td>\n",
       "    </tr>\n",
       "    <tr>\n",
       "      <th>42</th>\n",
       "      <td>0.014640</td>\n",
       "      <td>well</td>\n",
       "    </tr>\n",
       "    <tr>\n",
       "      <th>28</th>\n",
       "      <td>0.014634</td>\n",
       "      <td>fyi</td>\n",
       "    </tr>\n",
       "    <tr>\n",
       "      <th>0</th>\n",
       "      <td>0.014622</td>\n",
       "      <td>state</td>\n",
       "    </tr>\n",
       "    <tr>\n",
       "      <th>39</th>\n",
       "      <td>0.014616</td>\n",
       "      <td>5</td>\n",
       "    </tr>\n",
       "    <tr>\n",
       "      <th>11</th>\n",
       "      <td>0.014595</td>\n",
       "      <td>one</td>\n",
       "    </tr>\n",
       "    <tr>\n",
       "      <th>9</th>\n",
       "      <td>0.014593</td>\n",
       "      <td>new</td>\n",
       "    </tr>\n",
       "  </tbody>\n",
       "</table>\n",
       "</div>"
      ],
      "text/plain": [
       "    Likelihood       Topic\n",
       "17    0.353976           1\n",
       "34    0.014780    american\n",
       "36    0.014769           4\n",
       "41    0.014767        want\n",
       "2     0.014745          fw\n",
       "29    0.014738           h\n",
       "1     0.014728        call\n",
       "18    0.014726           8\n",
       "20    0.014719          00\n",
       "3     0.014719          pm\n",
       "8     0.014715       obama\n",
       "4     0.014712      office\n",
       "10    0.014709     meeting\n",
       "44    0.014709        back\n",
       "16    0.014708          us\n",
       "40    0.014707       world\n",
       "15    0.014707          30\n",
       "13    0.014700           u\n",
       "32    0.014695          15\n",
       "5     0.014693       house\n",
       "43    0.014693        2010\n",
       "33    0.014688       first\n",
       "19    0.014686  department\n",
       "24    0.014684         two\n",
       "14    0.014683           2\n",
       "30    0.014671           3\n",
       "38    0.014669        work\n",
       "26    0.014662         see\n",
       "21    0.014656       today\n",
       "6     0.014655   president\n",
       "12    0.014655          10\n",
       "23    0.014653           w\n",
       "25    0.014651        said\n",
       "7     0.014649   secretary\n",
       "22    0.014648        also\n",
       "37    0.014646        good\n",
       "31    0.014645      israel\n",
       "35    0.014644     foreign\n",
       "27    0.014640        time\n",
       "42    0.014640        well\n",
       "28    0.014634         fyi\n",
       "0     0.014622       state\n",
       "39    0.014616           5\n",
       "11    0.014595         one\n",
       "9     0.014593         new"
      ]
     },
     "execution_count": 213,
     "metadata": {},
     "output_type": "execute_result"
    }
   ],
   "source": [
    "likelihood = np.array([x[1] for x in integer_topic_and_likelihood])\n",
    "\n",
    "import re\n",
    "\n",
    "#this finds all the words inbetween \"\", which are the titles\n",
    "topic = re.findall(r'\"(.*?)\"',\n",
    "                    model_topic)\n",
    "                     \n",
    "topic = np.array(topic)\n",
    "\n",
    "\n",
    "df = pd.DataFrame({'Topic': topic, 'Likelihood': likelihood})\n",
    "\n",
    "df.sort_values(by= \"Likelihood\",ascending=False)"
   ]
  }
 ],
 "metadata": {
  "anaconda-cloud": {},
  "kernelspec": {
   "display_name": "Python [Root]",
   "language": "python",
   "name": "Python [Root]"
  },
  "language_info": {
   "codemirror_mode": {
    "name": "ipython",
    "version": 3
   },
   "file_extension": ".py",
   "mimetype": "text/x-python",
   "name": "python",
   "nbconvert_exporter": "python",
   "pygments_lexer": "ipython3",
   "version": "3.5.2"
  }
 },
 "nbformat": 4,
 "nbformat_minor": 1
}
