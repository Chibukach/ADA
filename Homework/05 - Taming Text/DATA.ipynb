{
 "cells": [
  {
   "cell_type": "code",
   "execution_count": 1,
   "metadata": {
    "collapsed": false
   },
   "outputs": [
    {
     "name": "stdout",
     "output_type": "stream",
     "text": [
      "Populating the interactive namespace from numpy and matplotlib\n"
     ]
    }
   ],
   "source": [
    "import nltk \n",
    "import pandas as pd \n",
    "import numpy as np\n",
    "from wordcloud import WordCloud, STOPWORDS\n",
    "import matplotlib.pyplot as plt\n",
    "%pylab inline\n",
    "from nltk.corpus import stopwords\n",
    "\n",
    "import pycountry as pc"
   ]
  },
  {
   "cell_type": "code",
   "execution_count": 2,
   "metadata": {
    "collapsed": true
   },
   "outputs": [],
   "source": [
    "#reading in the csv file\n",
    "email_path = \"./hillary-clinton-emails/Emails.csv\"\n",
    "email_df = pd.read_csv(email_path, encoding=\"utf-8\")"
   ]
  },
  {
   "cell_type": "code",
   "execution_count": 3,
   "metadata": {
    "collapsed": false
   },
   "outputs": [
    {
     "data": {
      "text/plain": [
       "Index(['Id', 'DocNumber', 'MetadataSubject', 'MetadataTo', 'MetadataFrom',\n",
       "       'SenderPersonId', 'MetadataDateSent', 'MetadataDateReleased',\n",
       "       'MetadataPdfLink', 'MetadataCaseNumber', 'MetadataDocumentClass',\n",
       "       'ExtractedSubject', 'ExtractedTo', 'ExtractedFrom', 'ExtractedCc',\n",
       "       'ExtractedDateSent', 'ExtractedCaseNumber', 'ExtractedDocNumber',\n",
       "       'ExtractedDateReleased', 'ExtractedReleaseInPartOrFull',\n",
       "       'ExtractedBodyText', 'RawText'],\n",
       "      dtype='object')"
      ]
     },
     "execution_count": 3,
     "metadata": {},
     "output_type": "execute_result"
    }
   ],
   "source": [
    "email_df.columns"
   ]
  },
  {
   "cell_type": "code",
   "execution_count": 4,
   "metadata": {
    "collapsed": false
   },
   "outputs": [
    {
     "data": {
      "text/html": [
       "<div>\n",
       "<table border=\"1\" class=\"dataframe\">\n",
       "  <thead>\n",
       "    <tr style=\"text-align: right;\">\n",
       "      <th></th>\n",
       "      <th>Id</th>\n",
       "      <th>DocNumber</th>\n",
       "      <th>MetadataSubject</th>\n",
       "      <th>MetadataTo</th>\n",
       "      <th>MetadataFrom</th>\n",
       "      <th>SenderPersonId</th>\n",
       "      <th>MetadataDateSent</th>\n",
       "      <th>MetadataDateReleased</th>\n",
       "      <th>MetadataPdfLink</th>\n",
       "      <th>MetadataCaseNumber</th>\n",
       "      <th>...</th>\n",
       "      <th>ExtractedTo</th>\n",
       "      <th>ExtractedFrom</th>\n",
       "      <th>ExtractedCc</th>\n",
       "      <th>ExtractedDateSent</th>\n",
       "      <th>ExtractedCaseNumber</th>\n",
       "      <th>ExtractedDocNumber</th>\n",
       "      <th>ExtractedDateReleased</th>\n",
       "      <th>ExtractedReleaseInPartOrFull</th>\n",
       "      <th>ExtractedBodyText</th>\n",
       "      <th>RawText</th>\n",
       "    </tr>\n",
       "  </thead>\n",
       "  <tbody>\n",
       "    <tr>\n",
       "      <th>0</th>\n",
       "      <td>1</td>\n",
       "      <td>C05739545</td>\n",
       "      <td>WOW</td>\n",
       "      <td>H</td>\n",
       "      <td>Sullivan, Jacob J</td>\n",
       "      <td>87.0</td>\n",
       "      <td>2012-09-12T04:00:00+00:00</td>\n",
       "      <td>2015-05-22T04:00:00+00:00</td>\n",
       "      <td>DOCUMENTS/HRC_Email_1_296/HRCH2/DOC_0C05739545...</td>\n",
       "      <td>F-2015-04841</td>\n",
       "      <td>...</td>\n",
       "      <td>NaN</td>\n",
       "      <td>Sullivan, Jacob J &lt;Sullivan11@state.gov&gt;</td>\n",
       "      <td>NaN</td>\n",
       "      <td>Wednesday, September 12, 2012 10:16 AM</td>\n",
       "      <td>F-2015-04841</td>\n",
       "      <td>C05739545</td>\n",
       "      <td>05/13/2015</td>\n",
       "      <td>RELEASE IN FULL</td>\n",
       "      <td>NaN</td>\n",
       "      <td>UNCLASSIFIED\\nU.S. Department of State\\nCase N...</td>\n",
       "    </tr>\n",
       "    <tr>\n",
       "      <th>1</th>\n",
       "      <td>2</td>\n",
       "      <td>C05739546</td>\n",
       "      <td>H: LATEST: HOW SYRIA IS AIDING QADDAFI AND MOR...</td>\n",
       "      <td>H</td>\n",
       "      <td>NaN</td>\n",
       "      <td>NaN</td>\n",
       "      <td>2011-03-03T05:00:00+00:00</td>\n",
       "      <td>2015-05-22T04:00:00+00:00</td>\n",
       "      <td>DOCUMENTS/HRC_Email_1_296/HRCH1/DOC_0C05739546...</td>\n",
       "      <td>F-2015-04841</td>\n",
       "      <td>...</td>\n",
       "      <td>NaN</td>\n",
       "      <td>NaN</td>\n",
       "      <td>NaN</td>\n",
       "      <td>NaN</td>\n",
       "      <td>F-2015-04841</td>\n",
       "      <td>C05739546</td>\n",
       "      <td>05/13/2015</td>\n",
       "      <td>RELEASE IN PART</td>\n",
       "      <td>B6\\nThursday, March 3, 2011 9:45 PM\\nH: Latest...</td>\n",
       "      <td>UNCLASSIFIED\\nU.S. Department of State\\nCase N...</td>\n",
       "    </tr>\n",
       "    <tr>\n",
       "      <th>2</th>\n",
       "      <td>3</td>\n",
       "      <td>C05739547</td>\n",
       "      <td>CHRIS STEVENS</td>\n",
       "      <td>;H</td>\n",
       "      <td>Mills, Cheryl D</td>\n",
       "      <td>32.0</td>\n",
       "      <td>2012-09-12T04:00:00+00:00</td>\n",
       "      <td>2015-05-22T04:00:00+00:00</td>\n",
       "      <td>DOCUMENTS/HRC_Email_1_296/HRCH2/DOC_0C05739547...</td>\n",
       "      <td>F-2015-04841</td>\n",
       "      <td>...</td>\n",
       "      <td>B6</td>\n",
       "      <td>Mills, Cheryl D &lt;MillsCD@state.gov&gt;</td>\n",
       "      <td>Abedin, Huma</td>\n",
       "      <td>Wednesday, September 12, 2012 11:52 AM</td>\n",
       "      <td>F-2015-04841</td>\n",
       "      <td>C05739547</td>\n",
       "      <td>05/14/2015</td>\n",
       "      <td>RELEASE IN PART</td>\n",
       "      <td>Thx</td>\n",
       "      <td>UNCLASSIFIED\\nU.S. Department of State\\nCase N...</td>\n",
       "    </tr>\n",
       "    <tr>\n",
       "      <th>3</th>\n",
       "      <td>4</td>\n",
       "      <td>C05739550</td>\n",
       "      <td>CAIRO CONDEMNATION - FINAL</td>\n",
       "      <td>H</td>\n",
       "      <td>Mills, Cheryl D</td>\n",
       "      <td>32.0</td>\n",
       "      <td>2012-09-12T04:00:00+00:00</td>\n",
       "      <td>2015-05-22T04:00:00+00:00</td>\n",
       "      <td>DOCUMENTS/HRC_Email_1_296/HRCH2/DOC_0C05739550...</td>\n",
       "      <td>F-2015-04841</td>\n",
       "      <td>...</td>\n",
       "      <td>NaN</td>\n",
       "      <td>Mills, Cheryl D &lt;MillsCD@state.gov&gt;</td>\n",
       "      <td>Mitchell, Andrew B</td>\n",
       "      <td>Wednesday, September 12,2012 12:44 PM</td>\n",
       "      <td>F-2015-04841</td>\n",
       "      <td>C05739550</td>\n",
       "      <td>05/13/2015</td>\n",
       "      <td>RELEASE IN PART</td>\n",
       "      <td>NaN</td>\n",
       "      <td>UNCLASSIFIED\\nU.S. Department of State\\nCase N...</td>\n",
       "    </tr>\n",
       "    <tr>\n",
       "      <th>4</th>\n",
       "      <td>5</td>\n",
       "      <td>C05739554</td>\n",
       "      <td>H: LATEST: HOW SYRIA IS AIDING QADDAFI AND MOR...</td>\n",
       "      <td>Abedin, Huma</td>\n",
       "      <td>H</td>\n",
       "      <td>80.0</td>\n",
       "      <td>2011-03-11T05:00:00+00:00</td>\n",
       "      <td>2015-05-22T04:00:00+00:00</td>\n",
       "      <td>DOCUMENTS/HRC_Email_1_296/HRCH1/DOC_0C05739554...</td>\n",
       "      <td>F-2015-04841</td>\n",
       "      <td>...</td>\n",
       "      <td>NaN</td>\n",
       "      <td>NaN</td>\n",
       "      <td>NaN</td>\n",
       "      <td>NaN</td>\n",
       "      <td>F-2015-04841</td>\n",
       "      <td>C05739554</td>\n",
       "      <td>05/13/2015</td>\n",
       "      <td>RELEASE IN PART</td>\n",
       "      <td>H &lt;hrod17@clintonemail.com&gt;\\nFriday, March 11,...</td>\n",
       "      <td>B6\\nUNCLASSIFIED\\nU.S. Department of State\\nCa...</td>\n",
       "    </tr>\n",
       "  </tbody>\n",
       "</table>\n",
       "<p>5 rows × 22 columns</p>\n",
       "</div>"
      ],
      "text/plain": [
       "   Id  DocNumber                                    MetadataSubject  \\\n",
       "0   1  C05739545                                                WOW   \n",
       "1   2  C05739546  H: LATEST: HOW SYRIA IS AIDING QADDAFI AND MOR...   \n",
       "2   3  C05739547                                      CHRIS STEVENS   \n",
       "3   4  C05739550                         CAIRO CONDEMNATION - FINAL   \n",
       "4   5  C05739554  H: LATEST: HOW SYRIA IS AIDING QADDAFI AND MOR...   \n",
       "\n",
       "     MetadataTo       MetadataFrom  SenderPersonId           MetadataDateSent  \\\n",
       "0             H  Sullivan, Jacob J            87.0  2012-09-12T04:00:00+00:00   \n",
       "1             H                NaN             NaN  2011-03-03T05:00:00+00:00   \n",
       "2            ;H    Mills, Cheryl D            32.0  2012-09-12T04:00:00+00:00   \n",
       "3             H    Mills, Cheryl D            32.0  2012-09-12T04:00:00+00:00   \n",
       "4  Abedin, Huma                  H            80.0  2011-03-11T05:00:00+00:00   \n",
       "\n",
       "        MetadataDateReleased  \\\n",
       "0  2015-05-22T04:00:00+00:00   \n",
       "1  2015-05-22T04:00:00+00:00   \n",
       "2  2015-05-22T04:00:00+00:00   \n",
       "3  2015-05-22T04:00:00+00:00   \n",
       "4  2015-05-22T04:00:00+00:00   \n",
       "\n",
       "                                     MetadataPdfLink MetadataCaseNumber  \\\n",
       "0  DOCUMENTS/HRC_Email_1_296/HRCH2/DOC_0C05739545...       F-2015-04841   \n",
       "1  DOCUMENTS/HRC_Email_1_296/HRCH1/DOC_0C05739546...       F-2015-04841   \n",
       "2  DOCUMENTS/HRC_Email_1_296/HRCH2/DOC_0C05739547...       F-2015-04841   \n",
       "3  DOCUMENTS/HRC_Email_1_296/HRCH2/DOC_0C05739550...       F-2015-04841   \n",
       "4  DOCUMENTS/HRC_Email_1_296/HRCH1/DOC_0C05739554...       F-2015-04841   \n",
       "\n",
       "                         ...                         ExtractedTo  \\\n",
       "0                        ...                                 NaN   \n",
       "1                        ...                                 NaN   \n",
       "2                        ...                                  B6   \n",
       "3                        ...                                 NaN   \n",
       "4                        ...                                 NaN   \n",
       "\n",
       "                              ExtractedFrom         ExtractedCc  \\\n",
       "0  Sullivan, Jacob J <Sullivan11@state.gov>                 NaN   \n",
       "1                                       NaN                 NaN   \n",
       "2       Mills, Cheryl D <MillsCD@state.gov>        Abedin, Huma   \n",
       "3       Mills, Cheryl D <MillsCD@state.gov>  Mitchell, Andrew B   \n",
       "4                                       NaN                 NaN   \n",
       "\n",
       "                        ExtractedDateSent ExtractedCaseNumber  \\\n",
       "0  Wednesday, September 12, 2012 10:16 AM        F-2015-04841   \n",
       "1                                     NaN        F-2015-04841   \n",
       "2  Wednesday, September 12, 2012 11:52 AM        F-2015-04841   \n",
       "3   Wednesday, September 12,2012 12:44 PM        F-2015-04841   \n",
       "4                                     NaN        F-2015-04841   \n",
       "\n",
       "  ExtractedDocNumber ExtractedDateReleased ExtractedReleaseInPartOrFull  \\\n",
       "0          C05739545            05/13/2015              RELEASE IN FULL   \n",
       "1          C05739546            05/13/2015              RELEASE IN PART   \n",
       "2          C05739547            05/14/2015              RELEASE IN PART   \n",
       "3          C05739550            05/13/2015              RELEASE IN PART   \n",
       "4          C05739554            05/13/2015              RELEASE IN PART   \n",
       "\n",
       "                                   ExtractedBodyText  \\\n",
       "0                                                NaN   \n",
       "1  B6\\nThursday, March 3, 2011 9:45 PM\\nH: Latest...   \n",
       "2                                                Thx   \n",
       "3                                                NaN   \n",
       "4  H <hrod17@clintonemail.com>\\nFriday, March 11,...   \n",
       "\n",
       "                                             RawText  \n",
       "0  UNCLASSIFIED\\nU.S. Department of State\\nCase N...  \n",
       "1  UNCLASSIFIED\\nU.S. Department of State\\nCase N...  \n",
       "2  UNCLASSIFIED\\nU.S. Department of State\\nCase N...  \n",
       "3  UNCLASSIFIED\\nU.S. Department of State\\nCase N...  \n",
       "4  B6\\nUNCLASSIFIED\\nU.S. Department of State\\nCa...  \n",
       "\n",
       "[5 rows x 22 columns]"
      ]
     },
     "execution_count": 4,
     "metadata": {},
     "output_type": "execute_result"
    }
   ],
   "source": [
    "email_df.head()"
   ]
  },
  {
   "cell_type": "markdown",
   "metadata": {},
   "source": [
    "# Question 1: Raw Word Cloud\n",
    "### This section outputs the word cloud without any preprocessing that is specific for text manipulation. We used the messages within the *ExtractedBodyText* and *ExtractedSubject* as our main point of information. We dropped any NaN rows that were not present in the aforementioned columns and appended the information in the two columns together to create the initial corpus"
   ]
  },
  {
   "cell_type": "code",
   "execution_count": 5,
   "metadata": {
    "collapsed": false
   },
   "outputs": [
    {
     "data": {
      "text/plain": [
       "Index(['Id', 'DocNumber', 'MetadataSubject', 'MetadataTo', 'MetadataFrom',\n",
       "       'SenderPersonId', 'MetadataDateSent', 'MetadataDateReleased',\n",
       "       'MetadataPdfLink', 'MetadataCaseNumber', 'MetadataDocumentClass',\n",
       "       'ExtractedSubject', 'ExtractedTo', 'ExtractedFrom', 'ExtractedCc',\n",
       "       'ExtractedDateSent', 'ExtractedCaseNumber', 'ExtractedDocNumber',\n",
       "       'ExtractedDateReleased', 'ExtractedReleaseInPartOrFull',\n",
       "       'ExtractedBodyText', 'RawText'],\n",
       "      dtype='object')"
      ]
     },
     "execution_count": 5,
     "metadata": {},
     "output_type": "execute_result"
    }
   ],
   "source": [
    "email_df.columns"
   ]
  },
  {
   "cell_type": "code",
   "execution_count": 6,
   "metadata": {
    "collapsed": false
   },
   "outputs": [
    {
     "data": {
      "text/plain": [
       "(7945, 22)"
      ]
     },
     "execution_count": 6,
     "metadata": {},
     "output_type": "execute_result"
    }
   ],
   "source": [
    "email_df.shape"
   ]
  },
  {
   "cell_type": "code",
   "execution_count": 7,
   "metadata": {
    "collapsed": true
   },
   "outputs": [],
   "source": [
    "email_df.dropna(subset=['ExtractedBodyText'], inplace=True)"
   ]
  },
  {
   "cell_type": "code",
   "execution_count": 8,
   "metadata": {
    "collapsed": false
   },
   "outputs": [
    {
     "data": {
      "text/plain": [
       "(6742, 22)"
      ]
     },
     "execution_count": 8,
     "metadata": {},
     "output_type": "execute_result"
    }
   ],
   "source": [
    "email_df.shape"
   ]
  },
  {
   "cell_type": "code",
   "execution_count": 9,
   "metadata": {
    "collapsed": false
   },
   "outputs": [
    {
     "data": {
      "text/plain": [
       "(5425, 22)"
      ]
     },
     "execution_count": 9,
     "metadata": {},
     "output_type": "execute_result"
    }
   ],
   "source": [
    "email_df['ExtractedSubject'].isnull().any()\n",
    "email_df.dropna(subset=['ExtractedSubject'], inplace=True)\n",
    "email_df.shape"
   ]
  },
  {
   "cell_type": "code",
   "execution_count": 10,
   "metadata": {
    "collapsed": true
   },
   "outputs": [],
   "source": [
    "text = email_df['ExtractedBodyText']"
   ]
  },
  {
   "cell_type": "code",
   "execution_count": 11,
   "metadata": {
    "collapsed": false,
    "scrolled": true
   },
   "outputs": [],
   "source": [
    "text = text.append(email_df['ExtractedSubject'])"
   ]
  },
  {
   "cell_type": "code",
   "execution_count": 12,
   "metadata": {
    "collapsed": true
   },
   "outputs": [],
   "source": [
    "test_text = \" \".join(text) # to add space"
   ]
  },
  {
   "cell_type": "markdown",
   "metadata": {},
   "source": [
    "wc = WordCloud(background_color=\"white\", max_words=2000, mask=alice_mask,stopwords=stopwords)"
   ]
  },
  {
   "cell_type": "code",
   "execution_count": 13,
   "metadata": {
    "collapsed": true
   },
   "outputs": [],
   "source": [
    "def word_cloud_creator(text):\n",
    "    # Generate a word cloud image\n",
    "    wordcloud = WordCloud().generate(text)\n",
    "    plt.imshow(wordcloud)\n",
    "    plt.axis(\"off\")"
   ]
  },
  {
   "cell_type": "code",
   "execution_count": 14,
   "metadata": {
    "collapsed": false
   },
   "outputs": [
    {
     "data": {
      "image/png": "[encoded data removed]",
      "text/plain": [
       "<matplotlib.figure.Figure at 0x7f9b4462a160>"
      ]
     },
     "metadata": {},
     "output_type": "display_data"
    }
   ],
   "source": [
    "word_cloud_creator(test_text)"
   ]
  },
  {
   "cell_type": "markdown",
   "metadata": {},
   "source": [
    "##  PREPROCESSING"
   ]
  },
  {
   "cell_type": "markdown",
   "metadata": {},
   "source": [
    "### TOKENIZATION : We split the sentences into individual word and specified for certain attributes"
   ]
  },
  {
   "cell_type": "markdown",
   "metadata": {},
   "source": [
    "For example, you can define a tokenizer that picks out sequences of alphanumeric characters as tokens and drops everything else. \n",
    "The following tokenizer does this for alphanumeric and money expressions (dollars)\n"
   ]
  },
  {
   "cell_type": "code",
   "execution_count": 15,
   "metadata": {
    "collapsed": true
   },
   "outputs": [],
   "source": [
    "tokenizer = nltk.tokenize.RegexpTokenizer(r'\\w+|\\$')"
   ]
  },
  {
   "cell_type": "code",
   "execution_count": 16,
   "metadata": {
    "collapsed": false
   },
   "outputs": [],
   "source": [
    "tokens = tokenizer.tokenize(test_text)"
   ]
  },
  {
   "cell_type": "markdown",
   "metadata": {},
   "source": [
    "### CASE FOLDING : This changes the characters in each token from upper to lower case"
   ]
  },
  {
   "cell_type": "code",
   "execution_count": 17,
   "metadata": {
    "collapsed": true
   },
   "outputs": [],
   "source": [
    "tokens_lower_case = [token.lower() for token in tokens ]"
   ]
  },
  {
   "cell_type": "markdown",
   "metadata": {},
   "source": [
    "### REMOVE STOPWORDS : these are commons words such as 'the' that are known to not have a huge impact on natural language processing\n",
    "### We used two separate stop word lists to remove as many stopwords as possible under the presumption that neither list was fully comprehensive "
   ]
  },
  {
   "cell_type": "code",
   "execution_count": 18,
   "metadata": {
    "collapsed": false
   },
   "outputs": [],
   "source": [
    "stop_words = STOPWORDS"
   ]
  },
  {
   "cell_type": "code",
   "execution_count": 19,
   "metadata": {
    "collapsed": false
   },
   "outputs": [
    {
     "data": {
      "text/plain": [
       "444927"
      ]
     },
     "execution_count": 19,
     "metadata": {},
     "output_type": "execute_result"
    }
   ],
   "source": [
    "len(tokens_lower_case)"
   ]
  },
  {
   "cell_type": "code",
   "execution_count": 20,
   "metadata": {
    "collapsed": true
   },
   "outputs": [],
   "source": [
    "filtered_words_tmp = [word for word in tokens_lower_case if word not in stop_words]"
   ]
  },
  {
   "cell_type": "code",
   "execution_count": 21,
   "metadata": {
    "collapsed": false
   },
   "outputs": [
    {
     "data": {
      "text/plain": [
       "271349"
      ]
     },
     "execution_count": 21,
     "metadata": {},
     "output_type": "execute_result"
    }
   ],
   "source": [
    "len(filtered_words_tmp)"
   ]
  },
  {
   "cell_type": "raw",
   "metadata": {},
   "source": [
    "nltk.download(\"stopwords\")"
   ]
  },
  {
   "cell_type": "code",
   "execution_count": 22,
   "metadata": {
    "collapsed": false
   },
   "outputs": [],
   "source": [
    "stop_words_2 = stopwords.words('english')"
   ]
  },
  {
   "cell_type": "code",
   "execution_count": 23,
   "metadata": {
    "collapsed": false
   },
   "outputs": [],
   "source": [
    "filtered_words_lower_case = [word for word in filtered_words_tmp if word not in stop_words_2]"
   ]
  },
  {
   "cell_type": "code",
   "execution_count": 24,
   "metadata": {
    "collapsed": false
   },
   "outputs": [
    {
     "data": {
      "text/plain": [
       "256562"
      ]
     },
     "execution_count": 24,
     "metadata": {},
     "output_type": "execute_result"
    }
   ],
   "source": [
    "len(filtered_words_lower_case)"
   ]
  },
  {
   "cell_type": "markdown",
   "metadata": {},
   "source": [
    "### WE DECIDE ALSO TO REMOVE THE SHORT WORD (length less than 3 characters)"
   ]
  },
  {
   "cell_type": "code",
   "execution_count": 25,
   "metadata": {
    "collapsed": true
   },
   "outputs": [],
   "source": [
    "email_join = [word for word in filtered_words_lower_case if len(word)>3]"
   ]
  },
  {
   "cell_type": "code",
   "execution_count": 26,
   "metadata": {
    "collapsed": false
   },
   "outputs": [
    {
     "data": {
      "text/plain": [
       "211413"
      ]
     },
     "execution_count": 26,
     "metadata": {},
     "output_type": "execute_result"
    }
   ],
   "source": [
    "len(email_join)"
   ]
  },
  {
   "cell_type": "markdown",
   "metadata": {},
   "source": [
    "### STEMMING"
   ]
  },
  {
   "cell_type": "code",
   "execution_count": 27,
   "metadata": {
    "collapsed": true
   },
   "outputs": [],
   "source": [
    "porter = nltk.PorterStemmer()\n",
    "\n",
    "token_stem_lower_case = [porter.stem(token) for token in email_join]"
   ]
  },
  {
   "cell_type": "markdown",
   "metadata": {},
   "source": [
    "## WORLDCLOUD NEW "
   ]
  },
  {
   "cell_type": "markdown",
   "metadata": {},
   "source": [
    "#### WITH STEMMING "
   ]
  },
  {
   "cell_type": "code",
   "execution_count": 28,
   "metadata": {
    "collapsed": true
   },
   "outputs": [],
   "source": [
    "new_text = \" \".join(token_stem_lower_case)"
   ]
  },
  {
   "cell_type": "code",
   "execution_count": 29,
   "metadata": {
    "collapsed": false
   },
   "outputs": [
    {
     "data": {
      "image/png": "[encoded data removed]",
      "text/plain": [
       "<matplotlib.figure.Figure at 0x7f9af6095128>"
      ]
     },
     "metadata": {},
     "output_type": "display_data"
    }
   ],
   "source": [
    "word_cloud_creator(new_text)"
   ]
  },
  {
   "cell_type": "markdown",
   "metadata": {
    "collapsed": true
   },
   "source": [
    "####  WITHOUT STEMMING"
   ]
  },
  {
   "cell_type": "code",
   "execution_count": 30,
   "metadata": {
    "collapsed": false
   },
   "outputs": [
    {
     "data": {
      "image/png": "[encoded data removed]",
      "text/plain": [
       "<matplotlib.figure.Figure at 0x7f9af54d5390>"
      ]
     },
     "metadata": {},
     "output_type": "display_data"
    }
   ],
   "source": [
    "new_text = \" \".join(email_join)\n",
    "word_cloud_creator(new_text)"
   ]
  },
  {
   "cell_type": "markdown",
   "metadata": {},
   "source": [
    "# QUESTION  2"
   ]
  },
  {
   "cell_type": "markdown",
   "metadata": {},
   "source": [
    " 1 - check if there is a country and also the abbreviation in bodytext one by one\n",
    " 2 - If is not there ignore the email\n",
    " 3 - If it's there add the country in the new column in a list (it may be multiple)\n",
    " "
   ]
  },
  {
   "cell_type": "code",
   "execution_count": 31,
   "metadata": {
    "collapsed": false
   },
   "outputs": [
    {
     "name": "stderr",
     "output_type": "stream",
     "text": [
      "/home/chibu/Downloads/ENTER/lib/python3.5/site-packages/nltk/twitter/__init__.py:20: UserWarning: The twython library has not been installed. Some functionality from the twitter package will not be available.\n",
      "  warnings.warn(\"The twython library has not been installed. \"\n"
     ]
    }
   ],
   "source": [
    "from nltk.sentiment.util import *"
   ]
  },
  {
   "cell_type": "code",
   "execution_count": 32,
   "metadata": {
    "collapsed": true
   },
   "outputs": [],
   "source": [
    "from nltk.sentiment import SentimentIntensityAnalyzer\n",
    "vader_analyzer = SentimentIntensityAnalyzer()"
   ]
  },
  {
   "cell_type": "code",
   "execution_count": 33,
   "metadata": {
    "collapsed": false
   },
   "outputs": [
    {
     "data": {
      "text/plain": [
       "2                                                 [Thx]\n",
       "5     [Pis, print, H, hrod17, clintonernailcom, Wedn...\n",
       "8                                                 [FYI]\n",
       "9     [B6, Wednesday, September, 12, 2012, 6, 16, PM...\n",
       "10                                            [Fyi, B6]\n",
       "Name: token, dtype: object"
      ]
     },
     "execution_count": 33,
     "metadata": {},
     "output_type": "execute_result"
    }
   ],
   "source": [
    "email_df['token'] = email_df['ExtractedBodyText'].apply(tokenizer.tokenize)\n",
    "email_df['token'].head()"
   ]
  },
  {
   "cell_type": "code",
   "execution_count": 34,
   "metadata": {
    "collapsed": false
   },
   "outputs": [
    {
     "data": {
      "text/plain": [
       "2                                  [Re, Chris, Stevens]\n",
       "5     [Meet, The, Right, Wing, Extremist, Behind, An...\n",
       "8                          [FVV, Secretary, s, remarks]\n",
       "9                                     [more, on, Libya]\n",
       "10    [AbZ, and, Hb3, on, Libya, and, West, Bank, Gaza]\n",
       "Name: token_subject, dtype: object"
      ]
     },
     "execution_count": 34,
     "metadata": {},
     "output_type": "execute_result"
    }
   ],
   "source": [
    "email_df['token_subject'] = email_df['ExtractedSubject'].apply(tokenizer.tokenize)\n",
    "email_df['token_subject'].head()"
   ]
  },
  {
   "cell_type": "code",
   "execution_count": 35,
   "metadata": {
    "collapsed": true
   },
   "outputs": [],
   "source": [
    "def return_country_and_sentiment(df_row,country_sentiment):\n",
    "    vader_analyzer = SentimentIntensityAnalyzer()\n",
    "    tmp = []\n",
    "    #fetch row by row the ExtractedBodyText and the Extracted Subject\n",
    "    token_list_extractedbodytext = df_row['token']\n",
    "    token_list_extractedsubject = df_row['token_subject']\n",
    "    raw_text = df_row['ExtractedBodyText']\n",
    "    # remove the stopwords of the list of token for both field\n",
    "    extractedbodytext = [word for word in token_list_extractedbodytext if word not in stop_words]\n",
    "    extractedsubject = [word for word in token_list_extractedsubject if word not in stop_words]\n",
    "    \n",
    "    #look in the extractedbodytext\n",
    "    for token in extractedbodytext:\n",
    "        try:\n",
    "            country = pc.countries.get(name = token).name\n",
    "            if country not in tmp:\n",
    "                tmp.append(country)   \n",
    "        except:\n",
    "            None    \n",
    "        #try:\n",
    "            #country=pc.countries.get(alpha_2 = token).name\n",
    "            #if country not in tmp:\n",
    "                #tmp.append(country)   \n",
    "        #except:\n",
    "            #None\n",
    "            \n",
    "    \n",
    "    #look in the extractedSubject\n",
    "    for token in extractedsubject:\n",
    "        try:\n",
    "            country = pc.countries.get(name = token).name\n",
    "            if country not in tmp:\n",
    "                tmp.append(country)   \n",
    "        except:\n",
    "            None    \n",
    "        #try:\n",
    "            #country=pc.countries.get(alpha_2 = token).name\n",
    "            #if country not in tmp:\n",
    "                #tmp.append(country)   \n",
    "        #except:\n",
    "            #None\n",
    "            \n",
    "    #compute the sentiment on the ExtractedBodyText (not token form)\n",
    "    sentiment = (vader_analyzer.polarity_scores(raw_text)['compound']+1)/2\n",
    "            \n",
    "    for elem in tmp:\n",
    "        if elem in country_sentiment.index:\n",
    "            country_sentiment.loc[elem]['NumberTimes'] = country_sentiment.loc[elem]['NumberTimes']+1\n",
    "        else:\n",
    "            country_sentiment.set_value(elem,['NumberTimes','Sentiment'],[1,0])\n",
    "        \n",
    "        #add the sentiment for each country mentionned in the email\n",
    "        \n",
    "        country_sentiment.loc[elem]['Sentiment'] = country_sentiment.loc[elem]['Sentiment']+sentiment\n",
    "            \n",
    "    \n",
    "\n",
    "    \n",
    "    "
   ]
  },
  {
   "cell_type": "code",
   "execution_count": 36,
   "metadata": {
    "collapsed": true
   },
   "outputs": [],
   "source": [
    "tokenizer = nltk.tokenize.RegexpTokenizer(r'\\w+|\\$')"
   ]
  },
  {
   "cell_type": "code",
   "execution_count": 37,
   "metadata": {
    "collapsed": false
   },
   "outputs": [],
   "source": [
    "country_sentiment = pd.DataFrame(columns=['NumberTimes','Sentiment'])"
   ]
  },
  {
   "cell_type": "code",
   "execution_count": 38,
   "metadata": {
    "collapsed": false
   },
   "outputs": [
    {
     "data": {
      "text/html": [
       "<div>\n",
       "<table border=\"1\" class=\"dataframe\">\n",
       "  <thead>\n",
       "    <tr style=\"text-align: right;\">\n",
       "      <th></th>\n",
       "      <th>NumberTimes</th>\n",
       "      <th>Sentiment</th>\n",
       "    </tr>\n",
       "  </thead>\n",
       "  <tbody>\n",
       "  </tbody>\n",
       "</table>\n",
       "</div>"
      ],
      "text/plain": [
       "Empty DataFrame\n",
       "Columns: [NumberTimes, Sentiment]\n",
       "Index: []"
      ]
     },
     "execution_count": 38,
     "metadata": {},
     "output_type": "execute_result"
    }
   ],
   "source": [
    "country_sentiment"
   ]
  },
  {
   "cell_type": "code",
   "execution_count": 39,
   "metadata": {
    "collapsed": false
   },
   "outputs": [],
   "source": [
    "_=email_df.apply(return_country_and_sentiment,args=(country_sentiment,),axis=1)"
   ]
  },
  {
   "cell_type": "code",
   "execution_count": 40,
   "metadata": {
    "collapsed": true
   },
   "outputs": [],
   "source": [
    "# TONGA = TO, SAINT PIERRE AND MIQUELON = PM, NORWAY = NO, ARMENIA = AM, Réunion = RE, Micronesia = FM"
   ]
  },
  {
   "cell_type": "code",
   "execution_count": 41,
   "metadata": {
    "collapsed": false,
    "scrolled": true
   },
   "outputs": [
    {
     "data": {
      "text/html": [
       "<div>\n",
       "<table border=\"1\" class=\"dataframe\">\n",
       "  <thead>\n",
       "    <tr style=\"text-align: right;\">\n",
       "      <th></th>\n",
       "      <th>NumberTimes</th>\n",
       "      <th>Sentiment</th>\n",
       "    </tr>\n",
       "  </thead>\n",
       "  <tbody>\n",
       "    <tr>\n",
       "      <th>Haiti</th>\n",
       "      <td>138.0</td>\n",
       "      <td>87.73705</td>\n",
       "    </tr>\n",
       "    <tr>\n",
       "      <th>Pakistan</th>\n",
       "      <td>78.0</td>\n",
       "      <td>49.46915</td>\n",
       "    </tr>\n",
       "    <tr>\n",
       "      <th>Afghanistan</th>\n",
       "      <td>77.0</td>\n",
       "      <td>52.09725</td>\n",
       "    </tr>\n",
       "    <tr>\n",
       "      <th>China</th>\n",
       "      <td>69.0</td>\n",
       "      <td>50.58165</td>\n",
       "    </tr>\n",
       "    <tr>\n",
       "      <th>Israel</th>\n",
       "      <td>64.0</td>\n",
       "      <td>43.70140</td>\n",
       "    </tr>\n",
       "    <tr>\n",
       "      <th>Libya</th>\n",
       "      <td>63.0</td>\n",
       "      <td>29.08810</td>\n",
       "    </tr>\n",
       "    <tr>\n",
       "      <th>Iraq</th>\n",
       "      <td>49.0</td>\n",
       "      <td>31.59325</td>\n",
       "    </tr>\n",
       "    <tr>\n",
       "      <th>Honduras</th>\n",
       "      <td>48.0</td>\n",
       "      <td>30.68695</td>\n",
       "    </tr>\n",
       "    <tr>\n",
       "      <th>Turkey</th>\n",
       "      <td>43.0</td>\n",
       "      <td>28.28235</td>\n",
       "    </tr>\n",
       "    <tr>\n",
       "      <th>India</th>\n",
       "      <td>37.0</td>\n",
       "      <td>29.94420</td>\n",
       "    </tr>\n",
       "    <tr>\n",
       "      <th>Ireland</th>\n",
       "      <td>32.0</td>\n",
       "      <td>22.70795</td>\n",
       "    </tr>\n",
       "    <tr>\n",
       "      <th>Mexico</th>\n",
       "      <td>32.0</td>\n",
       "      <td>22.80315</td>\n",
       "    </tr>\n",
       "    <tr>\n",
       "      <th>Egypt</th>\n",
       "      <td>29.0</td>\n",
       "      <td>20.94680</td>\n",
       "    </tr>\n",
       "    <tr>\n",
       "      <th>Sudan</th>\n",
       "      <td>24.0</td>\n",
       "      <td>15.47160</td>\n",
       "    </tr>\n",
       "    <tr>\n",
       "      <th>Brazil</th>\n",
       "      <td>23.0</td>\n",
       "      <td>17.97985</td>\n",
       "    </tr>\n",
       "    <tr>\n",
       "      <th>Guinea</th>\n",
       "      <td>23.0</td>\n",
       "      <td>15.07820</td>\n",
       "    </tr>\n",
       "    <tr>\n",
       "      <th>Cuba</th>\n",
       "      <td>20.0</td>\n",
       "      <td>12.73095</td>\n",
       "    </tr>\n",
       "    <tr>\n",
       "      <th>Indonesia</th>\n",
       "      <td>19.0</td>\n",
       "      <td>15.73735</td>\n",
       "    </tr>\n",
       "    <tr>\n",
       "      <th>Japan</th>\n",
       "      <td>19.0</td>\n",
       "      <td>14.20985</td>\n",
       "    </tr>\n",
       "    <tr>\n",
       "      <th>Germany</th>\n",
       "      <td>18.0</td>\n",
       "      <td>11.26595</td>\n",
       "    </tr>\n",
       "    <tr>\n",
       "      <th>France</th>\n",
       "      <td>18.0</td>\n",
       "      <td>9.72815</td>\n",
       "    </tr>\n",
       "    <tr>\n",
       "      <th>Palau</th>\n",
       "      <td>17.0</td>\n",
       "      <td>12.38725</td>\n",
       "    </tr>\n",
       "    <tr>\n",
       "      <th>Armenia</th>\n",
       "      <td>17.0</td>\n",
       "      <td>10.25040</td>\n",
       "    </tr>\n",
       "    <tr>\n",
       "      <th>Canada</th>\n",
       "      <td>16.0</td>\n",
       "      <td>9.59090</td>\n",
       "    </tr>\n",
       "    <tr>\n",
       "      <th>Argentina</th>\n",
       "      <td>16.0</td>\n",
       "      <td>9.97170</td>\n",
       "    </tr>\n",
       "    <tr>\n",
       "      <th>Qatar</th>\n",
       "      <td>15.0</td>\n",
       "      <td>11.70675</td>\n",
       "    </tr>\n",
       "    <tr>\n",
       "      <th>Jordan</th>\n",
       "      <td>14.0</td>\n",
       "      <td>8.43250</td>\n",
       "    </tr>\n",
       "    <tr>\n",
       "      <th>Colombia</th>\n",
       "      <td>13.0</td>\n",
       "      <td>9.85095</td>\n",
       "    </tr>\n",
       "    <tr>\n",
       "      <th>Jersey</th>\n",
       "      <td>12.0</td>\n",
       "      <td>9.44610</td>\n",
       "    </tr>\n",
       "    <tr>\n",
       "      <th>Norway</th>\n",
       "      <td>11.0</td>\n",
       "      <td>7.92110</td>\n",
       "    </tr>\n",
       "    <tr>\n",
       "      <th>...</th>\n",
       "      <td>...</td>\n",
       "      <td>...</td>\n",
       "    </tr>\n",
       "    <tr>\n",
       "      <th>Austria</th>\n",
       "      <td>2.0</td>\n",
       "      <td>1.57780</td>\n",
       "    </tr>\n",
       "    <tr>\n",
       "      <th>Malaysia</th>\n",
       "      <td>2.0</td>\n",
       "      <td>1.87890</td>\n",
       "    </tr>\n",
       "    <tr>\n",
       "      <th>Albania</th>\n",
       "      <td>2.0</td>\n",
       "      <td>1.03340</td>\n",
       "    </tr>\n",
       "    <tr>\n",
       "      <th>Romania</th>\n",
       "      <td>2.0</td>\n",
       "      <td>1.57875</td>\n",
       "    </tr>\n",
       "    <tr>\n",
       "      <th>Switzerland</th>\n",
       "      <td>2.0</td>\n",
       "      <td>0.99905</td>\n",
       "    </tr>\n",
       "    <tr>\n",
       "      <th>Algeria</th>\n",
       "      <td>2.0</td>\n",
       "      <td>0.99380</td>\n",
       "    </tr>\n",
       "    <tr>\n",
       "      <th>Suriname</th>\n",
       "      <td>1.0</td>\n",
       "      <td>0.99395</td>\n",
       "    </tr>\n",
       "    <tr>\n",
       "      <th>Barbados</th>\n",
       "      <td>1.0</td>\n",
       "      <td>0.70095</td>\n",
       "    </tr>\n",
       "    <tr>\n",
       "      <th>Malawi</th>\n",
       "      <td>1.0</td>\n",
       "      <td>0.93750</td>\n",
       "    </tr>\n",
       "    <tr>\n",
       "      <th>Finland</th>\n",
       "      <td>1.0</td>\n",
       "      <td>0.88585</td>\n",
       "    </tr>\n",
       "    <tr>\n",
       "      <th>Oman</th>\n",
       "      <td>1.0</td>\n",
       "      <td>0.68060</td>\n",
       "    </tr>\n",
       "    <tr>\n",
       "      <th>Hungary</th>\n",
       "      <td>1.0</td>\n",
       "      <td>0.60480</td>\n",
       "    </tr>\n",
       "    <tr>\n",
       "      <th>Cameroon</th>\n",
       "      <td>1.0</td>\n",
       "      <td>0.99880</td>\n",
       "    </tr>\n",
       "    <tr>\n",
       "      <th>Samoa</th>\n",
       "      <td>1.0</td>\n",
       "      <td>0.82940</td>\n",
       "    </tr>\n",
       "    <tr>\n",
       "      <th>Turkmenistan</th>\n",
       "      <td>1.0</td>\n",
       "      <td>0.99625</td>\n",
       "    </tr>\n",
       "    <tr>\n",
       "      <th>Tajikistan</th>\n",
       "      <td>1.0</td>\n",
       "      <td>0.99625</td>\n",
       "    </tr>\n",
       "    <tr>\n",
       "      <th>Portugal</th>\n",
       "      <td>1.0</td>\n",
       "      <td>0.41515</td>\n",
       "    </tr>\n",
       "    <tr>\n",
       "      <th>Iceland</th>\n",
       "      <td>1.0</td>\n",
       "      <td>0.41515</td>\n",
       "    </tr>\n",
       "    <tr>\n",
       "      <th>Nicaragua</th>\n",
       "      <td>1.0</td>\n",
       "      <td>0.50000</td>\n",
       "    </tr>\n",
       "    <tr>\n",
       "      <th>Zambia</th>\n",
       "      <td>1.0</td>\n",
       "      <td>0.00495</td>\n",
       "    </tr>\n",
       "    <tr>\n",
       "      <th>Luxembourg</th>\n",
       "      <td>1.0</td>\n",
       "      <td>0.97300</td>\n",
       "    </tr>\n",
       "    <tr>\n",
       "      <th>Slovenia</th>\n",
       "      <td>1.0</td>\n",
       "      <td>0.98780</td>\n",
       "    </tr>\n",
       "    <tr>\n",
       "      <th>Cambodia</th>\n",
       "      <td>1.0</td>\n",
       "      <td>0.99875</td>\n",
       "    </tr>\n",
       "    <tr>\n",
       "      <th>Guam</th>\n",
       "      <td>1.0</td>\n",
       "      <td>0.50000</td>\n",
       "    </tr>\n",
       "    <tr>\n",
       "      <th>Bahamas</th>\n",
       "      <td>1.0</td>\n",
       "      <td>0.99880</td>\n",
       "    </tr>\n",
       "    <tr>\n",
       "      <th>Zimbabwe</th>\n",
       "      <td>1.0</td>\n",
       "      <td>0.99880</td>\n",
       "    </tr>\n",
       "    <tr>\n",
       "      <th>Serbia</th>\n",
       "      <td>1.0</td>\n",
       "      <td>0.99615</td>\n",
       "    </tr>\n",
       "    <tr>\n",
       "      <th>Myanmar</th>\n",
       "      <td>1.0</td>\n",
       "      <td>0.98670</td>\n",
       "    </tr>\n",
       "    <tr>\n",
       "      <th>Antarctica</th>\n",
       "      <td>1.0</td>\n",
       "      <td>0.91580</td>\n",
       "    </tr>\n",
       "    <tr>\n",
       "      <th>Nauru</th>\n",
       "      <td>1.0</td>\n",
       "      <td>0.50000</td>\n",
       "    </tr>\n",
       "  </tbody>\n",
       "</table>\n",
       "<p>108 rows × 2 columns</p>\n",
       "</div>"
      ],
      "text/plain": [
       "              NumberTimes  Sentiment\n",
       "Haiti               138.0   87.73705\n",
       "Pakistan             78.0   49.46915\n",
       "Afghanistan          77.0   52.09725\n",
       "China                69.0   50.58165\n",
       "Israel               64.0   43.70140\n",
       "Libya                63.0   29.08810\n",
       "Iraq                 49.0   31.59325\n",
       "Honduras             48.0   30.68695\n",
       "Turkey               43.0   28.28235\n",
       "India                37.0   29.94420\n",
       "Ireland              32.0   22.70795\n",
       "Mexico               32.0   22.80315\n",
       "Egypt                29.0   20.94680\n",
       "Sudan                24.0   15.47160\n",
       "Brazil               23.0   17.97985\n",
       "Guinea               23.0   15.07820\n",
       "Cuba                 20.0   12.73095\n",
       "Indonesia            19.0   15.73735\n",
       "Japan                19.0   14.20985\n",
       "Germany              18.0   11.26595\n",
       "France               18.0    9.72815\n",
       "Palau                17.0   12.38725\n",
       "Armenia              17.0   10.25040\n",
       "Canada               16.0    9.59090\n",
       "Argentina            16.0    9.97170\n",
       "Qatar                15.0   11.70675\n",
       "Jordan               14.0    8.43250\n",
       "Colombia             13.0    9.85095\n",
       "Jersey               12.0    9.44610\n",
       "Norway               11.0    7.92110\n",
       "...                   ...        ...\n",
       "Austria               2.0    1.57780\n",
       "Malaysia              2.0    1.87890\n",
       "Albania               2.0    1.03340\n",
       "Romania               2.0    1.57875\n",
       "Switzerland           2.0    0.99905\n",
       "Algeria               2.0    0.99380\n",
       "Suriname              1.0    0.99395\n",
       "Barbados              1.0    0.70095\n",
       "Malawi                1.0    0.93750\n",
       "Finland               1.0    0.88585\n",
       "Oman                  1.0    0.68060\n",
       "Hungary               1.0    0.60480\n",
       "Cameroon              1.0    0.99880\n",
       "Samoa                 1.0    0.82940\n",
       "Turkmenistan          1.0    0.99625\n",
       "Tajikistan            1.0    0.99625\n",
       "Portugal              1.0    0.41515\n",
       "Iceland               1.0    0.41515\n",
       "Nicaragua             1.0    0.50000\n",
       "Zambia                1.0    0.00495\n",
       "Luxembourg            1.0    0.97300\n",
       "Slovenia              1.0    0.98780\n",
       "Cambodia              1.0    0.99875\n",
       "Guam                  1.0    0.50000\n",
       "Bahamas               1.0    0.99880\n",
       "Zimbabwe              1.0    0.99880\n",
       "Serbia                1.0    0.99615\n",
       "Myanmar               1.0    0.98670\n",
       "Antarctica            1.0    0.91580\n",
       "Nauru                 1.0    0.50000\n",
       "\n",
       "[108 rows x 2 columns]"
      ]
     },
     "execution_count": 41,
     "metadata": {},
     "output_type": "execute_result"
    }
   ],
   "source": [
    "country_sentiment.sort_values(by='NumberTimes',ascending=False)"
   ]
  },
  {
   "cell_type": "code",
   "execution_count": 42,
   "metadata": {
    "collapsed": true
   },
   "outputs": [],
   "source": [
    "def average_sentiment(dataframe):\n",
    "    return dataframe['Sentiment']/dataframe['NumberTimes']"
   ]
  },
  {
   "cell_type": "code",
   "execution_count": 43,
   "metadata": {
    "collapsed": false
   },
   "outputs": [],
   "source": [
    "country_sentiment['Sentiment'] = country_sentiment.apply(average_sentiment, axis=1)"
   ]
  },
  {
   "cell_type": "code",
   "execution_count": 44,
   "metadata": {
    "collapsed": false
   },
   "outputs": [
    {
     "data": {
      "text/html": [
       "<div>\n",
       "<table border=\"1\" class=\"dataframe\">\n",
       "  <thead>\n",
       "    <tr style=\"text-align: right;\">\n",
       "      <th></th>\n",
       "      <th>NumberTimes</th>\n",
       "      <th>Sentiment</th>\n",
       "    </tr>\n",
       "  </thead>\n",
       "  <tbody>\n",
       "    <tr>\n",
       "      <th>Libya</th>\n",
       "      <td>63.0</td>\n",
       "      <td>0.461716</td>\n",
       "    </tr>\n",
       "    <tr>\n",
       "      <th>Egypt</th>\n",
       "      <td>29.0</td>\n",
       "      <td>0.722303</td>\n",
       "    </tr>\n",
       "    <tr>\n",
       "      <th>Yemen</th>\n",
       "      <td>8.0</td>\n",
       "      <td>0.641863</td>\n",
       "    </tr>\n",
       "    <tr>\n",
       "      <th>Iraq</th>\n",
       "      <td>49.0</td>\n",
       "      <td>0.644760</td>\n",
       "    </tr>\n",
       "    <tr>\n",
       "      <th>Israel</th>\n",
       "      <td>64.0</td>\n",
       "      <td>0.682834</td>\n",
       "    </tr>\n",
       "    <tr>\n",
       "      <th>Tunisia</th>\n",
       "      <td>4.0</td>\n",
       "      <td>0.806450</td>\n",
       "    </tr>\n",
       "    <tr>\n",
       "      <th>Spain</th>\n",
       "      <td>10.0</td>\n",
       "      <td>0.547615</td>\n",
       "    </tr>\n",
       "    <tr>\n",
       "      <th>Morocco</th>\n",
       "      <td>10.0</td>\n",
       "      <td>0.606850</td>\n",
       "    </tr>\n",
       "    <tr>\n",
       "      <th>Jordan</th>\n",
       "      <td>14.0</td>\n",
       "      <td>0.602321</td>\n",
       "    </tr>\n",
       "    <tr>\n",
       "      <th>Turkey</th>\n",
       "      <td>43.0</td>\n",
       "      <td>0.657729</td>\n",
       "    </tr>\n",
       "    <tr>\n",
       "      <th>Qatar</th>\n",
       "      <td>15.0</td>\n",
       "      <td>0.780450</td>\n",
       "    </tr>\n",
       "    <tr>\n",
       "      <th>India</th>\n",
       "      <td>37.0</td>\n",
       "      <td>0.809303</td>\n",
       "    </tr>\n",
       "    <tr>\n",
       "      <th>Norway</th>\n",
       "      <td>11.0</td>\n",
       "      <td>0.720100</td>\n",
       "    </tr>\n",
       "    <tr>\n",
       "      <th>Afghanistan</th>\n",
       "      <td>77.0</td>\n",
       "      <td>0.676588</td>\n",
       "    </tr>\n",
       "    <tr>\n",
       "      <th>Serbia</th>\n",
       "      <td>1.0</td>\n",
       "      <td>0.996150</td>\n",
       "    </tr>\n",
       "    <tr>\n",
       "      <th>Azerbaijan</th>\n",
       "      <td>6.0</td>\n",
       "      <td>0.635175</td>\n",
       "    </tr>\n",
       "    <tr>\n",
       "      <th>Georgia</th>\n",
       "      <td>4.0</td>\n",
       "      <td>0.903350</td>\n",
       "    </tr>\n",
       "    <tr>\n",
       "      <th>Mexico</th>\n",
       "      <td>32.0</td>\n",
       "      <td>0.712598</td>\n",
       "    </tr>\n",
       "    <tr>\n",
       "      <th>Indonesia</th>\n",
       "      <td>19.0</td>\n",
       "      <td>0.828282</td>\n",
       "    </tr>\n",
       "    <tr>\n",
       "      <th>China</th>\n",
       "      <td>69.0</td>\n",
       "      <td>0.733067</td>\n",
       "    </tr>\n",
       "    <tr>\n",
       "      <th>Pakistan</th>\n",
       "      <td>78.0</td>\n",
       "      <td>0.634220</td>\n",
       "    </tr>\n",
       "    <tr>\n",
       "      <th>France</th>\n",
       "      <td>18.0</td>\n",
       "      <td>0.540453</td>\n",
       "    </tr>\n",
       "    <tr>\n",
       "      <th>Switzerland</th>\n",
       "      <td>2.0</td>\n",
       "      <td>0.499525</td>\n",
       "    </tr>\n",
       "    <tr>\n",
       "      <th>Italy</th>\n",
       "      <td>9.0</td>\n",
       "      <td>0.709883</td>\n",
       "    </tr>\n",
       "    <tr>\n",
       "      <th>Honduras</th>\n",
       "      <td>48.0</td>\n",
       "      <td>0.639311</td>\n",
       "    </tr>\n",
       "    <tr>\n",
       "      <th>Haiti</th>\n",
       "      <td>138.0</td>\n",
       "      <td>0.635776</td>\n",
       "    </tr>\n",
       "    <tr>\n",
       "      <th>Liberia</th>\n",
       "      <td>6.0</td>\n",
       "      <td>0.627283</td>\n",
       "    </tr>\n",
       "    <tr>\n",
       "      <th>Jamaica</th>\n",
       "      <td>4.0</td>\n",
       "      <td>0.570438</td>\n",
       "    </tr>\n",
       "    <tr>\n",
       "      <th>Angola</th>\n",
       "      <td>6.0</td>\n",
       "      <td>0.732450</td>\n",
       "    </tr>\n",
       "    <tr>\n",
       "      <th>Greece</th>\n",
       "      <td>6.0</td>\n",
       "      <td>0.737333</td>\n",
       "    </tr>\n",
       "    <tr>\n",
       "      <th>...</th>\n",
       "      <td>...</td>\n",
       "      <td>...</td>\n",
       "    </tr>\n",
       "    <tr>\n",
       "      <th>Romania</th>\n",
       "      <td>2.0</td>\n",
       "      <td>0.789375</td>\n",
       "    </tr>\n",
       "    <tr>\n",
       "      <th>Netherlands</th>\n",
       "      <td>7.0</td>\n",
       "      <td>0.515321</td>\n",
       "    </tr>\n",
       "    <tr>\n",
       "      <th>Denmark</th>\n",
       "      <td>2.0</td>\n",
       "      <td>0.796900</td>\n",
       "    </tr>\n",
       "    <tr>\n",
       "      <th>Chile</th>\n",
       "      <td>6.0</td>\n",
       "      <td>0.675633</td>\n",
       "    </tr>\n",
       "    <tr>\n",
       "      <th>Luxembourg</th>\n",
       "      <td>1.0</td>\n",
       "      <td>0.973000</td>\n",
       "    </tr>\n",
       "    <tr>\n",
       "      <th>Austria</th>\n",
       "      <td>2.0</td>\n",
       "      <td>0.788900</td>\n",
       "    </tr>\n",
       "    <tr>\n",
       "      <th>Belgium</th>\n",
       "      <td>4.0</td>\n",
       "      <td>0.503837</td>\n",
       "    </tr>\n",
       "    <tr>\n",
       "      <th>Zambia</th>\n",
       "      <td>1.0</td>\n",
       "      <td>0.004950</td>\n",
       "    </tr>\n",
       "    <tr>\n",
       "      <th>Lithuania</th>\n",
       "      <td>2.0</td>\n",
       "      <td>0.941675</td>\n",
       "    </tr>\n",
       "    <tr>\n",
       "      <th>Nicaragua</th>\n",
       "      <td>1.0</td>\n",
       "      <td>0.500000</td>\n",
       "    </tr>\n",
       "    <tr>\n",
       "      <th>Iceland</th>\n",
       "      <td>1.0</td>\n",
       "      <td>0.415150</td>\n",
       "    </tr>\n",
       "    <tr>\n",
       "      <th>Portugal</th>\n",
       "      <td>1.0</td>\n",
       "      <td>0.415150</td>\n",
       "    </tr>\n",
       "    <tr>\n",
       "      <th>Tajikistan</th>\n",
       "      <td>1.0</td>\n",
       "      <td>0.996250</td>\n",
       "    </tr>\n",
       "    <tr>\n",
       "      <th>Turkmenistan</th>\n",
       "      <td>1.0</td>\n",
       "      <td>0.996250</td>\n",
       "    </tr>\n",
       "    <tr>\n",
       "      <th>Ukraine</th>\n",
       "      <td>5.0</td>\n",
       "      <td>0.976240</td>\n",
       "    </tr>\n",
       "    <tr>\n",
       "      <th>Algeria</th>\n",
       "      <td>2.0</td>\n",
       "      <td>0.496900</td>\n",
       "    </tr>\n",
       "    <tr>\n",
       "      <th>Cameroon</th>\n",
       "      <td>1.0</td>\n",
       "      <td>0.998800</td>\n",
       "    </tr>\n",
       "    <tr>\n",
       "      <th>Lebanon</th>\n",
       "      <td>4.0</td>\n",
       "      <td>0.367525</td>\n",
       "    </tr>\n",
       "    <tr>\n",
       "      <th>Panama</th>\n",
       "      <td>2.0</td>\n",
       "      <td>0.946550</td>\n",
       "    </tr>\n",
       "    <tr>\n",
       "      <th>Ghana</th>\n",
       "      <td>2.0</td>\n",
       "      <td>0.601150</td>\n",
       "    </tr>\n",
       "    <tr>\n",
       "      <th>Suriname</th>\n",
       "      <td>1.0</td>\n",
       "      <td>0.993950</td>\n",
       "    </tr>\n",
       "    <tr>\n",
       "      <th>Oman</th>\n",
       "      <td>1.0</td>\n",
       "      <td>0.680600</td>\n",
       "    </tr>\n",
       "    <tr>\n",
       "      <th>Hungary</th>\n",
       "      <td>1.0</td>\n",
       "      <td>0.604800</td>\n",
       "    </tr>\n",
       "    <tr>\n",
       "      <th>Malaysia</th>\n",
       "      <td>2.0</td>\n",
       "      <td>0.939450</td>\n",
       "    </tr>\n",
       "    <tr>\n",
       "      <th>Bahrain</th>\n",
       "      <td>3.0</td>\n",
       "      <td>0.700783</td>\n",
       "    </tr>\n",
       "    <tr>\n",
       "      <th>Finland</th>\n",
       "      <td>1.0</td>\n",
       "      <td>0.885850</td>\n",
       "    </tr>\n",
       "    <tr>\n",
       "      <th>Barbados</th>\n",
       "      <td>1.0</td>\n",
       "      <td>0.700950</td>\n",
       "    </tr>\n",
       "    <tr>\n",
       "      <th>Malawi</th>\n",
       "      <td>1.0</td>\n",
       "      <td>0.937500</td>\n",
       "    </tr>\n",
       "    <tr>\n",
       "      <th>Greenland</th>\n",
       "      <td>2.0</td>\n",
       "      <td>0.924800</td>\n",
       "    </tr>\n",
       "    <tr>\n",
       "      <th>Nauru</th>\n",
       "      <td>1.0</td>\n",
       "      <td>0.500000</td>\n",
       "    </tr>\n",
       "  </tbody>\n",
       "</table>\n",
       "<p>108 rows × 2 columns</p>\n",
       "</div>"
      ],
      "text/plain": [
       "              NumberTimes  Sentiment\n",
       "Libya                63.0   0.461716\n",
       "Egypt                29.0   0.722303\n",
       "Yemen                 8.0   0.641863\n",
       "Iraq                 49.0   0.644760\n",
       "Israel               64.0   0.682834\n",
       "Tunisia               4.0   0.806450\n",
       "Spain                10.0   0.547615\n",
       "Morocco              10.0   0.606850\n",
       "Jordan               14.0   0.602321\n",
       "Turkey               43.0   0.657729\n",
       "Qatar                15.0   0.780450\n",
       "India                37.0   0.809303\n",
       "Norway               11.0   0.720100\n",
       "Afghanistan          77.0   0.676588\n",
       "Serbia                1.0   0.996150\n",
       "Azerbaijan            6.0   0.635175\n",
       "Georgia               4.0   0.903350\n",
       "Mexico               32.0   0.712598\n",
       "Indonesia            19.0   0.828282\n",
       "China                69.0   0.733067\n",
       "Pakistan             78.0   0.634220\n",
       "France               18.0   0.540453\n",
       "Switzerland           2.0   0.499525\n",
       "Italy                 9.0   0.709883\n",
       "Honduras             48.0   0.639311\n",
       "Haiti               138.0   0.635776\n",
       "Liberia               6.0   0.627283\n",
       "Jamaica               4.0   0.570438\n",
       "Angola                6.0   0.732450\n",
       "Greece                6.0   0.737333\n",
       "...                   ...        ...\n",
       "Romania               2.0   0.789375\n",
       "Netherlands           7.0   0.515321\n",
       "Denmark               2.0   0.796900\n",
       "Chile                 6.0   0.675633\n",
       "Luxembourg            1.0   0.973000\n",
       "Austria               2.0   0.788900\n",
       "Belgium               4.0   0.503837\n",
       "Zambia                1.0   0.004950\n",
       "Lithuania             2.0   0.941675\n",
       "Nicaragua             1.0   0.500000\n",
       "Iceland               1.0   0.415150\n",
       "Portugal              1.0   0.415150\n",
       "Tajikistan            1.0   0.996250\n",
       "Turkmenistan          1.0   0.996250\n",
       "Ukraine               5.0   0.976240\n",
       "Algeria               2.0   0.496900\n",
       "Cameroon              1.0   0.998800\n",
       "Lebanon               4.0   0.367525\n",
       "Panama                2.0   0.946550\n",
       "Ghana                 2.0   0.601150\n",
       "Suriname              1.0   0.993950\n",
       "Oman                  1.0   0.680600\n",
       "Hungary               1.0   0.604800\n",
       "Malaysia              2.0   0.939450\n",
       "Bahrain               3.0   0.700783\n",
       "Finland               1.0   0.885850\n",
       "Barbados              1.0   0.700950\n",
       "Malawi                1.0   0.937500\n",
       "Greenland             2.0   0.924800\n",
       "Nauru                 1.0   0.500000\n",
       "\n",
       "[108 rows x 2 columns]"
      ]
     },
     "execution_count": 44,
     "metadata": {},
     "output_type": "execute_result"
    }
   ],
   "source": [
    "country_sentiment"
   ]
  },
  {
   "cell_type": "markdown",
   "metadata": {
    "collapsed": true
   },
   "source": [
    "# QUESTION 3\n",
    "## In this excercise, we used gensim to perform topic modelling. \n",
    "1. We placed our corpus in a format accepted to gensim (The gensim dictionary object)\n",
    "2. We used the bag of words representation for each of the aforementioned words\n",
    "3. Performed LDA models using numbers to create models with number of topics varying from 5 to 50\n",
    "4. Each of these models were saved as a lda file\n",
    "5. The main topics associated with the models were compared visually\n"
   ]
  },
  {
   "cell_type": "code",
   "execution_count": 45,
   "metadata": {
    "collapsed": false
   },
   "outputs": [
    {
     "name": "stderr",
     "output_type": "stream",
     "text": [
      "/home/chibu/Downloads/ENTER/lib/python3.5/site-packages/gensim/utils.py:1015: UserWarning: Pattern library is not installed, lemmatization won't be available.\n",
      "  warnings.warn(\"Pattern library is not installed, lemmatization won't be available.\")\n"
     ]
    }
   ],
   "source": [
    "import gensim"
   ]
  },
  {
   "cell_type": "code",
   "execution_count": 46,
   "metadata": {
    "collapsed": false
   },
   "outputs": [
    {
     "name": "stdout",
     "output_type": "stream",
     "text": [
      "Dictionary(23506 unique tokens: ['polish', 'seiden', 'allied', 'memorialized', 'sharif']...)\n"
     ]
    }
   ],
   "source": [
    "my_corpus = filtered_words_lower_case\n",
    "corpus_series = pd.Series(filtered_words_lower_case)\n",
    "#define dictionary of the actual words as bag of words model does not keep this information\n",
    "corpus_dict = gensim.corpora.dictionary.Dictionary([corpus_series])\n",
    "\n",
    "print(corpus_dict)"
   ]
  },
  {
   "cell_type": "code",
   "execution_count": 47,
   "metadata": {
    "collapsed": false
   },
   "outputs": [],
   "source": [
    "#converts to bag of words representation\n",
    "corpus_bow = [corpus_dict.doc2bow(word) for word in [corpus_series]]"
   ]
  },
  {
   "cell_type": "code",
   "execution_count": 48,
   "metadata": {
    "collapsed": false,
    "scrolled": true
   },
   "outputs": [
    {
     "name": "stdout",
     "output_type": "stream",
     "text": [
      "(1, 23506, 2)\n",
      "<class 'list'>\n",
      "<class 'tuple'>\n",
      "(0, 8)\n"
     ]
    }
   ],
   "source": [
    "#list of word ID and it's frequency pair stored as a tuple\n",
    "print(shape(corpus_bow))\n",
    "print(type(corpus_bow))\n",
    "print(type(corpus_bow[0][0]))\n",
    "print(corpus_bow[0][0])"
   ]
  },
  {
   "cell_type": "code",
   "execution_count": null,
   "metadata": {
    "collapsed": true
   },
   "outputs": [],
   "source": [
    "#this creates and saves an LDA model for topics ranging from 5 to 50 in steps of 5\n",
    "for x in range(5,51,5):\n",
    "    number_of_topics = x\n",
    "    number_of_topics_str = str(number_of_topics)\n",
    "    stem = 'corpus'+ number_of_topics_str +\".lda\"\n",
    "\n",
    "    #define LDA model \n",
    "    #As the bag of words are word_id mapped to frequency. We need a way to map\n",
    "    #each word id to the word. This is done via id2word via the corpus dictionary\n",
    "    my_model = gensim.models.ldamodel.LdaModel(corpus= corpus_bow,\n",
    "                                               num_topics=number_of_topics, \n",
    "                                               id2word=corpus_dict)\n",
    "    #save the model to separate file\n",
    "    my_model.save(stem)"
   ]
  },
  {
   "cell_type": "code",
   "execution_count": 49,
   "metadata": {
    "collapsed": false
   },
   "outputs": [
    {
     "name": "stdout",
     "output_type": "stream",
     "text": [
      "\n",
      "\n",
      "The current model has 5 topics\n",
      "Topic num                List of words associated with the topic\n",
      "Topic #:0 ['state', 'pm', 'fw', '1', 'office']\n",
      "Topic #:1 ['state', 'call', 'obama', 'fw', 'pm']\n",
      "Topic #:2 ['pm', 'call', 'state', 'secretary', 'u']\n",
      "Topic #:3 ['pm', 'state', 'fw', 'secretary', '1']\n",
      "Topic #:4 ['state', 'u', 'pm', 'fw', 'call']\n",
      "\n",
      "\n",
      "The current model has 10 topics\n",
      "Topic num                List of words associated with the topic\n",
      "Topic #:0 ['state', 'fw', 'secretary', 'pm', 'call']\n",
      "Topic #:1 ['pm', 'state', 'fw', 'obama', 'office']\n",
      "Topic #:2 ['state', 'secretary', 'pm', 'call', 'fw']\n",
      "Topic #:3 ['state', 'u', '1', 'fw', 'secretary']\n",
      "Topic #:4 ['state', 'pm', 'call', 'w', 'secretary']\n",
      "Topic #:5 ['state', 'pm', '1', 'fw', 'secretary']\n",
      "Topic #:6 ['pm', 'state', 'call', 'fw', '1']\n",
      "Topic #:7 ['state', 'pm', 'fw', 'call', 'w']\n",
      "Topic #:8 ['state', 'call', 'u', '1', 'pm']\n",
      "Topic #:9 ['state', 'pm', 'call', 'u', 'secretary']\n",
      "\n",
      "\n",
      "The current model has 15 topics\n",
      "Topic num                List of words associated with the topic\n",
      "Topic #:0 ['state', 'pm', '1', 'fw', 'office']\n",
      "Topic #:1 ['state', 'pm', 'secretary', '1', 'one']\n",
      "Topic #:2 ['state', 'secretary', 'pm', 'fw', 'office']\n",
      "Topic #:3 ['obama', 'fw', 'state', 'call', 'pm']\n",
      "Topic #:4 ['state', 'call', 'fw', 'pm', 'secretary']\n",
      "Topic #:5 ['call', 'state', 'pm', 'secretary', 'office']\n",
      "Topic #:6 ['state', 'u', 'call', 'pm', 'secretary']\n",
      "Topic #:7 ['state', 'pm', 'fw', 'secretary', 'u']\n",
      "Topic #:8 ['state', 'pm', 'call', 'fw', 'obama']\n",
      "Topic #:9 ['state', 'fw', 'call', 'pm', 'new']\n",
      "Topic #:10 ['state', 'pm', 'fw', 'call', 'secretary']\n",
      "Topic #:11 ['state', 'pm', 'fw', 'secretary', 'call']\n",
      "Topic #:12 ['state', 'pm', '1', 'call', 'secretary']\n",
      "Topic #:13 ['state', 'pm', 'fw', 'call', 'secretary']\n",
      "Topic #:14 ['pm', '1', 'state', 'call', 'secretary']\n",
      "\n",
      "\n",
      "The current model has 20 topics\n",
      "Topic num                List of words associated with the topic\n",
      "Topic #:0 ['state', 'pm', 'fw', 'secretary', 'call']\n",
      "Topic #:1 ['state', 'pm', 'fw', 'new', '1']\n",
      "Topic #:2 ['state', 'fw', 'call', 'secretary', 'pm']\n",
      "Topic #:3 ['pm', 'state', 'call', 'secretary', '2']\n",
      "Topic #:4 ['state', 'pm', 'fw', '1', 'call']\n",
      "Topic #:5 ['state', 'pm', 'call', 'obama', 'fw']\n",
      "Topic #:6 ['state', 'fw', 'pm', 'secretary', '1']\n",
      "Topic #:7 ['state', 'secretary', 'pm', 'call', 'fw']\n",
      "Topic #:8 ['state', 'pm', 'fw', 'call', 'secretary']\n",
      "Topic #:9 ['state', 'u', 'pm', 'call', 'fw']\n",
      "Topic #:10 ['fw', 'state', 'w', 'pm', 'new']\n",
      "Topic #:11 ['secretary', 'pm', 'u', 'state', 'fw']\n",
      "Topic #:12 ['state', 'office', '1', 'pm', 'president']\n",
      "Topic #:13 ['state', 'call', 'pm', '1', 'secretary']\n",
      "Topic #:14 ['state', 'pm', 'secretary', '1', 'fw']\n",
      "Topic #:15 ['state', 'pm', 'secretary', 'obama', 'u']\n",
      "Topic #:16 ['pm', 'state', 'secretary', 'one', 'office']\n",
      "Topic #:17 ['call', 'state', 'pm', '1', 'u']\n",
      "Topic #:18 ['state', 'pm', 'call', 'u', 'fw']\n",
      "Topic #:19 ['state', 'fw', 'pm', 'secretary', 'one']\n",
      "\n",
      "\n",
      "The current model has 25 topics\n",
      "Topic num                List of words associated with the topic\n",
      "Topic #:0 ['state', 'pm', 'office', 'fw', 'obama']\n",
      "Topic #:1 ['state', 'call', 'office', '10', 'fw']\n",
      "Topic #:2 ['state', 'call', '1', 'pm', 'fw']\n",
      "Topic #:3 ['state', 'call', 'pm', 'fw', 'secretary']\n",
      "Topic #:4 ['state', 'pm', 'fw', 'call', 'u']\n",
      "Topic #:5 ['fw', 'pm', 'state', 'secretary', 'u']\n",
      "Topic #:6 ['pm', 'fw', 'call', 'state', 'secretary']\n",
      "Topic #:7 ['pm', 'call', 'office', 'fw', 'secretary']\n",
      "Topic #:8 ['state', 'pm', 'secretary', 'fw', 'u']\n",
      "Topic #:9 ['state', 'pm', 'fw', 'secretary', 'office']\n",
      "Topic #:10 ['state', 'pm', 'secretary', 'fw', 'u']\n",
      "Topic #:11 ['pm', 'state', 'call', 'secretary', 'fw']\n",
      "Topic #:12 ['state', 'pm', '1', 'fw', 'call']\n",
      "Topic #:13 ['state', 'pm', 'call', 'fw', 'house']\n",
      "Topic #:14 ['pm', 'state', 'call', 'secretary', '1']\n",
      "Topic #:15 ['state', 'fw', 'call', 'u', 'pm']\n",
      "Topic #:16 ['state', 'pm', 'u', '1', 'obama']\n",
      "Topic #:17 ['state', 'pm', 'secretary', 'call', 'office']\n",
      "Topic #:18 ['1', 'state', 'secretary', 'call', 'pm']\n",
      "Topic #:19 ['state', 'pm', 'call', 'u', 'fw']\n",
      "Topic #:20 ['state', 'pm', 'secretary', 'fw', 'call']\n",
      "Topic #:21 ['state', 'secretary', 'u', 'pm', '1']\n",
      "Topic #:22 ['state', 'pm', 'call', 'fw', 'new']\n",
      "Topic #:23 ['state', 'call', 'pm', 'fw', 'secretary']\n",
      "Topic #:24 ['fw', 'state', 'call', 'secretary', 'said']\n",
      "\n",
      "\n",
      "The current model has 30 topics\n",
      "Topic num                List of words associated with the topic\n",
      "Topic #:0 ['pm', 'state', 'secretary', 'call', 'fw']\n",
      "Topic #:1 ['state', 'secretary', 'pm', 'fw', 'obama']\n",
      "Topic #:2 ['state', 'pm', 'u', 'secretary', 'fw']\n",
      "Topic #:3 ['state', 'pm', 'fw', '1', 'secretary']\n",
      "Topic #:4 ['state', 'fw', 'u', '30', 'pm']\n",
      "Topic #:5 ['state', 'call', 'pm', 'fw', 'secretary']\n",
      "Topic #:6 ['state', 'fw', 'pm', 'secretary', 'call']\n",
      "Topic #:7 ['state', 'fw', 'pm', 'secretary', '1']\n",
      "Topic #:8 ['state', 'fw', 'secretary', 'call', '1']\n",
      "Topic #:9 ['state', 'pm', 'fw', '1', 'office']\n",
      "Topic #:10 ['pm', 'state', 'call', 'secretary', 'fw']\n",
      "Topic #:11 ['state', 'pm', 'fw', 'call', '1']\n",
      "Topic #:12 ['state', 'pm', 'obama', 'call', 'secretary']\n",
      "Topic #:13 ['state', 'pm', '1', 'fw', 'obama']\n",
      "Topic #:14 ['state', 'pm', '1', 'office', 'secretary']\n",
      "Topic #:15 ['state', 'pm', 'secretary', 'fw', 'u']\n",
      "Topic #:16 ['state', 'secretary', 'fw', 'call', 'pm']\n",
      "Topic #:17 ['pm', 'state', 'u', 'fw', '1']\n",
      "Topic #:18 ['state', 'call', 'pm', 'secretary', 'fw']\n",
      "Topic #:19 ['state', 'secretary', 'call', 'pm', 'fw']\n",
      "Topic #:20 ['pm', 'state', 'call', '1', 'u']\n",
      "Topic #:21 ['u', 'call', 'state', 'pm', '1']\n",
      "Topic #:22 ['state', 'call', 'pm', 'fw', 'secretary']\n",
      "Topic #:23 ['state', 'call', 'pm', 'office', 'secretary']\n",
      "Topic #:24 ['state', 'pm', 'call', 'u', 'fw']\n",
      "Topic #:25 ['pm', 'state', 'call', 'obama', 'fw']\n",
      "Topic #:26 ['call', 'state', 'fw', 'pm', 'office']\n",
      "Topic #:27 ['state', 'secretary', 'pm', 'call', 'u']\n",
      "Topic #:28 ['state', 'pm', 'obama', 'secretary', 'u']\n",
      "Topic #:29 ['state', 'fw', 'pm', 'obama', '1']\n",
      "\n",
      "\n",
      "The current model has 35 topics\n",
      "Topic num                List of words associated with the topic\n",
      "Topic #:0 ['pm', 'state', 'fw', 'secretary', 'time']\n",
      "Topic #:1 ['state', 'pm', '1', 'call', 'fw']\n",
      "Topic #:2 ['fw', 'state', 'secretary', '1', 'call']\n",
      "Topic #:3 ['u', 'state', 'pm', 'call', 'fw']\n",
      "Topic #:4 ['state', 'pm', '1', 'fw', 'u']\n",
      "Topic #:5 ['state', 'pm', 'call', 'secretary', 'one']\n",
      "Topic #:6 ['state', 'pm', 'secretary', 'call', 'fw']\n",
      "Topic #:7 ['state', 'pm', 'call', 'u', 'secretary']\n",
      "Topic #:8 ['state', 'call', 'secretary', 'fw', 'u']\n",
      "Topic #:9 ['state', 'pm', 'secretary', 'call', 'u']\n",
      "Topic #:10 ['pm', 'secretary', 'state', 'fw', 'call']\n",
      "Topic #:11 ['state', 'pm', 'call', 'fw', 'secretary']\n",
      "Topic #:12 ['fw', 'call', 'state', 'secretary', 'pm']\n",
      "Topic #:13 ['state', 'pm', 'obama', 'fw', 'call']\n",
      "Topic #:14 ['state', 'pm', 'fw', 'office', 'call']\n",
      "Topic #:15 ['state', 'fw', 'pm', '1', 'fyi']\n",
      "Topic #:16 ['state', 'pm', 'call', 'fw', '1']\n",
      "Topic #:17 ['state', '1', 'pm', 'call', 'fw']\n",
      "Topic #:18 ['state', 'fw', 'pm', 'call', '1']\n",
      "Topic #:19 ['state', 'call', 'fw', 'pm', 'secretary']\n",
      "Topic #:20 ['state', 'pm', 'obama', 'office', 'fw']\n",
      "Topic #:21 ['state', 'pm', 'call', 'secretary', 'one']\n",
      "Topic #:22 ['state', 'office', 'call', 'pm', 'department']\n",
      "Topic #:23 ['state', 'pm', 'fw', 'call', 'w']\n",
      "Topic #:24 ['pm', 'state', 'call', 'fw', 'u']\n",
      "Topic #:25 ['state', 'pm', 'fw', 'call', 'secretary']\n",
      "Topic #:26 ['pm', 'fw', 'state', 'call', 'secretary']\n",
      "Topic #:27 ['state', 'fw', 'pm', 'call', 'u']\n",
      "Topic #:28 ['state', '1', 'call', 'office', 'secretary']\n",
      "Topic #:29 ['state', 'call', 'office', 'pm', '1']\n",
      "Topic #:30 ['state', 'pm', 'secretary', 'call', 'u']\n",
      "Topic #:31 ['state', 'pm', 'call', 'fw', 'secretary']\n",
      "Topic #:32 ['state', 'secretary', 'fw', 'u', 'pm']\n",
      "Topic #:33 ['pm', 'state', 'call', 'u', 'office']\n",
      "Topic #:34 ['pm', 'state', '1', 'u', 'fw']\n",
      "\n",
      "\n",
      "The current model has 40 topics\n",
      "Topic num                List of words associated with the topic\n",
      "Topic #:0 ['state', 'secretary', 'pm', 'call', '1']\n",
      "Topic #:1 ['state', 'call', 'fw', 'pm', 'office']\n",
      "Topic #:2 ['state', 'fw', 'pm', 'call', 'obama']\n",
      "Topic #:3 ['state', 'secretary', 'call', 'said', 'w']\n",
      "Topic #:4 ['state', 'pm', 'fw', 'u', 'call']\n",
      "Topic #:5 ['state', 'pm', 'fw', 'secretary', 'office']\n",
      "Topic #:6 ['state', 'pm', 'call', 'fw', 'u']\n",
      "Topic #:7 ['pm', 'state', 'call', 'secretary', 'fw']\n",
      "Topic #:8 ['state', 'call', 'pm', 'u', 'fw']\n",
      "Topic #:9 ['state', 'pm', 'call', 'secretary', 'fw']\n",
      "Topic #:10 ['state', 'fw', 'pm', 'obama', 'call']\n",
      "Topic #:11 ['state', 'secretary', 'pm', 'fw', '1']\n",
      "Topic #:12 ['state', 'pm', 'fw', '1', 'call']\n",
      "Topic #:13 ['state', 'pm', 'secretary', 'office', 'fw']\n",
      "Topic #:14 ['pm', 'state', 'fw', 'call', '1']\n",
      "Topic #:15 ['state', 'pm', 'fw', 'call', 'u']\n",
      "Topic #:16 ['state', 'call', 'secretary', 'pm', 'new']\n",
      "Topic #:17 ['pm', 'state', 'fw', 'call', 'secretary']\n",
      "Topic #:18 ['state', 'pm', 'u', 'fw', 'secretary']\n",
      "Topic #:19 ['state', 'call', '1', 'pm', 'w']\n",
      "Topic #:20 ['pm', 'state', 'fw', 'w', 'u']\n",
      "Topic #:21 ['state', 'fw', 'pm', 'call', 'secretary']\n",
      "Topic #:22 ['state', 'fw', 'call', 'u', 'w']\n",
      "Topic #:23 ['secretary', 'state', 'pm', 'call', 'fw']\n",
      "Topic #:24 ['state', 'secretary', 'u', '1', 'new']\n",
      "Topic #:25 ['state', 'pm', 'fw', 'office', 'secretary']\n",
      "Topic #:26 ['state', 'call', 'pm', '1', 'fw']\n",
      "Topic #:27 ['state', 'secretary', 'pm', 'call', 'fw']\n",
      "Topic #:28 ['pm', 'state', '1', 'obama', 'u']\n",
      "Topic #:29 ['state', 'fw', 'call', 'secretary', 'u']\n",
      "Topic #:30 ['state', 'call', 'pm', 'secretary', 'fw']\n",
      "Topic #:31 ['fw', 'call', 'state', '1', 'secretary']\n",
      "Topic #:32 ['state', 'fw', 'pm', 'u', 'secretary']\n",
      "Topic #:33 ['state', 'fw', 'secretary', 'pm', 'fyi']\n",
      "Topic #:34 ['state', 'pm', 'call', '1', 'u']\n",
      "Topic #:35 ['state', 'call', 'pm', '1', 'fw']\n",
      "Topic #:36 ['state', 'pm', 'call', 'fw', 'office']\n",
      "Topic #:37 ['pm', 'call', 'state', '1', 'u']\n",
      "Topic #:38 ['state', 'pm', 'fw', 'secretary', '1']\n",
      "Topic #:39 ['state', 'pm', 'call', 'fw', '1']\n",
      "\n",
      "\n",
      "The current model has 45 topics\n",
      "Topic num                List of words associated with the topic\n",
      "Topic #:0 ['state', 'call', 'pm', 'u', '1']\n",
      "Topic #:1 ['pm', 'state', 'fw', '1', 'secretary']\n",
      "Topic #:2 ['state', 'call', 'pm', 'secretary', '1']\n",
      "Topic #:3 ['state', '1', 'u', 'office', 'fw']\n",
      "Topic #:4 ['state', 'call', 'pm', 'fw', 'u']\n",
      "Topic #:5 ['state', 'pm', 'obama', 'secretary', '1']\n",
      "Topic #:6 ['state', 'pm', 'fw', 'call', '1']\n",
      "Topic #:7 ['state', 'secretary', 'pm', 'office', 'fw']\n",
      "Topic #:8 ['state', 'call', 'secretary', 'pm', 'new']\n",
      "Topic #:9 ['pm', 'fw', '1', 'new', 'call']\n",
      "Topic #:10 ['call', 'state', 'pm', '1', 'office']\n",
      "Topic #:11 ['state', 'u', 'pm', 'fw', 'new']\n",
      "Topic #:12 ['state', 'u', 'pm', 'secretary', 'fw']\n",
      "Topic #:13 ['state', 'pm', 'fw', 'secretary', 'call']\n",
      "Topic #:14 ['state', 'call', 'pm', 'fw', 'secretary']\n",
      "Topic #:15 ['fw', 'state', 'pm', 'time', 'call']\n",
      "Topic #:16 ['state', 'pm', 'secretary', 'call', 'fw']\n",
      "Topic #:17 ['state', 'pm', 'call', '1', 'u']\n",
      "Topic #:18 ['state', 'call', 'u', 'secretary', 'pm']\n",
      "Topic #:19 ['state', 'fw', 'pm', 'obama', 'call']\n",
      "Topic #:20 ['pm', 'state', 'fw', 'office', 'call']\n",
      "Topic #:21 ['state', 'secretary', 'fw', 'pm', 'one']\n",
      "Topic #:22 ['state', 'pm', 'office', 'fw', 'call']\n",
      "Topic #:23 ['state', 'pm', 'call', 'secretary', '1']\n",
      "Topic #:24 ['state', 'fw', 'pm', '1', 'obama']\n",
      "Topic #:25 ['state', 'secretary', 'fw', 'call', 'pm']\n",
      "Topic #:26 ['state', '1', 'pm', 'secretary', 'fw']\n",
      "Topic #:27 ['state', '1', 'secretary', 'fw', 'u']\n",
      "Topic #:28 ['pm', 'secretary', 'fw', 'state', 'call']\n",
      "Topic #:29 ['1', 'pm', 'state', 'fw', 'u']\n",
      "Topic #:30 ['call', 'state', 'w', 'pm', 'fw']\n",
      "Topic #:31 ['state', 'fw', 'call', 'secretary', '1']\n",
      "Topic #:32 ['pm', 'state', 'secretary', 'call', 'u']\n",
      "Topic #:33 ['state', 'pm', 'w', 'u', '1']\n",
      "Topic #:34 ['pm', 'state', 'call', 'obama', 'fw']\n",
      "Topic #:35 ['state', 'fw', 'pm', 'secretary', 'call']\n",
      "Topic #:36 ['state', 'fw', 'secretary', 'call', 'pm']\n",
      "Topic #:37 ['state', 'pm', 'office', 'call', 'secretary']\n",
      "Topic #:38 ['state', 'pm', 'fw', 'secretary', 'new']\n",
      "Topic #:39 ['pm', 'secretary', 'state', 'u', 'call']\n",
      "Topic #:40 ['state', 'fw', 'pm', '1', 'call']\n",
      "Topic #:41 ['state', 'pm', 'fw', 'u', 'call']\n",
      "Topic #:42 ['state', 'pm', 'fw', 'secretary', '1']\n",
      "Topic #:43 ['state', 'pm', 'call', '1', 'obama']\n",
      "Topic #:44 ['state', 'pm', 'fw', 'u', 'new']\n",
      "\n",
      "\n",
      "The current model has 50 topics\n",
      "Topic num                List of words associated with the topic\n",
      "Topic #:0 ['state', 'u', 'pm', 'w', 'fyi']\n",
      "Topic #:1 ['state', 'pm', '1', 'fw', 'call']\n",
      "Topic #:2 ['state', 'pm', 'fw', 'secretary', 'u']\n",
      "Topic #:3 ['pm', 'state', 'secretary', 'call', 'fw']\n",
      "Topic #:4 ['state', 'fw', 'pm', 'obama', 'secretary']\n",
      "Topic #:5 ['pm', 'state', 'call', 'w', 'new']\n",
      "Topic #:6 ['state', 'pm', 'call', 'fyi', 'fw']\n",
      "Topic #:7 ['state', 'pm', 'secretary', 'u', 'call']\n",
      "Topic #:8 ['state', 'call', 'fw', '1', 'secretary']\n",
      "Topic #:9 ['state', 'u', 'call', 'pm', 'secretary']\n",
      "Topic #:10 ['state', 'fw', 'secretary', 'call', 'office']\n",
      "Topic #:11 ['state', 'pm', '1', 'secretary', 'u']\n",
      "Topic #:12 ['state', 'fw', 'pm', 'secretary', 'u']\n",
      "Topic #:13 ['state', 'pm', 'u', 'fw', 'call']\n",
      "Topic #:14 ['state', 'pm', 'u', 'call', 'new']\n",
      "Topic #:15 ['state', 'fw', 'pm', 'obama', 'call']\n",
      "Topic #:16 ['state', 'fw', 'pm', 'u', 'call']\n",
      "Topic #:17 ['state', 'pm', 'secretary', 'fw', 'call']\n",
      "Topic #:18 ['call', 'pm', 'state', 'obama', 'office']\n",
      "Topic #:19 ['pm', 'state', 'call', 'new', 'u']\n",
      "Topic #:20 ['pm', 'fw', 'call', 'secretary', 'state']\n",
      "Topic #:21 ['state', 'pm', '1', 'fw', 'office']\n",
      "Topic #:22 ['state', 'pm', 'call', 'fw', 'office']\n",
      "Topic #:23 ['state', 'pm', 'fw', 'call', '1']\n",
      "Topic #:24 ['state', 'pm', 'secretary', '1', 'time']\n",
      "Topic #:25 ['pm', 'state', 'call', 'secretary', 'fw']\n",
      "Topic #:26 ['fw', 'state', 'pm', 'call', 'u']\n",
      "Topic #:27 ['pm', 'state', 'secretary', 'call', 'office']\n",
      "Topic #:28 ['state', 'pm', 'fw', 'secretary', '2']\n",
      "Topic #:29 ['pm', 'fw', '1', 'state', 'call']\n",
      "Topic #:30 ['fw', 'state', '1', 'pm', 'secretary']\n",
      "Topic #:31 ['state', 'pm', 'call', 'secretary', 'fw']\n",
      "Topic #:32 ['state', 'call', 'secretary', 'pm', '1']\n",
      "Topic #:33 ['state', 'call', 'secretary', 'pm', 'fw']\n",
      "Topic #:34 ['state', 'pm', 'u', '1', 'fw']\n",
      "Topic #:35 ['state', 'pm', 'fw', 'u', 'secretary']\n",
      "Topic #:36 ['state', 'pm', 'fw', 'call', '1']\n",
      "Topic #:37 ['state', 'call', 'fw', 'pm', '1']\n",
      "Topic #:38 ['state', 'fw', 'pm', 'call', 'u']\n",
      "Topic #:39 ['state', 'pm', 'call', '1', 'w']\n",
      "Topic #:40 ['secretary', 'state', 'pm', '1', 'fyi']\n",
      "Topic #:41 ['state', 'u', 'call', 'secretary', 'w']\n",
      "Topic #:42 ['state', 'call', 'secretary', 'pm', 'fw']\n",
      "Topic #:43 ['state', 'secretary', 'pm', 'office', 'call']\n",
      "Topic #:44 ['fw', 'state', 'call', 'secretary', 'w']\n",
      "Topic #:45 ['state', 'pm', 'call', 'u', '1']\n",
      "Topic #:46 ['state', 'pm', 'fw', 'call', 'obama']\n",
      "Topic #:47 ['state', 'pm', '1', 'secretary', 'call']\n",
      "Topic #:48 ['state', '1', 'pm', 'fw', 'obama']\n",
      "Topic #:49 ['secretary', 'state', 'pm', 'fw', 'call']\n"
     ]
    },
    {
     "data": {
      "text/plain": [
       "(50, 2)"
      ]
     },
     "execution_count": 49,
     "metadata": {},
     "output_type": "execute_result"
    }
   ],
   "source": [
    "import re\n",
    "\n",
    "#number of words associated with each number\n",
    "n_words = 5\n",
    "\n",
    "#for each topic, we load the model correponding to the topic number\n",
    "for x in range(5,51,5):\n",
    "    number_of_topics = x\n",
    "    number_of_topics_str = str(number_of_topics)\n",
    "    stem = 'corpus'+ number_of_topics_str+\".lda\"\n",
    "    my_model= gensim.models.LdaModel.load(stem)\n",
    "    \n",
    "    print(\"\\n\")\n",
    "    print(\"The current model has \" + number_of_topics_str + \" topics\" )\n",
    "    print(\"Topic num               \", \"List of words associated with the topic\")\n",
    "\n",
    "    #show topic returns the topic number and the words&weighting associated with the topic\n",
    "    for i in range(x):\n",
    "        current_model = my_model.show_topics(num_topics = number_of_topics,num_words = n_words)\n",
    "        #topic number\n",
    "        topic_number = current_model[i][0]\n",
    "        \n",
    "        #this finds all the words inbetween \"\"\n",
    "        words_belong_to_topic = re.findall(r'\"(.*?)\"', current_model[i][1])\n",
    "\n",
    "        print(\"Topic #:\"+ str(topic_number), words_belong_to_topic)\n",
    "\n",
    "#prints the number of topics that was inputed when the model was created\n",
    "shape(my_model.print_topics(num_topics = number_of_topics))"
   ]
  },
  {
   "cell_type": "markdown",
   "metadata": {},
   "source": [
    "pip install pyLDAvis"
   ]
  },
  {
   "cell_type": "code",
   "execution_count": 50,
   "metadata": {
    "collapsed": false
   },
   "outputs": [
    {
     "name": "stderr",
     "output_type": "stream",
     "text": [
      "/home/chibu/Downloads/ENTER/lib/python3.5/site-packages/funcy/decorators.py:56: DeprecationWarning: inspect.getargspec() is deprecated, use inspect.signature() instead\n",
      "  spec = inspect.getargspec(func)\n",
      "/home/chibu/Downloads/ENTER/lib/python3.5/site-packages/funcy/decorators.py:56: DeprecationWarning: inspect.getargspec() is deprecated, use inspect.signature() instead\n",
      "  spec = inspect.getargspec(func)\n",
      "/home/chibu/Downloads/ENTER/lib/python3.5/site-packages/funcy/decorators.py:56: DeprecationWarning: inspect.getargspec() is deprecated, use inspect.signature() instead\n",
      "  spec = inspect.getargspec(func)\n",
      "/home/chibu/Downloads/ENTER/lib/python3.5/site-packages/funcy/decorators.py:56: DeprecationWarning: inspect.getargspec() is deprecated, use inspect.signature() instead\n",
      "  spec = inspect.getargspec(func)\n",
      "/home/chibu/Downloads/ENTER/lib/python3.5/site-packages/funcy/decorators.py:56: DeprecationWarning: inspect.getargspec() is deprecated, use inspect.signature() instead\n",
      "  spec = inspect.getargspec(func)\n",
      "/home/chibu/Downloads/ENTER/lib/python3.5/site-packages/funcy/decorators.py:56: DeprecationWarning: inspect.getargspec() is deprecated, use inspect.signature() instead\n",
      "  spec = inspect.getargspec(func)\n"
     ]
    }
   ],
   "source": [
    "\n",
    "import pyLDAvis\n",
    "\n",
    "import pyLDAvis.gensim as gensim\n",
    "\n",
    "#pyLDAvis.enable_notebook()\n"
   ]
  },
  {
   "cell_type": "code",
   "execution_count": null,
   "metadata": {
    "collapsed": false
   },
   "outputs": [],
   "source": [
    "vis_prep = gensim.prepare(my_model,corpus_bow,corpus_dict)"
   ]
  },
  {
   "cell_type": "code",
   "execution_count": null,
   "metadata": {
    "collapsed": false
   },
   "outputs": [],
   "source": [
    "#note that pyLDAvis.display() keeps crashing the notebook\n",
    "pyLDA.save_html(vis_prep,\"topic_modeling.html\")"
   ]
  },
  {
   "cell_type": "code",
   "execution_count": null,
   "metadata": {
    "collapsed": true
   },
   "outputs": [],
   "source": []
  }
 ],
 "metadata": {
  "anaconda-cloud": {},
  "kernelspec": {
   "display_name": "Python [Root]",
   "language": "python",
   "name": "Python [Root]"
  },
  "language_info": {
   "codemirror_mode": {
    "name": "ipython",
    "version": 3
   },
   "file_extension": ".py",
   "mimetype": "text/x-python",
   "name": "python",
   "nbconvert_exporter": "python",
   "pygments_lexer": "ipython3",
   "version": "3.5.2"
  }
 },
 "nbformat": 4,
 "nbformat_minor": 1
}
