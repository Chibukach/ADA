{
 "cells": [
  {
   "cell_type": "code",
   "execution_count": 1,
   "metadata": {
    "collapsed": false
   },
   "outputs": [
    {
     "name": "stdout",
     "output_type": "stream",
     "text": [
      "Populating the interactive namespace from numpy and matplotlib\n"
     ]
    }
   ],
   "source": [
    "import nltk \n",
    "import pandas as pd \n",
    "from wordcloud import WordCloud\n",
    "import matplotlib.pyplot as plt\n",
    "%pylab inline\n",
    "from stop_words import get_stop_words\n",
    "from nltk.corpus import stopwords\n",
    "import pycountry as pc"
   ]
  },
  {
   "cell_type": "code",
   "execution_count": 2,
   "metadata": {
    "collapsed": true
   },
   "outputs": [],
   "source": [
    "email_path = \"./hillary-clinton-emails/Emails.csv\"\n",
    "email_df = pd.read_csv(email_path, encoding=\"utf-8\")"
   ]
  },
  {
   "cell_type": "code",
   "execution_count": 3,
   "metadata": {
    "collapsed": false
   },
   "outputs": [
    {
     "data": {
      "text/plain": [
       "Index([u'Id', u'DocNumber', u'MetadataSubject', u'MetadataTo', u'MetadataFrom',\n",
       "       u'SenderPersonId', u'MetadataDateSent', u'MetadataDateReleased',\n",
       "       u'MetadataPdfLink', u'MetadataCaseNumber', u'MetadataDocumentClass',\n",
       "       u'ExtractedSubject', u'ExtractedTo', u'ExtractedFrom', u'ExtractedCc',\n",
       "       u'ExtractedDateSent', u'ExtractedCaseNumber', u'ExtractedDocNumber',\n",
       "       u'ExtractedDateReleased', u'ExtractedReleaseInPartOrFull',\n",
       "       u'ExtractedBodyText', u'RawText'],\n",
       "      dtype='object')"
      ]
     },
     "execution_count": 3,
     "metadata": {},
     "output_type": "execute_result"
    }
   ],
   "source": [
    "email_df.columns"
   ]
  },
  {
   "cell_type": "code",
   "execution_count": 4,
   "metadata": {
    "collapsed": false
   },
   "outputs": [
    {
     "data": {
      "text/html": [
       "<div>\n",
       "<table border=\"1\" class=\"dataframe\">\n",
       "  <thead>\n",
       "    <tr style=\"text-align: right;\">\n",
       "      <th></th>\n",
       "      <th>Id</th>\n",
       "      <th>DocNumber</th>\n",
       "      <th>MetadataSubject</th>\n",
       "      <th>MetadataTo</th>\n",
       "      <th>MetadataFrom</th>\n",
       "      <th>SenderPersonId</th>\n",
       "      <th>MetadataDateSent</th>\n",
       "      <th>MetadataDateReleased</th>\n",
       "      <th>MetadataPdfLink</th>\n",
       "      <th>MetadataCaseNumber</th>\n",
       "      <th>...</th>\n",
       "      <th>ExtractedTo</th>\n",
       "      <th>ExtractedFrom</th>\n",
       "      <th>ExtractedCc</th>\n",
       "      <th>ExtractedDateSent</th>\n",
       "      <th>ExtractedCaseNumber</th>\n",
       "      <th>ExtractedDocNumber</th>\n",
       "      <th>ExtractedDateReleased</th>\n",
       "      <th>ExtractedReleaseInPartOrFull</th>\n",
       "      <th>ExtractedBodyText</th>\n",
       "      <th>RawText</th>\n",
       "    </tr>\n",
       "  </thead>\n",
       "  <tbody>\n",
       "    <tr>\n",
       "      <th>0</th>\n",
       "      <td>1</td>\n",
       "      <td>C05739545</td>\n",
       "      <td>WOW</td>\n",
       "      <td>H</td>\n",
       "      <td>Sullivan, Jacob J</td>\n",
       "      <td>87.0</td>\n",
       "      <td>2012-09-12T04:00:00+00:00</td>\n",
       "      <td>2015-05-22T04:00:00+00:00</td>\n",
       "      <td>DOCUMENTS/HRC_Email_1_296/HRCH2/DOC_0C05739545...</td>\n",
       "      <td>F-2015-04841</td>\n",
       "      <td>...</td>\n",
       "      <td>NaN</td>\n",
       "      <td>Sullivan, Jacob J &lt;Sullivan11@state.gov&gt;</td>\n",
       "      <td>NaN</td>\n",
       "      <td>Wednesday, September 12, 2012 10:16 AM</td>\n",
       "      <td>F-2015-04841</td>\n",
       "      <td>C05739545</td>\n",
       "      <td>05/13/2015</td>\n",
       "      <td>RELEASE IN FULL</td>\n",
       "      <td>NaN</td>\n",
       "      <td>UNCLASSIFIED\\nU.S. Department of State\\nCase N...</td>\n",
       "    </tr>\n",
       "    <tr>\n",
       "      <th>1</th>\n",
       "      <td>2</td>\n",
       "      <td>C05739546</td>\n",
       "      <td>H: LATEST: HOW SYRIA IS AIDING QADDAFI AND MOR...</td>\n",
       "      <td>H</td>\n",
       "      <td>NaN</td>\n",
       "      <td>NaN</td>\n",
       "      <td>2011-03-03T05:00:00+00:00</td>\n",
       "      <td>2015-05-22T04:00:00+00:00</td>\n",
       "      <td>DOCUMENTS/HRC_Email_1_296/HRCH1/DOC_0C05739546...</td>\n",
       "      <td>F-2015-04841</td>\n",
       "      <td>...</td>\n",
       "      <td>NaN</td>\n",
       "      <td>NaN</td>\n",
       "      <td>NaN</td>\n",
       "      <td>NaN</td>\n",
       "      <td>F-2015-04841</td>\n",
       "      <td>C05739546</td>\n",
       "      <td>05/13/2015</td>\n",
       "      <td>RELEASE IN PART</td>\n",
       "      <td>B6\\nThursday, March 3, 2011 9:45 PM\\nH: Latest...</td>\n",
       "      <td>UNCLASSIFIED\\nU.S. Department of State\\nCase N...</td>\n",
       "    </tr>\n",
       "    <tr>\n",
       "      <th>2</th>\n",
       "      <td>3</td>\n",
       "      <td>C05739547</td>\n",
       "      <td>CHRIS STEVENS</td>\n",
       "      <td>;H</td>\n",
       "      <td>Mills, Cheryl D</td>\n",
       "      <td>32.0</td>\n",
       "      <td>2012-09-12T04:00:00+00:00</td>\n",
       "      <td>2015-05-22T04:00:00+00:00</td>\n",
       "      <td>DOCUMENTS/HRC_Email_1_296/HRCH2/DOC_0C05739547...</td>\n",
       "      <td>F-2015-04841</td>\n",
       "      <td>...</td>\n",
       "      <td>B6</td>\n",
       "      <td>Mills, Cheryl D &lt;MillsCD@state.gov&gt;</td>\n",
       "      <td>Abedin, Huma</td>\n",
       "      <td>Wednesday, September 12, 2012 11:52 AM</td>\n",
       "      <td>F-2015-04841</td>\n",
       "      <td>C05739547</td>\n",
       "      <td>05/14/2015</td>\n",
       "      <td>RELEASE IN PART</td>\n",
       "      <td>Thx</td>\n",
       "      <td>UNCLASSIFIED\\nU.S. Department of State\\nCase N...</td>\n",
       "    </tr>\n",
       "    <tr>\n",
       "      <th>3</th>\n",
       "      <td>4</td>\n",
       "      <td>C05739550</td>\n",
       "      <td>CAIRO CONDEMNATION - FINAL</td>\n",
       "      <td>H</td>\n",
       "      <td>Mills, Cheryl D</td>\n",
       "      <td>32.0</td>\n",
       "      <td>2012-09-12T04:00:00+00:00</td>\n",
       "      <td>2015-05-22T04:00:00+00:00</td>\n",
       "      <td>DOCUMENTS/HRC_Email_1_296/HRCH2/DOC_0C05739550...</td>\n",
       "      <td>F-2015-04841</td>\n",
       "      <td>...</td>\n",
       "      <td>NaN</td>\n",
       "      <td>Mills, Cheryl D &lt;MillsCD@state.gov&gt;</td>\n",
       "      <td>Mitchell, Andrew B</td>\n",
       "      <td>Wednesday, September 12,2012 12:44 PM</td>\n",
       "      <td>F-2015-04841</td>\n",
       "      <td>C05739550</td>\n",
       "      <td>05/13/2015</td>\n",
       "      <td>RELEASE IN PART</td>\n",
       "      <td>NaN</td>\n",
       "      <td>UNCLASSIFIED\\nU.S. Department of State\\nCase N...</td>\n",
       "    </tr>\n",
       "    <tr>\n",
       "      <th>4</th>\n",
       "      <td>5</td>\n",
       "      <td>C05739554</td>\n",
       "      <td>H: LATEST: HOW SYRIA IS AIDING QADDAFI AND MOR...</td>\n",
       "      <td>Abedin, Huma</td>\n",
       "      <td>H</td>\n",
       "      <td>80.0</td>\n",
       "      <td>2011-03-11T05:00:00+00:00</td>\n",
       "      <td>2015-05-22T04:00:00+00:00</td>\n",
       "      <td>DOCUMENTS/HRC_Email_1_296/HRCH1/DOC_0C05739554...</td>\n",
       "      <td>F-2015-04841</td>\n",
       "      <td>...</td>\n",
       "      <td>NaN</td>\n",
       "      <td>NaN</td>\n",
       "      <td>NaN</td>\n",
       "      <td>NaN</td>\n",
       "      <td>F-2015-04841</td>\n",
       "      <td>C05739554</td>\n",
       "      <td>05/13/2015</td>\n",
       "      <td>RELEASE IN PART</td>\n",
       "      <td>H &lt;hrod17@clintonemail.com&gt;\\nFriday, March 11,...</td>\n",
       "      <td>B6\\nUNCLASSIFIED\\nU.S. Department of State\\nCa...</td>\n",
       "    </tr>\n",
       "  </tbody>\n",
       "</table>\n",
       "<p>5 rows × 22 columns</p>\n",
       "</div>"
      ],
      "text/plain": [
       "   Id  DocNumber                                    MetadataSubject  \\\n",
       "0   1  C05739545                                                WOW   \n",
       "1   2  C05739546  H: LATEST: HOW SYRIA IS AIDING QADDAFI AND MOR...   \n",
       "2   3  C05739547                                      CHRIS STEVENS   \n",
       "3   4  C05739550                         CAIRO CONDEMNATION - FINAL   \n",
       "4   5  C05739554  H: LATEST: HOW SYRIA IS AIDING QADDAFI AND MOR...   \n",
       "\n",
       "     MetadataTo       MetadataFrom  SenderPersonId           MetadataDateSent  \\\n",
       "0             H  Sullivan, Jacob J            87.0  2012-09-12T04:00:00+00:00   \n",
       "1             H                NaN             NaN  2011-03-03T05:00:00+00:00   \n",
       "2            ;H    Mills, Cheryl D            32.0  2012-09-12T04:00:00+00:00   \n",
       "3             H    Mills, Cheryl D            32.0  2012-09-12T04:00:00+00:00   \n",
       "4  Abedin, Huma                  H            80.0  2011-03-11T05:00:00+00:00   \n",
       "\n",
       "        MetadataDateReleased  \\\n",
       "0  2015-05-22T04:00:00+00:00   \n",
       "1  2015-05-22T04:00:00+00:00   \n",
       "2  2015-05-22T04:00:00+00:00   \n",
       "3  2015-05-22T04:00:00+00:00   \n",
       "4  2015-05-22T04:00:00+00:00   \n",
       "\n",
       "                                     MetadataPdfLink MetadataCaseNumber  \\\n",
       "0  DOCUMENTS/HRC_Email_1_296/HRCH2/DOC_0C05739545...       F-2015-04841   \n",
       "1  DOCUMENTS/HRC_Email_1_296/HRCH1/DOC_0C05739546...       F-2015-04841   \n",
       "2  DOCUMENTS/HRC_Email_1_296/HRCH2/DOC_0C05739547...       F-2015-04841   \n",
       "3  DOCUMENTS/HRC_Email_1_296/HRCH2/DOC_0C05739550...       F-2015-04841   \n",
       "4  DOCUMENTS/HRC_Email_1_296/HRCH1/DOC_0C05739554...       F-2015-04841   \n",
       "\n",
       "                         ...                         ExtractedTo  \\\n",
       "0                        ...                                 NaN   \n",
       "1                        ...                                 NaN   \n",
       "2                        ...                                  B6   \n",
       "3                        ...                                 NaN   \n",
       "4                        ...                                 NaN   \n",
       "\n",
       "                              ExtractedFrom         ExtractedCc  \\\n",
       "0  Sullivan, Jacob J <Sullivan11@state.gov>                 NaN   \n",
       "1                                       NaN                 NaN   \n",
       "2       Mills, Cheryl D <MillsCD@state.gov>        Abedin, Huma   \n",
       "3       Mills, Cheryl D <MillsCD@state.gov>  Mitchell, Andrew B   \n",
       "4                                       NaN                 NaN   \n",
       "\n",
       "                        ExtractedDateSent ExtractedCaseNumber  \\\n",
       "0  Wednesday, September 12, 2012 10:16 AM        F-2015-04841   \n",
       "1                                     NaN        F-2015-04841   \n",
       "2  Wednesday, September 12, 2012 11:52 AM        F-2015-04841   \n",
       "3   Wednesday, September 12,2012 12:44 PM        F-2015-04841   \n",
       "4                                     NaN        F-2015-04841   \n",
       "\n",
       "  ExtractedDocNumber ExtractedDateReleased ExtractedReleaseInPartOrFull  \\\n",
       "0          C05739545            05/13/2015              RELEASE IN FULL   \n",
       "1          C05739546            05/13/2015              RELEASE IN PART   \n",
       "2          C05739547            05/14/2015              RELEASE IN PART   \n",
       "3          C05739550            05/13/2015              RELEASE IN PART   \n",
       "4          C05739554            05/13/2015              RELEASE IN PART   \n",
       "\n",
       "                                   ExtractedBodyText  \\\n",
       "0                                                NaN   \n",
       "1  B6\\nThursday, March 3, 2011 9:45 PM\\nH: Latest...   \n",
       "2                                                Thx   \n",
       "3                                                NaN   \n",
       "4  H <hrod17@clintonemail.com>\\nFriday, March 11,...   \n",
       "\n",
       "                                             RawText  \n",
       "0  UNCLASSIFIED\\nU.S. Department of State\\nCase N...  \n",
       "1  UNCLASSIFIED\\nU.S. Department of State\\nCase N...  \n",
       "2  UNCLASSIFIED\\nU.S. Department of State\\nCase N...  \n",
       "3  UNCLASSIFIED\\nU.S. Department of State\\nCase N...  \n",
       "4  B6\\nUNCLASSIFIED\\nU.S. Department of State\\nCa...  \n",
       "\n",
       "[5 rows x 22 columns]"
      ]
     },
     "execution_count": 4,
     "metadata": {},
     "output_type": "execute_result"
    }
   ],
   "source": [
    "email_df.head()"
   ]
  },
  {
   "cell_type": "markdown",
   "metadata": {},
   "source": [
    "# QUESTION 1 "
   ]
  },
  {
   "cell_type": "markdown",
   "metadata": {},
   "source": [
    "## WORLDCLOUD RAW"
   ]
  },
  {
   "cell_type": "code",
   "execution_count": 5,
   "metadata": {
    "collapsed": false
   },
   "outputs": [
    {
     "data": {
      "text/plain": [
       "(7945, 22)"
      ]
     },
     "execution_count": 5,
     "metadata": {},
     "output_type": "execute_result"
    }
   ],
   "source": [
    "email_df.shape"
   ]
  },
  {
   "cell_type": "code",
   "execution_count": 6,
   "metadata": {
    "collapsed": true
   },
   "outputs": [],
   "source": [
    "email_df.dropna(subset=['ExtractedBodyText'], inplace=True)"
   ]
  },
  {
   "cell_type": "code",
   "execution_count": 7,
   "metadata": {
    "collapsed": false
   },
   "outputs": [
    {
     "data": {
      "text/plain": [
       "(6742, 22)"
      ]
     },
     "execution_count": 7,
     "metadata": {},
     "output_type": "execute_result"
    }
   ],
   "source": [
    "email_df.shape"
   ]
  },
  {
   "cell_type": "code",
   "execution_count": 8,
   "metadata": {
    "collapsed": true
   },
   "outputs": [],
   "source": [
    "text = email_df['ExtractedBodyText']"
   ]
  },
  {
   "cell_type": "code",
   "execution_count": 9,
   "metadata": {
    "collapsed": false
   },
   "outputs": [
    {
     "data": {
      "text/plain": [
       "1    B6\\nThursday, March 3, 2011 9:45 PM\\nH: Latest...\n",
       "2                                                  Thx\n",
       "4    H <hrod17@clintonemail.com>\\nFriday, March 11,...\n",
       "5    Pis print.\\n-•-...-^\\nH < hrod17@clintonernail...\n",
       "7    H <hrod17@clintonemail.corn>\\nFriday, March 11...\n",
       "Name: ExtractedBodyText, dtype: object"
      ]
     },
     "execution_count": 9,
     "metadata": {},
     "output_type": "execute_result"
    }
   ],
   "source": [
    "text.head()"
   ]
  },
  {
   "cell_type": "code",
   "execution_count": 10,
   "metadata": {
    "collapsed": true
   },
   "outputs": [],
   "source": [
    "test_text = \" \".join(text) # to add space"
   ]
  },
  {
   "cell_type": "markdown",
   "metadata": {},
   "source": [
    "wc = WordCloud(background_color=\"white\", max_words=2000, mask=alice_mask,stopwords=stopwords)"
   ]
  },
  {
   "cell_type": "code",
   "execution_count": null,
   "metadata": {
    "collapsed": false
   },
   "outputs": [],
   "source": [
    "# Generate a word cloud image\n",
    "wordcloud = WordCloud().generate(test_text)\n",
    "# Display the generated image:\n",
    "# the matplotlib way: \n",
    "import matplotlib.pyplot as plt\n",
    "plt.imshow(wordcloud)\n",
    "plt.axis(\"off\")\n"
   ]
  },
  {
   "cell_type": "markdown",
   "metadata": {},
   "source": [
    "##  PREPROCESSING"
   ]
  },
  {
   "cell_type": "markdown",
   "metadata": {},
   "source": [
    "### TOKENIZATION"
   ]
  },
  {
   "cell_type": "markdown",
   "metadata": {},
   "source": [
    "For example, you can define a tokenizer that picks out sequences of alphanumeric characters as tokens and drops everything else:\n",
    "\n"
   ]
  },
  {
   "cell_type": "markdown",
   "metadata": {},
   "source": [
    "the following tokenizer forms tokens out of alphabetic sequences,\n",
    "money expressions,"
   ]
  },
  {
   "cell_type": "code",
   "execution_count": null,
   "metadata": {
    "collapsed": true
   },
   "outputs": [],
   "source": [
    "tokenizer = nltk.tokenize.RegexpTokenizer(r'\\w+|\\$')"
   ]
  },
  {
   "cell_type": "code",
   "execution_count": null,
   "metadata": {
    "collapsed": false
   },
   "outputs": [],
   "source": [
    "tokens = tokenizer.tokenize(test_text)"
   ]
  },
  {
   "cell_type": "code",
   "execution_count": null,
   "metadata": {
    "collapsed": false
   },
   "outputs": [],
   "source": [
    "tokens"
   ]
  },
  {
   "cell_type": "markdown",
   "metadata": {},
   "source": [
    "### CASE FOLDING"
   ]
  },
  {
   "cell_type": "code",
   "execution_count": null,
   "metadata": {
    "collapsed": true
   },
   "outputs": [],
   "source": [
    "tokens_lower_case = [token.lower() for token in tokens ]"
   ]
  },
  {
   "cell_type": "code",
   "execution_count": null,
   "metadata": {
    "collapsed": false
   },
   "outputs": [],
   "source": [
    "tokens_lower_case"
   ]
  },
  {
   "cell_type": "markdown",
   "metadata": {},
   "source": [
    "### REMOVE STOPWORDS "
   ]
  },
  {
   "cell_type": "code",
   "execution_count": null,
   "metadata": {
    "collapsed": false
   },
   "outputs": [],
   "source": [
    "stop_words = get_stop_words('english')"
   ]
  },
  {
   "cell_type": "code",
   "execution_count": null,
   "metadata": {
    "collapsed": false
   },
   "outputs": [],
   "source": [
    "len(tokens_lower_case)"
   ]
  },
  {
   "cell_type": "code",
   "execution_count": null,
   "metadata": {
    "collapsed": true
   },
   "outputs": [],
   "source": [
    "filtered_words_tmp = [word for word in tokens_lower_case if word not in stop_words]"
   ]
  },
  {
   "cell_type": "code",
   "execution_count": null,
   "metadata": {
    "collapsed": false
   },
   "outputs": [],
   "source": [
    "len(filtered_words_tmp)"
   ]
  },
  {
   "cell_type": "code",
   "execution_count": null,
   "metadata": {
    "collapsed": true
   },
   "outputs": [],
   "source": [
    "filtered_words_lower_case = [word for word in filtered_words_tmp if word not in stopwords.words('english')]"
   ]
  },
  {
   "cell_type": "code",
   "execution_count": null,
   "metadata": {
    "collapsed": false
   },
   "outputs": [],
   "source": [
    "len(filtered_words_lower_case)"
   ]
  },
  {
   "cell_type": "markdown",
   "metadata": {},
   "source": [
    "### STEMMING"
   ]
  },
  {
   "cell_type": "code",
   "execution_count": null,
   "metadata": {
    "collapsed": true
   },
   "outputs": [],
   "source": [
    "porter = nltk.PorterStemmer()\n",
    "\n",
    "token_stem_lower_case = [porter.stem(token) for token in filtered_words_lower_case]"
   ]
  },
  {
   "cell_type": "code",
   "execution_count": null,
   "metadata": {
    "collapsed": false
   },
   "outputs": [],
   "source": [
    "token_stem_lower_case"
   ]
  },
  {
   "cell_type": "markdown",
   "metadata": {},
   "source": [
    "## WORLDCLOUD NEW "
   ]
  },
  {
   "cell_type": "code",
   "execution_count": null,
   "metadata": {
    "collapsed": true
   },
   "outputs": [],
   "source": [
    "new_text = \" \".join(token_stem_lower_case)"
   ]
  },
  {
   "cell_type": "code",
   "execution_count": null,
   "metadata": {
    "collapsed": false
   },
   "outputs": [],
   "source": [
    "# Generate a word cloud image\n",
    "wordcloud = WordCloud().generate(new_text)\n",
    "# Display the generated image:\n",
    "# the matplotlib way: \n",
    "import matplotlib.pyplot as plt\n",
    "plt.imshow(wordcloud)\n",
    "plt.axis(\"off\")\n"
   ]
  },
  {
   "cell_type": "code",
   "execution_count": null,
   "metadata": {
    "collapsed": true
   },
   "outputs": [],
   "source": []
  },
  {
   "cell_type": "code",
   "execution_count": null,
   "metadata": {
    "collapsed": true
   },
   "outputs": [],
   "source": []
  },
  {
   "cell_type": "markdown",
   "metadata": {},
   "source": [
    "# QUESTION  2"
   ]
  },
  {
   "cell_type": "markdown",
   "metadata": {},
   "source": [
    " 1 - check if there is a country and also the abreviation in bodytext one by one\n",
    " 2 - If is not there ignore the email\n",
    " 3 - If it's there add the country in the new column in a list (it may be multiple)\n",
    " "
   ]
  },
  {
   "cell_type": "code",
   "execution_count": null,
   "metadata": {
    "collapsed": false
   },
   "outputs": [],
   "source": [
    "text = email_df['ExtractedBodyText']"
   ]
  },
  {
   "cell_type": "code",
   "execution_count": 25,
   "metadata": {
    "collapsed": false
   },
   "outputs": [
    {
     "name": "stderr",
     "output_type": "stream",
     "text": [
      "/home/trinh/anaconda2/lib/python2.7/site-packages/nltk/twitter/__init__.py:20: UserWarning: The twython library has not been installed. Some functionality from the twitter package will not be available.\n",
      "  warnings.warn(\"The twython library has not been installed. \"\n"
     ]
    }
   ],
   "source": [
    "from nltk.sentiment.util import *"
   ]
  },
  {
   "cell_type": "code",
   "execution_count": 26,
   "metadata": {
    "collapsed": true
   },
   "outputs": [],
   "source": [
    "from nltk.sentiment import SentimentIntensityAnalyzer\n",
    "vader_analyzer = SentimentIntensityAnalyzer()"
   ]
  },
  {
   "cell_type": "code",
   "execution_count": 23,
   "metadata": {
    "collapsed": true
   },
   "outputs": [],
   "source": [
    "def get_polarity_score(text):\n",
    "    \"\"\" return score between 0 and 1, 0 is bad 1 is happy\"\"\"\n",
    "    vader_analyzer = SentimentIntensityAnalyzer()\n",
    "    return (vader_analyzer.polarity_scores(text)['compound']+1)/2"
   ]
  },
  {
   "cell_type": "code",
   "execution_count": 71,
   "metadata": {
    "collapsed": true
   },
   "outputs": [],
   "source": [
    "def return_country(cont_list):\n",
    "    tmp = []\n",
    "    count = 0\n",
    "    for token in cont_list:\n",
    "        try:\n",
    "            count=1\n",
    "            tmp.append(pc.countries.get(name = token).name)\n",
    "            \n",
    "        except:\n",
    "            None    \n",
    "        try:\n",
    "            if count !=1:\n",
    "                tmp.append(pc.countries.get(alpha_2 = token).name)\n",
    "        except:\n",
    "            None\n",
    "    return pd.Series(tmp)"
   ]
  },
  {
   "cell_type": "code",
   "execution_count": 13,
   "metadata": {
    "collapsed": true
   },
   "outputs": [],
   "source": [
    "email_df['token'] = email_df['ExtractedBodyText'].apply(nltk.word_tokenize)"
   ]
  },
  {
   "cell_type": "code",
   "execution_count": 14,
   "metadata": {
    "collapsed": false,
    "scrolled": true
   },
   "outputs": [
    {
     "data": {
      "text/plain": [
       "1       [B6, Thursday, ,, March, 3, ,, 2011, 9:45, PM,...\n",
       "2                                                   [Thx]\n",
       "4       [H, <, hrod17, @, clintonemail.com, >, Friday,...\n",
       "5       [Pis, print, ., -•-, ..., -^, H, <, hrod17, @,...\n",
       "7       [H, <, hrod17, @, clintonemail.corn, >, Friday...\n",
       "8                                                   [FYI]\n",
       "9       [B6, Wednesday, ,, September, 12, ,, 2012, 6:1...\n",
       "10                                        [Fyi, B6, —, —]\n",
       "11      [B6, Wednesday, ,, September, 12, ,, 2012, 6:1...\n",
       "12                                                  [Fyi]\n",
       "13      [Anne-Marie, Slaughter, Sunday, ,, March, 13, ...\n",
       "14      [_, ..., .., From, Randolph, ,, Lawrence, M, S...\n",
       "15      [I, asked, to, attend, your, svtc, today, with...\n",
       "16        [Hope, ., See, picture, below, Kamala, sent, .]\n",
       "17                                    [Another, photo, .]\n",
       "18                                    [This, is, nice, .]\n",
       "19      [Amazing, ., Sullivan, ,, Jacob, J, <, Sulliva...\n",
       "20      [H, <, hrod17, @, clintonernaii.com›, Wednesda...\n",
       "21      [Pis, print, ., H, <, hrod17, @, clintoriernai...\n",
       "22                                        [Pis, print, .]\n",
       "23      [Follow, Up, Flag, :, Follow, up, Flag, Status...\n",
       "24                                                   [B5]\n",
       "25      [Sidney, Blumenthal, Thursday, ,, September, 1...\n",
       "26                                          [Will, do, .]\n",
       "27                              [Remind, me, to, discuss]\n",
       "28      [http, :, //religion.b1ogs.cnn.com/20, 1, 2/09...\n",
       "29                                     [See, note, below]\n",
       "30                                                  [FYI]\n",
       "31                                   [embassy, in, Yemen]\n",
       "32      [B6, Sunday, ,, March, 27, ,, 201i, 9:05, PM, ...\n",
       "                              ...                        \n",
       "7907    [He, was, larger, than, life, in, everything, ...\n",
       "7908                   [OMG, —, I, just, opened, this, !]\n",
       "7909    [Huma, Abedin, <, Huma, @, clintonemail.com, >...\n",
       "7910    [Are, still, here, and, so, appreciative, for,...\n",
       "7911    [According, to, the, Reid, staff, ,, they, wil...\n",
       "7912    [My, flight, takes, off, at, 8, so, call, befo...\n",
       "7914    [That, 's, right, ;, we, mean, 09, ., We, 'll,...\n",
       "7915    [sbwhoeop, Tuesday, ,, December, 14, ,, 2010, ...\n",
       "7916    [Death, of, Holbrookell.y, ,, J3_4, ., :5, _04...\n",
       "7919    [on, :, 12/13/2025, From, To, :, Verveer, ,, M...\n",
       "7920    [That, was, what, lona, had, when, she, went, ...\n",
       "7921                                                [Fyi]\n",
       "7922    [Madame, Secretary, ,, I, wanted, to, flag, fo...\n",
       "7923    [It, 's, at, the, bottom, of, page, 1, :, ...,...\n",
       "7924    [I, will, be, at, a, USGLC, breakfast, doing, ...\n",
       "7925    [Passed, the, Senate, 81, to, 19, ., START, vo...\n",
       "7926                                                 [-^]\n",
       "7927                   [Traffic, below, from, bottom, up]\n",
       "7928                            [fyi, Forwarded, message]\n",
       "7929    [Agree, —, he, did, all, the, writing, and, in...\n",
       "7930    [Nice, Forgot, to, tell, you, about, our, harr...\n",
       "7932                                  [Worth, a, read, .]\n",
       "7933    [The, unsigned, editorials, will, appear, in, ...\n",
       "7936    [Mills, ,, Cheryl, D, <, MillsCD, @, state.gov...\n",
       "7937    [THE, NBC/YORKER, December, 14, ,, 2010, The, ...\n",
       "7938    [Hi, ., Sorry, I, have, n't, had, a, chance, t...\n",
       "7939    [B6, I, assume, you, saw, this, by, now, --, i...\n",
       "7941    [Big, change, of, plans, in, the, Senate, ., S...\n",
       "7943    [PVerveer, B6, Friday, ,, December, 17, ,, 201...\n",
       "7944                                      [See, below, .]\n",
       "Name: token, dtype: object"
      ]
     },
     "execution_count": 14,
     "metadata": {},
     "output_type": "execute_result"
    }
   ],
   "source": [
    "email_df['token']"
   ]
  },
  {
   "cell_type": "code",
   "execution_count": 19,
   "metadata": {
    "collapsed": true
   },
   "outputs": [],
   "source": [
    "email_df['country'] = email_df['token'].apply(return_country)"
   ]
  },
  {
   "cell_type": "code",
   "execution_count": 20,
   "metadata": {
    "collapsed": false,
    "scrolled": true
   },
   "outputs": [
    {
     "data": {
      "text/plain": [
       "1    Saint Pierre and Miquelon\n",
       "2                          NaN\n",
       "4    Saint Pierre and Miquelon\n",
       "5    Saint Pierre and Miquelon\n",
       "7    Saint Pierre and Miquelon\n",
       "Name: country, dtype: object"
      ]
     },
     "execution_count": 20,
     "metadata": {},
     "output_type": "execute_result"
    }
   ],
   "source": [
    "email_df['country'].head()"
   ]
  },
  {
   "cell_type": "code",
   "execution_count": 21,
   "metadata": {
    "collapsed": true
   },
   "outputs": [],
   "source": [
    "email_df.dropna(subset=['country'],inplace=True)"
   ]
  },
  {
   "cell_type": "code",
   "execution_count": 27,
   "metadata": {
    "collapsed": false
   },
   "outputs": [],
   "source": [
    "email_df['sentiment'] = email_df['ExtractedBodyText'].apply(get_polarity_score)"
   ]
  },
  {
   "cell_type": "code",
   "execution_count": 59,
   "metadata": {
    "collapsed": false
   },
   "outputs": [
    {
     "data": {
      "text/html": [
       "<div>\n",
       "<table border=\"1\" class=\"dataframe\">\n",
       "  <thead>\n",
       "    <tr style=\"text-align: right;\">\n",
       "      <th></th>\n",
       "      <th>Id</th>\n",
       "      <th>DocNumber</th>\n",
       "      <th>MetadataSubject</th>\n",
       "      <th>MetadataTo</th>\n",
       "      <th>MetadataFrom</th>\n",
       "      <th>SenderPersonId</th>\n",
       "      <th>MetadataDateSent</th>\n",
       "      <th>MetadataDateReleased</th>\n",
       "      <th>MetadataPdfLink</th>\n",
       "      <th>MetadataCaseNumber</th>\n",
       "      <th>...</th>\n",
       "      <th>ExtractedDateSent</th>\n",
       "      <th>ExtractedCaseNumber</th>\n",
       "      <th>ExtractedDocNumber</th>\n",
       "      <th>ExtractedDateReleased</th>\n",
       "      <th>ExtractedReleaseInPartOrFull</th>\n",
       "      <th>ExtractedBodyText</th>\n",
       "      <th>RawText</th>\n",
       "      <th>country</th>\n",
       "      <th>token</th>\n",
       "      <th>sentiment</th>\n",
       "    </tr>\n",
       "  </thead>\n",
       "  <tbody>\n",
       "    <tr>\n",
       "      <th>1</th>\n",
       "      <td>2</td>\n",
       "      <td>C05739546</td>\n",
       "      <td>H: LATEST: HOW SYRIA IS AIDING QADDAFI AND MOR...</td>\n",
       "      <td>H</td>\n",
       "      <td>NaN</td>\n",
       "      <td>NaN</td>\n",
       "      <td>2011-03-03T05:00:00+00:00</td>\n",
       "      <td>2015-05-22T04:00:00+00:00</td>\n",
       "      <td>DOCUMENTS/HRC_Email_1_296/HRCH1/DOC_0C05739546...</td>\n",
       "      <td>F-2015-04841</td>\n",
       "      <td>...</td>\n",
       "      <td>NaN</td>\n",
       "      <td>F-2015-04841</td>\n",
       "      <td>C05739546</td>\n",
       "      <td>05/13/2015</td>\n",
       "      <td>RELEASE IN PART</td>\n",
       "      <td>B6\\nThursday, March 3, 2011 9:45 PM\\nH: Latest...</td>\n",
       "      <td>UNCLASSIFIED\\nU.S. Department of State\\nCase N...</td>\n",
       "      <td>Saint Pierre and Miquelon</td>\n",
       "      <td>[B6, Thursday, ,, March, 3, ,, 2011, 9:45, PM,...</td>\n",
       "      <td>0.5000</td>\n",
       "    </tr>\n",
       "    <tr>\n",
       "      <th>4</th>\n",
       "      <td>5</td>\n",
       "      <td>C05739554</td>\n",
       "      <td>H: LATEST: HOW SYRIA IS AIDING QADDAFI AND MOR...</td>\n",
       "      <td>Abedin, Huma</td>\n",
       "      <td>H</td>\n",
       "      <td>80.0</td>\n",
       "      <td>2011-03-11T05:00:00+00:00</td>\n",
       "      <td>2015-05-22T04:00:00+00:00</td>\n",
       "      <td>DOCUMENTS/HRC_Email_1_296/HRCH1/DOC_0C05739554...</td>\n",
       "      <td>F-2015-04841</td>\n",
       "      <td>...</td>\n",
       "      <td>NaN</td>\n",
       "      <td>F-2015-04841</td>\n",
       "      <td>C05739554</td>\n",
       "      <td>05/13/2015</td>\n",
       "      <td>RELEASE IN PART</td>\n",
       "      <td>H &lt;hrod17@clintonemail.com&gt;\\nFriday, March 11,...</td>\n",
       "      <td>B6\\nUNCLASSIFIED\\nU.S. Department of State\\nCa...</td>\n",
       "      <td>Saint Pierre and Miquelon</td>\n",
       "      <td>[H, &lt;, hrod17, @, clintonemail.com, &gt;, Friday,...</td>\n",
       "      <td>0.5000</td>\n",
       "    </tr>\n",
       "    <tr>\n",
       "      <th>5</th>\n",
       "      <td>6</td>\n",
       "      <td>C05739559</td>\n",
       "      <td>MEET THE RIGHT-WING EXTREMIST BEHIND ANTI-MUSL...</td>\n",
       "      <td>Russorv@state.gov</td>\n",
       "      <td>H</td>\n",
       "      <td>80.0</td>\n",
       "      <td>2012-09-12T04:00:00+00:00</td>\n",
       "      <td>2015-05-22T04:00:00+00:00</td>\n",
       "      <td>DOCUMENTS/HRC_Email_1_296/HRCH2/DOC_0C05739559...</td>\n",
       "      <td>F-2015-04841</td>\n",
       "      <td>...</td>\n",
       "      <td>Wednesday, September 12, 2012 01:00 PM</td>\n",
       "      <td>F-2015-04841</td>\n",
       "      <td>C05739559</td>\n",
       "      <td>05/13/2015</td>\n",
       "      <td>RELEASE IN PART</td>\n",
       "      <td>Pis print.\\n-•-...-^\\nH &lt; hrod17@clintonernail...</td>\n",
       "      <td>B6\\nUNCLASSIFIED\\nU.S. Department of State\\nCa...</td>\n",
       "      <td>Saint Pierre and Miquelon</td>\n",
       "      <td>[Pis, print, ., -•-, ..., -^, H, &lt;, hrod17, @,...</td>\n",
       "      <td>0.0799</td>\n",
       "    </tr>\n",
       "    <tr>\n",
       "      <th>7</th>\n",
       "      <td>8</td>\n",
       "      <td>C05739561</td>\n",
       "      <td>H: LATEST: HOW SYRIA IS AIDING QADDAFI AND MOR...</td>\n",
       "      <td>Abedin, Huma</td>\n",
       "      <td>H</td>\n",
       "      <td>80.0</td>\n",
       "      <td>2011-03-11T05:00:00+00:00</td>\n",
       "      <td>2015-05-22T04:00:00+00:00</td>\n",
       "      <td>DOCUMENTS/HRC_Email_1_296/HRCH1/DOC_0C05739561...</td>\n",
       "      <td>F-2015-04841</td>\n",
       "      <td>...</td>\n",
       "      <td>NaN</td>\n",
       "      <td>F-2015-04841</td>\n",
       "      <td>C05739561</td>\n",
       "      <td>05/13/2015</td>\n",
       "      <td>RELEASE IN PART</td>\n",
       "      <td>H &lt;hrod17@clintonemail.corn&gt;\\nFriday, March 11...</td>\n",
       "      <td>B6\\nUNCLASSIFIED\\nU.S. Department of State\\nCa...</td>\n",
       "      <td>Saint Pierre and Miquelon</td>\n",
       "      <td>[H, &lt;, hrod17, @, clintonemail.corn, &gt;, Friday...</td>\n",
       "      <td>0.5000</td>\n",
       "    </tr>\n",
       "    <tr>\n",
       "      <th>9</th>\n",
       "      <td>10</td>\n",
       "      <td>C05739563</td>\n",
       "      <td>MORE ON LIBYA</td>\n",
       "      <td>H</td>\n",
       "      <td>NaN</td>\n",
       "      <td>NaN</td>\n",
       "      <td>2012-09-12T04:00:00+00:00</td>\n",
       "      <td>2015-05-22T04:00:00+00:00</td>\n",
       "      <td>DOCUMENTS/HRC_Email_1_296/HRCH2/DOC_0C05739563...</td>\n",
       "      <td>F-2015-04841</td>\n",
       "      <td>...</td>\n",
       "      <td>NaN</td>\n",
       "      <td>F-2015-04841</td>\n",
       "      <td>C05739563</td>\n",
       "      <td>05/13/2015</td>\n",
       "      <td>RELEASE IN PART</td>\n",
       "      <td>B6\\nWednesday, September 12, 2012 6:16 PM\\nFwd...</td>\n",
       "      <td>UNCLASSIFIED\\nU.S. Department of State\\nCase N...</td>\n",
       "      <td>Saint Pierre and Miquelon</td>\n",
       "      <td>[B6, Wednesday, ,, September, 12, ,, 2012, 6:1...</td>\n",
       "      <td>0.5000</td>\n",
       "    </tr>\n",
       "  </tbody>\n",
       "</table>\n",
       "<p>5 rows × 25 columns</p>\n",
       "</div>"
      ],
      "text/plain": [
       "   Id  DocNumber                                    MetadataSubject  \\\n",
       "1   2  C05739546  H: LATEST: HOW SYRIA IS AIDING QADDAFI AND MOR...   \n",
       "4   5  C05739554  H: LATEST: HOW SYRIA IS AIDING QADDAFI AND MOR...   \n",
       "5   6  C05739559  MEET THE RIGHT-WING EXTREMIST BEHIND ANTI-MUSL...   \n",
       "7   8  C05739561  H: LATEST: HOW SYRIA IS AIDING QADDAFI AND MOR...   \n",
       "9  10  C05739563                                      MORE ON LIBYA   \n",
       "\n",
       "          MetadataTo MetadataFrom  SenderPersonId           MetadataDateSent  \\\n",
       "1                  H          NaN             NaN  2011-03-03T05:00:00+00:00   \n",
       "4       Abedin, Huma            H            80.0  2011-03-11T05:00:00+00:00   \n",
       "5  Russorv@state.gov            H            80.0  2012-09-12T04:00:00+00:00   \n",
       "7       Abedin, Huma            H            80.0  2011-03-11T05:00:00+00:00   \n",
       "9                  H          NaN             NaN  2012-09-12T04:00:00+00:00   \n",
       "\n",
       "        MetadataDateReleased  \\\n",
       "1  2015-05-22T04:00:00+00:00   \n",
       "4  2015-05-22T04:00:00+00:00   \n",
       "5  2015-05-22T04:00:00+00:00   \n",
       "7  2015-05-22T04:00:00+00:00   \n",
       "9  2015-05-22T04:00:00+00:00   \n",
       "\n",
       "                                     MetadataPdfLink MetadataCaseNumber  \\\n",
       "1  DOCUMENTS/HRC_Email_1_296/HRCH1/DOC_0C05739546...       F-2015-04841   \n",
       "4  DOCUMENTS/HRC_Email_1_296/HRCH1/DOC_0C05739554...       F-2015-04841   \n",
       "5  DOCUMENTS/HRC_Email_1_296/HRCH2/DOC_0C05739559...       F-2015-04841   \n",
       "7  DOCUMENTS/HRC_Email_1_296/HRCH1/DOC_0C05739561...       F-2015-04841   \n",
       "9  DOCUMENTS/HRC_Email_1_296/HRCH2/DOC_0C05739563...       F-2015-04841   \n",
       "\n",
       "     ...                          ExtractedDateSent ExtractedCaseNumber  \\\n",
       "1    ...                                        NaN        F-2015-04841   \n",
       "4    ...                                        NaN        F-2015-04841   \n",
       "5    ...     Wednesday, September 12, 2012 01:00 PM        F-2015-04841   \n",
       "7    ...                                        NaN        F-2015-04841   \n",
       "9    ...                                        NaN        F-2015-04841   \n",
       "\n",
       "  ExtractedDocNumber ExtractedDateReleased ExtractedReleaseInPartOrFull  \\\n",
       "1          C05739546            05/13/2015              RELEASE IN PART   \n",
       "4          C05739554            05/13/2015              RELEASE IN PART   \n",
       "5          C05739559            05/13/2015              RELEASE IN PART   \n",
       "7          C05739561            05/13/2015              RELEASE IN PART   \n",
       "9          C05739563            05/13/2015              RELEASE IN PART   \n",
       "\n",
       "                                   ExtractedBodyText  \\\n",
       "1  B6\\nThursday, March 3, 2011 9:45 PM\\nH: Latest...   \n",
       "4  H <hrod17@clintonemail.com>\\nFriday, March 11,...   \n",
       "5  Pis print.\\n-•-...-^\\nH < hrod17@clintonernail...   \n",
       "7  H <hrod17@clintonemail.corn>\\nFriday, March 11...   \n",
       "9  B6\\nWednesday, September 12, 2012 6:16 PM\\nFwd...   \n",
       "\n",
       "                                             RawText  \\\n",
       "1  UNCLASSIFIED\\nU.S. Department of State\\nCase N...   \n",
       "4  B6\\nUNCLASSIFIED\\nU.S. Department of State\\nCa...   \n",
       "5  B6\\nUNCLASSIFIED\\nU.S. Department of State\\nCa...   \n",
       "7  B6\\nUNCLASSIFIED\\nU.S. Department of State\\nCa...   \n",
       "9  UNCLASSIFIED\\nU.S. Department of State\\nCase N...   \n",
       "\n",
       "                     country  \\\n",
       "1  Saint Pierre and Miquelon   \n",
       "4  Saint Pierre and Miquelon   \n",
       "5  Saint Pierre and Miquelon   \n",
       "7  Saint Pierre and Miquelon   \n",
       "9  Saint Pierre and Miquelon   \n",
       "\n",
       "                                               token sentiment  \n",
       "1  [B6, Thursday, ,, March, 3, ,, 2011, 9:45, PM,...    0.5000  \n",
       "4  [H, <, hrod17, @, clintonemail.com, >, Friday,...    0.5000  \n",
       "5  [Pis, print, ., -•-, ..., -^, H, <, hrod17, @,...    0.0799  \n",
       "7  [H, <, hrod17, @, clintonemail.corn, >, Friday...    0.5000  \n",
       "9  [B6, Wednesday, ,, September, 12, ,, 2012, 6:1...    0.5000  \n",
       "\n",
       "[5 rows x 25 columns]"
      ]
     },
     "execution_count": 59,
     "metadata": {},
     "output_type": "execute_result"
    }
   ],
   "source": [
    "email_df.head()"
   ]
  },
  {
   "cell_type": "code",
   "execution_count": 65,
   "metadata": {
    "collapsed": true
   },
   "outputs": [
    {
     "data": {
      "text/plain": [
       "u'http://www.salon.comi2o12/1o/or/gops_october_surprisei\\nMonday, Oct 1, 2012 09:30 AM EDT\\nGOP\\'s October surprise?\\nThey\\'re calling it the \"Jimmy Carter Strategy\": Exploit\\nLibya attack to paint Obama as weak on terrorism\\nBy cY\\'aia?,_\\n(Credit: AP/AI Behrman/Salort)\\nAccording to a highly reliable source, as Mitt Romney and President Barack Obama prepare for the\\nfirst presidential debate Wednesday night, top Republican operatives are primed to unleash a new\\ntwo-pronged offensive that will attack Obama as weak on national security, and will be based, in part,\\non inW !ia:en,y-.3iTeForrnation regarding the attacks in Libya that killed U.S. ambassador Chris\\nStevens on September\\nThe source, who has first-hand knowledge of private, high-level conversations in the Romney tamp\\nthat took place in Washington, DC last week, said that at various times the GOP strategists referred to\\ntheir new operation as the Jimmy Carter Strategy or the October Surprise.\\nHe added that they planned to release what they hoped would be \"a bombshell\" that would make\\nLibya and Obama\\'s foreign policy a major issue in the campaign. \"My understanding is that they have\\ncome up with evidence that the Obama administration had positive intelligence that there was going\\nto be a terrorist attack on the intelligence.\"\\nThe source described the Republicans as chortling with glee that the Obama administration\\n\"definitely had intel\" about the attack before it happened. \"Intelligence can be graded in different\\nways,\" he added, \"and sometimes A and B don\\'t get connected. But [the Romney campaign] will try to\\npaint it to look like Obama had advance knowledge of the attack and is weak on terrorism.\"\\nHe said they were jubilant about their new strategy and said they intended to portray Obama as a\\nhelpless, Jimmy Carter-like president and to equate the tragedy in Libya with President Carter\\'s failed\\nattempt to rescue American hostages in Iran in t980. \"They are so excited about it,\" he said. \"Over\\nand over again they talked about bow it would be just like Jimmy Carter\\'s failed raid. They feel it is\\ngoing to give them .a last-minute landslide in the election.\"\\nThe source, however, said lie was dubious about the tactic. \"To me, it is indicative that they have lost\\ntouch with a huge portion of the electorate,\" he said.\\nThe source declined to reveal the names of the GOP operatives who were present. But he said, \"These\\nwere the top guys in the party. It was a .private, unguarded planning conversation.\" He further\\nU.S. Department of State\\nCase No. F-2015-04841\\nDoc No. C05739615\\nDate: 05/13/2015\\nSTATE DEPT. - PRODUCED TO HOUSE SELECT BENGHAZI COMM.\\nSUBJECT TO AGREEMENT ON SENSITIVE INFORMATION & REDACTIONS. NO FOIA WAIVER. STATE-SCB0045540\\nU.S. Department of State\\nCase No. F-2015-04841\\nDoc No. C05739615\\nDate: 05/13/2015\\nSTATE DEPT. - PRODUCED TO HOUSE SELECT BENGHAZI COMM.\\nSUBJECT TO AGREEMENT ON SENSITIVE INFORMATION & REDACTIONS. NO FOIA WAIVER.\\ndescribed participants in the meeting as consisting of well-known names tied to the big Republican\\nsuper PACs and people who had access to high-level national security intelligence.\\n\"As usual, Karl Rove wasn\\'t present,\" he said, \"but some were close to Rove.\"\\nThe source said that \"there was quite a bit more\" to the operation than simply revealing the\\nintelligence regarding Libya. He declined to discuss what he described as the second phase of the\\noperation.\\nHowever, already there is evidence that the first phase of the operation is underway. On Wednesday,\\nSeptember 26, on Fox News, Karl Rove called Obama\\'s reaction to what happened in Libya\\n\"inexplicable\" and added that Obama is \"more intent on campaigning than meeting his\\nresponsibilities as commander-in-chief.\" He went on to warn that Obama\\'s policies in Libya\\nendangered the U.S. with regard to Iran. \"I am astonished,\" Rove said. \"We are projecting weakness\\nwhen we need to be projecting strength.\"\\nSimilarly, former New York Mayor Rudolph Giuliani, a one-time GOP presidential hopeful who\\nbecame known as the mayor of 9/11, followed Rove in criticizing Obama on the attack in Libya. \"This\\nis a deliberate attempt to cover up the truth, from an administration that claimed it wanted to be the\\nmost transparent in history,\" he told Fox News. \"And it\\'s the worst kind of cover-up: the kind of\\ncover-up that involves our national security. This is a cover-up that involves the slaughter of four\\nAmericans.\"\\nGiuliani added that the Obama White House wanted to dismiss the role played by al-Qaeda because it\\nseemed to diminish the triumph of having killed Osama bin Laden. \"I think it\\'s because they have this\\nnarrative that they defeated al-Qaeda,\" he said. \"They never say the words \\'Islamic fundamentalist\\nterrorism\\'. They want to wish it away. The president was moving on to Asia \\u2014 he was going to declare\\nthis a great victory for himself and unfortunately, this terrible act of terror intervened in their very\\nconvenient narrative.\"\\nLikewise, Bob Corker, Republican senator from Tennessee, described the administration\\'s response to\\n\"the terrorist attack\" in Libya as And on Sunday, September 30, both Mitt Romney and\\nvice-presidential nominee Paul Ryan joined in the attacks. \"I think they want to do their very best to\\nkeep the people of America from understanding exactly what happened. We expect candor, we expect\\ntransparency, particularly as it relates to terrorism,\" Romney said.\\nAdded Ryan, \"Why is he (Obama) not on the same page with his own administration officials who are\\nsaying that this is a terrorist attack? We\\'ll leave it up to you to decide whether it\\'s a cover-up or not.\"\\nIn an apparently related development, a Politico artkle posted last night said Romney advisers were\\ndivided over hovv aggressively to attack President Obama over his handling of the events in Libya. One\\nunnamed Romney adviser described them as \"a huge gift\" to the campaign. \"Across the board \\u2014\\ndomestic, economic and foreign-policy issues \\u2014 President Obama has been outmatched by events,\" he\\nsaid. \"He\\'s an observer of events, not a shaper of events. Everywhere you look, he\\'s been outmatched.\"\\nBut other Romney advisers, led by media strategist Stuart Stevens, wanted to stick to the economy as\\nthe central issue. \"They\\'ll tell you that you\\'ve got to focus people on the fact that their economic\\nprospects are not very good and all that,\" the aide told Politico. \"Well, Romney\\'s been trying to do that\\nnow since he clinched the nomination at the end of April \\u2014 and he\\'s failed. The president is better at\\ndeflecting attention from the bad news than Romney is at driving home the impact of the bad news on\\nindividual voters.\"\\nCraig Unger is the New York Times bestselling author of \"House of Bush, House of Saud,\" and a\\nfrequent analyst on CNN, ABC Radio, Air America, The Charlie Rose Show, NBC\\'s Today Show and\\nother broadcast outlets. He has written for The New Yorker, Esquire and many other publications and\\nis currently a contributing editor at Vanity Fair.\\nU.S. Department of State\\nCase No. F-2015-04841\\nDoc No. C05739615\\nDate: 05/13/2015\\nSTATE DEPT. - PRODUCED TO HOUSE SELECT BENGHAZI COMM.\\nSUBJECT TO AGREEMENT ON SENSITIVE INFORMATION & REDACTIONS. NO FOIA WAIVER. STATE-SCB0045541'"
      ]
     },
     "execution_count": 65,
     "metadata": {},
     "output_type": "execute_result"
    }
   ],
   "source": [
    "email_df['ExtractedBodyText'][46]"
   ]
  },
  {
   "cell_type": "code",
   "execution_count": 66,
   "metadata": {
    "collapsed": false
   },
   "outputs": [
    {
     "data": {
      "text/plain": [
       "Saint Pierre and Miquelon                586\n",
       "Armenia                                  506\n",
       "India                                    118\n",
       "United States                             65\n",
       "Micronesia, Federated States of           53\n",
       "Haiti                                     45\n",
       "Tonga                                     43\n",
       "Afghanistan                               39\n",
       "Israel                                    38\n",
       "China                                     34\n",
       "Montserrat                                24\n",
       "Pakistan                                  22\n",
       "Belarus                                   20\n",
       "Austria                                   19\n",
       "Iraq                                      15\n",
       "Tuvalu                                    15\n",
       "Mexico                                    14\n",
       "Honduras                                  14\n",
       "Ireland                                   14\n",
       "Libya                                     11\n",
       "Palau                                      9\n",
       "Turkey                                     9\n",
       "Indonesia                                  8\n",
       "Puerto Rico                                7\n",
       "Singapore                                  7\n",
       "Nicaragua                                  7\n",
       "Canada                                     7\n",
       "Egypt                                      7\n",
       "Morocco                                    6\n",
       "Panama                                     6\n",
       "                                        ... \n",
       "Sweden                                     1\n",
       "Congo, The Democratic Republic of the      1\n",
       "Ukraine                                    1\n",
       "Kazakhstan                                 1\n",
       "Lebanon                                    1\n",
       "South Sudan                                1\n",
       "Guyana                                     1\n",
       "Mongolia                                   1\n",
       "Zambia                                     1\n",
       "Iceland                                    1\n",
       "Luxembourg                                 1\n",
       "Tunisia                                    1\n",
       "Romania                                    1\n",
       "Malawi                                     1\n",
       "Peru                                       1\n",
       "Bermuda                                    1\n",
       "Malta                                      1\n",
       "Comoros                                    1\n",
       "Barbados                                   1\n",
       "Portugal                                   1\n",
       "Timor-Leste                                1\n",
       "Holy See (Vatican City State)              1\n",
       "Azerbaijan                                 1\n",
       "Tajikistan                                 1\n",
       "Guam                                       1\n",
       "Trinidad and Tobago                        1\n",
       "Albania                                    1\n",
       "Angola                                     1\n",
       "Liechtenstein                              1\n",
       "Uruguay                                    1\n",
       "Name: country, dtype: int64"
      ]
     },
     "execution_count": 66,
     "metadata": {},
     "output_type": "execute_result"
    }
   ],
   "source": [
    "email_df['country'].value_counts()"
   ]
  },
  {
   "cell_type": "code",
   "execution_count": 55,
   "metadata": {
    "collapsed": false
   },
   "outputs": [
    {
     "data": {
      "text/plain": [
       "Country(alpha_2=u'LY', alpha_3=u'LBY', name=u'Libya', numeric=u'434', official_name=u'Libya')"
      ]
     },
     "execution_count": 55,
     "metadata": {},
     "output_type": "execute_result"
    }
   ],
   "source": [
    "pc.countries.get(name = u'Libya')"
   ]
  },
  {
   "cell_type": "code",
   "execution_count": 40,
   "metadata": {
    "collapsed": false
   },
   "outputs": [
    {
     "data": {
      "text/plain": [
       "country\n",
       "Afghanistan                              0.731492\n",
       "Albania                                  0.680600\n",
       "Angola                                   0.500000\n",
       "Antarctica                               0.956750\n",
       "Argentina                                0.727642\n",
       "Armenia                                  0.659920\n",
       "Australia                                0.923863\n",
       "Austria                                  0.672932\n",
       "Azerbaijan                               0.998300\n",
       "Bahrain                                  0.696200\n",
       "Bangladesh                               0.894475\n",
       "Barbados                                 0.946100\n",
       "Belarus                                  0.539945\n",
       "Belgium                                  0.860650\n",
       "Bermuda                                  0.512900\n",
       "Brazil                                   0.709367\n",
       "Brunei Darussalam                        0.582317\n",
       "Cameroon                                 0.882683\n",
       "Canada                                   0.609064\n",
       "Chile                                    0.590540\n",
       "China                                    0.697601\n",
       "Colombia                                 0.616183\n",
       "Comoros                                  0.795200\n",
       "Congo                                    0.866475\n",
       "Congo, The Democratic Republic of the    0.998450\n",
       "Costa Rica                               0.509150\n",
       "Croatia                                  0.008900\n",
       "Cuba                                     0.536025\n",
       "Denmark                                  0.952825\n",
       "Ecuador                                  0.922100\n",
       "                                           ...   \n",
       "Puerto Rico                              0.746107\n",
       "Qatar                                    0.822660\n",
       "Romania                                  0.252700\n",
       "Réunion                                  0.579250\n",
       "Saint Pierre and Miquelon                0.625605\n",
       "Samoa                                    0.861325\n",
       "Serbia                                   0.665775\n",
       "Sierra Leone                             0.815675\n",
       "Singapore                                0.867279\n",
       "Slovenia                                 0.987800\n",
       "Somalia                                  0.754270\n",
       "South Sudan                              0.500000\n",
       "Spain                                    0.030850\n",
       "Sudan                                    0.705900\n",
       "Sweden                                   0.732400\n",
       "Tajikistan                               0.996250\n",
       "Timor-Leste                              0.500000\n",
       "Tonga                                    0.564824\n",
       "Trinidad and Tobago                      0.979350\n",
       "Tunisia                                  0.461400\n",
       "Turkey                                   0.746117\n",
       "Tuvalu                                   0.795143\n",
       "Uganda                                   0.653525\n",
       "Ukraine                                  0.878950\n",
       "United Kingdom                           0.815950\n",
       "United States                            0.667978\n",
       "Uruguay                                  0.538600\n",
       "Virgin Islands, U.S.                     0.534150\n",
       "Yemen                                    0.648175\n",
       "Zambia                                   0.729550\n",
       "Name: sentiment, dtype: float64"
      ]
     },
     "execution_count": 40,
     "metadata": {},
     "output_type": "execute_result"
    }
   ],
   "source": [
    "email_df.groupby('country').mean()['sentiment']"
   ]
  },
  {
   "cell_type": "code",
   "execution_count": null,
   "metadata": {
    "collapsed": true
   },
   "outputs": [],
   "source": []
  }
 ],
 "metadata": {
  "anaconda-cloud": {},
  "kernelspec": {
   "display_name": "Python [default]",
   "language": "python",
   "name": "python2"
  },
  "language_info": {
   "codemirror_mode": {
    "name": "ipython",
    "version": 2
   },
   "file_extension": ".py",
   "mimetype": "text/x-python",
   "name": "python",
   "nbconvert_exporter": "python",
   "pygments_lexer": "ipython2",
   "version": "2.7.12"
  }
 },
 "nbformat": 4,
 "nbformat_minor": 1
}
