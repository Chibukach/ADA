{
 "cells": [
  {
   "cell_type": "markdown",
   "metadata": {},
   "source": [
    "# Data from the web"
   ]
  },
  {
   "cell_type": "code",
   "execution_count": 1,
   "metadata": {
    "collapsed": true
   },
   "outputs": [],
   "source": [
    "%matplotlib inline\n",
    "import pandas as pd\n",
    "import numpy as np\n",
    "import matplotlib.pyplot as plt\n",
    "import seaborn as sns\n",
    "import requests\n",
    "import unicodedata\n",
    "import re\n",
    "from bs4 import BeautifulSoup"
   ]
  },
  {
   "cell_type": "code",
   "execution_count": 2,
   "metadata": {
    "collapsed": true
   },
   "outputs": [],
   "source": [
    "initial_url = \"http://isa.epfl.ch/imoniteur_ISAP/%21gedpublicreports.htm?ww_i_reportmodel=133685247\""
   ]
  },
  {
   "cell_type": "markdown",
   "metadata": {},
   "source": [
    "## Function for extract data from the web"
   ]
  },
  {
   "cell_type": "code",
   "execution_count": 3,
   "metadata": {
    "collapsed": false
   },
   "outputs": [],
   "source": [
    "def get_key_and_value(url):\n",
    "    \"\"\" Scrape the key and value\n",
    "        @param url : initial url\n",
    "        @return : the values and key\n",
    "    \"\"\"  \n",
    "    # Do first request to get initial parameters  from postman\n",
    "    r = requests.get(url) \n",
    "    soup = BeautifulSoup(r.text, \"lxml\")\n",
    "    # Get HTML iframe\n",
    "    frame_list = soup.find_all('frame')\n",
    "    addition = frame_list[1].attrs[\"src\"]\n",
    "    base_url = \"http://isa.epfl.ch/imoniteur_ISAP/\" + addition\n",
    "\n",
    "    # Second request to get the filter\n",
    "    r = requests.get(base_url)\n",
    "    soup = BeautifulSoup(r.text, \"lxml\")\n",
    "    html = soup.contents[0]\n",
    "    body = html.body\n",
    "    \n",
    "    # Get the section\n",
    "    section_div = body.find_all([\"div\"])\n",
    "    section_opt = section_div[1].find_all(\"option\")\n",
    "    section_input = section_div[1].find_all(\"input\")\n",
    "    section_select=section_div[1].find_all(\"select\")\n",
    "    \n",
    "    # Initialize the variable\n",
    "    period_academ = []\n",
    "    period_pedago_bachelor = []\n",
    "    period_pedago_master = []\n",
    "    period_pedago_projet = []\n",
    "    hiverete= []\n",
    "    informatique_value = 0\n",
    "    real_keys = []\n",
    "    real_key_value = [] \n",
    "    \n",
    "    # Get the keys and the values\n",
    "    for elem in section_input:\n",
    "        if elem[\"value\"]:\n",
    "            real_keys.append(elem[\"name\"])\n",
    "            real_key_value.append(elem[\"value\"])\n",
    "        elif elem[\"name\"].startswith('z'):\n",
    "            continue\n",
    "            \n",
    "    # Scraping for each attribute\n",
    "    for elem in section_opt:\n",
    "        for label in elem:\n",
    "            elem_value = int(elem[\"value\"])\n",
    "            if label[0].startswith('2'):\n",
    "                period_academ.append(elem_value)\n",
    "            elif \"Bachelor\" in label:\n",
    "                period_pedago_bachelor.append(elem_value)\n",
    "            elif \"Master semestre\" in label:\n",
    "                period_pedago_master.append(elem_value)\n",
    "            elif \"Projet Master\" in label:\n",
    "                period_pedago_projet.append(elem_value)\n",
    "            elif \"d'automne\" in label or \"de printemps\" in label :\n",
    "                hiverete.append(elem_value)\n",
    "            elif \"Informatique\" in label:\n",
    "                informatique_value = elem_value\n",
    "            else:\n",
    "                continue\n",
    "    \n",
    "    # Bachelor semester 1 and 6\n",
    "    period_pedago_bachelor=[period_pedago_bachelor[0], period_pedago_bachelor[6]]\n",
    "    # Master semester 1, and 3\n",
    "    period_pedago_master=[period_pedago_master[0], period_pedago_master[1], period_pedago_master[2]]\n",
    "    \n",
    "    for elem in section_select:\n",
    "        if elem['name']:\n",
    "            real_keys.append(elem['name'])\n",
    "            \n",
    "    real_key_value.append(informatique_value)\n",
    "    real_key_value.append(period_academ[::-1])\n",
    "    real_key_value.append(period_pedago_bachelor)\n",
    "    real_key_value.append(hiverete)\n",
    "    real_key_value.append(period_pedago_master)\n",
    "    real_key_value.append(period_pedago_projet)\n",
    "            \n",
    "    return real_keys, real_key_value, base_url\n",
    "    \n",
    "key,value_key,base_url=get_key_and_value(initial_url)\n",
    "    "
   ]
  },
  {
   "cell_type": "code",
   "execution_count": 4,
   "metadata": {
    "collapsed": false
   },
   "outputs": [],
   "source": [
    "def dic_param(key,value_key,period,semester,section = None):\n",
    "    \"\"\" Compute a dictionnary of parameters\n",
    "        @param  key : key return with get_key_and_value() function\n",
    "        @param value_key : value return with get_key_and_value() function\n",
    "        @param period : academic year\n",
    "        @param semester : semester\n",
    "        @param section : choose a section to extract\n",
    "        @return : a dictionnary containing the parameters for the specific request\n",
    "    \"\"\"       \n",
    "    \n",
    "    # Retrieve data per section\n",
    "    if section == \"master\":\n",
    "        list_periode_pedago = value_key[9]\n",
    "        assert 0<=semester<len(list_periode_pedago), \\\n",
    "        'semester={} is wrong: it has to be 0,1 or 2'.format(semester)   \n",
    "    elif section == \"projet\":\n",
    "        list_periode_pedago = value_key[10]\n",
    "        assert 0<=semester<len(list_periode_pedago), \\\n",
    "        'semester={} is wrong: it has to be 0 or 1'.format(semester) \n",
    "    else: # bachelor case\n",
    "        list_periode_pedago = value_key[7]\n",
    "        assert 0<=semester<len(list_periode_pedago), \\\n",
    "        'semester={} is wrong: it has to be 0 or 1'.format(semester) \n",
    "        \n",
    "    if semester % 2 == 0:\n",
    "        season=0\n",
    "    else:\n",
    "        season=1\n",
    "        \n",
    "    'season={} and semester={} are not compatible, season=0 corresponds to autumn, season = 1 corresponds to springer'.format(season,semester)\n",
    "    \n",
    "    list_periode_acad = value_key[6]\n",
    "    \n",
    "\n",
    "    assert 0<=period<len(list_periode_acad), \\\n",
    "    'period={} is wrong: it has to be between 0 and {}'.format(period, len(list_periode_acad)-1) \n",
    "    \n",
    "    list_hiverete = value_key[8]\n",
    "    \n",
    "    # Dictionary parameters \n",
    "    dic_param = {\n",
    "                key[0]:value_key[0],\n",
    "                key[1]:value_key[1],\n",
    "                key[2]:value_key[2],\n",
    "                key[4]:value_key[4],\n",
    "                key[5]:value_key[5],\n",
    "                key[6]:list_periode_acad[period],\n",
    "                key[7]:list_periode_pedago[semester],# Value (S1 or S6)\n",
    "                key[8]:list_hiverete[season]# Value (Automne or printemps)\n",
    "                }\n",
    "    return dic_param"
   ]
  },
  {
   "cell_type": "code",
   "execution_count": 5,
   "metadata": {
    "collapsed": true
   },
   "outputs": [],
   "source": [
    "def extract_web_content(base_url, dict_param):\n",
    "    \"\"\"Extract the data from IS-ACADEMIA\n",
    "       @param url:  principal link get with postman\n",
    "       @param dict_param: the dictionnary where the key_value represents each field desired\n",
    "       @return : a dataframe with data requested on dict_param\n",
    "    \"\"\"\n",
    "    url = 'http://isa.epfl.ch/imoniteur_ISAP/!GEDPUBLICREPORTS.bhtml?'\n",
    "    # Request for GPS value\n",
    "    r=requests.get(base_url, params = dict_param)\n",
    "    soup = BeautifulSoup(r.text,'lxml')\n",
    "    # Extract GPS name & value\n",
    "    section_a = soup.find_all(\"a\")\n",
    "    for elem in section_a:\n",
    "        section_onclick = elem['onclick']\n",
    "        GPS_name = elem['class'][0]\n",
    "    GPS_value = re.findall(r'\\d+', section_onclick)[0]\n",
    "    # Update parameters\n",
    "    dict_param.update({GPS_name: GPS_value})\n",
    "    # Request with all parameters\n",
    "    r=requests.get(url, params = dict_param)\n",
    "    soup = BeautifulSoup(r.text,'lxml')\n",
    "\n",
    "    table_data = soup.find('table') # Extract the table part of the html\n",
    "    try:\n",
    "        header_tag = table_data.find_all('tr')[1] # Get the second tr\n",
    "    except:\n",
    "        return 0\n",
    "    header = [ele.string for ele in header_tag.contents]\n",
    "\n",
    "\n",
    "    list_data = []\n",
    "    for row in table_data.find_all('tr'):\n",
    "        cols = row.find_all('td')\n",
    "        try: # Try loop to be robust when the cols=[]\n",
    "            row_data = [ele.string for ele in cols]\n",
    "            row_data=row_data[0:11] # last column useless\n",
    "            list_data.append(row_data)\n",
    "        except:\n",
    "            continue\n",
    "    list_data = [ele for ele in list_data if ele] # To skip the [] value\n",
    "    df_1 = pd.DataFrame(list_data, columns=header)\n",
    "    return df_1"
   ]
  },
  {
   "cell_type": "markdown",
   "metadata": {},
   "source": [
    "# Example \n",
    "\n",
    "In order to get data for the bachelor students of the first semester of 2007-2008, we used the **dic_param** function to generate the dictionary of different parameters required to make the get request to the server, then **extract_web_content** function to return the extract data in a dataframe."
   ]
  },
  {
   "cell_type": "code",
   "execution_count": 6,
   "metadata": {
    "collapsed": false
   },
   "outputs": [
    {
     "name": "stdout",
     "output_type": "stream",
     "text": [
      "{'ww_i_reportModelXsl': '133685270', 'dummy': 'ok', 'ww_x_PERIODE_ACAD': 978181, 'ww_x_UNITE_ACAD': 249847, 'ww_b_list': '1', 'ww_x_HIVERETE': 2936286, 'ww_x_PERIODE_PEDAGO': 249108, 'ww_i_reportmodel': '133685247'}\n"
     ]
    },
    {
     "data": {
      "text/html": [
       "<div>\n",
       "<table border=\"1\" class=\"dataframe\">\n",
       "  <thead>\n",
       "    <tr style=\"text-align: right;\">\n",
       "      <th></th>\n",
       "      <th>Civilité</th>\n",
       "      <th>Nom Prénom</th>\n",
       "      <th>Orientation Bachelor</th>\n",
       "      <th>Orientation Master</th>\n",
       "      <th>Spécialisation</th>\n",
       "      <th>Filière opt.</th>\n",
       "      <th>Mineur</th>\n",
       "      <th>Statut</th>\n",
       "      <th>Type Echange</th>\n",
       "      <th>Ecole Echange</th>\n",
       "      <th>No Sciper</th>\n",
       "    </tr>\n",
       "  </thead>\n",
       "  <tbody>\n",
       "    <tr>\n",
       "      <th>0</th>\n",
       "      <td>Monsieur</td>\n",
       "      <td>Arévalo Christian</td>\n",
       "      <td>None</td>\n",
       "      <td>None</td>\n",
       "      <td>None</td>\n",
       "      <td>None</td>\n",
       "      <td>None</td>\n",
       "      <td>Présent</td>\n",
       "      <td>None</td>\n",
       "      <td>None</td>\n",
       "      <td>169569</td>\n",
       "    </tr>\n",
       "    <tr>\n",
       "      <th>1</th>\n",
       "      <td>Monsieur</td>\n",
       "      <td>Aubelle Flavien</td>\n",
       "      <td>None</td>\n",
       "      <td>None</td>\n",
       "      <td>None</td>\n",
       "      <td>None</td>\n",
       "      <td>None</td>\n",
       "      <td>Présent</td>\n",
       "      <td>None</td>\n",
       "      <td>None</td>\n",
       "      <td>174905</td>\n",
       "    </tr>\n",
       "    <tr>\n",
       "      <th>2</th>\n",
       "      <td>Monsieur</td>\n",
       "      <td>Badoud Morgan</td>\n",
       "      <td>None</td>\n",
       "      <td>None</td>\n",
       "      <td>None</td>\n",
       "      <td>None</td>\n",
       "      <td>None</td>\n",
       "      <td>Présent</td>\n",
       "      <td>None</td>\n",
       "      <td>None</td>\n",
       "      <td>173922</td>\n",
       "    </tr>\n",
       "    <tr>\n",
       "      <th>3</th>\n",
       "      <td>Monsieur</td>\n",
       "      <td>Baeriswyl Jonathan</td>\n",
       "      <td>None</td>\n",
       "      <td>None</td>\n",
       "      <td>None</td>\n",
       "      <td>None</td>\n",
       "      <td>None</td>\n",
       "      <td>Présent</td>\n",
       "      <td>None</td>\n",
       "      <td>None</td>\n",
       "      <td>179406</td>\n",
       "    </tr>\n",
       "    <tr>\n",
       "      <th>4</th>\n",
       "      <td>Monsieur</td>\n",
       "      <td>Barroco Michael</td>\n",
       "      <td>None</td>\n",
       "      <td>None</td>\n",
       "      <td>None</td>\n",
       "      <td>None</td>\n",
       "      <td>None</td>\n",
       "      <td>Présent</td>\n",
       "      <td>None</td>\n",
       "      <td>None</td>\n",
       "      <td>179428</td>\n",
       "    </tr>\n",
       "  </tbody>\n",
       "</table>\n",
       "</div>"
      ],
      "text/plain": [
       "   Civilité          Nom Prénom Orientation Bachelor Orientation Master  \\\n",
       "0  Monsieur   Arévalo Christian                 None               None   \n",
       "1  Monsieur     Aubelle Flavien                 None               None   \n",
       "2  Monsieur       Badoud Morgan                 None               None   \n",
       "3  Monsieur  Baeriswyl Jonathan                 None               None   \n",
       "4  Monsieur     Barroco Michael                 None               None   \n",
       "\n",
       "  Spécialisation Filière opt. Mineur   Statut Type Echange Ecole Echange  \\\n",
       "0           None         None   None  Présent         None          None   \n",
       "1           None         None   None  Présent         None          None   \n",
       "2           None         None   None  Présent         None          None   \n",
       "3           None         None   None  Présent         None          None   \n",
       "4           None         None   None  Présent         None          None   \n",
       "\n",
       "  No Sciper  \n",
       "0    169569  \n",
       "1    174905  \n",
       "2    173922  \n",
       "3    179406  \n",
       "4    179428  "
      ]
     },
     "execution_count": 6,
     "metadata": {},
     "output_type": "execute_result"
    }
   ],
   "source": [
    "dic=dic_param(key,value_key,period=0,semester=0, section=\"bachelor\")\n",
    "print dic\n",
    "extract_web_content(base_url,dic).head()"
   ]
  },
  {
   "cell_type": "markdown",
   "metadata": {},
   "source": [
    "# Question 1\n",
    "\n",
    ">Obtain all the data for the Bachelor students, starting from 2007. Keep only the students for which you have an entry for both `Bachelor\n",
    "semestre 1` and `Bachelor semestre 6`. Compute how many months it took each student to go from the first to the sixth semester. Partition\n",
    "the data between male and female students, and compute the average -- is the difference in average statistically significant?"
   ]
  },
  {
   "cell_type": "markdown",
   "metadata": {},
   "source": [
    "## EXTRACTING CONTENT\n",
    "We used postman to identify the key and value parameters that we needed to send to the server as a get request\n",
    "We automated the process by creating a **dic_param** function to generate the parameters that we needed. This became the import for the get request to retrieve the corresponding parameters.\n",
    "\n",
    "We isolated the columns [Civility, Nom Prenom and Sciper No] needed for data analysis.\n",
    "We placed the bachelor data from all the years and semesters into a dataframe with a hierarchical index containing the academic year, semester and the afformentioned information in the columns.\n",
    "\n",
    "From this we kept the students that were classed as \"present\" and on an \"exchange programme\""
   ]
  },
  {
   "cell_type": "code",
   "execution_count": 7,
   "metadata": {
    "collapsed": false
   },
   "outputs": [],
   "source": [
    "# Extract all bachelor data (all years and semester 1 and 6)\n",
    "data = pd.DataFrame()\n",
    "for y in range(10): # All years\n",
    "    for s in range(2): # Semester 1 and 6\n",
    "        # Extract information :\n",
    "        temp_param = dic_param(key,value_key,period=y,semester=s,section=\"bachelor\")\n",
    "        temp_df = extract_web_content(base_url, temp_param)\n",
    "        # Process index :\n",
    "        periode_acad = ['2007-2008','2008-2009','2009-2010','2010-2011','2011-2012','2012-2013','2013-2014','2014-2015','2015-2016','2016-2017']\n",
    "        semester = ['1', '6']\n",
    "        arrays = [pd.Series(periode_acad[y] for _ in range(3)),pd.Series(semester[s] for _ in range(3)), [temp_df.columns[0],temp_df.columns[1],temp_df.columns[10]]]\n",
    "        index = pd.MultiIndex.from_tuples(list(zip(*arrays)), names=['Année', 'Semestre', 'Information'])\n",
    "        # Process data with Present status and exchange student\n",
    "        temp_df = pd.concat([temp_df[temp_df['Type Echange'].notnull()],temp_df[temp_df['Statut']== u'Pr\\xe9sent']])\n",
    "        temp_df.drop(temp_df.columns[2:10], axis=1, inplace=True)\n",
    "        temp_df.columns = index\n",
    "        data = pd.concat([data, temp_df], axis=1)"
   ]
  },
  {
   "cell_type": "code",
   "execution_count": 8,
   "metadata": {
    "collapsed": false
   },
   "outputs": [
    {
     "data": {
      "text/html": [
       "<div>\n",
       "<table border=\"1\" class=\"dataframe\">\n",
       "  <thead>\n",
       "    <tr>\n",
       "      <th>Année</th>\n",
       "      <th colspan=\"6\" halign=\"left\">2007-2008</th>\n",
       "      <th colspan=\"4\" halign=\"left\">2008-2009</th>\n",
       "      <th>...</th>\n",
       "      <th colspan=\"4\" halign=\"left\">2015-2016</th>\n",
       "      <th colspan=\"6\" halign=\"left\">2016-2017</th>\n",
       "    </tr>\n",
       "    <tr>\n",
       "      <th>Semestre</th>\n",
       "      <th colspan=\"3\" halign=\"left\">1</th>\n",
       "      <th colspan=\"3\" halign=\"left\">6</th>\n",
       "      <th colspan=\"3\" halign=\"left\">1</th>\n",
       "      <th>6</th>\n",
       "      <th>...</th>\n",
       "      <th>1</th>\n",
       "      <th colspan=\"3\" halign=\"left\">6</th>\n",
       "      <th colspan=\"3\" halign=\"left\">1</th>\n",
       "      <th colspan=\"3\" halign=\"left\">6</th>\n",
       "    </tr>\n",
       "    <tr>\n",
       "      <th>Information</th>\n",
       "      <th>Civilité</th>\n",
       "      <th>Nom Prénom</th>\n",
       "      <th>No Sciper</th>\n",
       "      <th>Civilité</th>\n",
       "      <th>Nom Prénom</th>\n",
       "      <th>No Sciper</th>\n",
       "      <th>Civilité</th>\n",
       "      <th>Nom Prénom</th>\n",
       "      <th>No Sciper</th>\n",
       "      <th>Civilité</th>\n",
       "      <th>...</th>\n",
       "      <th>No Sciper</th>\n",
       "      <th>Civilité</th>\n",
       "      <th>Nom Prénom</th>\n",
       "      <th>No Sciper</th>\n",
       "      <th>Civilité</th>\n",
       "      <th>Nom Prénom</th>\n",
       "      <th>No Sciper</th>\n",
       "      <th>Civilité</th>\n",
       "      <th>Nom Prénom</th>\n",
       "      <th>No Sciper</th>\n",
       "    </tr>\n",
       "  </thead>\n",
       "  <tbody>\n",
       "    <tr>\n",
       "      <th>0</th>\n",
       "      <td>Monsieur</td>\n",
       "      <td>Arévalo Christian</td>\n",
       "      <td>169569</td>\n",
       "      <td>Monsieur</td>\n",
       "      <td>Barras Florian</td>\n",
       "      <td>170220</td>\n",
       "      <td>Monsieur</td>\n",
       "      <td>Ahluwalia Samit</td>\n",
       "      <td>184228</td>\n",
       "      <td>Monsieur</td>\n",
       "      <td>...</td>\n",
       "      <td>235688</td>\n",
       "      <td>NaN</td>\n",
       "      <td>NaN</td>\n",
       "      <td>NaN</td>\n",
       "      <td>Monsieur</td>\n",
       "      <td>Abbey Alexandre</td>\n",
       "      <td>235688</td>\n",
       "      <td>Monsieur</td>\n",
       "      <td>Abate Bryan Jeremy</td>\n",
       "      <td>246671</td>\n",
       "    </tr>\n",
       "    <tr>\n",
       "      <th>1</th>\n",
       "      <td>Monsieur</td>\n",
       "      <td>Aubelle Flavien</td>\n",
       "      <td>174905</td>\n",
       "      <td>Monsieur</td>\n",
       "      <td>Beuret Thibaut</td>\n",
       "      <td>166701</td>\n",
       "      <td>Monsieur</td>\n",
       "      <td>Amiet Nils</td>\n",
       "      <td>179383</td>\n",
       "      <td>Monsieur</td>\n",
       "      <td>...</td>\n",
       "      <td>249344</td>\n",
       "      <td>Monsieur</td>\n",
       "      <td>Alfonso Peterssen Alfonso</td>\n",
       "      <td>228219</td>\n",
       "      <td>Monsieur</td>\n",
       "      <td>Ahn Seongho</td>\n",
       "      <td>274015</td>\n",
       "      <td>Monsieur</td>\n",
       "      <td>Alami-Idrissi Ali</td>\n",
       "      <td>251759</td>\n",
       "    </tr>\n",
       "    <tr>\n",
       "      <th>2</th>\n",
       "      <td>Monsieur</td>\n",
       "      <td>Badoud Morgan</td>\n",
       "      <td>173922</td>\n",
       "      <td>Monsieur</td>\n",
       "      <td>Biollay Jean Isaac Jamal Pachacutec</td>\n",
       "      <td>161279</td>\n",
       "      <td>Monsieur</td>\n",
       "      <td>Andenmatten Alexandre</td>\n",
       "      <td>186836</td>\n",
       "      <td>Monsieur</td>\n",
       "      <td>...</td>\n",
       "      <td>246443</td>\n",
       "      <td>Monsieur</td>\n",
       "      <td>Alonso Seisdedos Florian</td>\n",
       "      <td>215576</td>\n",
       "      <td>Madame</td>\n",
       "      <td>Alemanno Sara</td>\n",
       "      <td>268410</td>\n",
       "      <td>Monsieur</td>\n",
       "      <td>Aoun Leonardo</td>\n",
       "      <td>249498</td>\n",
       "    </tr>\n",
       "    <tr>\n",
       "      <th>3</th>\n",
       "      <td>Monsieur</td>\n",
       "      <td>Baeriswyl Jonathan</td>\n",
       "      <td>179406</td>\n",
       "      <td>Monsieur</td>\n",
       "      <td>Blatter Jérémy</td>\n",
       "      <td>166344</td>\n",
       "      <td>Monsieur</td>\n",
       "      <td>Arnfred Jonas</td>\n",
       "      <td>184772</td>\n",
       "      <td>Monsieur</td>\n",
       "      <td>...</td>\n",
       "      <td>259105</td>\n",
       "      <td>Monsieur</td>\n",
       "      <td>Angerand Grégoire Georges Jacques</td>\n",
       "      <td>212464</td>\n",
       "      <td>Monsieur</td>\n",
       "      <td>Althaus Luca</td>\n",
       "      <td>271464</td>\n",
       "      <td>Monsieur</td>\n",
       "      <td>Bachmann Roman Christian</td>\n",
       "      <td>234551</td>\n",
       "    </tr>\n",
       "    <tr>\n",
       "      <th>4</th>\n",
       "      <td>Monsieur</td>\n",
       "      <td>Barroco Michael</td>\n",
       "      <td>179428</td>\n",
       "      <td>Monsieur</td>\n",
       "      <td>Boksanyi Michael</td>\n",
       "      <td>161634</td>\n",
       "      <td>Monsieur</td>\n",
       "      <td>Badila Constantin-Tudor</td>\n",
       "      <td>187235</td>\n",
       "      <td>Monsieur</td>\n",
       "      <td>...</td>\n",
       "      <td>262227</td>\n",
       "      <td>Monsieur</td>\n",
       "      <td>Anongba Varela Dario Abougnan</td>\n",
       "      <td>226371</td>\n",
       "      <td>Monsieur</td>\n",
       "      <td>Assi Karim</td>\n",
       "      <td>274518</td>\n",
       "      <td>Monsieur</td>\n",
       "      <td>Beck Johannes Magnus</td>\n",
       "      <td>247328</td>\n",
       "    </tr>\n",
       "  </tbody>\n",
       "</table>\n",
       "<p>5 rows × 60 columns</p>\n",
       "</div>"
      ],
      "text/plain": [
       "Année      2007-2008                                          \\\n",
       "Semestre            1                                       6   \n",
       "Information  Civilité          Nom Prénom No Sciper  Civilité   \n",
       "0            Monsieur   Arévalo Christian    169569  Monsieur   \n",
       "1            Monsieur     Aubelle Flavien    174905  Monsieur   \n",
       "2            Monsieur       Badoud Morgan    173922  Monsieur   \n",
       "3            Monsieur  Baeriswyl Jonathan    179406  Monsieur   \n",
       "4            Monsieur     Barroco Michael    179428  Monsieur   \n",
       "\n",
       "Année                                                     2008-2009  \\\n",
       "Semestre                                                           1   \n",
       "Information                           Nom Prénom No Sciper  Civilité   \n",
       "0                                 Barras Florian    170220  Monsieur   \n",
       "1                                 Beuret Thibaut    166701  Monsieur   \n",
       "2            Biollay Jean Isaac Jamal Pachacutec    161279  Monsieur   \n",
       "3                                 Blatter Jérémy    166344  Monsieur   \n",
       "4                               Boksanyi Michael    161634  Monsieur   \n",
       "\n",
       "Année                                                      ...    2015-2016  \\\n",
       "Semestre                                               6    ...            1   \n",
       "Information               Nom Prénom No Sciper  Civilité    ...    No Sciper   \n",
       "0                    Ahluwalia Samit    184228  Monsieur    ...       235688   \n",
       "1                         Amiet Nils    179383  Monsieur    ...       249344   \n",
       "2              Andenmatten Alexandre    186836  Monsieur    ...       246443   \n",
       "3                      Arnfred Jonas    184772  Monsieur    ...       259105   \n",
       "4            Badila Constantin-Tudor    187235  Monsieur    ...       262227   \n",
       "\n",
       "Année                                                             2016-2017  \\\n",
       "Semestre            6                                                      1   \n",
       "Information  Civilité                         Nom Prénom No Sciper  Civilité   \n",
       "0                 NaN                                NaN       NaN  Monsieur   \n",
       "1            Monsieur          Alfonso Peterssen Alfonso    228219  Monsieur   \n",
       "2            Monsieur           Alonso Seisdedos Florian    215576    Madame   \n",
       "3            Monsieur  Angerand Grégoire Georges Jacques    212464  Monsieur   \n",
       "4            Monsieur      Anongba Varela Dario Abougnan    226371  Monsieur   \n",
       "\n",
       "Année                                                                      \\\n",
       "Semestre                                       6                             \n",
       "Information       Nom Prénom No Sciper  Civilité                Nom Prénom   \n",
       "0            Abbey Alexandre    235688  Monsieur        Abate Bryan Jeremy   \n",
       "1                Ahn Seongho    274015  Monsieur         Alami-Idrissi Ali   \n",
       "2              Alemanno Sara    268410  Monsieur             Aoun Leonardo   \n",
       "3               Althaus Luca    271464  Monsieur  Bachmann Roman Christian   \n",
       "4                 Assi Karim    274518  Monsieur      Beck Johannes Magnus   \n",
       "\n",
       "Année                 \n",
       "Semestre               \n",
       "Information No Sciper  \n",
       "0              246671  \n",
       "1              251759  \n",
       "2              249498  \n",
       "3              234551  \n",
       "4              247328  \n",
       "\n",
       "[5 rows x 60 columns]"
      ]
     },
     "execution_count": 8,
     "metadata": {},
     "output_type": "execute_result"
    }
   ],
   "source": [
    "data.head()"
   ]
  },
  {
   "cell_type": "markdown",
   "metadata": {},
   "source": [
    "## COMPUTING THE RESULT\n",
    "\n",
    "We merged the data for all the years from semester1 to semester 6. If a person repeated a semester inbetween semester 1 and 6, it doesn't affect the result as these semesters have been discarded. However, if the person repeats semester 6, we would drop the duplicated semester 6 entry and keep the final repetition year of semester 6 as the final year. \n",
    "Year spent = semester 6 academic year - semester 1 academic year \n",
    "This is represented in the final dataframe under the \"Year spent\" column."
   ]
  },
  {
   "cell_type": "code",
   "execution_count": 9,
   "metadata": {
    "collapsed": true
   },
   "outputs": [],
   "source": [
    "results = pd.DataFrame()\n",
    "for year in range(len(periode_acad)):\n",
    "    for academic_year in range(len(periode_acad)):\n",
    "        if academic_year == year:\n",
    "            continue\n",
    "        tmp = pd.merge(data[periode_acad[year], semester[0]], data[periode_acad[academic_year],semester[1]])\n",
    "        tmp.dropna(axis=0, how='all', inplace=True)\n",
    "        tmp['Year spent'] = academic_year-year+1\n",
    "        results = pd.concat([results, tmp])\n",
    "        results.drop_duplicates(subset=results.columns[2], keep='last', inplace=True)"
   ]
  },
  {
   "cell_type": "code",
   "execution_count": 10,
   "metadata": {
    "collapsed": false
   },
   "outputs": [
    {
     "data": {
      "text/html": [
       "<div>\n",
       "<table border=\"1\" class=\"dataframe\">\n",
       "  <thead>\n",
       "    <tr style=\"text-align: right;\">\n",
       "      <th>Information</th>\n",
       "      <th>Civilité</th>\n",
       "      <th>Nom Prénom</th>\n",
       "      <th>No Sciper</th>\n",
       "      <th>Year spent</th>\n",
       "    </tr>\n",
       "  </thead>\n",
       "  <tbody>\n",
       "    <tr>\n",
       "      <th>0</th>\n",
       "      <td>Monsieur</td>\n",
       "      <td>Arévalo Christian</td>\n",
       "      <td>169569</td>\n",
       "      <td>3</td>\n",
       "    </tr>\n",
       "    <tr>\n",
       "      <th>31</th>\n",
       "      <td>Monsieur</td>\n",
       "      <td>Guggenheim Daniel Vincent</td>\n",
       "      <td>224356</td>\n",
       "      <td>3</td>\n",
       "    </tr>\n",
       "    <tr>\n",
       "      <th>28</th>\n",
       "      <td>Monsieur</td>\n",
       "      <td>Girod Matthieu</td>\n",
       "      <td>226826</td>\n",
       "      <td>3</td>\n",
       "    </tr>\n",
       "    <tr>\n",
       "      <th>25</th>\n",
       "      <td>Monsieur</td>\n",
       "      <td>Gaudet-Blavignac Christophe Edmond Romain</td>\n",
       "      <td>224410</td>\n",
       "      <td>3</td>\n",
       "    </tr>\n",
       "    <tr>\n",
       "      <th>24</th>\n",
       "      <td>Monsieur</td>\n",
       "      <td>Gargasson Loïc Yann</td>\n",
       "      <td>223596</td>\n",
       "      <td>3</td>\n",
       "    </tr>\n",
       "  </tbody>\n",
       "</table>\n",
       "</div>"
      ],
      "text/plain": [
       "Information  Civilité                                 Nom Prénom No Sciper  \\\n",
       "0            Monsieur                          Arévalo Christian    169569   \n",
       "31           Monsieur                  Guggenheim Daniel Vincent    224356   \n",
       "28           Monsieur                             Girod Matthieu    226826   \n",
       "25           Monsieur  Gaudet-Blavignac Christophe Edmond Romain    224410   \n",
       "24           Monsieur                        Gargasson Loïc Yann    223596   \n",
       "\n",
       "Information  Year spent  \n",
       "0                     3  \n",
       "31                    3  \n",
       "28                    3  \n",
       "25                    3  \n",
       "24                    3  "
      ]
     },
     "execution_count": 10,
     "metadata": {},
     "output_type": "execute_result"
    }
   ],
   "source": [
    "results.sort_values([results.columns[3]], axis=0, inplace=True)\n",
    "results.head()"
   ]
  },
  {
   "cell_type": "markdown",
   "metadata": {},
   "source": [
    "## CLASSIFICATION OF COMPLETION RATE BASED ON GENDER\n",
    "\n",
    "We computed the average time spent on a gender basis and created a figure below which highlights the percentage of females and males that graduated for bachelors from 2007-2017"
   ]
  },
  {
   "cell_type": "code",
   "execution_count": 11,
   "metadata": {
    "collapsed": false
   },
   "outputs": [
    {
     "name": "stdout",
     "output_type": "stream",
     "text": [
      "Civilité\n",
      "Madame       29\n",
      "Monsieur    367\n",
      "dtype: int64\n"
     ]
    },
    {
     "data": {
      "text/plain": [
       "<matplotlib.text.Annotation at 0x11d59bc10>"
      ]
     },
     "execution_count": 11,
     "metadata": {},
     "output_type": "execute_result"
    },
    {
     "data": {
      "image/png": "[encoded data removed]",
      "text/plain": [
       "<matplotlib.figure.Figure at 0x11d27b350>"
      ]
     },
     "metadata": {},
     "output_type": "display_data"
    }
   ],
   "source": [
    "results_grouped = results.groupby(results[results.columns[0]])\n",
    "print results_grouped.size()\n",
    "nb_female = results_grouped.size()[0]\n",
    "nb_male = results_grouped.size()[1]\n",
    "results_grouped = (results_grouped.size()/results.shape[0])*100\n",
    "perc_female = results_grouped[0]\n",
    "perc_male = results_grouped[1]\n",
    "\n",
    "# Plot Gender\n",
    "plt.figure(figsize=(24,3))\n",
    "ax = plt.gca()\n",
    "ax.grid(False)\n",
    "ax.patch.set_visible(False)\n",
    "plt.axis('off')\n",
    "\n",
    "plt.plot([0, 1+perc_male], [5, 5], linewidth=100, linestyle=\"-\", c=\"#0099CC\",solid_capstyle=\"butt\")\n",
    "plt.plot([2+perc_male, perc_male+perc_female], [5, 5],linewidth=100, linestyle=\"-\", c='#FF75D1',solid_capstyle=\"butt\")\n",
    "\n",
    "plt.scatter(1+perc_male/2,5,900,zorder=4,marker=ur'$\\u2642$',color='#00568E')\n",
    "plt.scatter(1+perc_male+perc_female/2,5,900,zorder=4,marker=ur'$\\u2640$', color='#CC0052')\n",
    "plt.annotate(str(round(perc_male,1))+\"% - \"+str(nb_male), xy=(perc_male/2-4,5.02),size=20,color='#00568E')\n",
    "plt.annotate(str(round(perc_female,1))+\"% - \"+str(nb_female), xy=(perc_male+perc_female/2-1,5.02),size=20,color='#CC0052')"
   ]
  },
  {
   "cell_type": "markdown",
   "metadata": {},
   "source": [
    "## REPARTITION OF YEAR SPENT TO BE GRADUATE\n",
    "\n",
    "We computed the percentage of people who graduated on a year by year basis and we plot the number of people for each year spent"
   ]
  },
  {
   "cell_type": "code",
   "execution_count": 12,
   "metadata": {
    "collapsed": false
   },
   "outputs": [
    {
     "name": "stdout",
     "output_type": "stream",
     "text": [
      "Year spent\n",
      "3    75.252525\n",
      "4    22.474747\n",
      "5     2.020202\n",
      "6     0.252525\n",
      "dtype: float64\n"
     ]
    },
    {
     "data": {
      "text/plain": [
       "<matplotlib.axes._subplots.AxesSubplot at 0x11d9e7850>"
      ]
     },
     "execution_count": 12,
     "metadata": {},
     "output_type": "execute_result"
    },
    {
     "data": {
      "image/png": "[encoded data removed]",
      "text/plain": [
       "<matplotlib.figure.Figure at 0x11d5366d0>"
      ]
     },
     "metadata": {},
     "output_type": "display_data"
    }
   ],
   "source": [
    "results_grouped = results.groupby(results[results.columns[3]])\n",
    "print 100*(results_grouped.size()/results.shape[0])\n",
    "results_grouped.size().plot(kind='bar')"
   ]
  },
  {
   "cell_type": "markdown",
   "metadata": {},
   "source": [
    "## AVERAGE FOR EACH GENDER\n",
    "\n",
    "We partition the data by gender and compute the average year spent per gender"
   ]
  },
  {
   "cell_type": "code",
   "execution_count": 13,
   "metadata": {
    "collapsed": false
   },
   "outputs": [
    {
     "name": "stdout",
     "output_type": "stream",
     "text": [
      "Average year spent for male : 3.280654\n",
      "Information  Year spent\n",
      "count        367.000000\n",
      "mean           3.280654\n",
      "std            0.512395\n",
      "min            3.000000\n",
      "25%            3.000000\n",
      "50%            3.000000\n",
      "75%            4.000000\n",
      "max            6.000000\n",
      "----------------------------------------\n",
      "Average year spent for female : 3.172414\n",
      "Information  Year spent\n",
      "count         29.000000\n",
      "mean           3.172414\n",
      "std            0.384426\n",
      "min            3.000000\n",
      "25%            3.000000\n",
      "50%            3.000000\n",
      "75%            3.000000\n",
      "max            4.000000\n"
     ]
    }
   ],
   "source": [
    "Male = results[results[results.columns[0]]=='Monsieur']\n",
    "Female = results[results[results.columns[0]]=='Madame']\n",
    "print \"Average year spent for male : %lf\"%(Male['Year spent'].mean())\n",
    "print Male.describe()\n",
    "print \"--\"*20\n",
    "print \"Average year spent for female : %lf\"%(Female['Year spent'].mean())\n",
    "print Female.describe()"
   ]
  },
  {
   "cell_type": "markdown",
   "metadata": {},
   "source": [
    "# Hypothesis testing :"
   ]
  },
  {
   "cell_type": "markdown",
   "metadata": {},
   "source": [
    "The mean of the two genders are different, additionally the number of samples are unequal. The standard deviation of each groups is different. In order to compare the mean of year spent for each gender, we performed a t-test with the following hypothesis :\n",
    ">\\- H<sub>0</sub> : The mean of year spent is the same for male and female.  \n",
    "\\- H<sub>A</sub> : The mean of year spent is different for male and female.  \n",
    "\n",
    "We decided to choose the unequal variance t-test due to the unequal number of samples. The t-test is computed with the following formula : \n",
    "$$t = \\frac{m_A - m_B}{\\sqrt{ \\frac{S_A^2}{n_A} + \\frac{S_B^2}{n_B} }}$$\n",
    "\n",
    "* _mA_ et _mB_ represents the mean of each group.    \n",
    "* _nA_ et _nB_ represents the sample size of each group.  \n",
    "* _SA_ et _SB_ represents the standard deviation of each group."
   ]
  },
  {
   "cell_type": "code",
   "execution_count": 14,
   "metadata": {
    "collapsed": false
   },
   "outputs": [
    {
     "name": "stdout",
     "output_type": "stream",
     "text": [
      "The t-statistic is 1.420 and the p-value is 0.164.\n"
     ]
    }
   ],
   "source": [
    "from scipy import stats\n",
    "t_test = stats.ttest_ind(Male[\"Year spent\"],Female[\"Year spent\"], equal_var = False)\n",
    "print \"The t-statistic is %.3f and the p-value is %.3f.\" % t_test"
   ]
  },
  {
   "cell_type": "markdown",
   "metadata": {},
   "source": [
    "We find a high p-value (16%) compared to the significance level chosen (5%), therefore we accept the alternate hypothesis, the mean of year spent is different for male and female. "
   ]
  },
  {
   "cell_type": "markdown",
   "metadata": {
    "collapsed": true
   },
   "source": [
    "# Question 2\n",
    "\n",
    ">Perform a similar operation to what described above, this time for Master students. Notice that this data is more tricky, as there are\n",
    "many missing records in the IS-Academia database. Therefore, try to guess how much time a master student spent at EPFL by at least checking\n",
    "the distance in months between `Master semestre 1` and `Master semestre 2`. If the `Mineur` field is *not* empty, the student should also\n",
    "appear registered in `Master semestre 3`. Last but not the least, don't forget to check if the student has an entry also in the `Projet Master`\n",
    "tables. Once you can handle well this data, compute the \"average stay at EPFL\" for master students. Now extract all the students with a \n",
    "`Spécialisation` and compute the \"average stay\" per each category of that attribute -- compared to the general average, can you find any\n",
    "specialization for which the difference in average is statistically significant?"
   ]
  },
  {
   "cell_type": "markdown",
   "metadata": {},
   "source": [
    "## EXTRACT MASTER STUDENT \n",
    "\n",
    "We extract all semesters and semester projects of master student from each year.\n",
    "We kept only the ones who are exchange students, interns or have present status.  "
   ]
  },
  {
   "cell_type": "code",
   "execution_count": 16,
   "metadata": {
    "collapsed": false
   },
   "outputs": [],
   "source": [
    "# Extract all data (all years and semester 1,2 and 3)\n",
    "data = pd.DataFrame()\n",
    "for y in range(10): # All years\n",
    "    for s in range(3): # Semester 1,2,3\n",
    "        # Extract information :\n",
    "        temp_param = dic_param(key,value_key,period=y,semester=s,section=\"master\")\n",
    "        temp_df = extract_web_content(base_url, temp_param)\n",
    "        # Process index :\n",
    "        periode_acad = ['2007-2008','2008-2009','2009-2010','2010-2011','2011-2012','2012-2013','2013-2014','2014-2015','2015-2016','2016-2017']\n",
    "        semester = ['1', '2','3']\n",
    "        arrays = [pd.Series(periode_acad[y] for _ in range(5)),pd.Series(semester[s] for _ in range(5)), [temp_df.columns[0],temp_df.columns[1],temp_df.columns[4],temp_df.columns[6],temp_df.columns[10]]]\n",
    "        index = pd.MultiIndex.from_tuples(list(zip(*arrays)), names=['Année', 'Semestre', 'Information'])\n",
    "        # Process data with Present status\n",
    "        temp_df = pd.concat([temp_df[temp_df['Type Echange'].notnull()],temp_df[temp_df['Statut']== u'Pr\\xe9sent'],temp_df[temp_df['Statut']=='Stage']])\n",
    "        temp_df.drop(temp_df.iloc[:,[2,3,5,7,8,9]], axis=1, inplace=True)\n",
    "        temp_df.columns = index\n",
    "        data = pd.concat([data, temp_df], axis=1)\n",
    "    for p in range(2): # Project master\n",
    "        semester_project = ['P1', 'P2']\n",
    "        # Extract information :\n",
    "        temp_param = dic_param(key,value_key,period=y,semester=p,section=\"projet\")\n",
    "        temp_df = extract_web_content(base_url, temp_param)  \n",
    "        try:\n",
    "            arrays = [pd.Series(periode_acad[y] for _ in range(5)),pd.Series(semester_project[p] for _ in range(5)), [temp_df.columns[0],temp_df.columns[1],temp_df.columns[4],temp_df.columns[6],temp_df.columns[10]]]\n",
    "            index = pd.MultiIndex.from_tuples(list(zip(*arrays)), names=['Année', 'Semestre', 'Information'])\n",
    "            # Process data with Present status\n",
    "            temp_df = pd.concat([temp_df[temp_df['Type Echange'].notnull()],temp_df[temp_df['Statut']== u'Pr\\xe9sent'],temp_df[temp_df['Statut']=='Stage']])\n",
    "            temp_df.drop(temp_df.iloc[:,[2,3,5,7,8,9]], axis=1, inplace=True)\n",
    "            temp_df.columns = index\n",
    "            data = pd.concat([data, temp_df], axis=1)\n",
    "        except:\n",
    "            continue"
   ]
  },
  {
   "cell_type": "code",
   "execution_count": 17,
   "metadata": {
    "collapsed": false
   },
   "outputs": [
    {
     "data": {
      "text/html": [
       "<div>\n",
       "<table border=\"1\" class=\"dataframe\">\n",
       "  <thead>\n",
       "    <tr>\n",
       "      <th>Année</th>\n",
       "      <th colspan=\"10\" halign=\"left\">2007-2008</th>\n",
       "      <th>...</th>\n",
       "      <th colspan=\"10\" halign=\"left\">2016-2017</th>\n",
       "    </tr>\n",
       "    <tr>\n",
       "      <th>Semestre</th>\n",
       "      <th colspan=\"5\" halign=\"left\">1</th>\n",
       "      <th colspan=\"5\" halign=\"left\">2</th>\n",
       "      <th>...</th>\n",
       "      <th colspan=\"5\" halign=\"left\">3</th>\n",
       "      <th colspan=\"5\" halign=\"left\">P1</th>\n",
       "    </tr>\n",
       "    <tr>\n",
       "      <th>Information</th>\n",
       "      <th>Civilité</th>\n",
       "      <th>Nom Prénom</th>\n",
       "      <th>Spécialisation</th>\n",
       "      <th>Mineur</th>\n",
       "      <th>No Sciper</th>\n",
       "      <th>Civilité</th>\n",
       "      <th>Nom Prénom</th>\n",
       "      <th>Spécialisation</th>\n",
       "      <th>Mineur</th>\n",
       "      <th>No Sciper</th>\n",
       "      <th>...</th>\n",
       "      <th>Civilité</th>\n",
       "      <th>Nom Prénom</th>\n",
       "      <th>Spécialisation</th>\n",
       "      <th>Mineur</th>\n",
       "      <th>No Sciper</th>\n",
       "      <th>Civilité</th>\n",
       "      <th>Nom Prénom</th>\n",
       "      <th>Spécialisation</th>\n",
       "      <th>Mineur</th>\n",
       "      <th>No Sciper</th>\n",
       "    </tr>\n",
       "  </thead>\n",
       "  <tbody>\n",
       "    <tr>\n",
       "      <th>0</th>\n",
       "      <td>Monsieur</td>\n",
       "      <td>Aeberhard François-Xavier</td>\n",
       "      <td>None</td>\n",
       "      <td>None</td>\n",
       "      <td>153066</td>\n",
       "      <td>Monsieur</td>\n",
       "      <td>Aeberhard François-Xavier</td>\n",
       "      <td>None</td>\n",
       "      <td>None</td>\n",
       "      <td>153066</td>\n",
       "      <td>...</td>\n",
       "      <td>Madame</td>\n",
       "      <td>Abi Akar Nora</td>\n",
       "      <td>None</td>\n",
       "      <td>None</td>\n",
       "      <td>251253</td>\n",
       "      <td>Monsieur</td>\n",
       "      <td>Amiguet Jérôme</td>\n",
       "      <td>None</td>\n",
       "      <td>None</td>\n",
       "      <td>166075</td>\n",
       "    </tr>\n",
       "    <tr>\n",
       "      <th>1</th>\n",
       "      <td>Madame</td>\n",
       "      <td>Agarwal Megha</td>\n",
       "      <td>None</td>\n",
       "      <td>None</td>\n",
       "      <td>180027</td>\n",
       "      <td>Madame</td>\n",
       "      <td>Agarwal Megha</td>\n",
       "      <td>None</td>\n",
       "      <td>None</td>\n",
       "      <td>180027</td>\n",
       "      <td>...</td>\n",
       "      <td>Madame</td>\n",
       "      <td>Aeby Prisca</td>\n",
       "      <td>Internet Information Systems</td>\n",
       "      <td>None</td>\n",
       "      <td>225654</td>\n",
       "      <td>Monsieur</td>\n",
       "      <td>Antognini Diego Matteo</td>\n",
       "      <td>None</td>\n",
       "      <td>None</td>\n",
       "      <td>243163</td>\n",
       "    </tr>\n",
       "    <tr>\n",
       "      <th>2</th>\n",
       "      <td>Monsieur</td>\n",
       "      <td>Anagnostaras David</td>\n",
       "      <td>None</td>\n",
       "      <td>None</td>\n",
       "      <td>152232</td>\n",
       "      <td>Monsieur</td>\n",
       "      <td>Anagnostaras David</td>\n",
       "      <td>None</td>\n",
       "      <td>Mineur en Management, technologie et entrepren...</td>\n",
       "      <td>152232</td>\n",
       "      <td>...</td>\n",
       "      <td>Monsieur</td>\n",
       "      <td>Alnasser Riyadh Abdulaziz M</td>\n",
       "      <td>None</td>\n",
       "      <td>None</td>\n",
       "      <td>257825</td>\n",
       "      <td>Monsieur</td>\n",
       "      <td>Antognini Marco</td>\n",
       "      <td>Foundations of Software</td>\n",
       "      <td>None</td>\n",
       "      <td>194182</td>\n",
       "    </tr>\n",
       "    <tr>\n",
       "      <th>3</th>\n",
       "      <td>Monsieur</td>\n",
       "      <td>Auroux Damien</td>\n",
       "      <td>None</td>\n",
       "      <td>None</td>\n",
       "      <td>177395</td>\n",
       "      <td>Monsieur</td>\n",
       "      <td>Auroux Damien</td>\n",
       "      <td>Internet computing</td>\n",
       "      <td>None</td>\n",
       "      <td>177395</td>\n",
       "      <td>...</td>\n",
       "      <td>Monsieur</td>\n",
       "      <td>Amorim Afonso Caldeira Da Silva Pedro Maria</td>\n",
       "      <td>None</td>\n",
       "      <td>None</td>\n",
       "      <td>213618</td>\n",
       "      <td>Monsieur</td>\n",
       "      <td>Bouquet Stéphane</td>\n",
       "      <td>None</td>\n",
       "      <td>Mineur en Management, technologie et entrepren...</td>\n",
       "      <td>213664</td>\n",
       "    </tr>\n",
       "    <tr>\n",
       "      <th>4</th>\n",
       "      <td>Monsieur</td>\n",
       "      <td>Awalebo Joseph</td>\n",
       "      <td>None</td>\n",
       "      <td>None</td>\n",
       "      <td>161970</td>\n",
       "      <td>Monsieur</td>\n",
       "      <td>Awalebo Joseph</td>\n",
       "      <td>None</td>\n",
       "      <td>None</td>\n",
       "      <td>161970</td>\n",
       "      <td>...</td>\n",
       "      <td>Monsieur</td>\n",
       "      <td>Andreina Sébastien Laurent</td>\n",
       "      <td>Information Security - SP</td>\n",
       "      <td>None</td>\n",
       "      <td>215623</td>\n",
       "      <td>Monsieur</td>\n",
       "      <td>Bovet Sidney</td>\n",
       "      <td>None</td>\n",
       "      <td>None</td>\n",
       "      <td>214637</td>\n",
       "    </tr>\n",
       "  </tbody>\n",
       "</table>\n",
       "<p>5 rows × 235 columns</p>\n",
       "</div>"
      ],
      "text/plain": [
       "Année      2007-2008                                                   \\\n",
       "Semestre            1                                                    \n",
       "Information  Civilité                 Nom Prénom Spécialisation Mineur   \n",
       "0            Monsieur  Aeberhard François-Xavier           None   None   \n",
       "1              Madame              Agarwal Megha           None   None   \n",
       "2            Monsieur         Anagnostaras David           None   None   \n",
       "3            Monsieur              Auroux Damien           None   None   \n",
       "4            Monsieur             Awalebo Joseph           None   None   \n",
       "\n",
       "Année                                                      \\\n",
       "Semestre                      2                              \n",
       "Information No Sciper  Civilité                 Nom Prénom   \n",
       "0              153066  Monsieur  Aeberhard François-Xavier   \n",
       "1              180027    Madame              Agarwal Megha   \n",
       "2              152232  Monsieur         Anagnostaras David   \n",
       "3              177395  Monsieur              Auroux Damien   \n",
       "4              161970  Monsieur             Awalebo Joseph   \n",
       "\n",
       "Année                           \\\n",
       "Semestre                          \n",
       "Information      Spécialisation   \n",
       "0                          None   \n",
       "1                          None   \n",
       "2                          None   \n",
       "3            Internet computing   \n",
       "4                          None   \n",
       "\n",
       "Année                                                                    \\\n",
       "Semestre                                                                   \n",
       "Information                                             Mineur No Sciper   \n",
       "0                                                         None    153066   \n",
       "1                                                         None    180027   \n",
       "2            Mineur en Management, technologie et entrepren...    152232   \n",
       "3                                                         None    177395   \n",
       "4                                                         None    161970   \n",
       "\n",
       "Année         ...    2016-2017                                               \\\n",
       "Semestre       ...            3                                                \n",
       "Information    ...     Civilité                                   Nom Prénom   \n",
       "0              ...       Madame                                Abi Akar Nora   \n",
       "1              ...       Madame                                  Aeby Prisca   \n",
       "2              ...     Monsieur                  Alnasser Riyadh Abdulaziz M   \n",
       "3              ...     Monsieur  Amorim Afonso Caldeira Da Silva Pedro Maria   \n",
       "4              ...     Monsieur                   Andreina Sébastien Laurent   \n",
       "\n",
       "Année                                                                \\\n",
       "Semestre                                                          P1   \n",
       "Information                Spécialisation Mineur No Sciper  Civilité   \n",
       "0                                    None   None    251253  Monsieur   \n",
       "1            Internet Information Systems   None    225654  Monsieur   \n",
       "2                                    None   None    257825  Monsieur   \n",
       "3                                    None   None    213618  Monsieur   \n",
       "4               Information Security - SP   None    215623  Monsieur   \n",
       "\n",
       "Année                                                        \\\n",
       "Semestre                                                       \n",
       "Information              Nom Prénom           Spécialisation   \n",
       "0                    Amiguet Jérôme                     None   \n",
       "1            Antognini Diego Matteo                     None   \n",
       "2                   Antognini Marco  Foundations of Software   \n",
       "3                  Bouquet Stéphane                     None   \n",
       "4                      Bovet Sidney                     None   \n",
       "\n",
       "Année                                                                    \n",
       "Semestre                                                                  \n",
       "Information                                             Mineur No Sciper  \n",
       "0                                                         None    166075  \n",
       "1                                                         None    243163  \n",
       "2                                                         None    194182  \n",
       "3            Mineur en Management, technologie et entrepren...    213664  \n",
       "4                                                         None    214637  \n",
       "\n",
       "[5 rows x 235 columns]"
      ]
     },
     "execution_count": 17,
     "metadata": {},
     "output_type": "execute_result"
    }
   ],
   "source": [
    "data.head()"
   ]
  },
  {
   "cell_type": "markdown",
   "metadata": {},
   "source": [
    "## COMPUTE THE RESULT\n",
    "We merged the data for all students from master semester 1 and 2, as the base dataframe. We merged the aforementioned data frame with those of semester 3, project 1 and project 2.\n",
    "We removed all the student's duplicates so e ach student had 1 entry then add a year spent column, to store the cummulative appearance of the student. We normalize data by adding 6 months as the expected completion time at EPFL is 2 years."
   ]
  },
  {
   "cell_type": "code",
   "execution_count": 18,
   "metadata": {
    "collapsed": false
   },
   "outputs": [],
   "source": [
    "results = pd.DataFrame()\n",
    "for year in range(len(periode_acad)):\n",
    "    # Keep only master student on master 1 and 2 on the same year\n",
    "    temp_m1_m2 = pd.merge(data[periode_acad[year],'1'],data[periode_acad[year],'2'],on=[u'Civilit\\xe9',u'Nom Pr\\xe9nom','No Sciper'])\n",
    "    temp_m1_m2.dropna(axis=0, how='all', inplace=True)\n",
    "    temp_m1_m2.drop(temp_m1_m2.iloc[:,[2,3]], axis=1, inplace=True)\n",
    "    index = [[data[periode_acad[year],'1'].columns[0],data[periode_acad[year],'1'].columns[1],data[periode_acad[year],'1'].columns[2],data[periode_acad[year],'1'].columns[3],data[periode_acad[year],'1'].columns[4]]]\n",
    "    temp_m1_m2 = temp_m1_m2.ix[:,[0,1,3,4,2]]\n",
    "    temp_m1_m2.columns = index\n",
    "    \n",
    "    # Comparison with master 3, Project master 1 and 2 of other years\n",
    "    for academic_year in range(len(periode_acad)):\n",
    "        if academic_year == year:\n",
    "            continue\n",
    "        # Master 3\n",
    "        temp_m123 = pd.merge(temp_m1_m2, data[periode_acad[academic_year],semester[2]])\n",
    "        temp_m123.dropna(axis=0, how='all', inplace=True)\n",
    "        temp_m123['Year spent'] = academic_year-year+1\n",
    "        results = pd.concat([results, temp_m123])\n",
    "        results.drop_duplicates(subset=results.columns[1], keep='last', inplace=True)\n",
    "        # Master project\n",
    "        for project in range(len(semester_project)):\n",
    "            try:\n",
    "                temp_project = pd.merge(temp_m1_m2, data[periode_acad[academic_year],semester_project[project]])\n",
    "                temp_project.dropna(axis=0, how='all', inplace=True)\n",
    "                temp_project['Year spent'] = academic_year-year+1\n",
    "                results = pd.concat([results, temp_project])\n",
    "                results.drop_duplicates(subset=results.columns[1], keep='last', inplace=True)\n",
    "            except:\n",
    "                continue"
   ]
  },
  {
   "cell_type": "code",
   "execution_count": 19,
   "metadata": {
    "collapsed": false
   },
   "outputs": [
    {
     "data": {
      "text/html": [
       "<div>\n",
       "<table border=\"1\" class=\"dataframe\">\n",
       "  <thead>\n",
       "    <tr style=\"text-align: right;\">\n",
       "      <th></th>\n",
       "      <th>Civilité</th>\n",
       "      <th>Nom Prénom</th>\n",
       "      <th>Spécialisation</th>\n",
       "      <th>Mineur</th>\n",
       "      <th>No Sciper</th>\n",
       "      <th>Year spent</th>\n",
       "    </tr>\n",
       "  </thead>\n",
       "  <tbody>\n",
       "    <tr>\n",
       "      <th>0</th>\n",
       "      <td>Monsieur</td>\n",
       "      <td>Aeberhard François-Xavier</td>\n",
       "      <td>None</td>\n",
       "      <td>None</td>\n",
       "      <td>153066</td>\n",
       "      <td>2</td>\n",
       "    </tr>\n",
       "    <tr>\n",
       "      <th>1</th>\n",
       "      <td>Monsieur</td>\n",
       "      <td>Anagnostaras David</td>\n",
       "      <td>None</td>\n",
       "      <td>Mineur en Management, technologie et entrepren...</td>\n",
       "      <td>152232</td>\n",
       "      <td>2</td>\n",
       "    </tr>\n",
       "    <tr>\n",
       "      <th>2</th>\n",
       "      <td>Monsieur</td>\n",
       "      <td>Auroux Damien</td>\n",
       "      <td>Internet computing</td>\n",
       "      <td>None</td>\n",
       "      <td>177395</td>\n",
       "      <td>2</td>\n",
       "    </tr>\n",
       "    <tr>\n",
       "      <th>3</th>\n",
       "      <td>Monsieur</td>\n",
       "      <td>Awalebo Joseph</td>\n",
       "      <td>None</td>\n",
       "      <td>None</td>\n",
       "      <td>161970</td>\n",
       "      <td>2</td>\n",
       "    </tr>\n",
       "    <tr>\n",
       "      <th>4</th>\n",
       "      <td>Monsieur</td>\n",
       "      <td>Bayramoglu Ersoy</td>\n",
       "      <td>None</td>\n",
       "      <td>None</td>\n",
       "      <td>178879</td>\n",
       "      <td>2</td>\n",
       "    </tr>\n",
       "  </tbody>\n",
       "</table>\n",
       "</div>"
      ],
      "text/plain": [
       "   Civilité                 Nom Prénom      Spécialisation  \\\n",
       "0  Monsieur  Aeberhard François-Xavier                None   \n",
       "1  Monsieur         Anagnostaras David                None   \n",
       "2  Monsieur              Auroux Damien  Internet computing   \n",
       "3  Monsieur             Awalebo Joseph                None   \n",
       "4  Monsieur           Bayramoglu Ersoy                None   \n",
       "\n",
       "                                              Mineur No Sciper  Year spent  \n",
       "0                                               None    153066           2  \n",
       "1  Mineur en Management, technologie et entrepren...    152232           2  \n",
       "2                                               None    177395           2  \n",
       "3                                               None    161970           2  \n",
       "4                                               None    178879           2  "
      ]
     },
     "execution_count": 19,
     "metadata": {},
     "output_type": "execute_result"
    }
   ],
   "source": [
    "results.head()"
   ]
  },
  {
   "cell_type": "markdown",
   "metadata": {},
   "source": [
    "## Average stay at EPFL for master students"
   ]
  },
  {
   "cell_type": "markdown",
   "metadata": {},
   "source": [
    "We compute the average stay of master students at EPFL :"
   ]
  },
  {
   "cell_type": "code",
   "execution_count": 20,
   "metadata": {
    "collapsed": false
   },
   "outputs": [
    {
     "data": {
      "text/plain": [
       "2    471\n",
       "3     82\n",
       "5      1\n",
       "4      1\n",
       "Name: Year spent, dtype: int64"
      ]
     },
     "execution_count": 20,
     "metadata": {},
     "output_type": "execute_result"
    }
   ],
   "source": [
    "results['Year spent'].value_counts()"
   ]
  },
  {
   "cell_type": "code",
   "execution_count": 21,
   "metadata": {
    "collapsed": false
   },
   "outputs": [
    {
     "name": "stdout",
     "output_type": "stream",
     "text": [
      "The average stay for master students is 2.16 years\n"
     ]
    }
   ],
   "source": [
    "master_avr = results['Year spent'].mean()\n",
    "print 'The average stay for master students is %2.2lf years'%(master_avr)"
   ]
  },
  {
   "cell_type": "markdown",
   "metadata": {},
   "source": [
    "## Average stay per each specialization"
   ]
  },
  {
   "cell_type": "markdown",
   "metadata": {},
   "source": [
    "We split data by specialization and compute the average stay on each subparts."
   ]
  },
  {
   "cell_type": "code",
   "execution_count": 22,
   "metadata": {
    "collapsed": false
   },
   "outputs": [
    {
     "data": {
      "text/html": [
       "<div>\n",
       "<table border=\"1\" class=\"dataframe\">\n",
       "  <thead>\n",
       "    <tr style=\"text-align: right;\">\n",
       "      <th></th>\n",
       "      <th>Year spent</th>\n",
       "      <th>Student number</th>\n",
       "    </tr>\n",
       "    <tr>\n",
       "      <th>Spécialisation</th>\n",
       "      <th></th>\n",
       "      <th></th>\n",
       "    </tr>\n",
       "  </thead>\n",
       "  <tbody>\n",
       "    <tr>\n",
       "      <th>Computer Engineering - SP</th>\n",
       "      <td>2.333333</td>\n",
       "      <td>15</td>\n",
       "    </tr>\n",
       "    <tr>\n",
       "      <th>Computer Science Theory</th>\n",
       "      <td>2.000000</td>\n",
       "      <td>1</td>\n",
       "    </tr>\n",
       "    <tr>\n",
       "      <th>Data Analytics</th>\n",
       "      <td>2.000000</td>\n",
       "      <td>3</td>\n",
       "    </tr>\n",
       "    <tr>\n",
       "      <th>Foundations of Software</th>\n",
       "      <td>2.306122</td>\n",
       "      <td>49</td>\n",
       "    </tr>\n",
       "    <tr>\n",
       "      <th>Information Security - SP</th>\n",
       "      <td>2.166667</td>\n",
       "      <td>6</td>\n",
       "    </tr>\n",
       "    <tr>\n",
       "      <th>Internet Information Systems</th>\n",
       "      <td>2.000000</td>\n",
       "      <td>1</td>\n",
       "    </tr>\n",
       "    <tr>\n",
       "      <th>Internet computing</th>\n",
       "      <td>2.223881</td>\n",
       "      <td>67</td>\n",
       "    </tr>\n",
       "    <tr>\n",
       "      <th>Service science</th>\n",
       "      <td>2.500000</td>\n",
       "      <td>2</td>\n",
       "    </tr>\n",
       "    <tr>\n",
       "      <th>Signals, Images and Interfaces</th>\n",
       "      <td>2.523810</td>\n",
       "      <td>21</td>\n",
       "    </tr>\n",
       "    <tr>\n",
       "      <th>Software Systems</th>\n",
       "      <td>2.133333</td>\n",
       "      <td>15</td>\n",
       "    </tr>\n",
       "  </tbody>\n",
       "</table>\n",
       "</div>"
      ],
      "text/plain": [
       "                                Year spent  Student number\n",
       "Spécialisation                                            \n",
       "Computer Engineering - SP         2.333333              15\n",
       "Computer Science Theory           2.000000               1\n",
       "Data Analytics                    2.000000               3\n",
       "Foundations of Software           2.306122              49\n",
       "Information Security - SP         2.166667               6\n",
       "Internet Information Systems      2.000000               1\n",
       "Internet computing                2.223881              67\n",
       "Service science                   2.500000               2\n",
       "Signals, Images and Interfaces    2.523810              21\n",
       "Software Systems                  2.133333              15"
      ]
     },
     "execution_count": 22,
     "metadata": {},
     "output_type": "execute_result"
    }
   ],
   "source": [
    "master_spe = results.dropna(subset=[results.columns[2]])\n",
    "master_spe = master_spe.ix[:,[2,5]]\n",
    "master_spe_mean = master_spe.groupby(results.columns[2]).mean()\n",
    "master_spe_mean['Student number'] = master_spe.groupby(results.columns[2]).count()\n",
    "master_spe_mean"
   ]
  },
  {
   "cell_type": "markdown",
   "metadata": {
    "collapsed": true
   },
   "source": [
    "## Hypothesis testing :"
   ]
  },
  {
   "cell_type": "markdown",
   "metadata": {
    "collapsed": true
   },
   "source": [
    "Do any of the specialization means differ from one another ?  \n",
    "In order to answer to this issue, we perform a t-test.  \n",
    "The analysis of variance is a statistical inference test that allows to compare multiple groups at the same time.\n",
    "\n",
    ">\\- H<sub>0</sub> : The mean of year spent is the same for each specialization.  \n",
    "\\- H<sub>A</sub> : The mean of year spent is different for each specialization.  "
   ]
  },
  {
   "cell_type": "code",
   "execution_count": 23,
   "metadata": {
    "collapsed": false
   },
   "outputs": [
    {
     "data": {
      "text/plain": [
       "F_onewayResult(statistic=1.0978911493639725, pvalue=0.36689379874507599)"
      ]
     },
     "execution_count": 23,
     "metadata": {},
     "output_type": "execute_result"
    }
   ],
   "source": [
    "master_spe = results.dropna(subset=[results.columns[2]])\n",
    "master_spe = master_spe.ix[:,[2,5]]\n",
    "\n",
    "master_spe = master_spe.groupby(results.columns[2])\n",
    "master_grouped = [master_spe.get_group(g)['Year spent'] for g in master_spe.groups]\n",
    "\n",
    "stats.f_oneway(*master_grouped)"
   ]
  },
  {
   "cell_type": "markdown",
   "metadata": {
    "collapsed": true
   },
   "source": [
    "The p-value is high (36%), therefore we can't conclude about the null hypothesis. The average is not statistically significant"
   ]
  },
  {
   "cell_type": "markdown",
   "metadata": {
    "collapsed": true
   },
   "source": [
    "## Bonus\n",
    "\n",
    ">Perform the gender-based study also on the Master students, as explained in 1. Use scatterplots to visually identify changes\n",
    "over time. Plot males and females with different colors -- can you spot different trends that match the results of your statistical tests?\n"
   ]
  },
  {
   "cell_type": "code",
   "execution_count": 24,
   "metadata": {
    "collapsed": false
   },
   "outputs": [],
   "source": [
    "gender_group_year = results.groupby([results.columns[0], results.columns[5]])\n",
    "gender_group = gender_group_year.size()"
   ]
  },
  {
   "cell_type": "code",
   "execution_count": 25,
   "metadata": {
    "collapsed": false
   },
   "outputs": [
    {
     "data": {
      "text/plain": [
       "<matplotlib.text.Text at 0x125470450>"
      ]
     },
     "execution_count": 25,
     "metadata": {},
     "output_type": "execute_result"
    },
    {
     "data": {
      "image/png": "[encoded data removed]",
      "text/plain": [
       "<matplotlib.figure.Figure at 0x12260a150>"
      ]
     },
     "metadata": {},
     "output_type": "display_data"
    },
    {
     "data": {
      "image/png": "[encoded data removed]",
      "text/plain": [
       "<matplotlib.figure.Figure at 0x124b8ae50>"
      ]
     },
     "metadata": {},
     "output_type": "display_data"
    }
   ],
   "source": [
    "gender = pd.DataFrame(data=gender_group,columns=['Nombres'])\n",
    "Female = gender.loc['Madame']\n",
    "Male = gender.loc['Monsieur']\n",
    "Female.plot(kind='bar',color='#FF75D1')\n",
    "plt.title('Female gender')\n",
    "Male.plot(kind='bar',color=\"#0099CC\")\n",
    "plt.title('Male gender')\n"
   ]
  },
  {
   "cell_type": "code",
   "execution_count": 26,
   "metadata": {
    "collapsed": false
   },
   "outputs": [
    {
     "name": "stdout",
     "output_type": "stream",
     "text": [
      "Average year spent for male : 2.154639\n",
      "       Year spent\n",
      "count  485.000000\n",
      "mean     2.154639\n",
      "std      0.384090\n",
      "min      2.000000\n",
      "25%      2.000000\n",
      "50%      2.000000\n",
      "75%      2.000000\n",
      "max      5.000000\n",
      "----------------------------------------\n",
      "Average year spent for female : 2.171429\n",
      "       Year spent\n",
      "count   70.000000\n",
      "mean     2.171429\n",
      "std      0.379604\n",
      "min      2.000000\n",
      "25%      2.000000\n",
      "50%      2.000000\n",
      "75%      2.000000\n",
      "max      3.000000\n"
     ]
    }
   ],
   "source": [
    "Male = results[results[results.columns[0]]=='Monsieur']\n",
    "Female = results[results[results.columns[0]]=='Madame']\n",
    "print \"Average year spent for male : %lf\"%(Male['Year spent'].mean())\n",
    "print Male.describe()\n",
    "print \"--\"*20\n",
    "print \"Average year spent for female : %lf\"%(Female['Year spent'].mean())\n",
    "print Female.describe()"
   ]
  },
  {
   "cell_type": "code",
   "execution_count": null,
   "metadata": {
    "collapsed": true
   },
   "outputs": [],
   "source": []
  }
 ],
 "metadata": {
  "anaconda-cloud": {},
  "kernelspec": {
   "display_name": "Python [Root]",
   "language": "python",
   "name": "Python [Root]"
  },
  "language_info": {
   "codemirror_mode": {
    "name": "ipython",
    "version": 2
   },
   "file_extension": ".py",
   "mimetype": "text/x-python",
   "name": "python",
   "nbconvert_exporter": "python",
   "pygments_lexer": "ipython2",
   "version": "2.7.12"
  }
 },
 "nbformat": 4,
 "nbformat_minor": 0
}
